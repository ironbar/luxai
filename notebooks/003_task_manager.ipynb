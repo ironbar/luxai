{
 "cells": [
  {
   "cell_type": "markdown",
   "metadata": {
    "toc": true
   },
   "source": [
    "<h1>Table of Contents<span class=\"tocSkip\"></span></h1>\n",
    "<div class=\"toc\"><ul class=\"toc-item\"><li><span><a href=\"#Task-Manager-agent\" data-toc-modified-id=\"Task-Manager-agent-1\">Task Manager agent</a></span><ul class=\"toc-item\"><li><span><a href=\"#Goal\" data-toc-modified-id=\"Goal-1.1\">Goal</a></span></li><li><span><a href=\"#Imports\" data-toc-modified-id=\"Imports-1.2\">Imports</a></span></li><li><span><a href=\"#Matching-the-viral-baseline\" data-toc-modified-id=\"Matching-the-viral-baseline-1.3\">Matching the viral baseline</a></span><ul class=\"toc-item\"><li><span><a href=\"#Visualization\" data-toc-modified-id=\"Visualization-1.3.1\">Visualization</a></span></li><li><span><a href=\"#Evaluation\" data-toc-modified-id=\"Evaluation-1.3.2\">Evaluation</a></span></li></ul></li><li><span><a href=\"#Summary\" data-toc-modified-id=\"Summary-1.4\">Summary</a></span><ul class=\"toc-item\"><li><span><a href=\"#Learnings\" data-toc-modified-id=\"Learnings-1.4.1\">Learnings</a></span></li></ul></li><li><span><a href=\"#TODO\" data-toc-modified-id=\"TODO-1.5\">TODO</a></span></li></ul></li></ul></div>"
   ]
  },
  {
   "cell_type": "markdown",
   "metadata": {},
   "source": [
    "# Task Manager agent"
   ]
  },
  {
   "cell_type": "markdown",
   "metadata": {},
   "source": [
    "## Goal"
   ]
  },
  {
   "cell_type": "markdown",
   "metadata": {},
   "source": [
    "The goal is to implement a task manager bot. At the start of the turn the bot will assign different tasks to the units and later it will coordinate the actions based on their priority.\n",
    "\n",
    "As a start point I will simply try to get a similar bot to `viral` and once I have that foundation I will start improving it."
   ]
  },
  {
   "cell_type": "markdown",
   "metadata": {},
   "source": [
    "## Imports"
   ]
  },
  {
   "cell_type": "code",
   "execution_count": 1,
   "metadata": {
    "ExecuteTime": {
     "end_time": "2021-09-09T16:39:53.478053Z",
     "start_time": "2021-09-09T16:39:53.453260Z"
    }
   },
   "outputs": [],
   "source": [
    "# Use this to reload changes in python scripts\n",
    "%load_ext autoreload\n",
    "%autoreload 2"
   ]
  },
  {
   "cell_type": "code",
   "execution_count": 1,
   "metadata": {
    "ExecuteTime": {
     "end_time": "2021-09-09T17:15:37.252111Z",
     "start_time": "2021-09-09T17:15:36.952219Z"
    }
   },
   "outputs": [
    {
     "name": "stdout",
     "output_type": "stream",
     "text": [
      "Loading environment football failed: No module named 'gfootball'\n"
     ]
    }
   ],
   "source": [
    "import os\n",
    "import random\n",
    "import tempfile\n",
    "import matplotlib as mpl\n",
    "import matplotlib.pyplot as plt\n",
    "import numpy as np\n",
    "from kaggle_environments import make, evaluate\n",
    "from functools import partial\n",
    "from IPython.display import clear_output\n",
    "from tqdm.notebook import tqdm\n",
    "\n",
    "from luxai.utils import render_game_in_html, create_temporal_python_file, set_random_seed\n",
    "from luxai.agents.task_manager import TaskManagerAgent\n",
    "from luxai.evaluation import play_matches_in_parallel, compute_result_ratios"
   ]
  },
  {
   "cell_type": "code",
   "execution_count": 2,
   "metadata": {
    "ExecuteTime": {
     "end_time": "2021-09-09T17:15:37.306930Z",
     "start_time": "2021-09-09T17:15:37.253556Z"
    }
   },
   "outputs": [],
   "source": [
    "plt.plot()\n",
    "plt.close('all')\n",
    "plt.rcParams[\"figure.figsize\"] = (20, 5)  \n",
    "mpl.rcParams['lines.linewidth'] = 3\n",
    "mpl.rcParams['font.size'] = 16"
   ]
  },
  {
   "cell_type": "markdown",
   "metadata": {},
   "source": [
    "## Matching the viral baseline"
   ]
  },
  {
   "cell_type": "markdown",
   "metadata": {},
   "source": [
    "### Visualization"
   ]
  },
  {
   "cell_type": "code",
   "execution_count": 4,
   "metadata": {
    "ExecuteTime": {
     "end_time": "2021-09-09T08:39:41.115895Z",
     "start_time": "2021-09-09T08:39:40.457353Z"
    }
   },
   "outputs": [],
   "source": [
    "env = make(\"lux_ai_2021\", debug=True, \n",
    "           configuration={'width': 12, 'height': 12, 'seed': 1, \n",
    "                          'episodeSteps': 41, 'annotations':True})\n",
    "game_info = env.run(['simple_agent', TaskManagerAgent(1)])"
   ]
  },
  {
   "cell_type": "code",
   "execution_count": 3,
   "metadata": {
    "ExecuteTime": {
     "end_time": "2021-09-09T17:15:43.975928Z",
     "start_time": "2021-09-09T17:15:40.816015Z"
    }
   },
   "outputs": [
    {
     "name": "stdout",
     "output_type": "stream",
     "text": [
      "Opening in existing browser session.\n"
     ]
    }
   ],
   "source": [
    "set_random_seed(7)\n",
    "env = make(\"lux_ai_2021\", debug=True, \n",
    "           configuration={'width': 12, 'height': 12, 'seed': 0, \n",
    "                          'episodeSteps': 361, 'annotations':True})\n",
    "game_info = env.run(['simple_agent', TaskManagerAgent(0.8)])\n",
    "render_game_in_html(env)"
   ]
  },
  {
   "cell_type": "code",
   "execution_count": 6,
   "metadata": {
    "ExecuteTime": {
     "end_time": "2021-09-09T14:51:16.885443Z",
     "start_time": "2021-09-09T14:51:14.315712Z"
    }
   },
   "outputs": [
    {
     "name": "stdout",
     "output_type": "stream",
     "text": [
      "Opening in existing browser session.\n"
     ]
    }
   ],
   "source": [
    "env = make(\"lux_ai_2021\", debug=True, \n",
    "           configuration={'width': 12, 'height': 12, 'seed': 2, \n",
    "                          'episodeSteps': 361, 'annotations':True})\n",
    "game_info = env.run(['../agents/viral.py', TaskManagerAgent(0)])\n",
    "render_game_in_html(env)"
   ]
  },
  {
   "cell_type": "code",
   "execution_count": 5,
   "metadata": {
    "ExecuteTime": {
     "end_time": "2021-09-07T13:34:54.790129Z",
     "start_time": "2021-09-07T13:34:54.699156Z"
    }
   },
   "outputs": [
    {
     "ename": "RuntimeError",
     "evalue": "No active exception to reraise",
     "output_type": "error",
     "traceback": [
      "\u001b[0;31m---------------------------------------------------------------------------\u001b[0m",
      "\u001b[0;31mRuntimeError\u001b[0m                              Traceback (most recent call last)",
      "\u001b[0;32m/tmp/ipykernel_6017/2235509928.py\u001b[0m in \u001b[0;36m<module>\u001b[0;34m\u001b[0m\n\u001b[0;32m----> 1\u001b[0;31m \u001b[0;32mraise\u001b[0m\u001b[0;34m\u001b[0m\u001b[0;34m\u001b[0m\u001b[0m\n\u001b[0m",
      "\u001b[0;31mRuntimeError\u001b[0m: No active exception to reraise"
     ]
    }
   ],
   "source": [
    "raise"
   ]
  },
  {
   "cell_type": "markdown",
   "metadata": {
    "heading_collapsed": true
   },
   "source": [
    "### Evaluation"
   ]
  },
  {
   "cell_type": "markdown",
   "metadata": {
    "hidden": true
   },
   "source": [
    "Create a temporal file with the agent and play against simple and viral agent."
   ]
  },
  {
   "cell_type": "code",
   "execution_count": 20,
   "metadata": {
    "ExecuteTime": {
     "end_time": "2021-09-09T17:14:38.570065Z",
     "start_time": "2021-09-09T17:14:38.544412Z"
    },
    "hidden": true
   },
   "outputs": [],
   "source": [
    "def evaluate_against_viral_agent(temporal_agent, n_matches=200):\n",
    "    matches_results = play_matches_in_parallel(agents=[temporal_agent, '../agents/viral.py'], n_matches=n_matches)\n",
    "    matches_results += [result[::-1] for result in play_matches_in_parallel(agents=['../agents/viral.py', temporal_agent], n_matches=n_matches)]\n",
    "    return compute_result_ratios(matches_results)"
   ]
  },
  {
   "cell_type": "code",
   "execution_count": 11,
   "metadata": {
    "ExecuteTime": {
     "end_time": "2021-09-09T16:49:49.458344Z",
     "start_time": "2021-09-09T16:49:49.435586Z"
    },
    "hidden": true
   },
   "outputs": [],
   "source": [
    "text = \"\"\"\n",
    "from luxai.agents.task_manager import TaskManagerAgent\n",
    "\n",
    "global_agent = TaskManagerAgent(1)\n",
    "\n",
    "def agent(observation, configuration):\n",
    "    return global_agent(observation, configuration)\n",
    "\"\"\"\n",
    "temporal_agent = create_temporal_python_file(text)"
   ]
  },
  {
   "cell_type": "code",
   "execution_count": null,
   "metadata": {
    "hidden": true
   },
   "outputs": [],
   "source": [
    "evaluate_against_viral_agent(temporal_agent)"
   ]
  },
  {
   "cell_type": "code",
   "execution_count": 5,
   "metadata": {
    "ExecuteTime": {
     "end_time": "2021-09-09T16:32:44.132066Z",
     "start_time": "2021-09-09T16:32:19.727842Z"
    },
    "hidden": true
   },
   "outputs": [
    {
     "data": {
      "application/vnd.jupyter.widget-view+json": {
       "model_id": "3198bc2d65c0487fb201930bb15ea9e0",
       "version_major": 2,
       "version_minor": 0
      },
      "text/plain": [
       "  0%|          | 0/100 [00:00<?, ?it/s]"
      ]
     },
     "metadata": {},
     "output_type": "display_data"
    },
    {
     "data": {
      "text/plain": [
       "(0.01, 0.99, 0.0)"
      ]
     },
     "execution_count": 5,
     "metadata": {},
     "output_type": "execute_result"
    }
   ],
   "source": [
    "matches_results = play_matches_in_parallel(agents=[temporal_agent, 'simple_agent'])\n",
    "compute_result_ratios(matches_results)"
   ]
  },
  {
   "cell_type": "code",
   "execution_count": 19,
   "metadata": {
    "ExecuteTime": {
     "end_time": "2021-09-09T17:14:09.262745Z",
     "start_time": "2021-09-09T17:14:09.065483Z"
    },
    "hidden": true
   },
   "outputs": [
    {
     "data": {
      "text/plain": [
       "Text(0, 0.5, 'win rate')"
      ]
     },
     "execution_count": 19,
     "metadata": {},
     "output_type": "execute_result"
    },
    {
     "data": {
      "image/png": "[encoded data removed]",
      "text/plain": [
       "<Figure size 1440x360 with 1 Axes>"
      ]
     },
     "metadata": {
      "needs_background": "light"
     },
     "output_type": "display_data"
    }
   ],
   "source": [
    "n_matches = [50, 100, 200, 500, 1000]\n",
    "win_rate = [0.59, 0.565, 0.5975, 0.622, 0.606]\n",
    "plt.plot(n_matches, win_rate, marker='o')\n",
    "plt.grid()\n",
    "plt.xscale('log')\n",
    "plt.xlabel('n_matches')\n",
    "plt.ylabel('win rate')"
   ]
  },
  {
   "cell_type": "code",
   "execution_count": 15,
   "metadata": {
    "ExecuteTime": {
     "end_time": "2021-09-09T17:12:50.700903Z",
     "start_time": "2021-09-09T17:00:33.737176Z"
    },
    "hidden": true
   },
   "outputs": [
    {
     "data": {
      "application/vnd.jupyter.widget-view+json": {
       "model_id": "0d2753dcc92e4af5816ff0f1531c326d",
       "version_major": 2,
       "version_minor": 0
      },
      "text/plain": [
       "  0%|          | 0/1000 [00:00<?, ?it/s]"
      ]
     },
     "metadata": {},
     "output_type": "display_data"
    },
    {
     "data": {
      "application/vnd.jupyter.widget-view+json": {
       "model_id": "82fc13a8872341138a3bb0ed2a2d88a0",
       "version_major": 2,
       "version_minor": 0
      },
      "text/plain": [
       "  0%|          | 0/1000 [00:00<?, ?it/s]"
      ]
     },
     "metadata": {},
     "output_type": "display_data"
    },
    {
     "data": {
      "text/plain": [
       "(0.606, 0.0175, 0.3765)"
      ]
     },
     "execution_count": 15,
     "metadata": {},
     "output_type": "execute_result"
    }
   ],
   "source": [
    "evaluate_against_viral_agent(temporal_agent, n_matches=1000)"
   ]
  },
  {
   "cell_type": "code",
   "execution_count": 7,
   "metadata": {
    "ExecuteTime": {
     "end_time": "2021-09-09T16:45:14.950556Z",
     "start_time": "2021-09-09T16:41:40.743828Z"
    },
    "hidden": true
   },
   "outputs": [
    {
     "data": {
      "image/png": "[encoded data removed]",
      "text/plain": [
       "<Figure size 1440x360 with 1 Axes>"
      ]
     },
     "metadata": {
      "needs_background": "light"
     },
     "output_type": "display_data"
    }
   ],
   "source": [
    "alpha_range = np.linspace(0, 1, 11)\n",
    "n_matches = 20\n",
    "results = []\n",
    "for alpha in tqdm(alpha_range, desc=''):\n",
    "    text = \"\"\"\n",
    "from luxai.agents.task_manager import TaskManagerAgent\n",
    "\n",
    "global_agent = TaskManagerAgent(%.2f)\n",
    "\n",
    "def agent(observation, configuration):\n",
    "    return global_agent(observation, configuration)\n",
    "\"\"\"\n",
    "    temporal_agent = create_temporal_python_file(text % alpha)\n",
    "    results.append(evaluate_against_viral_agent(temporal_agent, n_matches=n_matches))\n",
    "    clear_output()\n",
    "    plt.plot(alpha_range[:len(results)], [result[0] for result in results], marker='o')\n",
    "    plt.ylabel('win rate')\n",
    "    plt.xlabel('build_new_city_tile_probability')\n",
    "    plt.grid()\n",
    "    plt.show()"
   ]
  },
  {
   "cell_type": "code",
   "execution_count": 8,
   "metadata": {
    "ExecuteTime": {
     "end_time": "2021-09-09T16:46:00.230206Z",
     "start_time": "2021-09-09T16:46:00.092522Z"
    },
    "hidden": true
   },
   "outputs": [
    {
     "data": {
      "image/png": "[encoded data removed]",
      "text/plain": [
       "<Figure size 1440x360 with 1 Axes>"
      ]
     },
     "metadata": {
      "needs_background": "light"
     },
     "output_type": "display_data"
    }
   ],
   "source": [
    "plt.plot(alpha_range[:len(results)], [result[0] for result in results], marker='o')\n",
    "plt.ylabel('win rate')\n",
    "plt.xlabel('build_new_city_tile_probability')\n",
    "plt.grid()\n",
    "plt.show()"
   ]
  },
  {
   "cell_type": "markdown",
   "metadata": {},
   "source": [
    "## Summary"
   ]
  },
  {
   "cell_type": "markdown",
   "metadata": {},
   "source": [
    "### Learnings"
   ]
  },
  {
   "cell_type": "markdown",
   "metadata": {},
   "source": [
    "## TODO"
   ]
  },
  {
   "cell_type": "markdown",
   "metadata": {},
   "source": [
    "Function to create a temporal file with the agent"
   ]
  }
 ],
 "metadata": {
  "hide_input": false,
  "kernelspec": {
   "display_name": "Python (luxai)",
   "language": "python",
   "name": "luxai"
  },
  "language_info": {
   "codemirror_mode": {
    "name": "ipython",
    "version": 3
   },
   "file_extension": ".py",
   "mimetype": "text/x-python",
   "name": "python",
   "nbconvert_exporter": "python",
   "pygments_lexer": "ipython3",
   "version": "3.9.6"
  },
  "toc": {
   "base_numbering": 1,
   "nav_menu": {},
   "number_sections": false,
   "sideBar": true,
   "skip_h1_title": false,
   "title_cell": "Table of Contents",
   "title_sidebar": "Contents",
   "toc_cell": true,
   "toc_position": {},
   "toc_section_display": true,
   "toc_window_display": false
  }
 },
 "nbformat": 4,
 "nbformat_minor": 4
}
