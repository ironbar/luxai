{
 "cells": [
  {
   "cell_type": "markdown",
   "metadata": {
    "toc": true
   },
   "source": [
    "<h1>Table of Contents<span class=\"tocSkip\"></span></h1>\n",
    "<div class=\"toc\"><ul class=\"toc-item\"><li><span><a href=\"#Task-Manager-agent\" data-toc-modified-id=\"Task-Manager-agent-1\">Task Manager agent</a></span><ul class=\"toc-item\"><li><span><a href=\"#Goal\" data-toc-modified-id=\"Goal-1.1\">Goal</a></span></li><li><span><a href=\"#Imports\" data-toc-modified-id=\"Imports-1.2\">Imports</a></span></li><li><span><a href=\"#Matching-the-viral-baseline\" data-toc-modified-id=\"Matching-the-viral-baseline-1.3\">Matching the viral baseline</a></span><ul class=\"toc-item\"><li><span><a href=\"#Visualization\" data-toc-modified-id=\"Visualization-1.3.1\">Visualization</a></span></li><li><span><a href=\"#Evaluation\" data-toc-modified-id=\"Evaluation-1.3.2\">Evaluation</a></span></li></ul></li><li><span><a href=\"#Summary\" data-toc-modified-id=\"Summary-1.4\">Summary</a></span><ul class=\"toc-item\"><li><span><a href=\"#Learnings\" data-toc-modified-id=\"Learnings-1.4.1\">Learnings</a></span></li></ul></li><li><span><a href=\"#TODO\" data-toc-modified-id=\"TODO-1.5\">TODO</a></span></li></ul></li></ul></div>"
   ]
  },
  {
   "cell_type": "markdown",
   "metadata": {},
   "source": [
    "# Task Manager agent"
   ]
  },
  {
   "cell_type": "markdown",
   "metadata": {},
   "source": [
    "## Goal"
   ]
  },
  {
   "cell_type": "markdown",
   "metadata": {},
   "source": [
    "The goal is to implement a task manager bot. At the start of the turn the bot will assign different tasks to the units and later it will coordinate the actions based on their priority.\n",
    "\n",
    "As a start point I will simply try to get a similar bot to `viral` and once I have that foundation I will start improving it."
   ]
  },
  {
   "cell_type": "markdown",
   "metadata": {},
   "source": [
    "## Imports"
   ]
  },
  {
   "cell_type": "code",
   "execution_count": 1,
   "metadata": {
    "ExecuteTime": {
     "end_time": "2021-09-08T08:42:10.723985Z",
     "start_time": "2021-09-08T08:42:10.693162Z"
    }
   },
   "outputs": [],
   "source": [
    "# Use this to reload changes in python scripts\n",
    "%load_ext autoreload\n",
    "%autoreload 2"
   ]
  },
  {
   "cell_type": "code",
   "execution_count": 2,
   "metadata": {
    "ExecuteTime": {
     "end_time": "2021-09-08T08:42:11.187200Z",
     "start_time": "2021-09-08T08:42:10.884912Z"
    }
   },
   "outputs": [
    {
     "name": "stdout",
     "output_type": "stream",
     "text": [
      "Loading environment football failed: No module named 'gfootball'\n"
     ]
    }
   ],
   "source": [
    "import os\n",
    "import random\n",
    "import tempfile\n",
    "import matplotlib as mpl\n",
    "import matplotlib.pyplot as plt\n",
    "import numpy as np\n",
    "from kaggle_environments import make, evaluate\n",
    "from functools import partial\n",
    "\n",
    "from luxai.utils import render_game_in_html, create_temporal_python_file, set_random_seed\n",
    "from luxai.agents.task_manager import TaskManagerAgent\n",
    "from luxai.evaluation import play_matches_in_parallel, compute_result_ratios"
   ]
  },
  {
   "cell_type": "code",
   "execution_count": 3,
   "metadata": {
    "ExecuteTime": {
     "end_time": "2021-09-08T08:42:11.251055Z",
     "start_time": "2021-09-08T08:42:11.188612Z"
    }
   },
   "outputs": [],
   "source": [
    "plt.plot()\n",
    "plt.close('all')\n",
    "plt.rcParams[\"figure.figsize\"] = (20, 5)  \n",
    "mpl.rcParams['lines.linewidth'] = 3\n",
    "mpl.rcParams['font.size'] = 16"
   ]
  },
  {
   "cell_type": "markdown",
   "metadata": {},
   "source": [
    "## Matching the viral baseline"
   ]
  },
  {
   "cell_type": "markdown",
   "metadata": {},
   "source": [
    "### Visualization"
   ]
  },
  {
   "cell_type": "code",
   "execution_count": 4,
   "metadata": {
    "ExecuteTime": {
     "end_time": "2021-09-08T08:20:30.489789Z",
     "start_time": "2021-09-08T08:20:29.728953Z"
    }
   },
   "outputs": [],
   "source": [
    "env = make(\"lux_ai_2021\", debug=True, \n",
    "           configuration={'width': 12, 'height': 12, 'seed': 1, \n",
    "                          'episodeSteps': 41, 'annotations':True})\n",
    "game_info = env.run(['simple_agent', TaskManagerAgent()])"
   ]
  },
  {
   "cell_type": "code",
   "execution_count": 4,
   "metadata": {
    "ExecuteTime": {
     "end_time": "2021-09-08T08:41:28.152502Z",
     "start_time": "2021-09-08T08:41:25.205525Z"
    }
   },
   "outputs": [
    {
     "name": "stdout",
     "output_type": "stream",
     "text": [
      "Opening in existing browser session.\n"
     ]
    }
   ],
   "source": [
    "set_random_seed(7)\n",
    "env = make(\"lux_ai_2021\", debug=True, \n",
    "           configuration={'width': 12, 'height': 12, 'seed': 0, \n",
    "                          'episodeSteps': 361, 'annotations':True})\n",
    "game_info = env.run(['simple_agent', TaskManagerAgent()])\n",
    "render_game_in_html(env)"
   ]
  },
  {
   "cell_type": "code",
   "execution_count": 6,
   "metadata": {
    "ExecuteTime": {
     "end_time": "2021-09-08T08:22:01.081632Z",
     "start_time": "2021-09-08T08:22:00.034373Z"
    }
   },
   "outputs": [
    {
     "name": "stdout",
     "output_type": "stream",
     "text": [
      "Opening in existing browser session.\n"
     ]
    }
   ],
   "source": [
    "env = make(\"lux_ai_2021\", debug=True, \n",
    "           configuration={'width': 12, 'height': 12, 'seed': 1, \n",
    "                          'episodeSteps': 361, 'annotations':True})\n",
    "game_info = env.run(['../agents/viral.py', TaskManagerAgent()])\n",
    "render_game_in_html(env)"
   ]
  },
  {
   "cell_type": "code",
   "execution_count": 5,
   "metadata": {
    "ExecuteTime": {
     "end_time": "2021-09-07T13:34:54.790129Z",
     "start_time": "2021-09-07T13:34:54.699156Z"
    }
   },
   "outputs": [
    {
     "ename": "RuntimeError",
     "evalue": "No active exception to reraise",
     "output_type": "error",
     "traceback": [
      "\u001b[0;31m---------------------------------------------------------------------------\u001b[0m",
      "\u001b[0;31mRuntimeError\u001b[0m                              Traceback (most recent call last)",
      "\u001b[0;32m/tmp/ipykernel_6017/2235509928.py\u001b[0m in \u001b[0;36m<module>\u001b[0;34m\u001b[0m\n\u001b[0;32m----> 1\u001b[0;31m \u001b[0;32mraise\u001b[0m\u001b[0;34m\u001b[0m\u001b[0;34m\u001b[0m\u001b[0m\n\u001b[0m",
      "\u001b[0;31mRuntimeError\u001b[0m: No active exception to reraise"
     ]
    }
   ],
   "source": [
    "raise"
   ]
  },
  {
   "cell_type": "markdown",
   "metadata": {},
   "source": [
    "### Evaluation"
   ]
  },
  {
   "cell_type": "markdown",
   "metadata": {},
   "source": [
    "Create a temporal file with the agent and play against simple and viral agent."
   ]
  },
  {
   "cell_type": "code",
   "execution_count": 4,
   "metadata": {
    "ExecuteTime": {
     "end_time": "2021-09-08T08:42:17.908337Z",
     "start_time": "2021-09-08T08:42:17.885763Z"
    }
   },
   "outputs": [],
   "source": [
    "text = \"\"\"\n",
    "from luxai.agents.task_manager import TaskManagerAgent\n",
    "\n",
    "global_agent = TaskManagerAgent()\n",
    "\n",
    "def agent(observation, configuration):\n",
    "    return global_agent(observation, configuration)\n",
    "\"\"\"\n",
    "temporal_agent = create_temporal_python_file(text)"
   ]
  },
  {
   "cell_type": "code",
   "execution_count": 5,
   "metadata": {
    "ExecuteTime": {
     "end_time": "2021-09-08T08:42:48.089881Z",
     "start_time": "2021-09-08T08:42:20.666626Z"
    }
   },
   "outputs": [
    {
     "data": {
      "application/vnd.jupyter.widget-view+json": {
       "model_id": "deeb2aa5729644d6bfe46a1dacc5a91f",
       "version_major": 2,
       "version_minor": 0
      },
      "text/plain": [
       "  0%|          | 0/100 [00:00<?, ?it/s]"
      ]
     },
     "metadata": {},
     "output_type": "display_data"
    },
    {
     "data": {
      "text/plain": [
       "(0.95, 0.0, 0.05)"
      ]
     },
     "execution_count": 5,
     "metadata": {},
     "output_type": "execute_result"
    }
   ],
   "source": [
    "matches_results = play_matches_in_parallel(agents=[temporal_agent, 'simple_agent'])\n",
    "compute_result_ratios(matches_results)"
   ]
  },
  {
   "cell_type": "code",
   "execution_count": 6,
   "metadata": {
    "ExecuteTime": {
     "end_time": "2021-09-08T08:47:11.595295Z",
     "start_time": "2021-09-08T08:43:22.143628Z"
    }
   },
   "outputs": [
    {
     "data": {
      "application/vnd.jupyter.widget-view+json": {
       "model_id": "7dcde02edab141058f2651c5ca52d04e",
       "version_major": 2,
       "version_minor": 0
      },
      "text/plain": [
       "  0%|          | 0/500 [00:00<?, ?it/s]"
      ]
     },
     "metadata": {},
     "output_type": "display_data"
    },
    {
     "data": {
      "application/vnd.jupyter.widget-view+json": {
       "model_id": "be05f640d2294651ac9ecbafb9a5ccf9",
       "version_major": 2,
       "version_minor": 0
      },
      "text/plain": [
       "  0%|          | 0/500 [00:00<?, ?it/s]"
      ]
     },
     "metadata": {},
     "output_type": "display_data"
    },
    {
     "data": {
      "text/plain": [
       "(0.47, 0.025, 0.505)"
      ]
     },
     "execution_count": 6,
     "metadata": {},
     "output_type": "execute_result"
    }
   ],
   "source": [
    "matches_results = play_matches_in_parallel(agents=['../agents/viral.py', temporal_agent], n_matches=500)\n",
    "matches_results += play_matches_in_parallel(agents=[temporal_agent, '../agents/viral.py'], n_matches=500)\n",
    "compute_result_ratios(matches_results)"
   ]
  },
  {
   "cell_type": "code",
   "execution_count": null,
   "metadata": {},
   "outputs": [],
   "source": [
    "(0.497, 0.028, 0.475)\n",
    "(0.47, 0.025, 0.505) when setting the random seed"
   ]
  },
  {
   "cell_type": "markdown",
   "metadata": {},
   "source": [
    "## Summary"
   ]
  },
  {
   "cell_type": "markdown",
   "metadata": {},
   "source": [
    "### Learnings"
   ]
  },
  {
   "cell_type": "markdown",
   "metadata": {},
   "source": [
    "## TODO"
   ]
  },
  {
   "cell_type": "markdown",
   "metadata": {},
   "source": [
    "Function to create a temporal file with the agent"
   ]
  }
 ],
 "metadata": {
  "hide_input": false,
  "kernelspec": {
   "display_name": "Python (luxai)",
   "language": "python",
   "name": "luxai"
  },
  "language_info": {
   "codemirror_mode": {
    "name": "ipython",
    "version": 3
   },
   "file_extension": ".py",
   "mimetype": "text/x-python",
   "name": "python",
   "nbconvert_exporter": "python",
   "pygments_lexer": "ipython3",
   "version": "3.9.6"
  },
  "toc": {
   "base_numbering": 1,
   "nav_menu": {},
   "number_sections": false,
   "sideBar": true,
   "skip_h1_title": false,
   "title_cell": "Table of Contents",
   "title_sidebar": "Contents",
   "toc_cell": true,
   "toc_position": {},
   "toc_section_display": true,
   "toc_window_display": false
  }
 },
 "nbformat": 4,
 "nbformat_minor": 4
}
