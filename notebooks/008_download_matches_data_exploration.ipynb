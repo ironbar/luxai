{
 "cells": [
  {
   "cell_type": "markdown",
   "metadata": {
    "toc": true
   },
   "source": [
    "<h1>Table of Contents<span class=\"tocSkip\"></span></h1>\n",
    "<div class=\"toc\"><ul class=\"toc-item\"><li><span><a href=\"#Data-exploration-of-download-matches\" data-toc-modified-id=\"Data-exploration-of-download-matches-1\">Data exploration of download matches</a></span><ul class=\"toc-item\"><li><span><a href=\"#Imports\" data-toc-modified-id=\"Imports-1.1\">Imports</a></span></li><li><span><a href=\"#Exploration\" data-toc-modified-id=\"Exploration-1.2\">Exploration</a></span></li><li><span><a href=\"#Csv-file-creation\" data-toc-modified-id=\"Csv-file-creation-1.3\">Csv file creation</a></span><ul class=\"toc-item\"><li><span><a href=\"#Single-agent\" data-toc-modified-id=\"Single-agent-1.3.1\">Single agent</a></span></li><li><span><a href=\"#Best-n-agents\" data-toc-modified-id=\"Best-n-agents-1.3.2\">Best n agents</a></span></li></ul></li></ul></li></ul></div>"
   ]
  },
  {
   "cell_type": "markdown",
   "metadata": {},
   "source": [
    "# Data exploration of download matches"
   ]
  },
  {
   "cell_type": "markdown",
   "metadata": {
    "heading_collapsed": true
   },
   "source": [
    "## Imports"
   ]
  },
  {
   "cell_type": "code",
   "execution_count": 1,
   "metadata": {
    "ExecuteTime": {
     "end_time": "2021-10-29T07:02:51.311516Z",
     "start_time": "2021-10-29T07:02:50.663060Z"
    },
    "hidden": true
   },
   "outputs": [],
   "source": [
    "import matplotlib as mpl\n",
    "import matplotlib.pyplot as plt\n",
    "import numpy as np\n",
    "import pandas as pd\n",
    "from tqdm.notebook import tqdm"
   ]
  },
  {
   "cell_type": "code",
   "execution_count": 2,
   "metadata": {
    "ExecuteTime": {
     "end_time": "2021-10-29T07:02:51.375932Z",
     "start_time": "2021-10-29T07:02:51.313146Z"
    },
    "hidden": true
   },
   "outputs": [],
   "source": [
    "plt.plot()\n",
    "plt.close('all')\n",
    "plt.rcParams[\"figure.figsize\"] = (30, 5)  \n",
    "mpl.rcParams['lines.linewidth'] = 3\n",
    "mpl.rcParams['font.size'] = 16"
   ]
  },
  {
   "cell_type": "markdown",
   "metadata": {
    "heading_collapsed": true
   },
   "source": [
    "## Exploration"
   ]
  },
  {
   "cell_type": "code",
   "execution_count": 3,
   "metadata": {
    "ExecuteTime": {
     "end_time": "2021-10-29T07:02:51.790878Z",
     "start_time": "2021-10-29T07:02:51.726147Z"
    },
    "hidden": true
   },
   "outputs": [
    {
     "data": {
      "text/html": [
       "<div>\n",
       "<style scoped>\n",
       "    .dataframe tbody tr th:only-of-type {\n",
       "        vertical-align: middle;\n",
       "    }\n",
       "\n",
       "    .dataframe tbody tr th {\n",
       "        vertical-align: top;\n",
       "    }\n",
       "\n",
       "    .dataframe thead th {\n",
       "        text-align: right;\n",
       "    }\n",
       "</style>\n",
       "<table border=\"1\" class=\"dataframe\">\n",
       "  <thead>\n",
       "    <tr style=\"text-align: right;\">\n",
       "      <th></th>\n",
       "      <th>Id</th>\n",
       "      <th>EpisodeId</th>\n",
       "      <th>Index</th>\n",
       "      <th>Reward</th>\n",
       "      <th>State</th>\n",
       "      <th>SubmissionId</th>\n",
       "      <th>InitialConfidence</th>\n",
       "      <th>InitialScore</th>\n",
       "      <th>UpdatedConfidence</th>\n",
       "      <th>UpdatedScore</th>\n",
       "      <th>FinalScore</th>\n",
       "    </tr>\n",
       "  </thead>\n",
       "  <tbody>\n",
       "    <tr>\n",
       "      <th>0</th>\n",
       "      <td>69945543</td>\n",
       "      <td>27424471</td>\n",
       "      <td>1</td>\n",
       "      <td>90009.0</td>\n",
       "      <td>2</td>\n",
       "      <td>23032370</td>\n",
       "      <td>36.889864</td>\n",
       "      <td>1560.389280</td>\n",
       "      <td>36.522500</td>\n",
       "      <td>1566.517103</td>\n",
       "      <td>1818.288755</td>\n",
       "    </tr>\n",
       "    <tr>\n",
       "      <th>1</th>\n",
       "      <td>69923394</td>\n",
       "      <td>27413397</td>\n",
       "      <td>0</td>\n",
       "      <td>650053.0</td>\n",
       "      <td>2</td>\n",
       "      <td>23032370</td>\n",
       "      <td>38.435234</td>\n",
       "      <td>1536.093066</td>\n",
       "      <td>38.058785</td>\n",
       "      <td>1541.342982</td>\n",
       "      <td>1818.288755</td>\n",
       "    </tr>\n",
       "    <tr>\n",
       "      <th>2</th>\n",
       "      <td>69849883</td>\n",
       "      <td>27376641</td>\n",
       "      <td>1</td>\n",
       "      <td>410038.0</td>\n",
       "      <td>2</td>\n",
       "      <td>23032370</td>\n",
       "      <td>87.761971</td>\n",
       "      <td>1111.109255</td>\n",
       "      <td>83.368953</td>\n",
       "      <td>1142.533822</td>\n",
       "      <td>1818.288755</td>\n",
       "    </tr>\n",
       "    <tr>\n",
       "      <th>3</th>\n",
       "      <td>69847811</td>\n",
       "      <td>27375605</td>\n",
       "      <td>1</td>\n",
       "      <td>150010.0</td>\n",
       "      <td>2</td>\n",
       "      <td>23032370</td>\n",
       "      <td>144.366002</td>\n",
       "      <td>871.859256</td>\n",
       "      <td>135.552630</td>\n",
       "      <td>896.074161</td>\n",
       "      <td>1818.288755</td>\n",
       "    </tr>\n",
       "    <tr>\n",
       "      <th>4</th>\n",
       "      <td>69847037</td>\n",
       "      <td>27375218</td>\n",
       "      <td>1</td>\n",
       "      <td>130011.0</td>\n",
       "      <td>2</td>\n",
       "      <td>23032370</td>\n",
       "      <td>185.000000</td>\n",
       "      <td>702.140727</td>\n",
       "      <td>170.000000</td>\n",
       "      <td>788.476153</td>\n",
       "      <td>1818.288755</td>\n",
       "    </tr>\n",
       "  </tbody>\n",
       "</table>\n",
       "</div>"
      ],
      "text/plain": [
       "         Id  EpisodeId  Index    Reward  State  SubmissionId  \\\n",
       "0  69945543   27424471      1   90009.0      2      23032370   \n",
       "1  69923394   27413397      0  650053.0      2      23032370   \n",
       "2  69849883   27376641      1  410038.0      2      23032370   \n",
       "3  69847811   27375605      1  150010.0      2      23032370   \n",
       "4  69847037   27375218      1  130011.0      2      23032370   \n",
       "\n",
       "   InitialConfidence  InitialScore  UpdatedConfidence  UpdatedScore  \\\n",
       "0          36.889864   1560.389280          36.522500   1566.517103   \n",
       "1          38.435234   1536.093066          38.058785   1541.342982   \n",
       "2          87.761971   1111.109255          83.368953   1142.533822   \n",
       "3         144.366002    871.859256         135.552630    896.074161   \n",
       "4         185.000000    702.140727         170.000000    788.476153   \n",
       "\n",
       "    FinalScore  \n",
       "0  1818.288755  \n",
       "1  1818.288755  \n",
       "2  1818.288755  \n",
       "3  1818.288755  \n",
       "4  1818.288755  "
      ]
     },
     "execution_count": 3,
     "metadata": {},
     "output_type": "execute_result"
    }
   ],
   "source": [
    "df = pd.read_csv('/home/gbarbadillo/luxai_ssd/agent_selection.csv')\n",
    "df.sort_values('FinalScore', ascending=False, inplace=True)\n",
    "df.reset_index(drop=True, inplace=True)\n",
    "df.head()"
   ]
  },
  {
   "cell_type": "code",
   "execution_count": 4,
   "metadata": {
    "ExecuteTime": {
     "end_time": "2021-10-29T07:02:52.813070Z",
     "start_time": "2021-10-29T07:02:52.804520Z"
    },
    "hidden": true
   },
   "outputs": [
    {
     "data": {
      "text/plain": [
       "56"
      ]
     },
     "execution_count": 4,
     "metadata": {},
     "output_type": "execute_result"
    }
   ],
   "source": [
    "len(df.SubmissionId.unique())"
   ]
  },
  {
   "cell_type": "code",
   "execution_count": 5,
   "metadata": {
    "ExecuteTime": {
     "end_time": "2021-10-29T07:02:54.790120Z",
     "start_time": "2021-10-29T07:02:54.758239Z"
    },
    "hidden": true
   },
   "outputs": [
    {
     "data": {
      "text/html": [
       "<div>\n",
       "<style scoped>\n",
       "    .dataframe tbody tr th:only-of-type {\n",
       "        vertical-align: middle;\n",
       "    }\n",
       "\n",
       "    .dataframe tbody tr th {\n",
       "        vertical-align: top;\n",
       "    }\n",
       "\n",
       "    .dataframe thead th {\n",
       "        text-align: right;\n",
       "    }\n",
       "</style>\n",
       "<table border=\"1\" class=\"dataframe\">\n",
       "  <thead>\n",
       "    <tr style=\"text-align: right;\">\n",
       "      <th></th>\n",
       "      <th>Unnamed 0</th>\n",
       "      <th>FinalScore</th>\n",
       "    </tr>\n",
       "    <tr>\n",
       "      <th>SubmissionId</th>\n",
       "      <th></th>\n",
       "      <th></th>\n",
       "    </tr>\n",
       "  </thead>\n",
       "  <tbody>\n",
       "    <tr>\n",
       "      <th>23032370</th>\n",
       "      <td>176.0</td>\n",
       "      <td>1818.288755</td>\n",
       "    </tr>\n",
       "    <tr>\n",
       "      <th>22777661</th>\n",
       "      <td>394.0</td>\n",
       "      <td>1711.493722</td>\n",
       "    </tr>\n",
       "    <tr>\n",
       "      <th>23034455</th>\n",
       "      <td>244.0</td>\n",
       "      <td>1710.606181</td>\n",
       "    </tr>\n",
       "    <tr>\n",
       "      <th>22934122</th>\n",
       "      <td>241.0</td>\n",
       "      <td>1651.606058</td>\n",
       "    </tr>\n",
       "    <tr>\n",
       "      <th>22902113</th>\n",
       "      <td>345.0</td>\n",
       "      <td>1650.975344</td>\n",
       "    </tr>\n",
       "    <tr>\n",
       "      <th>23159502</th>\n",
       "      <td>65.0</td>\n",
       "      <td>1650.841907</td>\n",
       "    </tr>\n",
       "    <tr>\n",
       "      <th>23038485</th>\n",
       "      <td>137.0</td>\n",
       "      <td>1643.818123</td>\n",
       "    </tr>\n",
       "    <tr>\n",
       "      <th>23010508</th>\n",
       "      <td>195.0</td>\n",
       "      <td>1643.516025</td>\n",
       "    </tr>\n",
       "    <tr>\n",
       "      <th>23008895</th>\n",
       "      <td>191.0</td>\n",
       "      <td>1636.605564</td>\n",
       "    </tr>\n",
       "    <tr>\n",
       "      <th>22931784</th>\n",
       "      <td>233.0</td>\n",
       "      <td>1636.232316</td>\n",
       "    </tr>\n",
       "  </tbody>\n",
       "</table>\n",
       "</div>"
      ],
      "text/plain": [
       "              Unnamed 0   FinalScore\n",
       "SubmissionId                        \n",
       "23032370          176.0  1818.288755\n",
       "22777661          394.0  1711.493722\n",
       "23034455          244.0  1710.606181\n",
       "22934122          241.0  1651.606058\n",
       "22902113          345.0  1650.975344\n",
       "23159502           65.0  1650.841907\n",
       "23038485          137.0  1643.818123\n",
       "23010508          195.0  1643.516025\n",
       "23008895          191.0  1636.605564\n",
       "22931784          233.0  1636.232316"
      ]
     },
     "execution_count": 5,
     "metadata": {},
     "output_type": "execute_result"
    }
   ],
   "source": [
    "summary = pd.DataFrame([\n",
    "    df.groupby('SubmissionId').count().max(axis=1),\n",
    "    df.groupby('SubmissionId').max()['FinalScore']]).transpose()\n",
    "summary.sort_values('FinalScore', ascending=False).head(10)"
   ]
  },
  {
   "cell_type": "markdown",
   "metadata": {
    "ExecuteTime": {
     "end_time": "2021-10-29T06:18:15.706398Z",
     "start_time": "2021-10-29T06:18:15.700112Z"
    },
    "hidden": true
   },
   "source": [
    "This can be used to choose how many matches I want to use for training."
   ]
  },
  {
   "cell_type": "markdown",
   "metadata": {},
   "source": [
    "## Csv file creation"
   ]
  },
  {
   "cell_type": "markdown",
   "metadata": {},
   "source": [
    "### Single agent"
   ]
  },
  {
   "cell_type": "code",
   "execution_count": 10,
   "metadata": {
    "ExecuteTime": {
     "end_time": "2021-10-29T07:10:47.612996Z",
     "start_time": "2021-10-29T07:10:47.573651Z"
    },
    "deletable": false,
    "editable": false,
    "run_control": {
     "frozen": true
    }
   },
   "outputs": [
    {
     "name": "stdout",
     "output_type": "stream",
     "text": [
      "0 176\n",
      "1 394\n",
      "2 244\n",
      "3 241\n",
      "4 345\n"
     ]
    }
   ],
   "source": [
    "for idx, submission_id in enumerate(df.SubmissionId.unique()[:5]):\n",
    "    sub_df = df[df.SubmissionId == submission_id]\n",
    "    filepath = '/mnt/hdd0/Kaggle/luxai/models/16_train_on_single_agent/'\n",
    "    filepath += 'rank%i_id%i_score%i.csv' % (idx, submission_id, sub_df['FinalScore'].max())\n",
    "    sub_df.to_csv(filepath, index=False)\n",
    "    print(idx, len(sub_df))"
   ]
  },
  {
   "cell_type": "markdown",
   "metadata": {},
   "source": [
    "### Best n agents"
   ]
  },
  {
   "cell_type": "code",
   "execution_count": 13,
   "metadata": {
    "ExecuteTime": {
     "end_time": "2021-10-29T12:22:03.301916Z",
     "start_time": "2021-10-29T12:22:03.243137Z"
    }
   },
   "outputs": [
    {
     "name": "stdout",
     "output_type": "stream",
     "text": [
      "2 570\n",
      "3 814\n",
      "4 1055\n",
      "5 1400\n"
     ]
    }
   ],
   "source": [
    "for n_agents in range(2, 6):\n",
    "    submission_ids = set(df.SubmissionId.unique()[:n_agents])\n",
    "    sub_df = df[df.SubmissionId.apply(lambda x: x in submission_ids)]\n",
    "    filepath = '/mnt/hdd0/Kaggle/luxai/models/17_train_on_best_n_agents/'\n",
    "    filepath += 'best_%i.csv' % (n_agents)\n",
    "    sub_df.to_csv(filepath, index=False)\n",
    "    print(n_agents, len(sub_df))"
   ]
  },
  {
   "cell_type": "code",
   "execution_count": null,
   "metadata": {},
   "outputs": [],
   "source": []
  }
 ],
 "metadata": {
  "hide_input": false,
  "kernelspec": {
   "display_name": "Python (luxai)",
   "language": "python",
   "name": "luxai"
  },
  "language_info": {
   "codemirror_mode": {
    "name": "ipython",
    "version": 3
   },
   "file_extension": ".py",
   "mimetype": "text/x-python",
   "name": "python",
   "nbconvert_exporter": "python",
   "pygments_lexer": "ipython3",
   "version": "3.9.7"
  },
  "toc": {
   "base_numbering": 1,
   "nav_menu": {},
   "number_sections": false,
   "sideBar": true,
   "skip_h1_title": false,
   "title_cell": "Table of Contents",
   "title_sidebar": "Contents",
   "toc_cell": true,
   "toc_position": {},
   "toc_section_display": true,
   "toc_window_display": false
  }
 },
 "nbformat": 4,
 "nbformat_minor": 4
}
