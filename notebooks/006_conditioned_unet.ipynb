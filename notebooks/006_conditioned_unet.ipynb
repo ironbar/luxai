{
 "cells": [
  {
   "cell_type": "markdown",
   "metadata": {
    "toc": true
   },
   "source": [
    "<h1>Table of Contents<span class=\"tocSkip\"></span></h1>\n",
    "<div class=\"toc\"><ul class=\"toc-item\"><li><span><a href=\"#Conditioned-unet\" data-toc-modified-id=\"Conditioned-unet-1\">Conditioned unet</a></span><ul class=\"toc-item\"><li><span><a href=\"#Goal\" data-toc-modified-id=\"Goal-1.1\">Goal</a></span></li><li><span><a href=\"#Imports\" data-toc-modified-id=\"Imports-1.2\">Imports</a></span></li><li><span><a href=\"#First-steps\" data-toc-modified-id=\"First-steps-1.3\">First steps</a></span></li><li><span><a href=\"#Modifying-the-model-configuration\" data-toc-modified-id=\"Modifying-the-model-configuration-1.4\">Modifying the model configuration</a></span></li><li><span><a href=\"#Save-and-load-the-model\" data-toc-modified-id=\"Save-and-load-the-model-1.5\">Save and load the model</a></span></li><li><span><a href=\"#Customizing-the-model\" data-toc-modified-id=\"Customizing-the-model-1.6\">Customizing the model</a></span></li></ul></li></ul></div>"
   ]
  },
  {
   "cell_type": "markdown",
   "metadata": {},
   "source": [
    "# Conditioned unet"
   ]
  },
  {
   "cell_type": "markdown",
   "metadata": {},
   "source": [
    "## Goal"
   ]
  },
  {
   "cell_type": "markdown",
   "metadata": {},
   "source": [
    "On this notebook I want to explore the github repo https://github.com/gabolsgabs/cunet to see if I can reuse it for Luxai challenge."
   ]
  },
  {
   "cell_type": "markdown",
   "metadata": {},
   "source": [
    "## Imports"
   ]
  },
  {
   "cell_type": "code",
   "execution_count": 1,
   "metadata": {
    "ExecuteTime": {
     "end_time": "2021-10-17T07:08:21.886079Z",
     "start_time": "2021-10-17T07:08:21.861351Z"
    }
   },
   "outputs": [],
   "source": [
    "# Use this to reload changes in python scripts\n",
    "%load_ext autoreload\n",
    "%autoreload 2"
   ]
  },
  {
   "cell_type": "code",
   "execution_count": 2,
   "metadata": {
    "ExecuteTime": {
     "end_time": "2021-10-17T07:08:23.045952Z",
     "start_time": "2021-10-17T07:08:21.888090Z"
    }
   },
   "outputs": [],
   "source": [
    "import matplotlib as mpl\n",
    "import matplotlib.pyplot as plt\n",
    "import numpy as np\n",
    "import tensorflow.keras as keras\n",
    "\n",
    "from luxai.cunet import cunet_model, cunet_luxai_model, config"
   ]
  },
  {
   "cell_type": "code",
   "execution_count": 3,
   "metadata": {
    "ExecuteTime": {
     "end_time": "2021-10-17T07:08:23.097587Z",
     "start_time": "2021-10-17T07:08:23.047516Z"
    }
   },
   "outputs": [],
   "source": [
    "plt.plot()\n",
    "plt.close('all')\n",
    "plt.rcParams[\"figure.figsize\"] = (30, 5)  \n",
    "mpl.rcParams['lines.linewidth'] = 3\n",
    "mpl.rcParams['font.size'] = 16"
   ]
  },
  {
   "cell_type": "markdown",
   "metadata": {
    "heading_collapsed": true
   },
   "source": [
    "## First steps"
   ]
  },
  {
   "cell_type": "code",
   "execution_count": 4,
   "metadata": {
    "ExecuteTime": {
     "end_time": "2021-10-17T07:08:24.556734Z",
     "start_time": "2021-10-17T07:08:23.099190Z"
    },
    "hidden": true
   },
   "outputs": [
    {
     "name": "stderr",
     "output_type": "stream",
     "text": [
      "2021-10-17 09:08:23.169765: I tensorflow/core/platform/cpu_feature_guard.cc:142] This TensorFlow binary is optimized with oneAPI Deep Neural Network Library (oneDNN) to use the following CPU instructions in performance-critical operations:  AVX2 AVX512F FMA\n",
      "To enable them in other operations, rebuild TensorFlow with the appropriate compiler flags.\n",
      "2021-10-17 09:08:23.960927: I tensorflow/core/common_runtime/gpu/gpu_device.cc:1510] Created device /job:localhost/replica:0/task:0/device:GPU:0 with 22308 MB memory:  -> device: 0, name: GeForce RTX 3090, pci bus id: 0000:17:00.0, compute capability: 8.6\n",
      "2021-10-17 09:08:23.961840: I tensorflow/core/common_runtime/gpu/gpu_device.cc:1510] Created device /job:localhost/replica:0/task:0/device:GPU:1 with 21866 MB memory:  -> device: 1, name: GeForce RTX 3090, pci bus id: 0000:65:00.0, compute capability: 8.6\n"
     ]
    },
    {
     "name": "stdout",
     "output_type": "stream",
     "text": [
      "Model: \"model\"\n",
      "__________________________________________________________________________________________________\n",
      "Layer (type)                    Output Shape         Param #     Connected to                     \n",
      "==================================================================================================\n",
      "input_2 (InputLayer)            [(None, 1, 4)]       0                                            \n",
      "__________________________________________________________________________________________________\n",
      "dense (Dense)                   (None, 1, 16)        80          input_2[0][0]                    \n",
      "__________________________________________________________________________________________________\n",
      "dense_1 (Dense)                 (None, 1, 64)        1088        dense[0][0]                      \n",
      "__________________________________________________________________________________________________\n",
      "dropout (Dropout)               (None, 1, 64)        0           dense_1[0][0]                    \n",
      "__________________________________________________________________________________________________\n",
      "batch_normalization (BatchNorma (None, 1, 64)        256         dropout[0][0]                    \n",
      "__________________________________________________________________________________________________\n",
      "dense_2 (Dense)                 (None, 1, 256)       16640       batch_normalization[0][0]        \n",
      "__________________________________________________________________________________________________\n",
      "dropout_1 (Dropout)             (None, 1, 256)       0           dense_2[0][0]                    \n",
      "__________________________________________________________________________________________________\n",
      "input_1 (InputLayer)            [(None, 512, 128, 1) 0                                            \n",
      "__________________________________________________________________________________________________\n",
      "batch_normalization_1 (BatchNor (None, 1, 256)       1024        dropout_1[0][0]                  \n",
      "__________________________________________________________________________________________________\n",
      "conv2d (Conv2D)                 (None, 256, 64, 16)  416         input_1[0][0]                    \n",
      "__________________________________________________________________________________________________\n",
      "dense_3 (Dense)                 (None, 1, 6)         1542        batch_normalization_1[0][0]      \n",
      "__________________________________________________________________________________________________\n",
      "dense_4 (Dense)                 (None, 1, 6)         1542        batch_normalization_1[0][0]      \n",
      "__________________________________________________________________________________________________\n",
      "batch_normalization_2 (BatchNor (None, 256, 64, 16)  64          conv2d[0][0]                     \n",
      "__________________________________________________________________________________________________\n",
      "lambda (Lambda)                 (None, 1)            0           dense_3[0][0]                    \n",
      "__________________________________________________________________________________________________\n",
      "lambda_1 (Lambda)               (None, 1)            0           dense_4[0][0]                    \n",
      "__________________________________________________________________________________________________\n",
      "lambda_2 (Lambda)               (None, 256, 64, 16)  0           batch_normalization_2[0][0]      \n",
      "                                                                 lambda[0][0]                     \n",
      "                                                                 lambda_1[0][0]                   \n",
      "__________________________________________________________________________________________________\n",
      "leaky_re_lu (LeakyReLU)         (None, 256, 64, 16)  0           lambda_2[0][0]                   \n",
      "__________________________________________________________________________________________________\n",
      "conv2d_1 (Conv2D)               (None, 128, 32, 32)  12832       leaky_re_lu[0][0]                \n",
      "__________________________________________________________________________________________________\n",
      "batch_normalization_3 (BatchNor (None, 128, 32, 32)  128         conv2d_1[0][0]                   \n",
      "__________________________________________________________________________________________________\n",
      "lambda_3 (Lambda)               (None, 1)            0           dense_3[0][0]                    \n",
      "__________________________________________________________________________________________________\n",
      "lambda_4 (Lambda)               (None, 1)            0           dense_4[0][0]                    \n",
      "__________________________________________________________________________________________________\n",
      "lambda_5 (Lambda)               (None, 128, 32, 32)  0           batch_normalization_3[0][0]      \n",
      "                                                                 lambda_3[0][0]                   \n",
      "                                                                 lambda_4[0][0]                   \n",
      "__________________________________________________________________________________________________\n",
      "leaky_re_lu_1 (LeakyReLU)       (None, 128, 32, 32)  0           lambda_5[0][0]                   \n",
      "__________________________________________________________________________________________________\n",
      "conv2d_2 (Conv2D)               (None, 64, 16, 64)   51264       leaky_re_lu_1[0][0]              \n",
      "__________________________________________________________________________________________________\n",
      "batch_normalization_4 (BatchNor (None, 64, 16, 64)   256         conv2d_2[0][0]                   \n",
      "__________________________________________________________________________________________________\n",
      "lambda_6 (Lambda)               (None, 1)            0           dense_3[0][0]                    \n",
      "__________________________________________________________________________________________________\n",
      "lambda_7 (Lambda)               (None, 1)            0           dense_4[0][0]                    \n",
      "__________________________________________________________________________________________________\n",
      "lambda_8 (Lambda)               (None, 64, 16, 64)   0           batch_normalization_4[0][0]      \n",
      "                                                                 lambda_6[0][0]                   \n",
      "                                                                 lambda_7[0][0]                   \n",
      "__________________________________________________________________________________________________\n",
      "leaky_re_lu_2 (LeakyReLU)       (None, 64, 16, 64)   0           lambda_8[0][0]                   \n",
      "__________________________________________________________________________________________________\n",
      "conv2d_3 (Conv2D)               (None, 32, 8, 128)   204928      leaky_re_lu_2[0][0]              \n",
      "__________________________________________________________________________________________________\n",
      "batch_normalization_5 (BatchNor (None, 32, 8, 128)   512         conv2d_3[0][0]                   \n",
      "__________________________________________________________________________________________________\n",
      "lambda_9 (Lambda)               (None, 1)            0           dense_3[0][0]                    \n",
      "__________________________________________________________________________________________________\n",
      "lambda_10 (Lambda)              (None, 1)            0           dense_4[0][0]                    \n",
      "__________________________________________________________________________________________________\n",
      "lambda_11 (Lambda)              (None, 32, 8, 128)   0           batch_normalization_5[0][0]      \n",
      "                                                                 lambda_9[0][0]                   \n",
      "                                                                 lambda_10[0][0]                  \n",
      "__________________________________________________________________________________________________\n",
      "leaky_re_lu_3 (LeakyReLU)       (None, 32, 8, 128)   0           lambda_11[0][0]                  \n",
      "__________________________________________________________________________________________________\n",
      "conv2d_4 (Conv2D)               (None, 16, 4, 256)   819456      leaky_re_lu_3[0][0]              \n",
      "__________________________________________________________________________________________________\n",
      "batch_normalization_6 (BatchNor (None, 16, 4, 256)   1024        conv2d_4[0][0]                   \n",
      "__________________________________________________________________________________________________\n",
      "lambda_12 (Lambda)              (None, 1)            0           dense_3[0][0]                    \n",
      "__________________________________________________________________________________________________\n",
      "lambda_13 (Lambda)              (None, 1)            0           dense_4[0][0]                    \n",
      "__________________________________________________________________________________________________\n",
      "lambda_14 (Lambda)              (None, 16, 4, 256)   0           batch_normalization_6[0][0]      \n",
      "                                                                 lambda_12[0][0]                  \n",
      "                                                                 lambda_13[0][0]                  \n",
      "__________________________________________________________________________________________________\n",
      "leaky_re_lu_4 (LeakyReLU)       (None, 16, 4, 256)   0           lambda_14[0][0]                  \n",
      "__________________________________________________________________________________________________\n",
      "conv2d_5 (Conv2D)               (None, 8, 2, 512)    3277312     leaky_re_lu_4[0][0]              \n",
      "__________________________________________________________________________________________________\n",
      "batch_normalization_7 (BatchNor (None, 8, 2, 512)    2048        conv2d_5[0][0]                   \n",
      "__________________________________________________________________________________________________\n",
      "lambda_15 (Lambda)              (None, 1)            0           dense_3[0][0]                    \n",
      "__________________________________________________________________________________________________\n",
      "lambda_16 (Lambda)              (None, 1)            0           dense_4[0][0]                    \n",
      "__________________________________________________________________________________________________\n",
      "lambda_17 (Lambda)              (None, 8, 2, 512)    0           batch_normalization_7[0][0]      \n",
      "                                                                 lambda_15[0][0]                  \n",
      "                                                                 lambda_16[0][0]                  \n",
      "__________________________________________________________________________________________________\n",
      "leaky_re_lu_5 (LeakyReLU)       (None, 8, 2, 512)    0           lambda_17[0][0]                  \n",
      "__________________________________________________________________________________________________\n",
      "conv2d_transpose (Conv2DTranspo (None, 16, 4, 256)   3277056     leaky_re_lu_5[0][0]              \n",
      "__________________________________________________________________________________________________\n",
      "batch_normalization_8 (BatchNor (None, 16, 4, 256)   1024        conv2d_transpose[0][0]           \n",
      "__________________________________________________________________________________________________\n",
      "tf.nn.relu (TFOpLambda)         (None, 16, 4, 256)   0           batch_normalization_8[0][0]      \n",
      "__________________________________________________________________________________________________\n",
      "concatenate (Concatenate)       (None, 16, 4, 512)   0           tf.nn.relu[0][0]                 \n",
      "                                                                 leaky_re_lu_4[0][0]              \n",
      "__________________________________________________________________________________________________\n",
      "conv2d_transpose_1 (Conv2DTrans (None, 32, 8, 128)   1638528     concatenate[0][0]                \n",
      "__________________________________________________________________________________________________\n",
      "batch_normalization_9 (BatchNor (None, 32, 8, 128)   512         conv2d_transpose_1[0][0]         \n",
      "__________________________________________________________________________________________________\n",
      "dropout_2 (Dropout)             (None, 32, 8, 128)   0           batch_normalization_9[0][0]      \n",
      "__________________________________________________________________________________________________\n",
      "tf.nn.relu_1 (TFOpLambda)       (None, 32, 8, 128)   0           dropout_2[0][0]                  \n",
      "__________________________________________________________________________________________________\n",
      "concatenate_1 (Concatenate)     (None, 32, 8, 256)   0           tf.nn.relu_1[0][0]               \n",
      "                                                                 leaky_re_lu_3[0][0]              \n",
      "__________________________________________________________________________________________________\n",
      "conv2d_transpose_2 (Conv2DTrans (None, 64, 16, 64)   409664      concatenate_1[0][0]              \n",
      "__________________________________________________________________________________________________\n",
      "batch_normalization_10 (BatchNo (None, 64, 16, 64)   256         conv2d_transpose_2[0][0]         \n",
      "__________________________________________________________________________________________________\n",
      "dropout_3 (Dropout)             (None, 64, 16, 64)   0           batch_normalization_10[0][0]     \n",
      "__________________________________________________________________________________________________\n",
      "tf.nn.relu_2 (TFOpLambda)       (None, 64, 16, 64)   0           dropout_3[0][0]                  \n",
      "__________________________________________________________________________________________________\n",
      "concatenate_2 (Concatenate)     (None, 64, 16, 128)  0           tf.nn.relu_2[0][0]               \n",
      "                                                                 leaky_re_lu_2[0][0]              \n",
      "__________________________________________________________________________________________________\n",
      "conv2d_transpose_3 (Conv2DTrans (None, 128, 32, 32)  102432      concatenate_2[0][0]              \n",
      "__________________________________________________________________________________________________\n",
      "batch_normalization_11 (BatchNo (None, 128, 32, 32)  128         conv2d_transpose_3[0][0]         \n",
      "__________________________________________________________________________________________________\n",
      "dropout_4 (Dropout)             (None, 128, 32, 32)  0           batch_normalization_11[0][0]     \n",
      "__________________________________________________________________________________________________\n",
      "tf.nn.relu_3 (TFOpLambda)       (None, 128, 32, 32)  0           dropout_4[0][0]                  \n",
      "__________________________________________________________________________________________________\n",
      "concatenate_3 (Concatenate)     (None, 128, 32, 64)  0           tf.nn.relu_3[0][0]               \n",
      "                                                                 leaky_re_lu_1[0][0]              \n",
      "__________________________________________________________________________________________________\n",
      "conv2d_transpose_4 (Conv2DTrans (None, 256, 64, 16)  25616       concatenate_3[0][0]              \n",
      "__________________________________________________________________________________________________\n",
      "batch_normalization_12 (BatchNo (None, 256, 64, 16)  64          conv2d_transpose_4[0][0]         \n",
      "__________________________________________________________________________________________________\n",
      "tf.nn.relu_4 (TFOpLambda)       (None, 256, 64, 16)  0           batch_normalization_12[0][0]     \n",
      "__________________________________________________________________________________________________\n",
      "concatenate_4 (Concatenate)     (None, 256, 64, 32)  0           tf.nn.relu_4[0][0]               \n",
      "                                                                 leaky_re_lu[0][0]                \n",
      "__________________________________________________________________________________________________\n",
      "conv2d_transpose_5 (Conv2DTrans (None, 512, 128, 1)  801         concatenate_4[0][0]              \n",
      "__________________________________________________________________________________________________\n",
      "batch_normalization_13 (BatchNo (None, 512, 128, 1)  4           conv2d_transpose_5[0][0]         \n",
      "__________________________________________________________________________________________________\n",
      "tf.math.sigmoid (TFOpLambda)    (None, 512, 128, 1)  0           batch_normalization_13[0][0]     \n",
      "__________________________________________________________________________________________________\n",
      "multiply (Multiply)             (None, 512, 128, 1)  0           input_1[0][0]                    \n",
      "                                                                 tf.math.sigmoid[0][0]            \n",
      "==================================================================================================\n",
      "Total params: 9,848,497\n",
      "Trainable params: 9,844,847\n",
      "Non-trainable params: 3,650\n",
      "__________________________________________________________________________________________________\n"
     ]
    },
    {
     "name": "stderr",
     "output_type": "stream",
     "text": [
      "/home/gbarbadillo/miniconda3/envs/luxai/lib/python3.9/site-packages/keras/optimizer_v2/optimizer_v2.py:355: UserWarning: The `lr` argument is deprecated, use `learning_rate` instead.\n",
      "  warnings.warn(\n"
     ]
    }
   ],
   "source": [
    "model = cunet_model()\n",
    "model.summary()"
   ]
  },
  {
   "cell_type": "code",
   "execution_count": 5,
   "metadata": {
    "ExecuteTime": {
     "end_time": "2021-10-17T07:08:24.588628Z",
     "start_time": "2021-10-17T07:08:24.558316Z"
    },
    "hidden": true
   },
   "outputs": [
    {
     "data": {
      "text/plain": [
       "[<KerasTensor: shape=(None, 512, 128, 1) dtype=float32 (created by layer 'input_1')>,\n",
       " <KerasTensor: shape=(None, 1, 4) dtype=float32 (created by layer 'input_2')>]"
      ]
     },
     "execution_count": 5,
     "metadata": {},
     "output_type": "execute_result"
    }
   ],
   "source": [
    "model.inputs"
   ]
  },
  {
   "cell_type": "code",
   "execution_count": 6,
   "metadata": {
    "ExecuteTime": {
     "end_time": "2021-10-17T07:08:26.996168Z",
     "start_time": "2021-10-17T07:08:24.591012Z"
    },
    "hidden": true
   },
   "outputs": [
    {
     "name": "stderr",
     "output_type": "stream",
     "text": [
      "2021-10-17 09:08:24.752689: I tensorflow/compiler/mlir/mlir_graph_optimization_pass.cc:185] None of the MLIR Optimization Passes are enabled (registered 2)\n",
      "2021-10-17 09:08:25.618806: I tensorflow/stream_executor/cuda/cuda_dnn.cc:369] Loaded cuDNN version 8100\n",
      "2021-10-17 09:08:26.191882: I tensorflow/core/platform/default/subprocess.cc:304] Start cannot spawn child process: No such file or directory\n",
      "2021-10-17 09:08:26.192744: I tensorflow/core/platform/default/subprocess.cc:304] Start cannot spawn child process: No such file or directory\n",
      "2021-10-17 09:08:26.192805: W tensorflow/stream_executor/gpu/asm_compiler.cc:77] Couldn't get ptxas version string: Internal: Couldn't invoke ptxas --version\n",
      "2021-10-17 09:08:26.193919: I tensorflow/core/platform/default/subprocess.cc:304] Start cannot spawn child process: No such file or directory\n",
      "2021-10-17 09:08:26.194018: W tensorflow/stream_executor/gpu/redzone_allocator.cc:314] Internal: Failed to launch ptxas\n",
      "Relying on driver to perform ptx compilation. \n",
      "Modify $PATH to customize ptxas location.\n",
      "This message will be only logged once.\n",
      "2021-10-17 09:08:26.720025: I tensorflow/stream_executor/cuda/cuda_blas.cc:1760] TensorFloat-32 will be used for the matrix multiplication. This will only be logged once.\n"
     ]
    },
    {
     "data": {
      "text/plain": [
       "(1, 512, 128, 1)"
      ]
     },
     "execution_count": 6,
     "metadata": {},
     "output_type": "execute_result"
    }
   ],
   "source": [
    "model.predict([np.zeros((1, 512, 128, 1)), np.zeros((1, 1, 4))]).shape"
   ]
  },
  {
   "cell_type": "markdown",
   "metadata": {
    "hidden": true
   },
   "source": [
    "It does not find ptxas, even after installing cudatoolkit-dev"
   ]
  },
  {
   "cell_type": "code",
   "execution_count": 6,
   "metadata": {
    "ExecuteTime": {
     "end_time": "2021-10-17T05:57:08.477111Z",
     "start_time": "2021-10-17T05:57:04.958626Z"
    },
    "deletable": false,
    "editable": false,
    "hidden": true,
    "run_control": {
     "frozen": true
    }
   },
   "outputs": [
    {
     "name": "stderr",
     "output_type": "stream",
     "text": [
      "2021-10-17 07:57:05.423086: I tensorflow/compiler/mlir/mlir_graph_optimization_pass.cc:185] None of the MLIR Optimization Passes are enabled (registered 2)\n",
      "2021-10-17 07:57:06.301671: I tensorflow/stream_executor/cuda/cuda_dnn.cc:369] Loaded cuDNN version 8100\n",
      "2021-10-17 07:57:08.085132: I tensorflow/stream_executor/cuda/cuda_blas.cc:1760] TensorFloat-32 will be used for the matrix multiplication. This will only be logged once.\n",
      "2021-10-17 07:57:08.087223: I tensorflow/core/platform/default/subprocess.cc:304] Start cannot spawn child process: No such file or directory\n",
      "2021-10-17 07:57:08.088158: I tensorflow/core/platform/default/subprocess.cc:304] Start cannot spawn child process: No such file or directory\n",
      "2021-10-17 07:57:08.088196: W tensorflow/stream_executor/gpu/asm_compiler.cc:77] Couldn't get ptxas version string: Internal: Couldn't invoke ptxas --version\n",
      "2021-10-17 07:57:08.089225: I tensorflow/core/platform/default/subprocess.cc:304] Start cannot spawn child process: No such file or directory\n",
      "2021-10-17 07:57:08.089325: W tensorflow/stream_executor/gpu/redzone_allocator.cc:314] Internal: Failed to launch ptxas\n",
      "Relying on driver to perform ptx compilation. \n",
      "Modify $PATH to customize ptxas location.\n",
      "This message will be only logged once.\n"
     ]
    },
    {
     "data": {
      "text/plain": [
       "(1, 512, 128, 1)"
      ]
     },
     "execution_count": 6,
     "metadata": {},
     "output_type": "execute_result"
    }
   ],
   "source": [
    "model.predict([np.zeros((1, 512, 128, 1)), np.zeros((1, 1, 4))]).shape"
   ]
  },
  {
   "cell_type": "code",
   "execution_count": 7,
   "metadata": {
    "ExecuteTime": {
     "end_time": "2021-10-17T07:08:27.030146Z",
     "start_time": "2021-10-17T07:08:26.998594Z"
    },
    "hidden": true
   },
   "outputs": [
    {
     "name": "stdout",
     "output_type": "stream",
     "text": [
      "('You must install pydot (`pip install pydot`) and install graphviz (see instructions at https://graphviz.gitlab.io/download/) ', 'for plot_model/model_to_dot to work.')\n"
     ]
    }
   ],
   "source": [
    "keras.utils.model_to_dot(model)"
   ]
  },
  {
   "cell_type": "markdown",
   "metadata": {
    "heading_collapsed": true
   },
   "source": [
    "## Modifying the model configuration"
   ]
  },
  {
   "cell_type": "code",
   "execution_count": 10,
   "metadata": {
    "ExecuteTime": {
     "end_time": "2021-10-17T06:30:31.354792Z",
     "start_time": "2021-10-17T06:30:31.320354Z"
    },
    "deletable": false,
    "editable": false,
    "hidden": true,
    "run_control": {
     "frozen": true
    }
   },
   "outputs": [],
   "source": [
    "config.N_LAYERS = 2"
   ]
  },
  {
   "cell_type": "code",
   "execution_count": 11,
   "metadata": {
    "ExecuteTime": {
     "end_time": "2021-10-17T06:30:50.138643Z",
     "start_time": "2021-10-17T06:30:49.969618Z"
    },
    "deletable": false,
    "editable": false,
    "hidden": true,
    "run_control": {
     "frozen": true
    }
   },
   "outputs": [
    {
     "name": "stdout",
     "output_type": "stream",
     "text": [
      "Model: \"model_1\"\n",
      "__________________________________________________________________________________________________\n",
      "Layer (type)                    Output Shape         Param #     Connected to                     \n",
      "==================================================================================================\n",
      "input_4 (InputLayer)            [(None, 1, 4)]       0                                            \n",
      "__________________________________________________________________________________________________\n",
      "dense_5 (Dense)                 (None, 1, 16)        80          input_4[0][0]                    \n",
      "__________________________________________________________________________________________________\n",
      "dense_6 (Dense)                 (None, 1, 64)        1088        dense_5[0][0]                    \n",
      "__________________________________________________________________________________________________\n",
      "dropout_5 (Dropout)             (None, 1, 64)        0           dense_6[0][0]                    \n",
      "__________________________________________________________________________________________________\n",
      "batch_normalization_14 (BatchNo (None, 1, 64)        256         dropout_5[0][0]                  \n",
      "__________________________________________________________________________________________________\n",
      "dense_7 (Dense)                 (None, 1, 256)       16640       batch_normalization_14[0][0]     \n",
      "__________________________________________________________________________________________________\n",
      "dropout_6 (Dropout)             (None, 1, 256)       0           dense_7[0][0]                    \n",
      "__________________________________________________________________________________________________\n",
      "input_3 (InputLayer)            [(None, 512, 128, 1) 0                                            \n",
      "__________________________________________________________________________________________________\n",
      "batch_normalization_15 (BatchNo (None, 1, 256)       1024        dropout_6[0][0]                  \n",
      "__________________________________________________________________________________________________\n",
      "conv2d_6 (Conv2D)               (None, 256, 64, 16)  416         input_3[0][0]                    \n",
      "__________________________________________________________________________________________________\n",
      "dense_8 (Dense)                 (None, 1, 6)         1542        batch_normalization_15[0][0]     \n",
      "__________________________________________________________________________________________________\n",
      "dense_9 (Dense)                 (None, 1, 6)         1542        batch_normalization_15[0][0]     \n",
      "__________________________________________________________________________________________________\n",
      "batch_normalization_16 (BatchNo (None, 256, 64, 16)  64          conv2d_6[0][0]                   \n",
      "__________________________________________________________________________________________________\n",
      "lambda_18 (Lambda)              (None, 1)            0           dense_8[0][0]                    \n",
      "__________________________________________________________________________________________________\n",
      "lambda_19 (Lambda)              (None, 1)            0           dense_9[0][0]                    \n",
      "__________________________________________________________________________________________________\n",
      "lambda_20 (Lambda)              (None, 256, 64, 16)  0           batch_normalization_16[0][0]     \n",
      "                                                                 lambda_18[0][0]                  \n",
      "                                                                 lambda_19[0][0]                  \n",
      "__________________________________________________________________________________________________\n",
      "leaky_re_lu_6 (LeakyReLU)       (None, 256, 64, 16)  0           lambda_20[0][0]                  \n",
      "__________________________________________________________________________________________________\n",
      "conv2d_7 (Conv2D)               (None, 128, 32, 32)  12832       leaky_re_lu_6[0][0]              \n",
      "__________________________________________________________________________________________________\n",
      "batch_normalization_17 (BatchNo (None, 128, 32, 32)  128         conv2d_7[0][0]                   \n",
      "__________________________________________________________________________________________________\n",
      "lambda_21 (Lambda)              (None, 1)            0           dense_8[0][0]                    \n",
      "__________________________________________________________________________________________________\n",
      "lambda_22 (Lambda)              (None, 1)            0           dense_9[0][0]                    \n",
      "__________________________________________________________________________________________________\n",
      "lambda_23 (Lambda)              (None, 128, 32, 32)  0           batch_normalization_17[0][0]     \n",
      "                                                                 lambda_21[0][0]                  \n",
      "                                                                 lambda_22[0][0]                  \n",
      "__________________________________________________________________________________________________\n",
      "leaky_re_lu_7 (LeakyReLU)       (None, 128, 32, 32)  0           lambda_23[0][0]                  \n",
      "__________________________________________________________________________________________________\n",
      "conv2d_transpose_6 (Conv2DTrans (None, 256, 64, 16)  12816       leaky_re_lu_7[0][0]              \n",
      "__________________________________________________________________________________________________\n",
      "batch_normalization_18 (BatchNo (None, 256, 64, 16)  64          conv2d_transpose_6[0][0]         \n",
      "__________________________________________________________________________________________________\n",
      "tf.nn.relu_5 (TFOpLambda)       (None, 256, 64, 16)  0           batch_normalization_18[0][0]     \n",
      "__________________________________________________________________________________________________\n",
      "concatenate_5 (Concatenate)     (None, 256, 64, 32)  0           tf.nn.relu_5[0][0]               \n",
      "                                                                 leaky_re_lu_6[0][0]              \n",
      "__________________________________________________________________________________________________\n",
      "conv2d_transpose_7 (Conv2DTrans (None, 512, 128, 1)  801         concatenate_5[0][0]              \n",
      "__________________________________________________________________________________________________\n",
      "batch_normalization_19 (BatchNo (None, 512, 128, 1)  4           conv2d_transpose_7[0][0]         \n",
      "__________________________________________________________________________________________________\n",
      "tf.math.sigmoid_1 (TFOpLambda)  (None, 512, 128, 1)  0           batch_normalization_19[0][0]     \n",
      "__________________________________________________________________________________________________\n",
      "multiply_1 (Multiply)           (None, 512, 128, 1)  0           input_3[0][0]                    \n",
      "                                                                 tf.math.sigmoid_1[0][0]          \n",
      "==================================================================================================\n",
      "Total params: 49,297\n",
      "Trainable params: 48,527\n",
      "Non-trainable params: 770\n",
      "__________________________________________________________________________________________________\n"
     ]
    },
    {
     "name": "stderr",
     "output_type": "stream",
     "text": [
      "/home/gbarbadillo/miniconda3/envs/luxai/lib/python3.9/site-packages/keras/optimizer_v2/optimizer_v2.py:355: UserWarning: The `lr` argument is deprecated, use `learning_rate` instead.\n",
      "  warnings.warn(\n"
     ]
    }
   ],
   "source": [
    "model = cunet_model()\n",
    "model.summaryry()"
   ]
  },
  {
   "cell_type": "markdown",
   "metadata": {
    "hidden": true
   },
   "source": [
    "We have reduced the number of parameters from 9M to 49k, so this shows we can modify the model configuration very easily."
   ]
  },
  {
   "cell_type": "markdown",
   "metadata": {
    "heading_collapsed": true
   },
   "source": [
    "## Save and load the model"
   ]
  },
  {
   "cell_type": "markdown",
   "metadata": {
    "hidden": true
   },
   "source": [
    "Let's verify that we can save and load the model."
   ]
  },
  {
   "cell_type": "code",
   "execution_count": 12,
   "metadata": {
    "ExecuteTime": {
     "end_time": "2021-10-17T06:32:30.796971Z",
     "start_time": "2021-10-17T06:32:30.717175Z"
    },
    "deletable": false,
    "editable": false,
    "hidden": true,
    "run_control": {
     "frozen": true
    }
   },
   "outputs": [
    {
     "name": "stderr",
     "output_type": "stream",
     "text": [
      "/home/gbarbadillo/miniconda3/envs/luxai/lib/python3.9/site-packages/keras/utils/generic_utils.py:494: CustomMaskWarning: Custom mask layers require a config and must override get_config. When loading, the custom mask layer must be passed to the custom_objects argument.\n",
      "  warnings.warn('Custom mask layers require a config and must override '\n"
     ]
    }
   ],
   "source": [
    "model.save('delete.h5')"
   ]
  },
  {
   "cell_type": "code",
   "execution_count": 14,
   "metadata": {
    "ExecuteTime": {
     "end_time": "2021-10-17T06:33:10.851613Z",
     "start_time": "2021-10-17T06:33:10.626002Z"
    },
    "deletable": false,
    "editable": false,
    "hidden": true,
    "run_control": {
     "frozen": true
    }
   },
   "outputs": [],
   "source": [
    "loaded_model = keras.models.load_model('delete.h5')"
   ]
  },
  {
   "cell_type": "code",
   "execution_count": 15,
   "metadata": {
    "ExecuteTime": {
     "end_time": "2021-10-17T06:33:31.438035Z",
     "start_time": "2021-10-17T06:33:31.193059Z"
    },
    "deletable": false,
    "editable": false,
    "hidden": true,
    "run_control": {
     "frozen": true
    }
   },
   "outputs": [
    {
     "data": {
      "text/plain": [
       "(1, 512, 128, 1)"
      ]
     },
     "execution_count": 15,
     "metadata": {},
     "output_type": "execute_result"
    }
   ],
   "source": [
    "loaded_model.predict([np.zeros((1, 512, 128, 1)), np.zeros((1, 1, 4))]).shape"
   ]
  },
  {
   "cell_type": "code",
   "execution_count": 21,
   "metadata": {
    "ExecuteTime": {
     "end_time": "2021-10-17T06:35:20.848137Z",
     "start_time": "2021-10-17T06:35:20.690844Z"
    },
    "deletable": false,
    "editable": false,
    "hidden": true,
    "run_control": {
     "frozen": true
    }
   },
   "outputs": [
    {
     "data": {
      "text/plain": [
       "1.0"
      ]
     },
     "execution_count": 21,
     "metadata": {},
     "output_type": "execute_result"
    }
   ],
   "source": [
    "random_input = [np.random.normal(size=(1, 512, 128, 1)), np.random.normal(size=(1, 1, 4))]\n",
    "pred = model.predict(random_input)\n",
    "pred2 = loaded_model.predict(random_input)\n",
    "\n",
    "np.mean(pred2 == pred)"
   ]
  },
  {
   "cell_type": "markdown",
   "metadata": {
    "hidden": true
   },
   "source": [
    "There does not seem to be a problem."
   ]
  },
  {
   "cell_type": "markdown",
   "metadata": {},
   "source": [
    "## Customizing the model"
   ]
  },
  {
   "cell_type": "markdown",
   "metadata": {},
   "source": [
    "I have tried setting the x, and y to None but did not work. The output of the model needs to be slighlty different, so I'm going to modify the function for creating the model."
   ]
  },
  {
   "cell_type": "code",
   "execution_count": 26,
   "metadata": {
    "ExecuteTime": {
     "end_time": "2021-10-17T07:25:05.166613Z",
     "start_time": "2021-10-17T07:25:04.922157Z"
    },
    "scrolled": true
   },
   "outputs": [
    {
     "name": "stdout",
     "output_type": "stream",
     "text": [
      "Model: \"model_11\"\n",
      "______________________________________________________________________________________________________________________________________________________\n",
      "Layer (type)                                     Output Shape                     Param #           Connected to                                      \n",
      "======================================================================================================================================================\n",
      "input_14 (InputLayer)                            [(None, 1, 12)]                  0                                                                   \n",
      "______________________________________________________________________________________________________________________________________________________\n",
      "dense_46 (Dense)                                 (None, 1, 16)                    208               input_14[0][0]                                    \n",
      "______________________________________________________________________________________________________________________________________________________\n",
      "dense_47 (Dense)                                 (None, 1, 64)                    1088              dense_46[0][0]                                    \n",
      "______________________________________________________________________________________________________________________________________________________\n",
      "dropout_27 (Dropout)                             (None, 1, 64)                    0                 dense_47[0][0]                                    \n",
      "______________________________________________________________________________________________________________________________________________________\n",
      "batch_normalization_65 (BatchNormalization)      (None, 1, 64)                    256               dropout_27[0][0]                                  \n",
      "______________________________________________________________________________________________________________________________________________________\n",
      "dense_48 (Dense)                                 (None, 1, 256)                   16640             batch_normalization_65[0][0]                      \n",
      "______________________________________________________________________________________________________________________________________________________\n",
      "dropout_28 (Dropout)                             (None, 1, 256)                   0                 dense_48[0][0]                                    \n",
      "______________________________________________________________________________________________________________________________________________________\n",
      "board_input (InputLayer)                         [(None, 32, 32, 22)]             0                                                                   \n",
      "______________________________________________________________________________________________________________________________________________________\n",
      "batch_normalization_66 (BatchNormalization)      (None, 1, 256)                   1024              dropout_28[0][0]                                  \n",
      "______________________________________________________________________________________________________________________________________________________\n",
      "conv2d_21 (Conv2D)                               (None, 16, 16, 32)               17632             board_input[0][0]                                 \n",
      "______________________________________________________________________________________________________________________________________________________\n",
      "gammas (Dense)                                   (None, 1, 3)                     771               batch_normalization_66[0][0]                      \n",
      "______________________________________________________________________________________________________________________________________________________\n",
      "betas (Dense)                                    (None, 1, 3)                     771               batch_normalization_66[0][0]                      \n",
      "______________________________________________________________________________________________________________________________________________________\n",
      "batch_normalization_67 (BatchNormalization)      (None, 16, 16, 32)               128               conv2d_21[0][0]                                   \n",
      "______________________________________________________________________________________________________________________________________________________\n",
      "lambda_64 (Lambda)                               (None, 1)                        0                 gammas[0][0]                                      \n",
      "______________________________________________________________________________________________________________________________________________________\n",
      "lambda_65 (Lambda)                               (None, 1)                        0                 betas[0][0]                                       \n",
      "______________________________________________________________________________________________________________________________________________________\n",
      "lambda_66 (Lambda)                               (None, 16, 16, 32)               0                 batch_normalization_67[0][0]                      \n",
      "                                                                                                    lambda_64[0][0]                                   \n",
      "                                                                                                    lambda_65[0][0]                                   \n",
      "______________________________________________________________________________________________________________________________________________________\n",
      "leaky_re_lu_21 (LeakyReLU)                       (None, 16, 16, 32)               0                 lambda_66[0][0]                                   \n",
      "______________________________________________________________________________________________________________________________________________________\n",
      "conv2d_22 (Conv2D)                               (None, 8, 8, 64)                 51264             leaky_re_lu_21[0][0]                              \n",
      "______________________________________________________________________________________________________________________________________________________\n",
      "batch_normalization_68 (BatchNormalization)      (None, 8, 8, 64)                 256               conv2d_22[0][0]                                   \n",
      "______________________________________________________________________________________________________________________________________________________\n",
      "lambda_67 (Lambda)                               (None, 1)                        0                 gammas[0][0]                                      \n",
      "______________________________________________________________________________________________________________________________________________________\n",
      "lambda_68 (Lambda)                               (None, 1)                        0                 betas[0][0]                                       \n",
      "______________________________________________________________________________________________________________________________________________________\n",
      "lambda_69 (Lambda)                               (None, 8, 8, 64)                 0                 batch_normalization_68[0][0]                      \n",
      "                                                                                                    lambda_67[0][0]                                   \n",
      "                                                                                                    lambda_68[0][0]                                   \n",
      "______________________________________________________________________________________________________________________________________________________\n",
      "leaky_re_lu_22 (LeakyReLU)                       (None, 8, 8, 64)                 0                 lambda_69[0][0]                                   \n",
      "______________________________________________________________________________________________________________________________________________________\n",
      "conv2d_23 (Conv2D)                               (None, 4, 4, 128)                204928            leaky_re_lu_22[0][0]                              \n",
      "______________________________________________________________________________________________________________________________________________________\n",
      "batch_normalization_69 (BatchNormalization)      (None, 4, 4, 128)                512               conv2d_23[0][0]                                   \n",
      "______________________________________________________________________________________________________________________________________________________\n",
      "lambda_70 (Lambda)                               (None, 1)                        0                 gammas[0][0]                                      \n",
      "______________________________________________________________________________________________________________________________________________________\n",
      "lambda_71 (Lambda)                               (None, 1)                        0                 betas[0][0]                                       \n",
      "______________________________________________________________________________________________________________________________________________________\n",
      "lambda_72 (Lambda)                               (None, 4, 4, 128)                0                 batch_normalization_69[0][0]                      \n",
      "                                                                                                    lambda_70[0][0]                                   \n",
      "                                                                                                    lambda_71[0][0]                                   \n",
      "______________________________________________________________________________________________________________________________________________________\n",
      "leaky_re_lu_23 (LeakyReLU)                       (None, 4, 4, 128)                0                 lambda_72[0][0]                                   \n",
      "______________________________________________________________________________________________________________________________________________________\n",
      "conv2d_transpose_20 (Conv2DTranspose)            (None, 8, 8, 64)                 204864            leaky_re_lu_23[0][0]                              \n",
      "______________________________________________________________________________________________________________________________________________________\n",
      "batch_normalization_70 (BatchNormalization)      (None, 8, 8, 64)                 256               conv2d_transpose_20[0][0]                         \n",
      "______________________________________________________________________________________________________________________________________________________\n",
      "tf.nn.relu_18 (TFOpLambda)                       (None, 8, 8, 64)                 0                 batch_normalization_70[0][0]                      \n",
      "______________________________________________________________________________________________________________________________________________________\n",
      "concatenate_9 (Concatenate)                      (None, 8, 8, 128)                0                 tf.nn.relu_18[0][0]                               \n",
      "                                                                                                    leaky_re_lu_22[0][0]                              \n",
      "______________________________________________________________________________________________________________________________________________________\n",
      "conv2d_transpose_21 (Conv2DTranspose)            (None, 16, 16, 32)               102432            concatenate_9[0][0]                               \n",
      "______________________________________________________________________________________________________________________________________________________\n",
      "batch_normalization_71 (BatchNormalization)      (None, 16, 16, 32)               128               conv2d_transpose_21[0][0]                         \n",
      "______________________________________________________________________________________________________________________________________________________\n",
      "tf.nn.relu_19 (TFOpLambda)                       (None, 16, 16, 32)               0                 batch_normalization_71[0][0]                      \n",
      "______________________________________________________________________________________________________________________________________________________\n",
      "concatenate_10 (Concatenate)                     (None, 16, 16, 64)               0                 tf.nn.relu_19[0][0]                               \n",
      "                                                                                                    leaky_re_lu_21[0][0]                              \n",
      "______________________________________________________________________________________________________________________________________________________\n",
      "conv2d_transpose_22 (Conv2DTranspose)            (None, 32, 32, 16)               25616             concatenate_10[0][0]                              \n",
      "______________________________________________________________________________________________________________________________________________________\n",
      "batch_normalization_72 (BatchNormalization)      (None, 32, 32, 16)               64                conv2d_transpose_22[0][0]                         \n",
      "______________________________________________________________________________________________________________________________________________________\n",
      "tf.nn.relu_20 (TFOpLambda)                       (None, 32, 32, 16)               0                 batch_normalization_72[0][0]                      \n",
      "______________________________________________________________________________________________________________________________________________________\n",
      "unit_action (Conv2D)                             (None, 32, 32, 10)               170               tf.nn.relu_20[0][0]                               \n",
      "______________________________________________________________________________________________________________________________________________________\n",
      "city_action (Conv2D)                             (None, 32, 32, 3)                51                tf.nn.relu_20[0][0]                               \n",
      "======================================================================================================================================================\n",
      "Total params: 629,059\n",
      "Trainable params: 627,747\n",
      "Non-trainable params: 1,312\n",
      "______________________________________________________________________________________________________________________________________________________\n"
     ]
    }
   ],
   "source": [
    "# Unet parameters\n",
    "config.INPUT_SHAPE = [32, 32, 22] #[512, 128, 1]\n",
    "config.FILTERS_LAYER_1 = 32 # 16\n",
    "config.N_LAYERS = 3 # 6\n",
    "config.ACT_LAST = 'sigmoid' # sigmoid\n",
    "# Condition parameters\n",
    "config.Z_DIM = 12 # 4\n",
    "config.CONTROL_TYPE = 'dense' # dense\n",
    "config.FILM_TYPE = 'simple' # simple\n",
    "config.N_NEURONS = [16, 64, 256] # [16, 64, 256]\n",
    "config.N_CONDITIONS = config.N_LAYERS # 6 this should be the same as the number of layers\n",
    "\n",
    "\n",
    "model = cunet_luxai_model(config)\n",
    "model.summary(line_length=150)"
   ]
  },
  {
   "cell_type": "code",
   "execution_count": 27,
   "metadata": {
    "ExecuteTime": {
     "end_time": "2021-10-17T07:26:08.930789Z",
     "start_time": "2021-10-17T07:26:08.881659Z"
    }
   },
   "outputs": [
    {
     "name": "stdout",
     "output_type": "stream",
     "text": [
      "('You must install pydot (`pip install pydot`) and install graphviz (see instructions at https://graphviz.gitlab.io/download/) ', 'for plot_model/model_to_dot to work.')\n"
     ]
    }
   ],
   "source": [
    "keras.utils.plot_model(model)"
   ]
  },
  {
   "cell_type": "code",
   "execution_count": 22,
   "metadata": {
    "ExecuteTime": {
     "end_time": "2021-10-17T07:23:03.027576Z",
     "start_time": "2021-10-17T07:23:02.978765Z"
    }
   },
   "outputs": [
    {
     "data": {
      "text/plain": [
       "16"
      ]
     },
     "execution_count": 22,
     "metadata": {},
     "output_type": "execute_result"
    }
   ],
   "source": [
    "config.FILTERS_LAYER_1"
   ]
  },
  {
   "cell_type": "code",
   "execution_count": 12,
   "metadata": {
    "ExecuteTime": {
     "end_time": "2021-10-17T07:08:27.308295Z",
     "start_time": "2021-10-17T07:08:27.286026Z"
    }
   },
   "outputs": [
    {
     "data": {
      "text/plain": [
       "[16, 64, 256]"
      ]
     },
     "execution_count": 12,
     "metadata": {},
     "output_type": "execute_result"
    }
   ],
   "source": [
    "config.N_NEURONS"
   ]
  },
  {
   "cell_type": "code",
   "execution_count": 13,
   "metadata": {
    "ExecuteTime": {
     "end_time": "2021-10-17T07:08:27.345297Z",
     "start_time": "2021-10-17T07:08:27.309502Z"
    }
   },
   "outputs": [
    {
     "data": {
      "text/plain": [
       "6"
      ]
     },
     "execution_count": 13,
     "metadata": {},
     "output_type": "execute_result"
    }
   ],
   "source": [
    "config.N_CONDITIONS"
   ]
  },
  {
   "cell_type": "code",
   "execution_count": 16,
   "metadata": {
    "ExecuteTime": {
     "end_time": "2021-10-17T07:16:47.682996Z",
     "start_time": "2021-10-17T07:16:47.635310Z"
    }
   },
   "outputs": [
    {
     "data": {
      "text/plain": [
       "'sigmoid'"
      ]
     },
     "execution_count": 16,
     "metadata": {},
     "output_type": "execute_result"
    }
   ],
   "source": [
    "config.ACT_LAST"
   ]
  },
  {
   "cell_type": "code",
   "execution_count": null,
   "metadata": {},
   "outputs": [],
   "source": []
  }
 ],
 "metadata": {
  "hide_input": false,
  "kernelspec": {
   "display_name": "Python (luxai)",
   "language": "python",
   "name": "luxai"
  },
  "language_info": {
   "codemirror_mode": {
    "name": "ipython",
    "version": 3
   },
   "file_extension": ".py",
   "mimetype": "text/x-python",
   "name": "python",
   "nbconvert_exporter": "python",
   "pygments_lexer": "ipython3",
   "version": "3.9.7"
  },
  "toc": {
   "base_numbering": 1,
   "nav_menu": {},
   "number_sections": false,
   "sideBar": true,
   "skip_h1_title": false,
   "title_cell": "Table of Contents",
   "title_sidebar": "Contents",
   "toc_cell": true,
   "toc_position": {},
   "toc_section_display": true,
   "toc_window_display": false
  }
 },
 "nbformat": 4,
 "nbformat_minor": 4
}
