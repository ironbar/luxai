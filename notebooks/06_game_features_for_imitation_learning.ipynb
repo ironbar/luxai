{
 "cells": [
  {
   "cell_type": "markdown",
   "metadata": {
    "toc": true
   },
   "source": [
    "<h1>Table of Contents<span class=\"tocSkip\"></span></h1>\n",
    "<div class=\"toc\"><ul class=\"toc-item\"><li><span><a href=\"#Game-features-for-imitation-learning\" data-toc-modified-id=\"Game-features-for-imitation-learning-1\">Game features for imitation learning</a></span><ul class=\"toc-item\"><li><span><a href=\"#Goal\" data-toc-modified-id=\"Goal-1.1\">Goal</a></span></li><li><span><a href=\"#Imports\" data-toc-modified-id=\"Imports-1.2\">Imports</a></span></li><li><span><a href=\"#Study-game-size-distribution\" data-toc-modified-id=\"Study-game-size-distribution-1.3\">Study game size distribution</a></span></li><li><span><a href=\"#Input-features\" data-toc-modified-id=\"Input-features-1.4\">Input features</a></span></li><li><span><a href=\"#Output-features-and-mask\" data-toc-modified-id=\"Output-features-and-mask-1.5\">Output features and mask</a></span></li></ul></li></ul></div>"
   ]
  },
  {
   "cell_type": "markdown",
   "metadata": {},
   "source": [
    "# Game features for imitation learning"
   ]
  },
  {
   "cell_type": "markdown",
   "metadata": {},
   "source": [
    "## Goal"
   ]
  },
  {
   "cell_type": "markdown",
   "metadata": {},
   "source": [
    "On this notebook I'm going to implement the features needed to train an imitation learning model."
   ]
  },
  {
   "cell_type": "markdown",
   "metadata": {},
   "source": [
    "## Imports"
   ]
  },
  {
   "cell_type": "code",
   "execution_count": 1,
   "metadata": {
    "ExecuteTime": {
     "end_time": "2021-10-14T14:52:09.650756Z",
     "start_time": "2021-10-14T14:52:09.621295Z"
    }
   },
   "outputs": [],
   "source": [
    "# Use this to reload changes in python scripts\n",
    "%load_ext autoreload\n",
    "%autoreload 2"
   ]
  },
  {
   "cell_type": "code",
   "execution_count": 18,
   "metadata": {
    "ExecuteTime": {
     "end_time": "2021-10-14T17:25:49.877070Z",
     "start_time": "2021-10-14T17:25:49.851654Z"
    }
   },
   "outputs": [],
   "source": [
    "import os\n",
    "import glob\n",
    "import random\n",
    "import tempfile\n",
    "import matplotlib as mpl\n",
    "import matplotlib.pyplot as plt\n",
    "import numpy as np\n",
    "from kaggle_environments import make, evaluate\n",
    "from functools import partial\n",
    "from IPython.display import clear_output\n",
    "from tqdm.notebook import tqdm\n",
    "import json\n",
    "\n",
    "from kaggle_environments.envs.lux_ai_2021.test_agents.python.lux.game import Game\n",
    "\n",
    "from luxai.utils import render_game_in_html, set_random_seed\n",
    "from luxai.features import make_input, CHANNELS_MAP, FEATURES_MAP"
   ]
  },
  {
   "cell_type": "code",
   "execution_count": 19,
   "metadata": {
    "ExecuteTime": {
     "end_time": "2021-10-14T17:25:51.362271Z",
     "start_time": "2021-10-14T17:25:51.322658Z"
    }
   },
   "outputs": [],
   "source": [
    "plt.plot()\n",
    "plt.close('all')\n",
    "plt.rcParams[\"figure.figsize\"] = (20, 5)  \n",
    "mpl.rcParams['lines.linewidth'] = 3\n",
    "mpl.rcParams['font.size'] = 16"
   ]
  },
  {
   "cell_type": "markdown",
   "metadata": {},
   "source": [
    "## Study game size distribution"
   ]
  },
  {
   "cell_type": "markdown",
   "metadata": {},
   "source": [
    "I have downloaded around 10k matches from the leaderboard. Let's see what is the distribution of the size of the board."
   ]
  },
  {
   "cell_type": "code",
   "execution_count": 4,
   "metadata": {
    "ExecuteTime": {
     "end_time": "2021-10-14T14:53:18.100103Z",
     "start_time": "2021-10-14T14:53:18.055473Z"
    }
   },
   "outputs": [],
   "source": [
    "filepaths = glob.glob('/mnt/hdd0/Kaggle/luxai/matches_20211014/matches/*.json')"
   ]
  },
  {
   "cell_type": "code",
   "execution_count": 14,
   "metadata": {
    "ExecuteTime": {
     "end_time": "2021-10-14T14:55:11.397685Z",
     "start_time": "2021-10-14T14:55:11.373939Z"
    }
   },
   "outputs": [],
   "source": [
    "def get_board_size(filepath):\n",
    "    with open(filepath, 'r') as f:\n",
    "        match = json.load(f)\n",
    "    return match[0][0]['observation']['height']"
   ]
  },
  {
   "cell_type": "code",
   "execution_count": 15,
   "metadata": {
    "ExecuteTime": {
     "end_time": "2021-10-14T14:56:37.532667Z",
     "start_time": "2021-10-14T14:55:31.214212Z"
    }
   },
   "outputs": [
    {
     "data": {
      "application/vnd.jupyter.widget-view+json": {
       "model_id": "2daa68fd4fdc405f84413b825794596b",
       "version_major": 2,
       "version_minor": 0
      },
      "text/plain": [
       "  0%|          | 0/9430 [00:00<?, ?it/s]"
      ]
     },
     "metadata": {},
     "output_type": "display_data"
    },
    {
     "data": {
      "text/plain": [
       "(array([12, 16, 24, 32]), array([2225, 2326, 2457, 2422]))"
      ]
     },
     "execution_count": 15,
     "metadata": {},
     "output_type": "execute_result"
    }
   ],
   "source": [
    "np.unique([get_board_size(filepath) for filepath in tqdm(filepaths)], return_counts=True)"
   ]
  },
  {
   "cell_type": "markdown",
   "metadata": {},
   "source": [
    "The distribution seems to be uniform, so the size of the board is random."
   ]
  },
  {
   "cell_type": "markdown",
   "metadata": {},
   "source": [
    "## Input features"
   ]
  },
  {
   "cell_type": "markdown",
   "metadata": {},
   "source": [
    "Let's create a function that given the observation creates the input features for the model. I will be using this [implementation](https://www.kaggle.com/shoheiazuma/lux-ai-with-imitation-learning) from the forum as a start point."
   ]
  },
  {
   "cell_type": "code",
   "execution_count": 20,
   "metadata": {
    "ExecuteTime": {
     "end_time": "2021-10-14T17:26:20.842462Z",
     "start_time": "2021-10-14T17:26:20.812206Z"
    }
   },
   "outputs": [],
   "source": [
    "filepath  = '../data/sample_games/20210924_seed1_172steps.json'\n",
    "with open(filepath, 'r') as f:\n",
    "    match = json.load(f)"
   ]
  },
  {
   "cell_type": "code",
   "execution_count": 39,
   "metadata": {
    "ExecuteTime": {
     "end_time": "2021-10-14T17:38:53.529543Z",
     "start_time": "2021-10-14T17:38:53.504860Z"
    }
   },
   "outputs": [
    {
     "data": {
      "text/plain": [
       "array([0.09722222, 1.        , 0.        , 0.06      , 0.05      ,\n",
       "       0.        , 0.        , 0.        , 0.        , 0.        ,\n",
       "       9.        , 0.        , 4.        ], dtype=float32)"
      ]
     },
     "execution_count": 39,
     "metadata": {},
     "output_type": "execute_result"
    }
   ],
   "source": [
    "board, features = make_input(match['steps'][35][0]['observation'])\n",
    "features"
   ]
  },
  {
   "cell_type": "markdown",
   "metadata": {},
   "source": [
    "TODO: visualize the board and features to verify everything is fine"
   ]
  },
  {
   "cell_type": "markdown",
   "metadata": {},
   "source": [
    "## Output features and mask"
   ]
  },
  {
   "cell_type": "code",
   "execution_count": null,
   "metadata": {},
   "outputs": [],
   "source": []
  },
  {
   "cell_type": "code",
   "execution_count": 17,
   "metadata": {
    "ExecuteTime": {
     "end_time": "2021-10-14T15:11:37.643683Z",
     "start_time": "2021-10-14T15:11:37.618748Z"
    }
   },
   "outputs": [
    {
     "data": {
      "text/plain": [
       "10"
      ]
     },
     "execution_count": 17,
     "metadata": {},
     "output_type": "execute_result"
    }
   ],
   "source": [
    "len(\"u 0 0 u_1 2 6 0 0 0 0\".split(' '))"
   ]
  },
  {
   "cell_type": "code",
   "execution_count": null,
   "metadata": {},
   "outputs": [],
   "source": []
  }
 ],
 "metadata": {
  "hide_input": false,
  "kernelspec": {
   "display_name": "Python (luxai)",
   "language": "python",
   "name": "luxai"
  },
  "language_info": {
   "codemirror_mode": {
    "name": "ipython",
    "version": 3
   },
   "file_extension": ".py",
   "mimetype": "text/x-python",
   "name": "python",
   "nbconvert_exporter": "python",
   "pygments_lexer": "ipython3",
   "version": "3.9.6"
  },
  "toc": {
   "base_numbering": 1,
   "nav_menu": {},
   "number_sections": false,
   "sideBar": true,
   "skip_h1_title": false,
   "title_cell": "Table of Contents",
   "title_sidebar": "Contents",
   "toc_cell": true,
   "toc_position": {},
   "toc_section_display": true,
   "toc_window_display": false
  }
 },
 "nbformat": 4,
 "nbformat_minor": 5
}
