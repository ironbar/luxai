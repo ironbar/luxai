{
 "cells": [
  {
   "cell_type": "markdown",
   "metadata": {
    "toc": true
   },
   "source": [
    "<h1>Table of Contents<span class=\"tocSkip\"></span></h1>\n",
    "<div class=\"toc\"><ul class=\"toc-item\"><li><span><a href=\"#Study-predictions\" data-toc-modified-id=\"Study-predictions-1\">Study predictions</a></span><ul class=\"toc-item\"><li><span><a href=\"#Goal\" data-toc-modified-id=\"Goal-1.1\">Goal</a></span></li><li><span><a href=\"#Imports\" data-toc-modified-id=\"Imports-1.2\">Imports</a></span></li><li><span><a href=\"#Load-model-and-data\" data-toc-modified-id=\"Load-model-and-data-1.3\">Load model and data</a></span></li><li><span><a href=\"#Predictions\" data-toc-modified-id=\"Predictions-1.4\">Predictions</a></span></li><li><span><a href=\"#Current-metrics\" data-toc-modified-id=\"Current-metrics-1.5\">Current metrics</a></span></li><li><span><a href=\"#New-metrics\" data-toc-modified-id=\"New-metrics-1.6\">New metrics</a></span><ul class=\"toc-item\"><li><span><a href=\"#Code\" data-toc-modified-id=\"Code-1.6.1\">Code</a></span></li><li><span><a href=\"#Visualizations\" data-toc-modified-id=\"Visualizations-1.6.2\">Visualizations</a></span><ul class=\"toc-item\"><li><span><a href=\"#Cumulative-distributions-on-predictions\" data-toc-modified-id=\"Cumulative-distributions-on-predictions-1.6.2.1\">Cumulative distributions on predictions</a></span></li><li><span><a href=\"#Max-predictions-distributions\" data-toc-modified-id=\"Max-predictions-distributions-1.6.2.2\">Max predictions distributions</a></span></li><li><span><a href=\"#Importance-of-more-than-one-unit-actions\" data-toc-modified-id=\"Importance-of-more-than-one-unit-actions-1.6.2.3\">Importance of more than one unit actions</a></span></li><li><span><a href=\"#Correct-actions\" data-toc-modified-id=\"Correct-actions-1.6.2.4\">Correct actions</a></span></li><li><span><a href=\"#Other\" data-toc-modified-id=\"Other-1.6.2.5\">Other</a></span></li></ul></li></ul></li><li><span><a href=\"#Summary\" data-toc-modified-id=\"Summary-1.7\">Summary</a></span></li><li><span><a href=\"#Old-thoughts\" data-toc-modified-id=\"Old-thoughts-1.8\">Old thoughts</a></span></li></ul></li></ul></div>"
   ]
  },
  {
   "cell_type": "markdown",
   "metadata": {},
   "source": [
    "# Study predictions"
   ]
  },
  {
   "cell_type": "markdown",
   "metadata": {},
   "source": [
    "## Goal"
   ]
  },
  {
   "cell_type": "markdown",
   "metadata": {},
   "source": [
    "The goal of this notebook is to study predictions of a model on the validation set with the aim to improve metrics or losses."
   ]
  },
  {
   "cell_type": "markdown",
   "metadata": {},
   "source": [
    "## Imports"
   ]
  },
  {
   "cell_type": "code",
   "execution_count": 8,
   "metadata": {
    "ExecuteTime": {
     "end_time": "2021-11-23T16:26:25.235009Z",
     "start_time": "2021-11-23T16:26:25.232041Z"
    }
   },
   "outputs": [],
   "source": [
    "import os\n",
    "os.environ['CUDA_VISIBLE_DEVICES'] = ''"
   ]
  },
  {
   "cell_type": "code",
   "execution_count": 92,
   "metadata": {
    "ExecuteTime": {
     "end_time": "2021-11-24T04:10:20.405498Z",
     "start_time": "2021-11-24T04:10:20.397023Z"
    }
   },
   "outputs": [],
   "source": [
    "import matplotlib.pyplot as plt\n",
    "import matplotlib as mpl\n",
    "import tensorflow.keras as keras\n",
    "import pandas as pd\n",
    "import numpy as np\n",
    "from tqdm.notebook import tqdm\n",
    "\n",
    "import luxai.cunet\n",
    "from luxai.data import combine_data_for_training, load_match\n",
    "from luxai.input_features import CHANNELS_MAP"
   ]
  },
  {
   "cell_type": "code",
   "execution_count": 10,
   "metadata": {
    "ExecuteTime": {
     "end_time": "2021-11-23T16:26:25.266311Z",
     "start_time": "2021-11-23T16:26:25.245545Z"
    }
   },
   "outputs": [],
   "source": [
    "plt.plot()\n",
    "plt.close('all')\n",
    "plt.rcParams[\"figure.figsize\"] = (20, 5)  \n",
    "mpl.rcParams['lines.linewidth'] = 3\n",
    "mpl.rcParams['font.size'] = 16"
   ]
  },
  {
   "cell_type": "markdown",
   "metadata": {},
   "source": [
    "## Load model and data"
   ]
  },
  {
   "cell_type": "code",
   "execution_count": 11,
   "metadata": {
    "ExecuteTime": {
     "end_time": "2021-11-23T16:26:25.616074Z",
     "start_time": "2021-11-23T16:26:25.267991Z"
    }
   },
   "outputs": [],
   "source": [
    "model = keras.models.load_model('/mnt/hdd0/Kaggle/luxai/models/42_curriculum_learning_with_best_stages/seed0/stage4/best_val_loss_model.h5', compile=False)"
   ]
  },
  {
   "cell_type": "code",
   "execution_count": 12,
   "metadata": {
    "ExecuteTime": {
     "end_time": "2021-11-23T16:26:25.628714Z",
     "start_time": "2021-11-23T16:26:25.617452Z"
    }
   },
   "outputs": [
    {
     "data": {
      "text/html": [
       "<div>\n",
       "<style scoped>\n",
       "    .dataframe tbody tr th:only-of-type {\n",
       "        vertical-align: middle;\n",
       "    }\n",
       "\n",
       "    .dataframe tbody tr th {\n",
       "        vertical-align: top;\n",
       "    }\n",
       "\n",
       "    .dataframe thead th {\n",
       "        text-align: right;\n",
       "    }\n",
       "</style>\n",
       "<table border=\"1\" class=\"dataframe\">\n",
       "  <thead>\n",
       "    <tr style=\"text-align: right;\">\n",
       "      <th></th>\n",
       "      <th>Id</th>\n",
       "      <th>EpisodeId</th>\n",
       "      <th>Index</th>\n",
       "      <th>Reward</th>\n",
       "      <th>State</th>\n",
       "      <th>SubmissionId</th>\n",
       "      <th>InitialConfidence</th>\n",
       "      <th>InitialScore</th>\n",
       "      <th>UpdatedConfidence</th>\n",
       "      <th>UpdatedScore</th>\n",
       "      <th>FinalScore</th>\n",
       "      <th>Team</th>\n",
       "    </tr>\n",
       "  </thead>\n",
       "  <tbody>\n",
       "    <tr>\n",
       "      <th>0</th>\n",
       "      <td>75076972</td>\n",
       "      <td>29991187</td>\n",
       "      <td>0</td>\n",
       "      <td>890041.0</td>\n",
       "      <td>2</td>\n",
       "      <td>23297953</td>\n",
       "      <td>35.00000</td>\n",
       "      <td>1957.279341</td>\n",
       "      <td>35.000000</td>\n",
       "      <td>1959.003122</td>\n",
       "      <td>2021.185199</td>\n",
       "      <td>Toad Brigade</td>\n",
       "    </tr>\n",
       "    <tr>\n",
       "      <th>1</th>\n",
       "      <td>75988959</td>\n",
       "      <td>30447180</td>\n",
       "      <td>1</td>\n",
       "      <td>1310051.0</td>\n",
       "      <td>2</td>\n",
       "      <td>23297953</td>\n",
       "      <td>35.00000</td>\n",
       "      <td>2011.593075</td>\n",
       "      <td>35.000000</td>\n",
       "      <td>2013.044434</td>\n",
       "      <td>2021.185199</td>\n",
       "      <td>Toad Brigade</td>\n",
       "    </tr>\n",
       "    <tr>\n",
       "      <th>2</th>\n",
       "      <td>72070727</td>\n",
       "      <td>28487063</td>\n",
       "      <td>1</td>\n",
       "      <td>230012.0</td>\n",
       "      <td>2</td>\n",
       "      <td>23297953</td>\n",
       "      <td>42.79739</td>\n",
       "      <td>1466.705040</td>\n",
       "      <td>42.321043</td>\n",
       "      <td>1472.138593</td>\n",
       "      <td>2021.185199</td>\n",
       "      <td>Toad Brigade</td>\n",
       "    </tr>\n",
       "    <tr>\n",
       "      <th>3</th>\n",
       "      <td>74444543</td>\n",
       "      <td>29674972</td>\n",
       "      <td>1</td>\n",
       "      <td>1030042.0</td>\n",
       "      <td>2</td>\n",
       "      <td>23297953</td>\n",
       "      <td>35.00000</td>\n",
       "      <td>1932.343041</td>\n",
       "      <td>35.000000</td>\n",
       "      <td>1933.920986</td>\n",
       "      <td>2021.185199</td>\n",
       "      <td>Toad Brigade</td>\n",
       "    </tr>\n",
       "    <tr>\n",
       "      <th>4</th>\n",
       "      <td>73255322</td>\n",
       "      <td>29079361</td>\n",
       "      <td>0</td>\n",
       "      <td>310016.0</td>\n",
       "      <td>2</td>\n",
       "      <td>23297953</td>\n",
       "      <td>35.00000</td>\n",
       "      <td>1819.460414</td>\n",
       "      <td>35.000000</td>\n",
       "      <td>1821.367935</td>\n",
       "      <td>2021.185199</td>\n",
       "      <td>Toad Brigade</td>\n",
       "    </tr>\n",
       "  </tbody>\n",
       "</table>\n",
       "</div>"
      ],
      "text/plain": [
       "         Id  EpisodeId  Index     Reward  State  SubmissionId  \\\n",
       "0  75076972   29991187      0   890041.0      2      23297953   \n",
       "1  75988959   30447180      1  1310051.0      2      23297953   \n",
       "2  72070727   28487063      1   230012.0      2      23297953   \n",
       "3  74444543   29674972      1  1030042.0      2      23297953   \n",
       "4  73255322   29079361      0   310016.0      2      23297953   \n",
       "\n",
       "   InitialConfidence  InitialScore  UpdatedConfidence  UpdatedScore  \\\n",
       "0           35.00000   1957.279341          35.000000   1959.003122   \n",
       "1           35.00000   2011.593075          35.000000   2013.044434   \n",
       "2           42.79739   1466.705040          42.321043   1472.138593   \n",
       "3           35.00000   1932.343041          35.000000   1933.920986   \n",
       "4           35.00000   1819.460414          35.000000   1821.367935   \n",
       "\n",
       "    FinalScore          Team  \n",
       "0  2021.185199  Toad Brigade  \n",
       "1  2021.185199  Toad Brigade  \n",
       "2  2021.185199  Toad Brigade  \n",
       "3  2021.185199  Toad Brigade  \n",
       "4  2021.185199  Toad Brigade  "
      ]
     },
     "execution_count": 12,
     "metadata": {},
     "output_type": "execute_result"
    }
   ],
   "source": [
    "df = pd.read_csv('/mnt/hdd0/Kaggle/luxai/models/42_curriculum_learning_with_best_stages/seed0/stage4/val.csv')\n",
    "df.head()"
   ]
  },
  {
   "cell_type": "code",
   "execution_count": 15,
   "metadata": {
    "ExecuteTime": {
     "end_time": "2021-11-23T16:26:48.304062Z",
     "start_time": "2021-11-23T16:26:48.298737Z"
    }
   },
   "outputs": [],
   "source": [
    "def load_data(df):\n",
    "    matches = []\n",
    "    for episode_id, player in tqdm(zip(df.EpisodeId, df.Index), total=len(df), desc='Loading matches'):\n",
    "        matches.append(load_match(episode_id, player, '', '/home/gbarbadillo/luxai_ssd/matches_npz_v2'))\n",
    "    return combine_data_for_training(matches)"
   ]
  },
  {
   "cell_type": "code",
   "execution_count": 16,
   "metadata": {
    "ExecuteTime": {
     "end_time": "2021-11-23T16:26:49.405454Z",
     "start_time": "2021-11-23T16:26:48.771368Z"
    }
   },
   "outputs": [
    {
     "data": {
      "application/vnd.jupyter.widget-view+json": {
       "model_id": "fdd7f11a5ab04bb79cdbfe32f047790f",
       "version_major": 2,
       "version_minor": 0
      },
      "text/plain": [
       "Loading matches:   0%|          | 0/6 [00:00<?, ?it/s]"
      ]
     },
     "metadata": {},
     "output_type": "display_data"
    },
    {
     "name": "stdout",
     "output_type": "stream",
     "text": [
      "Inputs shapes [(2157, 32, 32, 28), (2157, 1, 12)]\n",
      "Outputs shapes [(2157, 32, 32, 11), (2157, 32, 32, 4)]\n"
     ]
    }
   ],
   "source": [
    "data = load_data(df.loc[:5])"
   ]
  },
  {
   "cell_type": "markdown",
   "metadata": {
    "heading_collapsed": true
   },
   "source": [
    "## Predictions"
   ]
  },
  {
   "cell_type": "code",
   "execution_count": 17,
   "metadata": {
    "ExecuteTime": {
     "end_time": "2021-11-23T16:27:38.917359Z",
     "start_time": "2021-11-23T16:27:19.858192Z"
    },
    "hidden": true
   },
   "outputs": [
    {
     "name": "stderr",
     "output_type": "stream",
     "text": [
      "2021-11-23 17:27:20.035251: I tensorflow/compiler/mlir/mlir_graph_optimization_pass.cc:185] None of the MLIR Optimization Passes are enabled (registered 2)\n"
     ]
    }
   ],
   "source": [
    "preds = model.predict(data[0], batch_size=32)"
   ]
  },
  {
   "cell_type": "markdown",
   "metadata": {},
   "source": [
    "## Current metrics"
   ]
  },
  {
   "cell_type": "code",
   "execution_count": 30,
   "metadata": {
    "ExecuteTime": {
     "end_time": "2021-11-23T16:34:20.078863Z",
     "start_time": "2021-11-23T16:34:18.210798Z"
    }
   },
   "outputs": [
    {
     "name": "stdout",
     "output_type": "stream",
     "text": [
      "unit masked_focal_loss: 0.154\n",
      "unit masked_error: 0.074\n",
      "unit true_positive_error: 0.004\n",
      "unit true_negative_error: 0.008\n",
      "\n",
      "city masked_focal_loss: 0.016\n",
      "city masked_error: 0.006\n",
      "city true_positive_error: 0.007\n",
      "city true_negative_error: 0.002\n",
      "\n"
     ]
    }
   ],
   "source": [
    "for idx, name in enumerate(['unit', 'city']):\n",
    "    print('%s masked_focal_loss: %.3f' % (name, luxai.cunet.masked_focal_loss(data[1][idx], preds[idx], zeta=1, true_weight=32).numpy()))\n",
    "    print('%s masked_error: %.3f' % (name, luxai.cunet.masked_error(data[1][idx], preds[idx]).numpy()))\n",
    "    print('%s true_positive_error: %.3f' % (name, luxai.cunet.true_positive_error(data[1][idx], preds[idx]).numpy()))\n",
    "    print('%s true_negative_error: %.3f' % (name, luxai.cunet.true_negative_error(data[1][idx], preds[idx]).numpy()))\n",
    "    print()"
   ]
  },
  {
   "cell_type": "markdown",
   "metadata": {},
   "source": [
    "This values correspond to the ones we can see with tensorboard at epoch 6 of `/mnt/hdd0/Kaggle/luxai/models/42_curriculum_learning_with_best_stages/seed0/stage4`"
   ]
  },
  {
   "cell_type": "markdown",
   "metadata": {},
   "source": [
    "## New metrics"
   ]
  },
  {
   "cell_type": "markdown",
   "metadata": {
    "heading_collapsed": true
   },
   "source": [
    "### Code"
   ]
  },
  {
   "cell_type": "code",
   "execution_count": 113,
   "metadata": {
    "ExecuteTime": {
     "end_time": "2021-11-24T04:26:06.725493Z",
     "start_time": "2021-11-24T04:26:06.691202Z"
    },
    "hidden": true
   },
   "outputs": [],
   "source": [
    "def visualize_new_metrics(data, preds):\n",
    "    for idx, name in enumerate(['unit', 'city']):\n",
    "        mask = data[1][idx][..., -1]\n",
    "        y_true = data[1][idx][mask == 1][..., :-1]\n",
    "        y_pred = preds[idx][mask == 1]\n",
    "        #plot_cumulative_distributions(y_true, y_pred, name); plt.show();\n",
    "        plot_max_prediction_distributions(y_true, y_pred, name); plt.show();\n",
    "        \n",
    "def get_y_true_y_pred(data, preds, name):\n",
    "    idx = ['unit', 'city'].index(name)\n",
    "    mask = data[1][idx][..., -1]\n",
    "    y_true = data[1][idx][mask == 1][..., :-1]\n",
    "    y_pred = preds[idx][mask == 1]\n",
    "    return dict(y_true=y_true, y_pred=y_pred, name=name)\n",
    "        \n",
    "def plot_cumulative_distributions(y_true, y_pred, name):\n",
    "    bins = np.linspace(0, 1, 100)\n",
    "    plt.hist(y_pred[y_true == 1], bins=bins, density=True, cumulative=1, label='y_true=1');\n",
    "    plt.hist(y_pred[y_true == 0], bins=bins, density=True, alpha=0.5, cumulative=-1, label='y_true=0');\n",
    "    plt.legend(loc=0)\n",
    "    plt.title('Cumulative distribution for %s predictions' % name)\n",
    "    plt.grid();\n",
    "    \n",
    "def plot_max_prediction_distributions(y_true, y_pred, name):\n",
    "    bins = np.linspace(0, 1, 100)\n",
    "    plt.hist(np.max(y_pred, axis=1)[np.max(y_true, axis=1) > 0], bins=bins, density=True, cumulative=1, label='no action');\n",
    "    plt.hist(np.max(y_pred, axis=1)[np.max(y_true, axis=1) == 0], bins=bins, density=True, alpha=0.5, cumulative=-1, label='action');\n",
    "    plt.legend(loc=0)\n",
    "    plt.title('Max prediction distribution for %s' % name)\n",
    "    plt.grid();\n",
    "    \n",
    "def plot_correct_predictions(y_true, y_pred, name):\n",
    "    plt.suptitle('Correct predictions for %s' % name)\n",
    "    bins = np.linspace(0, 1, 100)\n",
    "    plt.subplot(121)\n",
    "    values = np.max(y_pred, axis=1)[np.max(y_true, axis=1) == 0]\n",
    "    plt.title('No action correct: %.1f%%' % (np.mean(values < 0.5)*100))\n",
    "    plt.hist(values, bins=bins, density=True, cumulative=-1)\n",
    "    plt.subplot(122)\n",
    "    \n",
    "    values = np.max(y_pred, axis=1)[np.max(y_true, axis=1) > 0]\n",
    "    correct_action = (np.argmax(y_pred, axis=1) == np.argmax(y_true, axis=1))[np.max(y_true, axis=1) > 0]\n",
    "    is_correct = (values > 0.5)*correct_action\n",
    "    plt.title('Action correct: %.1f%%' % (np.mean(is_correct)*100))\n",
    "    plt.hist(values, bins=bins, density=True, cumulative=1)"
   ]
  },
  {
   "cell_type": "markdown",
   "metadata": {},
   "source": [
    "### Visualizations"
   ]
  },
  {
   "cell_type": "markdown",
   "metadata": {
    "heading_collapsed": true
   },
   "source": [
    "#### Cumulative distributions on predictions"
   ]
  },
  {
   "cell_type": "code",
   "execution_count": 70,
   "metadata": {
    "ExecuteTime": {
     "end_time": "2021-11-23T18:41:26.588653Z",
     "start_time": "2021-11-23T18:41:26.123792Z"
    },
    "deletable": false,
    "editable": false,
    "hidden": true,
    "run_control": {
     "frozen": true
    }
   },
   "outputs": [
    {
     "data": {
      "image/png": "[encoded data removed]",
      "text/plain": [
       "<Figure size 1440x360 with 1 Axes>"
      ]
     },
     "metadata": {
      "needs_background": "light"
     },
     "output_type": "display_data"
    }
   ],
   "source": [
    "plot_cumulative_distributions(**get_y_true_y_pred(data, preds, name='unit'))"
   ]
  },
  {
   "cell_type": "markdown",
   "metadata": {
    "hidden": true
   },
   "source": [
    "We can see that the EER lies below 10% at a threshold of around 0.55"
   ]
  },
  {
   "cell_type": "code",
   "execution_count": 69,
   "metadata": {
    "ExecuteTime": {
     "end_time": "2021-11-23T18:41:09.917321Z",
     "start_time": "2021-11-23T18:41:09.459896Z"
    },
    "deletable": false,
    "editable": false,
    "hidden": true,
    "run_control": {
     "frozen": true
    }
   },
   "outputs": [
    {
     "data": {
      "image/png": "[encoded data removed]",
      "text/plain": [
       "<Figure size 1440x360 with 1 Axes>"
      ]
     },
     "metadata": {
      "needs_background": "light"
     },
     "output_type": "display_data"
    }
   ],
   "source": [
    "plot_cumulative_distributions(**get_y_true_y_pred(data, preds, name='city'))"
   ]
  },
  {
   "cell_type": "markdown",
   "metadata": {
    "hidden": true
   },
   "source": [
    "In the case of cities the EER is really small."
   ]
  },
  {
   "cell_type": "markdown",
   "metadata": {
    "heading_collapsed": true
   },
   "source": [
    "#### Max predictions distributions"
   ]
  },
  {
   "cell_type": "code",
   "execution_count": 71,
   "metadata": {
    "ExecuteTime": {
     "end_time": "2021-11-23T18:42:27.673183Z",
     "start_time": "2021-11-23T18:42:27.195108Z"
    },
    "deletable": false,
    "editable": false,
    "hidden": true,
    "run_control": {
     "frozen": true
    },
    "scrolled": true
   },
   "outputs": [
    {
     "data": {
      "image/png": "[encoded data removed]",
      "text/plain": [
       "<Figure size 1440x360 with 1 Axes>"
      ]
     },
     "metadata": {
      "needs_background": "light"
     },
     "output_type": "display_data"
    }
   ],
   "source": [
    "plot_max_prediction_distributions(**get_y_true_y_pred(data, preds, name='unit'))"
   ]
  },
  {
   "cell_type": "markdown",
   "metadata": {
    "hidden": true
   },
   "source": [
    "If this is correct we are taking actions around 40% of the time that were not needed. This is probably caused by the white extracost."
   ]
  },
  {
   "cell_type": "code",
   "execution_count": 72,
   "metadata": {
    "ExecuteTime": {
     "end_time": "2021-11-23T18:42:34.169305Z",
     "start_time": "2021-11-23T18:42:33.731307Z"
    },
    "deletable": false,
    "editable": false,
    "hidden": true,
    "run_control": {
     "frozen": true
    }
   },
   "outputs": [
    {
     "data": {
      "image/png": "[encoded data removed]",
      "text/plain": [
       "<Figure size 1440x360 with 1 Axes>"
      ]
     },
     "metadata": {
      "needs_background": "light"
     },
     "output_type": "display_data"
    }
   ],
   "source": [
    "plot_max_prediction_distributions(**get_y_true_y_pred(data, preds, name='city'))"
   ]
  },
  {
   "cell_type": "markdown",
   "metadata": {
    "hidden": true
   },
   "source": [
    "In the other hand for cities this works very well, it is almost perfect."
   ]
  },
  {
   "cell_type": "markdown",
   "metadata": {
    "heading_collapsed": true
   },
   "source": [
    "#### Importance of more than one unit actions"
   ]
  },
  {
   "cell_type": "code",
   "execution_count": 91,
   "metadata": {
    "ExecuteTime": {
     "end_time": "2021-11-24T04:09:35.298813Z",
     "start_time": "2021-11-24T04:09:35.288349Z"
    },
    "deletable": false,
    "editable": false,
    "hidden": true,
    "run_control": {
     "frozen": true
    }
   },
   "outputs": [
    {
     "name": "stdout",
     "output_type": "stream",
     "text": [
      "0: 63.34%\n",
      "1: 36.44%\n",
      "2: 0.22%\n",
      "3: 0.01%\n"
     ]
    }
   ],
   "source": [
    "unique, counts = np.unique(np.sum(y_true, axis=1), return_counts=True)\n",
    "for n_actions, frequency  in zip(unique, (counts/len(y_true)*100)):\n",
    "    print('%i: %.2f%%' % (n_actions, frequency))"
   ]
  },
  {
   "cell_type": "code",
   "execution_count": 95,
   "metadata": {
    "ExecuteTime": {
     "end_time": "2021-11-24T04:13:19.962757Z",
     "start_time": "2021-11-24T04:13:19.871425Z"
    },
    "deletable": false,
    "editable": false,
    "hidden": true,
    "run_control": {
     "frozen": true
    }
   },
   "outputs": [
    {
     "data": {
      "text/plain": [
       "(47745,)"
      ]
     },
     "execution_count": 95,
     "metadata": {},
     "output_type": "execute_result"
    }
   ],
   "source": [
    "n_units = data[0][0][..., CHANNELS_MAP['player_worker']] + data[0][0][..., CHANNELS_MAP['player_cart']]\n",
    "n_units = n_units[data[1][0][...,-1] == 1]\n",
    "n_units.shape"
   ]
  },
  {
   "cell_type": "code",
   "execution_count": 97,
   "metadata": {
    "ExecuteTime": {
     "end_time": "2021-11-24T04:14:15.171094Z",
     "start_time": "2021-11-24T04:14:15.164625Z"
    },
    "deletable": false,
    "editable": false,
    "hidden": true,
    "run_control": {
     "frozen": true
    }
   },
   "outputs": [
    {
     "name": "stdout",
     "output_type": "stream",
     "text": [
      "1: 99.46%\n",
      "2: 0.53%\n",
      "3: 0.01%\n"
     ]
    }
   ],
   "source": [
    "for n, counts in zip(*np.unique(n_units, return_counts=True)):\n",
    "    print('%i: %.2f%%' % (n, counts/len(n_units)*100))"
   ]
  },
  {
   "cell_type": "markdown",
   "metadata": {
    "hidden": true
   },
   "source": [
    "Ok, so only 0.5% of the times there are 2 units on the same place, and only 0.22% of the times the two units need to take an action.\n",
    "\n",
    "Thus it seems a very small fraction to worry with, metrics should focus on one action only."
   ]
  },
  {
   "cell_type": "markdown",
   "metadata": {},
   "source": [
    "#### Correct actions"
   ]
  },
  {
   "cell_type": "code",
   "execution_count": 114,
   "metadata": {
    "ExecuteTime": {
     "end_time": "2021-11-24T04:26:08.424406Z",
     "start_time": "2021-11-24T04:26:07.373978Z"
    },
    "deletable": false,
    "editable": false,
    "run_control": {
     "frozen": true
    }
   },
   "outputs": [
    {
     "data": {
      "image/png": "[encoded data removed]",
      "text/plain": [
       "<Figure size 1440x360 with 2 Axes>"
      ]
     },
     "metadata": {
      "needs_background": "light"
     },
     "output_type": "display_data"
    }
   ],
   "source": [
    "plot_correct_predictions(**get_y_true_y_pred(data, preds, name='unit'))"
   ]
  },
  {
   "cell_type": "markdown",
   "metadata": {},
   "source": [
    "We can see that in the case of units is very frequent to take an action when is not needed. It takes the correct action 77.2% of the time."
   ]
  },
  {
   "cell_type": "code",
   "execution_count": 115,
   "metadata": {
    "ExecuteTime": {
     "end_time": "2021-11-24T04:27:11.269531Z",
     "start_time": "2021-11-24T04:27:09.496157Z"
    },
    "deletable": false,
    "editable": false,
    "run_control": {
     "frozen": true
    }
   },
   "outputs": [
    {
     "data": {
      "image/png": "[encoded data removed]",
      "text/plain": [
       "<Figure size 1440x360 with 2 Axes>"
      ]
     },
     "metadata": {
      "needs_background": "light"
     },
     "output_type": "display_data"
    }
   ],
   "source": [
    "plot_correct_predictions(**get_y_true_y_pred(data, preds, name='city'))"
   ]
  },
  {
   "cell_type": "markdown",
   "metadata": {},
   "source": [
    "On cities the behaviour is much better, probably because the action space is smaller."
   ]
  },
  {
   "cell_type": "markdown",
   "metadata": {
    "heading_collapsed": true
   },
   "source": [
    "#### Other"
   ]
  },
  {
   "cell_type": "markdown",
   "metadata": {
    "hidden": true
   },
   "source": [
    "Just 0.2% of the predictions involve two actions. Thus we could create a metric that is designed for single prediction and it will probably work well."
   ]
  },
  {
   "cell_type": "code",
   "execution_count": 59,
   "metadata": {
    "ExecuteTime": {
     "end_time": "2021-11-23T17:12:45.537885Z",
     "start_time": "2021-11-23T17:12:45.083781Z"
    },
    "hidden": true
   },
   "outputs": [
    {
     "data": {
      "image/png": "[encoded data removed]",
      "text/plain": [
       "<Figure size 1440x360 with 1 Axes>"
      ]
     },
     "metadata": {
      "needs_background": "light"
     },
     "output_type": "display_data"
    }
   ],
   "source": [
    "bins = np.linspace(0, 1, 100)\n",
    "plt.hist(np.max(y_pred, axis=1)[np.max(y_true, axis=1) > 0], bins=bins, density=True, cumulative=1, label='y_true=1');\n",
    "plt.hist(np.max(y_pred, axis=1)[np.max(y_true, axis=1) == 0], bins=bins, density=True, alpha=0.5, cumulative=-1, label='y_true=0');\n",
    "plt.legend(loc=0)\n",
    "plt.title('Cumulative distribution for predictions')\n",
    "plt.grid();"
   ]
  },
  {
   "cell_type": "code",
   "execution_count": null,
   "metadata": {
    "hidden": true
   },
   "outputs": [],
   "source": []
  },
  {
   "cell_type": "code",
   "execution_count": null,
   "metadata": {
    "hidden": true
   },
   "outputs": [],
   "source": []
  },
  {
   "cell_type": "markdown",
   "metadata": {},
   "source": [
    "## Summary"
   ]
  },
  {
   "cell_type": "markdown",
   "metadata": {},
   "source": [
    "- We have found a big problem on unit actions, 40% of the time that the unit needs to stay without taking action it takes one. Cities do not have this problem.\n",
    "- We have also found that is very rare to have 2 units on same position (0.5%) and even more rare to take 2 actions (0.2%)"
   ]
  },
  {
   "cell_type": "markdown",
   "metadata": {},
   "source": [
    "I believe I have to change the model implementation to have 4 outputs. For each unit and city it will first predict wether to take an action and second the policy over the actions. This will split the responsability, give more freedom to the model and hopefully get a boost on the scores."
   ]
  },
  {
   "cell_type": "markdown",
   "metadata": {
    "heading_collapsed": true
   },
   "source": [
    "## Old thoughts"
   ]
  },
  {
   "cell_type": "markdown",
   "metadata": {
    "hidden": true
   },
   "source": [
    "Is the prediction with higher value the same as the true label?  \n",
    "Higher pred value when no action is needed?  \n",
    "\"Correct\" predictions?  "
   ]
  },
  {
   "cell_type": "markdown",
   "metadata": {
    "hidden": true
   },
   "source": [
    "When the targets are all zero -> we want all predictions below 0.5  \n",
    "If some targets are one -> we want the min value of those predictions to be higher than the max of the other ones."
   ]
  },
  {
   "cell_type": "markdown",
   "metadata": {
    "hidden": true
   },
   "source": [
    "no action -> all predictions below 0.5 to be correct, we can show the distribution of the max value  \n",
    "one action -> argmax should be the index of the action, the value should be above 0.5  \n",
    "more than one actions -> we want the min value of those predictions to be higher than the max of the other ones, and the values above 0.5  "
   ]
  },
  {
   "cell_type": "markdown",
   "metadata": {
    "hidden": true
   },
   "source": [
    "1. Create metrics for each group, print and visualize them\n",
    "2. Can I implement those metrics with keras for tensorboard?\n",
    "3. Can I think of a better loss function that better optimizes those metrics?"
   ]
  },
  {
   "cell_type": "markdown",
   "metadata": {
    "hidden": true
   },
   "source": [
    "I might have 2 or 3 losses that are all computed but only applied depending on the values of the true labels, one loss for no action, another for one action..."
   ]
  },
  {
   "cell_type": "markdown",
   "metadata": {
    "hidden": true
   },
   "source": [
    "Predicting 1s and 0s as the true labels will work, but other softer solutions will also work."
   ]
  },
  {
   "cell_type": "markdown",
   "metadata": {
    "hidden": true
   },
   "source": [
    "Maybe I have to add another channel that says action/no action. In that case if no action the loss on the other channels would be irrelevant. If action we could use softmax.\n",
    "\n",
    "This will remove unbalance from the data, split responsability..."
   ]
  },
  {
   "cell_type": "markdown",
   "metadata": {
    "hidden": true
   },
   "source": [
    "- How frequent is that two units are on the same place?\n",
    "- In those cases how many times a single action is taken and more than one action are taken?"
   ]
  },
  {
   "cell_type": "code",
   "execution_count": null,
   "metadata": {
    "hidden": true
   },
   "outputs": [],
   "source": []
  }
 ],
 "metadata": {
  "hide_input": false,
  "kernelspec": {
   "display_name": "Python (luxai_37)",
   "language": "python",
   "name": "luxai_37"
  },
  "language_info": {
   "codemirror_mode": {
    "name": "ipython",
    "version": 3
   },
   "file_extension": ".py",
   "mimetype": "text/x-python",
   "name": "python",
   "nbconvert_exporter": "python",
   "pygments_lexer": "ipython3",
   "version": "3.7.11"
  },
  "toc": {
   "base_numbering": 1,
   "nav_menu": {},
   "number_sections": false,
   "sideBar": true,
   "skip_h1_title": false,
   "title_cell": "Table of Contents",
   "title_sidebar": "Contents",
   "toc_cell": true,
   "toc_position": {},
   "toc_section_display": true,
   "toc_window_display": false
  }
 },
 "nbformat": 4,
 "nbformat_minor": 4
}
