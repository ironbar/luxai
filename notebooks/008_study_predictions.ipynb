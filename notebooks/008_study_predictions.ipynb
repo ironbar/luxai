{
 "cells": [
  {
   "cell_type": "markdown",
   "metadata": {
    "toc": true
   },
   "source": [
    "<h1>Table of Contents<span class=\"tocSkip\"></span></h1>\n",
    "<div class=\"toc\"><ul class=\"toc-item\"><li><span><a href=\"#Study-predictions\" data-toc-modified-id=\"Study-predictions-1\">Study predictions</a></span><ul class=\"toc-item\"><li><span><a href=\"#Goal\" data-toc-modified-id=\"Goal-1.1\">Goal</a></span></li><li><span><a href=\"#Imports\" data-toc-modified-id=\"Imports-1.2\">Imports</a></span></li><li><span><a href=\"#Load-model-and-data\" data-toc-modified-id=\"Load-model-and-data-1.3\">Load model and data</a></span></li><li><span><a href=\"#Predictions\" data-toc-modified-id=\"Predictions-1.4\">Predictions</a></span></li><li><span><a href=\"#Current-metrics\" data-toc-modified-id=\"Current-metrics-1.5\">Current metrics</a></span></li></ul></li></ul></div>"
   ]
  },
  {
   "cell_type": "markdown",
   "metadata": {},
   "source": [
    "# Study predictions"
   ]
  },
  {
   "cell_type": "markdown",
   "metadata": {},
   "source": [
    "## Goal"
   ]
  },
  {
   "cell_type": "markdown",
   "metadata": {},
   "source": [
    "The goal of this notebook is to study predictions of a model on the validation set with the aim to improve metrics or losses."
   ]
  },
  {
   "cell_type": "markdown",
   "metadata": {},
   "source": [
    "## Imports"
   ]
  },
  {
   "cell_type": "code",
   "execution_count": 8,
   "metadata": {
    "ExecuteTime": {
     "end_time": "2021-11-23T16:26:25.235009Z",
     "start_time": "2021-11-23T16:26:25.232041Z"
    }
   },
   "outputs": [],
   "source": [
    "import os\n",
    "os.environ['CUDA_VISIBLE_DEVICES'] = ''"
   ]
  },
  {
   "cell_type": "code",
   "execution_count": 9,
   "metadata": {
    "ExecuteTime": {
     "end_time": "2021-11-23T16:26:25.244367Z",
     "start_time": "2021-11-23T16:26:25.237626Z"
    }
   },
   "outputs": [],
   "source": [
    "import matplotlib.pyplot as plt\n",
    "import matplotlib as mpl\n",
    "import tensorflow.keras as keras\n",
    "import pandas as pd\n",
    "import numpy as np\n",
    "from tqdm.notebook import tqdm\n",
    "\n",
    "import luxai.cunet\n",
    "from luxai.data import combine_data_for_training, load_match"
   ]
  },
  {
   "cell_type": "code",
   "execution_count": 10,
   "metadata": {
    "ExecuteTime": {
     "end_time": "2021-11-23T16:26:25.266311Z",
     "start_time": "2021-11-23T16:26:25.245545Z"
    }
   },
   "outputs": [],
   "source": [
    "plt.plot()\n",
    "plt.close('all')\n",
    "plt.rcParams[\"figure.figsize\"] = (20, 5)  \n",
    "mpl.rcParams['lines.linewidth'] = 3\n",
    "mpl.rcParams['font.size'] = 16"
   ]
  },
  {
   "cell_type": "markdown",
   "metadata": {},
   "source": [
    "## Load model and data"
   ]
  },
  {
   "cell_type": "code",
   "execution_count": 11,
   "metadata": {
    "ExecuteTime": {
     "end_time": "2021-11-23T16:26:25.616074Z",
     "start_time": "2021-11-23T16:26:25.267991Z"
    }
   },
   "outputs": [],
   "source": [
    "model = keras.models.load_model('/mnt/hdd0/Kaggle/luxai/models/42_curriculum_learning_with_best_stages/seed0/stage4/best_val_loss_model.h5', compile=False)"
   ]
  },
  {
   "cell_type": "code",
   "execution_count": 12,
   "metadata": {
    "ExecuteTime": {
     "end_time": "2021-11-23T16:26:25.628714Z",
     "start_time": "2021-11-23T16:26:25.617452Z"
    }
   },
   "outputs": [
    {
     "data": {
      "text/html": [
       "<div>\n",
       "<style scoped>\n",
       "    .dataframe tbody tr th:only-of-type {\n",
       "        vertical-align: middle;\n",
       "    }\n",
       "\n",
       "    .dataframe tbody tr th {\n",
       "        vertical-align: top;\n",
       "    }\n",
       "\n",
       "    .dataframe thead th {\n",
       "        text-align: right;\n",
       "    }\n",
       "</style>\n",
       "<table border=\"1\" class=\"dataframe\">\n",
       "  <thead>\n",
       "    <tr style=\"text-align: right;\">\n",
       "      <th></th>\n",
       "      <th>Id</th>\n",
       "      <th>EpisodeId</th>\n",
       "      <th>Index</th>\n",
       "      <th>Reward</th>\n",
       "      <th>State</th>\n",
       "      <th>SubmissionId</th>\n",
       "      <th>InitialConfidence</th>\n",
       "      <th>InitialScore</th>\n",
       "      <th>UpdatedConfidence</th>\n",
       "      <th>UpdatedScore</th>\n",
       "      <th>FinalScore</th>\n",
       "      <th>Team</th>\n",
       "    </tr>\n",
       "  </thead>\n",
       "  <tbody>\n",
       "    <tr>\n",
       "      <th>0</th>\n",
       "      <td>75076972</td>\n",
       "      <td>29991187</td>\n",
       "      <td>0</td>\n",
       "      <td>890041.0</td>\n",
       "      <td>2</td>\n",
       "      <td>23297953</td>\n",
       "      <td>35.00000</td>\n",
       "      <td>1957.279341</td>\n",
       "      <td>35.000000</td>\n",
       "      <td>1959.003122</td>\n",
       "      <td>2021.185199</td>\n",
       "      <td>Toad Brigade</td>\n",
       "    </tr>\n",
       "    <tr>\n",
       "      <th>1</th>\n",
       "      <td>75988959</td>\n",
       "      <td>30447180</td>\n",
       "      <td>1</td>\n",
       "      <td>1310051.0</td>\n",
       "      <td>2</td>\n",
       "      <td>23297953</td>\n",
       "      <td>35.00000</td>\n",
       "      <td>2011.593075</td>\n",
       "      <td>35.000000</td>\n",
       "      <td>2013.044434</td>\n",
       "      <td>2021.185199</td>\n",
       "      <td>Toad Brigade</td>\n",
       "    </tr>\n",
       "    <tr>\n",
       "      <th>2</th>\n",
       "      <td>72070727</td>\n",
       "      <td>28487063</td>\n",
       "      <td>1</td>\n",
       "      <td>230012.0</td>\n",
       "      <td>2</td>\n",
       "      <td>23297953</td>\n",
       "      <td>42.79739</td>\n",
       "      <td>1466.705040</td>\n",
       "      <td>42.321043</td>\n",
       "      <td>1472.138593</td>\n",
       "      <td>2021.185199</td>\n",
       "      <td>Toad Brigade</td>\n",
       "    </tr>\n",
       "    <tr>\n",
       "      <th>3</th>\n",
       "      <td>74444543</td>\n",
       "      <td>29674972</td>\n",
       "      <td>1</td>\n",
       "      <td>1030042.0</td>\n",
       "      <td>2</td>\n",
       "      <td>23297953</td>\n",
       "      <td>35.00000</td>\n",
       "      <td>1932.343041</td>\n",
       "      <td>35.000000</td>\n",
       "      <td>1933.920986</td>\n",
       "      <td>2021.185199</td>\n",
       "      <td>Toad Brigade</td>\n",
       "    </tr>\n",
       "    <tr>\n",
       "      <th>4</th>\n",
       "      <td>73255322</td>\n",
       "      <td>29079361</td>\n",
       "      <td>0</td>\n",
       "      <td>310016.0</td>\n",
       "      <td>2</td>\n",
       "      <td>23297953</td>\n",
       "      <td>35.00000</td>\n",
       "      <td>1819.460414</td>\n",
       "      <td>35.000000</td>\n",
       "      <td>1821.367935</td>\n",
       "      <td>2021.185199</td>\n",
       "      <td>Toad Brigade</td>\n",
       "    </tr>\n",
       "  </tbody>\n",
       "</table>\n",
       "</div>"
      ],
      "text/plain": [
       "         Id  EpisodeId  Index     Reward  State  SubmissionId  \\\n",
       "0  75076972   29991187      0   890041.0      2      23297953   \n",
       "1  75988959   30447180      1  1310051.0      2      23297953   \n",
       "2  72070727   28487063      1   230012.0      2      23297953   \n",
       "3  74444543   29674972      1  1030042.0      2      23297953   \n",
       "4  73255322   29079361      0   310016.0      2      23297953   \n",
       "\n",
       "   InitialConfidence  InitialScore  UpdatedConfidence  UpdatedScore  \\\n",
       "0           35.00000   1957.279341          35.000000   1959.003122   \n",
       "1           35.00000   2011.593075          35.000000   2013.044434   \n",
       "2           42.79739   1466.705040          42.321043   1472.138593   \n",
       "3           35.00000   1932.343041          35.000000   1933.920986   \n",
       "4           35.00000   1819.460414          35.000000   1821.367935   \n",
       "\n",
       "    FinalScore          Team  \n",
       "0  2021.185199  Toad Brigade  \n",
       "1  2021.185199  Toad Brigade  \n",
       "2  2021.185199  Toad Brigade  \n",
       "3  2021.185199  Toad Brigade  \n",
       "4  2021.185199  Toad Brigade  "
      ]
     },
     "execution_count": 12,
     "metadata": {},
     "output_type": "execute_result"
    }
   ],
   "source": [
    "df = pd.read_csv('/mnt/hdd0/Kaggle/luxai/models/42_curriculum_learning_with_best_stages/seed0/stage4/val.csv')\n",
    "df.head()"
   ]
  },
  {
   "cell_type": "code",
   "execution_count": 15,
   "metadata": {
    "ExecuteTime": {
     "end_time": "2021-11-23T16:26:48.304062Z",
     "start_time": "2021-11-23T16:26:48.298737Z"
    }
   },
   "outputs": [],
   "source": [
    "def load_data(df):\n",
    "    matches = []\n",
    "    for episode_id, player in tqdm(zip(df.EpisodeId, df.Index), total=len(df), desc='Loading matches'):\n",
    "        matches.append(load_match(episode_id, player, '', '/home/gbarbadillo/luxai_ssd/matches_npz_v2'))\n",
    "    return combine_data_for_training(matches)"
   ]
  },
  {
   "cell_type": "code",
   "execution_count": 16,
   "metadata": {
    "ExecuteTime": {
     "end_time": "2021-11-23T16:26:49.405454Z",
     "start_time": "2021-11-23T16:26:48.771368Z"
    }
   },
   "outputs": [
    {
     "data": {
      "application/vnd.jupyter.widget-view+json": {
       "model_id": "fdd7f11a5ab04bb79cdbfe32f047790f",
       "version_major": 2,
       "version_minor": 0
      },
      "text/plain": [
       "Loading matches:   0%|          | 0/6 [00:00<?, ?it/s]"
      ]
     },
     "metadata": {},
     "output_type": "display_data"
    },
    {
     "name": "stdout",
     "output_type": "stream",
     "text": [
      "Inputs shapes [(2157, 32, 32, 28), (2157, 1, 12)]\n",
      "Outputs shapes [(2157, 32, 32, 11), (2157, 32, 32, 4)]\n"
     ]
    }
   ],
   "source": [
    "data = load_data(df.loc[:5])"
   ]
  },
  {
   "cell_type": "markdown",
   "metadata": {
    "heading_collapsed": true
   },
   "source": [
    "## Predictions"
   ]
  },
  {
   "cell_type": "code",
   "execution_count": 17,
   "metadata": {
    "ExecuteTime": {
     "end_time": "2021-11-23T16:27:38.917359Z",
     "start_time": "2021-11-23T16:27:19.858192Z"
    },
    "hidden": true
   },
   "outputs": [
    {
     "name": "stderr",
     "output_type": "stream",
     "text": [
      "2021-11-23 17:27:20.035251: I tensorflow/compiler/mlir/mlir_graph_optimization_pass.cc:185] None of the MLIR Optimization Passes are enabled (registered 2)\n"
     ]
    }
   ],
   "source": [
    "preds = model.predict(data[0], batch_size=32)"
   ]
  },
  {
   "cell_type": "markdown",
   "metadata": {},
   "source": [
    "## Current metrics"
   ]
  },
  {
   "cell_type": "code",
   "execution_count": 30,
   "metadata": {
    "ExecuteTime": {
     "end_time": "2021-11-23T16:34:20.078863Z",
     "start_time": "2021-11-23T16:34:18.210798Z"
    }
   },
   "outputs": [
    {
     "name": "stdout",
     "output_type": "stream",
     "text": [
      "unit masked_focal_loss: 0.154\n",
      "unit masked_error: 0.074\n",
      "unit true_positive_error: 0.004\n",
      "unit true_negative_error: 0.008\n",
      "\n",
      "city masked_focal_loss: 0.016\n",
      "city masked_error: 0.006\n",
      "city true_positive_error: 0.007\n",
      "city true_negative_error: 0.002\n",
      "\n"
     ]
    }
   ],
   "source": [
    "for idx, name in enumerate(['unit', 'city']):\n",
    "    print('%s masked_focal_loss: %.3f' % (name, luxai.cunet.masked_focal_loss(data[1][idx], preds[idx], zeta=1, true_weight=32).numpy()))\n",
    "    print('%s masked_error: %.3f' % (name, luxai.cunet.masked_error(data[1][idx], preds[idx]).numpy()))\n",
    "    print('%s true_positive_error: %.3f' % (name, luxai.cunet.true_positive_error(data[1][idx], preds[idx]).numpy()))\n",
    "    print('%s true_negative_error: %.3f' % (name, luxai.cunet.true_negative_error(data[1][idx], preds[idx]).numpy()))\n",
    "    print()"
   ]
  },
  {
   "cell_type": "markdown",
   "metadata": {},
   "source": [
    "This values correspond to the ones we can see with tensorboard at epoch 6 of `/mnt/hdd0/Kaggle/luxai/models/42_curriculum_learning_with_best_stages/seed0/stage4`"
   ]
  },
  {
   "cell_type": "code",
   "execution_count": null,
   "metadata": {},
   "outputs": [],
   "source": []
  }
 ],
 "metadata": {
  "hide_input": false,
  "kernelspec": {
   "display_name": "Python (luxai_37)",
   "language": "python",
   "name": "luxai_37"
  },
  "language_info": {
   "codemirror_mode": {
    "name": "ipython",
    "version": 3
   },
   "file_extension": ".py",
   "mimetype": "text/x-python",
   "name": "python",
   "nbconvert_exporter": "python",
   "pygments_lexer": "ipython3",
   "version": "3.7.11"
  },
  "toc": {
   "base_numbering": 1,
   "nav_menu": {},
   "number_sections": false,
   "sideBar": true,
   "skip_h1_title": false,
   "title_cell": "Table of Contents",
   "title_sidebar": "Contents",
   "toc_cell": true,
   "toc_position": {},
   "toc_section_display": true,
   "toc_window_display": false
  }
 },
 "nbformat": 4,
 "nbformat_minor": 4
}
