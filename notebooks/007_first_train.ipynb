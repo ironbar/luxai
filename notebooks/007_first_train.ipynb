{
 "cells": [
  {
   "cell_type": "markdown",
   "metadata": {
    "toc": true
   },
   "source": [
    "<h1>Table of Contents<span class=\"tocSkip\"></span></h1>\n",
    "<div class=\"toc\"><ul class=\"toc-item\"><li><span><a href=\"#First-train\" data-toc-modified-id=\"First-train-1\">First train</a></span><ul class=\"toc-item\"><li><span><a href=\"#Goal\" data-toc-modified-id=\"Goal-1.1\">Goal</a></span></li><li><span><a href=\"#Imports\" data-toc-modified-id=\"Imports-1.2\">Imports</a></span></li><li><span><a href=\"#Data\" data-toc-modified-id=\"Data-1.3\">Data</a></span><ul class=\"toc-item\"><li><span><a href=\"#Code\" data-toc-modified-id=\"Code-1.3.1\">Code</a></span></li><li><span><a href=\"#Save-to-npz\" data-toc-modified-id=\"Save-to-npz-1.3.2\">Save to npz</a></span></li><li><span><a href=\"#Load-1000-matches-for-training\" data-toc-modified-id=\"Load-1000-matches-for-training-1.3.3\">Load 1000 matches for training</a></span></li></ul></li></ul></li></ul></div>"
   ]
  },
  {
   "cell_type": "markdown",
   "metadata": {},
   "source": [
    "# First train"
   ]
  },
  {
   "cell_type": "markdown",
   "metadata": {},
   "source": [
    "## Goal"
   ]
  },
  {
   "cell_type": "markdown",
   "metadata": {},
   "source": [
    "The goal is to do the first training using the whole dataset. Later I will move this to script."
   ]
  },
  {
   "cell_type": "markdown",
   "metadata": {
    "heading_collapsed": true
   },
   "source": [
    "## Imports"
   ]
  },
  {
   "cell_type": "code",
   "execution_count": 1,
   "metadata": {
    "ExecuteTime": {
     "end_time": "2021-10-20T08:37:01.664999Z",
     "start_time": "2021-10-20T08:37:01.638290Z"
    },
    "hidden": true
   },
   "outputs": [],
   "source": [
    "# Use this to reload changes in python scripts\n",
    "%load_ext autoreload\n",
    "%autoreload 2"
   ]
  },
  {
   "cell_type": "code",
   "execution_count": 2,
   "metadata": {
    "ExecuteTime": {
     "end_time": "2021-10-20T08:37:03.082981Z",
     "start_time": "2021-10-20T08:37:01.667155Z"
    },
    "hidden": true
   },
   "outputs": [
    {
     "name": "stderr",
     "output_type": "stream",
     "text": [
      "2021-10-20 10:37:02.015446: W tensorflow/stream_executor/platform/default/dso_loader.cc:64] Could not load dynamic library 'libcudart.so.11.0'; dlerror: libcudart.so.11.0: cannot open shared object file: No such file or directory\n",
      "2021-10-20 10:37:02.015466: I tensorflow/stream_executor/cuda/cudart_stub.cc:29] Ignore above cudart dlerror if you do not have a GPU set up on your machine.\n"
     ]
    },
    {
     "name": "stdout",
     "output_type": "stream",
     "text": [
      "Loading environment football failed: No module named 'gfootball'\n"
     ]
    }
   ],
   "source": [
    "import os\n",
    "import json\n",
    "import matplotlib as mpl\n",
    "import matplotlib.pyplot as plt\n",
    "import numpy as np\n",
    "import tensorflow.keras as keras\n",
    "from kaggle_environments import make\n",
    "import pandas as pd\n",
    "from tqdm.notebook import tqdm\n",
    "\n",
    "from luxai.utils import render_game_in_html, set_random_seed\n",
    "from luxai.cunet import cunet_model, cunet_luxai_model, config\n",
    "from luxai.input_features import make_input, expand_board_size_adding_zeros\n",
    "from luxai.output_features import (\n",
    "    create_actions_mask, create_output_features,\n",
    "    UNIT_ACTIONS_MAP, CITY_ACTIONS_MAP)"
   ]
  },
  {
   "cell_type": "code",
   "execution_count": 3,
   "metadata": {
    "ExecuteTime": {
     "end_time": "2021-10-20T08:37:03.151846Z",
     "start_time": "2021-10-20T08:37:03.084385Z"
    },
    "hidden": true
   },
   "outputs": [],
   "source": [
    "plt.plot()\n",
    "plt.close('all')\n",
    "plt.rcParams[\"figure.figsize\"] = (30, 5)  \n",
    "mpl.rcParams['lines.linewidth'] = 3\n",
    "mpl.rcParams['font.size'] = 16"
   ]
  },
  {
   "cell_type": "markdown",
   "metadata": {},
   "source": [
    "## Data"
   ]
  },
  {
   "cell_type": "markdown",
   "metadata": {
    "heading_collapsed": true
   },
   "source": [
    "### Code"
   ]
  },
  {
   "cell_type": "code",
   "execution_count": 4,
   "metadata": {
    "ExecuteTime": {
     "end_time": "2021-10-20T08:37:03.199965Z",
     "start_time": "2021-10-20T08:37:03.153709Z"
    },
    "hidden": true
   },
   "outputs": [],
   "source": [
    "def load_match_from_json(filepath, player):\n",
    "    with open(filepath, 'r') as f:\n",
    "        match = json.load(f)\n",
    "    \n",
    "    board, features, unit_output, city_output = [], [], [], []\n",
    "    for step in range(len(match) - 1):\n",
    "        observation = match[step][0]['observation']\n",
    "        if player:\n",
    "            observation.update(match[step][player]['observation'])\n",
    "        actions = match[step+1][player]['action'] # notice the step + 150\n",
    "        if actions is None: # this can happen on timeout\n",
    "            continue\n",
    "\n",
    "        ret = make_input(observation)\n",
    "        active_units_to_position, active_cities_to_position, units_to_position = ret[2:]\n",
    "        if active_units_to_position or active_cities_to_position:\n",
    "            board.append(ret[0])\n",
    "            features.append(ret[1])\n",
    "            unit_actions_mask = create_actions_mask(active_units_to_position, observation)\n",
    "            city_actions_mask = create_actions_mask(active_cities_to_position, observation)\n",
    "            unit_actions, city_actions = create_output_features(actions, units_to_position, observation)\n",
    "            unit_output.append(np.concatenate([unit_actions, unit_actions_mask], axis=-1))\n",
    "            city_output.append(np.concatenate([city_actions, city_actions_mask], axis=-1))\n",
    "\n",
    "    board = np.array(board, dtype=np.float32)\n",
    "    features = np.array(features, dtype=np.float32)\n",
    "    unit_output = np.array(unit_output, dtype=np.float32)\n",
    "    city_output = np.array(city_output, dtype=np.float32)\n",
    "    #print('%i/%i' % (len(board), len(match) - 1)) #this shows how many states did not have available actions\n",
    "    return dict(board=board, features=features, unit_output=unit_output, city_output=city_output)\n",
    "\n",
    "\n",
    "def save_match_to_npz(filepath, match):\n",
    "    os.makedirs(os.path.dirname(filepath), exist_ok=True)\n",
    "    np.savez_compressed(filepath, **match)\n",
    "    \n",
    "    \n",
    "def load_match_from_npz(filepath):\n",
    "    return dict(**np.load(filepath))"
   ]
  },
  {
   "cell_type": "code",
   "execution_count": 5,
   "metadata": {
    "ExecuteTime": {
     "end_time": "2021-10-20T08:37:03.226083Z",
     "start_time": "2021-10-20T08:37:03.201437Z"
    },
    "hidden": true
   },
   "outputs": [],
   "source": [
    "def load_best_n_matches(n_matches):\n",
    "    matches = []\n",
    "    for episode_id, player in tqdm(zip(df.EpisodeId[:n_matches], df.Index[:n_matches]), total=n_matches, desc='Loading matches'):\n",
    "        npz_filepath = os.path.join(matches_cache_npz_dir, '%i_%i.npz' % (episode_id, player))\n",
    "\n",
    "        if os.path.exists(npz_filepath):\n",
    "            match = load_match_from_npz(npz_filepath)\n",
    "        else:\n",
    "            json_filepath = os.path.join(matches_json_dir, '%i.json' % episode_id)\n",
    "            match = load_match_from_json(json_filepath, player)\n",
    "            save_match_to_npz(npz_filepath, match)\n",
    "\n",
    "        matches.append(match)\n",
    "    return matches"
   ]
  },
  {
   "cell_type": "code",
   "execution_count": 6,
   "metadata": {
    "ExecuteTime": {
     "end_time": "2021-10-20T08:37:03.248066Z",
     "start_time": "2021-10-20T08:37:03.227288Z"
    },
    "hidden": true
   },
   "outputs": [],
   "source": [
    "def combine_data_for_training(matches):\n",
    "    inputs = [\n",
    "        np.concatenate([expand_board_size_adding_zeros(match['board']) for match in matches]),\n",
    "        np.concatenate([match['features'] for match in matches]),\n",
    "    ]\n",
    "    print('Inputs shapes', [x.shape for x in inputs])\n",
    "    outputs = [\n",
    "        np.concatenate([expand_board_size_adding_zeros(match['unit_output']) for match in matches]),\n",
    "        np.concatenate([expand_board_size_adding_zeros(match['city_output']) for match in matches]),\n",
    "    ]\n",
    "    print('Outputs shapes', [x.shape for x in outputs])\n",
    "    return inputs, outputs"
   ]
  },
  {
   "cell_type": "code",
   "execution_count": 7,
   "metadata": {
    "ExecuteTime": {
     "end_time": "2021-10-20T08:37:03.268720Z",
     "start_time": "2021-10-20T08:37:03.249256Z"
    },
    "hidden": true
   },
   "outputs": [],
   "source": [
    "def load_train_and_test_data(n_matches, test_fraction):\n",
    "    matches = load_best_n_matches(n_matches=n_matches)\n",
    "    \n",
    "    test_matches = [match for idx, match in enumerate(matches) if not idx%test_fraction]\n",
    "    train_matches = [match for idx, match in enumerate(matches) if idx%test_fraction]\n",
    "    \n",
    "    print('Train matches: %i' % len(train_matches))\n",
    "    train_data = combine_data_for_training(train_matches)\n",
    "    print('Test matches: %i' % len(test_matches))\n",
    "    test_data = combine_data_for_training(test_matches)\n",
    "    \n",
    "    return train_data, test_data"
   ]
  },
  {
   "cell_type": "markdown",
   "metadata": {},
   "source": [
    "### Save to npz"
   ]
  },
  {
   "cell_type": "code",
   "execution_count": 8,
   "metadata": {
    "ExecuteTime": {
     "end_time": "2021-10-20T08:37:03.288223Z",
     "start_time": "2021-10-20T08:37:03.269732Z"
    }
   },
   "outputs": [],
   "source": [
    "matches_json_dir = '/home/gbarbadillo/luxai_ssd/matches_20211014/matches_json'\n",
    "matches_cache_npz_dir = '/home/gbarbadillo/luxai_ssd/matches_20211014/matches_npz'"
   ]
  },
  {
   "cell_type": "code",
   "execution_count": 12,
   "metadata": {
    "ExecuteTime": {
     "end_time": "2021-10-20T08:38:39.477727Z",
     "start_time": "2021-10-20T08:38:39.391622Z"
    }
   },
   "outputs": [
    {
     "data": {
      "text/html": [
       "<div>\n",
       "<style scoped>\n",
       "    .dataframe tbody tr th:only-of-type {\n",
       "        vertical-align: middle;\n",
       "    }\n",
       "\n",
       "    .dataframe tbody tr th {\n",
       "        vertical-align: top;\n",
       "    }\n",
       "\n",
       "    .dataframe thead th {\n",
       "        text-align: right;\n",
       "    }\n",
       "</style>\n",
       "<table border=\"1\" class=\"dataframe\">\n",
       "  <thead>\n",
       "    <tr style=\"text-align: right;\">\n",
       "      <th></th>\n",
       "      <th>Id</th>\n",
       "      <th>EpisodeId</th>\n",
       "      <th>Index</th>\n",
       "      <th>Reward</th>\n",
       "      <th>State</th>\n",
       "      <th>SubmissionId</th>\n",
       "      <th>InitialConfidence</th>\n",
       "      <th>InitialScore</th>\n",
       "      <th>UpdatedConfidence</th>\n",
       "      <th>UpdatedScore</th>\n",
       "      <th>FinalScore</th>\n",
       "    </tr>\n",
       "  </thead>\n",
       "  <tbody>\n",
       "    <tr>\n",
       "      <th>0</th>\n",
       "      <td>69945543</td>\n",
       "      <td>27424471</td>\n",
       "      <td>1</td>\n",
       "      <td>90009.0</td>\n",
       "      <td>2</td>\n",
       "      <td>23032370</td>\n",
       "      <td>36.889864</td>\n",
       "      <td>1560.389280</td>\n",
       "      <td>36.522500</td>\n",
       "      <td>1566.517103</td>\n",
       "      <td>1818.288755</td>\n",
       "    </tr>\n",
       "    <tr>\n",
       "      <th>1</th>\n",
       "      <td>69923394</td>\n",
       "      <td>27413397</td>\n",
       "      <td>0</td>\n",
       "      <td>650053.0</td>\n",
       "      <td>2</td>\n",
       "      <td>23032370</td>\n",
       "      <td>38.435234</td>\n",
       "      <td>1536.093066</td>\n",
       "      <td>38.058785</td>\n",
       "      <td>1541.342982</td>\n",
       "      <td>1818.288755</td>\n",
       "    </tr>\n",
       "    <tr>\n",
       "      <th>2</th>\n",
       "      <td>69849883</td>\n",
       "      <td>27376641</td>\n",
       "      <td>1</td>\n",
       "      <td>410038.0</td>\n",
       "      <td>2</td>\n",
       "      <td>23032370</td>\n",
       "      <td>87.761971</td>\n",
       "      <td>1111.109255</td>\n",
       "      <td>83.368953</td>\n",
       "      <td>1142.533822</td>\n",
       "      <td>1818.288755</td>\n",
       "    </tr>\n",
       "    <tr>\n",
       "      <th>3</th>\n",
       "      <td>69847811</td>\n",
       "      <td>27375605</td>\n",
       "      <td>1</td>\n",
       "      <td>150010.0</td>\n",
       "      <td>2</td>\n",
       "      <td>23032370</td>\n",
       "      <td>144.366002</td>\n",
       "      <td>871.859256</td>\n",
       "      <td>135.552630</td>\n",
       "      <td>896.074161</td>\n",
       "      <td>1818.288755</td>\n",
       "    </tr>\n",
       "    <tr>\n",
       "      <th>4</th>\n",
       "      <td>69847037</td>\n",
       "      <td>27375218</td>\n",
       "      <td>1</td>\n",
       "      <td>130011.0</td>\n",
       "      <td>2</td>\n",
       "      <td>23032370</td>\n",
       "      <td>185.000000</td>\n",
       "      <td>702.140727</td>\n",
       "      <td>170.000000</td>\n",
       "      <td>788.476153</td>\n",
       "      <td>1818.288755</td>\n",
       "    </tr>\n",
       "  </tbody>\n",
       "</table>\n",
       "</div>"
      ],
      "text/plain": [
       "         Id  EpisodeId  Index    Reward  State  SubmissionId  \\\n",
       "0  69945543   27424471      1   90009.0      2      23032370   \n",
       "1  69923394   27413397      0  650053.0      2      23032370   \n",
       "2  69849883   27376641      1  410038.0      2      23032370   \n",
       "3  69847811   27375605      1  150010.0      2      23032370   \n",
       "4  69847037   27375218      1  130011.0      2      23032370   \n",
       "\n",
       "   InitialConfidence  InitialScore  UpdatedConfidence  UpdatedScore  \\\n",
       "0          36.889864   1560.389280          36.522500   1566.517103   \n",
       "1          38.435234   1536.093066          38.058785   1541.342982   \n",
       "2          87.761971   1111.109255          83.368953   1142.533822   \n",
       "3         144.366002    871.859256         135.552630    896.074161   \n",
       "4         185.000000    702.140727         170.000000    788.476153   \n",
       "\n",
       "    FinalScore  \n",
       "0  1818.288755  \n",
       "1  1818.288755  \n",
       "2  1818.288755  \n",
       "3  1818.288755  \n",
       "4  1818.288755  "
      ]
     },
     "execution_count": 12,
     "metadata": {},
     "output_type": "execute_result"
    }
   ],
   "source": [
    "df = pd.read_csv('/mnt/hdd0/Kaggle/luxai/agent_selection.csv')\n",
    "df.sort_values('FinalScore', ascending=False, inplace=True)\n",
    "df.reset_index(drop=True, inplace=True)\n",
    "df.head()"
   ]
  },
  {
   "cell_type": "markdown",
   "metadata": {},
   "source": [
    "Loading data from all the matches from json files will take around an hour, thus we are going to save the features to npz file so we can reduce that time down to 10 minutes.\n",
    "\n",
    "However we could not load all the dataset into memory due to its size. I have computed that if we normalize the board size to 32x32 each match will take 56MB of RAM memory.\n",
    "Thus loading 1000 files will take 56 GB of ram."
   ]
  },
  {
   "cell_type": "code",
   "execution_count": 8,
   "metadata": {
    "ExecuteTime": {
     "end_time": "2021-10-20T08:07:55.888171Z",
     "start_time": "2021-10-20T07:52:18.290035Z"
    },
    "deletable": false,
    "editable": false,
    "run_control": {
     "frozen": true
    }
   },
   "outputs": [
    {
     "data": {
      "application/vnd.jupyter.widget-view+json": {
       "model_id": "129671254b9e4a2f8111fec81469c19e",
       "version_major": 2,
       "version_minor": 0
      },
      "text/plain": [
       "  0%|          | 0/12791 [00:00<?, ?it/s]"
      ]
     },
     "metadata": {},
     "output_type": "display_data"
    }
   ],
   "source": [
    "matches = []\n",
    "for episode_id, player in tqdm(zip(df.EpisodeId.values, df.Index.values), total=len(df)):\n",
    "    npz_filepath = os.path.join(matches_cache_npz_dir, '%i_%i.npz' % (episode_id, player))\n",
    "    if os.path.exists(npz_filepath):\n",
    "        continue\n",
    "    else:\n",
    "        json_filepath = os.path.join(matches_json_dir, '%i.json' % episode_id)\n",
    "        match = load_match_from_json(json_filepath, player)\n",
    "        save_match_to_npz(npz_filepath, match)"
   ]
  },
  {
   "cell_type": "markdown",
   "metadata": {},
   "source": [
    "### Load 1000 matches for training"
   ]
  },
  {
   "cell_type": "code",
   "execution_count": 10,
   "metadata": {
    "ExecuteTime": {
     "end_time": "2021-10-20T08:37:36.139572Z",
     "start_time": "2021-10-20T08:37:03.344779Z"
    }
   },
   "outputs": [
    {
     "data": {
      "application/vnd.jupyter.widget-view+json": {
       "model_id": "d348dea86b544f128e1b2ea974809194",
       "version_major": 2,
       "version_minor": 0
      },
      "text/plain": [
       "Loading matches:   0%|          | 0/500 [00:00<?, ?it/s]"
      ]
     },
     "metadata": {},
     "output_type": "display_data"
    },
    {
     "name": "stdout",
     "output_type": "stream",
     "text": [
      "Train matches: 475\n",
      "Inputs shapes [(157817, 32, 32, 24), (157817, 1, 13)]\n",
      "Outputs shapes [(157817, 32, 32, 11), (157817, 32, 32, 4)]\n",
      "Test matches: 25\n",
      "Inputs shapes [(8042, 32, 32, 24), (8042, 1, 13)]\n",
      "Outputs shapes [(8042, 32, 32, 11), (8042, 32, 32, 4)]\n"
     ]
    }
   ],
   "source": [
    "train_data, test_data = load_train_and_test_data(n_matches=500, test_fraction=20)"
   ]
  }
 ],
 "metadata": {
  "hide_input": false,
  "kernelspec": {
   "display_name": "Python (luxai)",
   "language": "python",
   "name": "luxai"
  },
  "language_info": {
   "codemirror_mode": {
    "name": "ipython",
    "version": 3
   },
   "file_extension": ".py",
   "mimetype": "text/x-python",
   "name": "python",
   "nbconvert_exporter": "python",
   "pygments_lexer": "ipython3",
   "version": "3.9.7"
  },
  "toc": {
   "base_numbering": 1,
   "nav_menu": {},
   "number_sections": false,
   "sideBar": true,
   "skip_h1_title": false,
   "title_cell": "Table of Contents",
   "title_sidebar": "Contents",
   "toc_cell": true,
   "toc_position": {},
   "toc_section_display": true,
   "toc_window_display": false
  }
 },
 "nbformat": 4,
 "nbformat_minor": 4
}
