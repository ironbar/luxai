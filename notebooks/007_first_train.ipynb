{
 "cells": [
  {
   "cell_type": "markdown",
   "metadata": {
    "toc": true
   },
   "source": [
    "<h1>Table of Contents<span class=\"tocSkip\"></span></h1>\n",
    "<div class=\"toc\"><ul class=\"toc-item\"><li><span><a href=\"#First-train\" data-toc-modified-id=\"First-train-1\">First train</a></span><ul class=\"toc-item\"><li><span><a href=\"#Goal\" data-toc-modified-id=\"Goal-1.1\">Goal</a></span></li><li><span><a href=\"#Imports\" data-toc-modified-id=\"Imports-1.2\">Imports</a></span></li><li><span><a href=\"#Load-data\" data-toc-modified-id=\"Load-data-1.3\">Load data</a></span></li></ul></li></ul></div>"
   ]
  },
  {
   "cell_type": "markdown",
   "metadata": {},
   "source": [
    "# First train"
   ]
  },
  {
   "cell_type": "markdown",
   "metadata": {},
   "source": [
    "## Goal"
   ]
  },
  {
   "cell_type": "markdown",
   "metadata": {},
   "source": [
    "The goal is to do the first training using the whole dataset. Later I will move this to script."
   ]
  },
  {
   "cell_type": "markdown",
   "metadata": {},
   "source": [
    "## Imports"
   ]
  },
  {
   "cell_type": "code",
   "execution_count": 1,
   "metadata": {
    "ExecuteTime": {
     "end_time": "2021-10-19T15:22:00.903812Z",
     "start_time": "2021-10-19T15:22:00.874560Z"
    }
   },
   "outputs": [],
   "source": [
    "# Use this to reload changes in python scripts\n",
    "%load_ext autoreload\n",
    "%autoreload 2"
   ]
  },
  {
   "cell_type": "code",
   "execution_count": 36,
   "metadata": {
    "ExecuteTime": {
     "end_time": "2021-10-19T16:02:41.828647Z",
     "start_time": "2021-10-19T16:02:41.721832Z"
    }
   },
   "outputs": [],
   "source": [
    "import os\n",
    "import json\n",
    "import matplotlib as mpl\n",
    "import matplotlib.pyplot as plt\n",
    "import numpy as np\n",
    "import tensorflow.keras as keras\n",
    "from kaggle_environments import make\n",
    "import pandas as pd\n",
    "from tqdm.notebook import tqdm\n",
    "\n",
    "from luxai.utils import render_game_in_html, set_random_seed\n",
    "from luxai.cunet import cunet_model, cunet_luxai_model, config\n",
    "from luxai.input_features import make_input\n",
    "from luxai.output_features import (\n",
    "    create_actions_mask, create_output_features,\n",
    "    UNIT_ACTIONS_MAP, CITY_ACTIONS_MAP)"
   ]
  },
  {
   "cell_type": "code",
   "execution_count": 37,
   "metadata": {
    "ExecuteTime": {
     "end_time": "2021-10-19T16:02:41.965388Z",
     "start_time": "2021-10-19T16:02:41.896419Z"
    }
   },
   "outputs": [],
   "source": [
    "plt.plot()\n",
    "plt.close('all')\n",
    "plt.rcParams[\"figure.figsize\"] = (30, 5)  \n",
    "mpl.rcParams['lines.linewidth'] = 3\n",
    "mpl.rcParams['font.size'] = 16"
   ]
  },
  {
   "cell_type": "markdown",
   "metadata": {},
   "source": [
    "## Load data"
   ]
  },
  {
   "cell_type": "code",
   "execution_count": 33,
   "metadata": {
    "ExecuteTime": {
     "end_time": "2021-10-19T16:00:58.203881Z",
     "start_time": "2021-10-19T16:00:58.154041Z"
    }
   },
   "outputs": [],
   "source": [
    "def load_match(filepath, player):\n",
    "    with open(filepath, 'r') as f:\n",
    "        match = json.load(f)\n",
    "    \n",
    "    board, features, unit_output, city_output = [], [], [], []\n",
    "    for step in range(len(match) - 1):\n",
    "        observation = match[step][0]['observation']\n",
    "        if player:\n",
    "            observation.update(match[step][player]['observation'])\n",
    "        actions = match[step+1][player]['action'] # notice the step + 150\n",
    "\n",
    "        ret = make_input(observation)\n",
    "        board.append(ret[0])\n",
    "        features.append(ret[1])\n",
    "        active_units_to_position, active_cities_to_position, units_to_position = ret[2:]\n",
    "        unit_actions_mask = create_actions_mask(active_units_to_position, observation)\n",
    "        city_actions_mask = create_actions_mask(active_cities_to_position, observation)\n",
    "        unit_actions, city_actions = create_output_features(actions, units_to_position, observation)\n",
    "        unit_output.append(np.concatenate([unit_actions, unit_actions_mask], axis=-1))\n",
    "        city_output.append(np.concatenate([city_actions, city_actions_mask], axis=-1))\n",
    "\n",
    "    board = np.array(board, dtype=np.float32)\n",
    "    features = np.array(features, dtype=np.float32)\n",
    "    unit_output = np.array(unit_output, dtype=np.float32)\n",
    "    city_output = np.array(city_output, dtype=np.float32)\n",
    "    return board, features, unit_output, city_output"
   ]
  },
  {
   "cell_type": "code",
   "execution_count": 7,
   "metadata": {
    "ExecuteTime": {
     "end_time": "2021-10-19T15:23:12.129576Z",
     "start_time": "2021-10-19T15:23:12.057350Z"
    }
   },
   "outputs": [
    {
     "data": {
      "text/html": [
       "<div>\n",
       "<style scoped>\n",
       "    .dataframe tbody tr th:only-of-type {\n",
       "        vertical-align: middle;\n",
       "    }\n",
       "\n",
       "    .dataframe tbody tr th {\n",
       "        vertical-align: top;\n",
       "    }\n",
       "\n",
       "    .dataframe thead th {\n",
       "        text-align: right;\n",
       "    }\n",
       "</style>\n",
       "<table border=\"1\" class=\"dataframe\">\n",
       "  <thead>\n",
       "    <tr style=\"text-align: right;\">\n",
       "      <th></th>\n",
       "      <th>Id</th>\n",
       "      <th>EpisodeId</th>\n",
       "      <th>Index</th>\n",
       "      <th>Reward</th>\n",
       "      <th>State</th>\n",
       "      <th>SubmissionId</th>\n",
       "      <th>InitialConfidence</th>\n",
       "      <th>InitialScore</th>\n",
       "      <th>UpdatedConfidence</th>\n",
       "      <th>UpdatedScore</th>\n",
       "      <th>FinalScore</th>\n",
       "    </tr>\n",
       "  </thead>\n",
       "  <tbody>\n",
       "    <tr>\n",
       "      <th>0</th>\n",
       "      <td>68011940</td>\n",
       "      <td>26457630</td>\n",
       "      <td>1</td>\n",
       "      <td>30012.0</td>\n",
       "      <td>2</td>\n",
       "      <td>22612130</td>\n",
       "      <td>170.000000</td>\n",
       "      <td>759.302333</td>\n",
       "      <td>155.000000</td>\n",
       "      <td>819.649388</td>\n",
       "      <td>1516.1269</td>\n",
       "    </tr>\n",
       "    <tr>\n",
       "      <th>1</th>\n",
       "      <td>68012510</td>\n",
       "      <td>26457915</td>\n",
       "      <td>1</td>\n",
       "      <td>30003.0</td>\n",
       "      <td>2</td>\n",
       "      <td>22612130</td>\n",
       "      <td>95.351479</td>\n",
       "      <td>1011.992042</td>\n",
       "      <td>90.778073</td>\n",
       "      <td>1036.596193</td>\n",
       "      <td>1516.1269</td>\n",
       "    </tr>\n",
       "    <tr>\n",
       "      <th>2</th>\n",
       "      <td>68012021</td>\n",
       "      <td>26457671</td>\n",
       "      <td>0</td>\n",
       "      <td>10009.0</td>\n",
       "      <td>2</td>\n",
       "      <td>22612130</td>\n",
       "      <td>155.000000</td>\n",
       "      <td>819.649388</td>\n",
       "      <td>140.000000</td>\n",
       "      <td>877.636674</td>\n",
       "      <td>1516.1269</td>\n",
       "    </tr>\n",
       "    <tr>\n",
       "      <th>3</th>\n",
       "      <td>68012912</td>\n",
       "      <td>26458116</td>\n",
       "      <td>1</td>\n",
       "      <td>5.0</td>\n",
       "      <td>2</td>\n",
       "      <td>22612130</td>\n",
       "      <td>73.168928</td>\n",
       "      <td>1159.946114</td>\n",
       "      <td>70.617282</td>\n",
       "      <td>1180.461034</td>\n",
       "      <td>1516.1269</td>\n",
       "    </tr>\n",
       "    <tr>\n",
       "      <th>4</th>\n",
       "      <td>68013075</td>\n",
       "      <td>26458198</td>\n",
       "      <td>0</td>\n",
       "      <td>50015.0</td>\n",
       "      <td>2</td>\n",
       "      <td>22612130</td>\n",
       "      <td>68.590395</td>\n",
       "      <td>1195.431920</td>\n",
       "      <td>66.565502</td>\n",
       "      <td>1212.219363</td>\n",
       "      <td>1516.1269</td>\n",
       "    </tr>\n",
       "  </tbody>\n",
       "</table>\n",
       "</div>"
      ],
      "text/plain": [
       "         Id  EpisodeId  Index   Reward  State  SubmissionId  \\\n",
       "0  68011940   26457630      1  30012.0      2      22612130   \n",
       "1  68012510   26457915      1  30003.0      2      22612130   \n",
       "2  68012021   26457671      0  10009.0      2      22612130   \n",
       "3  68012912   26458116      1      5.0      2      22612130   \n",
       "4  68013075   26458198      0  50015.0      2      22612130   \n",
       "\n",
       "   InitialConfidence  InitialScore  UpdatedConfidence  UpdatedScore  \\\n",
       "0         170.000000    759.302333         155.000000    819.649388   \n",
       "1          95.351479   1011.992042          90.778073   1036.596193   \n",
       "2         155.000000    819.649388         140.000000    877.636674   \n",
       "3          73.168928   1159.946114          70.617282   1180.461034   \n",
       "4          68.590395   1195.431920          66.565502   1212.219363   \n",
       "\n",
       "   FinalScore  \n",
       "0   1516.1269  \n",
       "1   1516.1269  \n",
       "2   1516.1269  \n",
       "3   1516.1269  \n",
       "4   1516.1269  "
      ]
     },
     "execution_count": 7,
     "metadata": {},
     "output_type": "execute_result"
    }
   ],
   "source": [
    "df = pd.read_csv('/mnt/hdd0/Kaggle/luxai/agent_selection.csv')\n",
    "df.head()"
   ]
  },
  {
   "cell_type": "code",
   "execution_count": 38,
   "metadata": {
    "ExecuteTime": {
     "end_time": "2021-10-19T16:02:47.658415Z",
     "start_time": "2021-10-19T16:02:47.178124Z"
    }
   },
   "outputs": [
    {
     "data": {
      "application/vnd.jupyter.widget-view+json": {
       "model_id": "df92bdf4461a486e901a74e34508e73a",
       "version_major": 2,
       "version_minor": 0
      },
      "text/plain": [
       "  0%|          | 0/12791 [00:00<?, ?it/s]"
      ]
     },
     "metadata": {},
     "output_type": "display_data"
    },
    {
     "ename": "KeyError",
     "evalue": "'u_15'",
     "output_type": "error",
     "traceback": [
      "\u001b[0;31m---------------------------------------------------------------------------\u001b[0m",
      "\u001b[0;31mKeyError\u001b[0m                                  Traceback (most recent call last)",
      "\u001b[0;32m/tmp/ipykernel_6258/2664329328.py\u001b[0m in \u001b[0;36m<module>\u001b[0;34m\u001b[0m\n\u001b[1;32m      2\u001b[0m \u001b[0;32mfor\u001b[0m \u001b[0mepisode_id\u001b[0m\u001b[0;34m,\u001b[0m \u001b[0mplayer\u001b[0m \u001b[0;32min\u001b[0m \u001b[0mtqdm\u001b[0m\u001b[0;34m(\u001b[0m\u001b[0mzip\u001b[0m\u001b[0;34m(\u001b[0m\u001b[0mdf\u001b[0m\u001b[0;34m.\u001b[0m\u001b[0mEpisodeId\u001b[0m\u001b[0;34m,\u001b[0m \u001b[0mdf\u001b[0m\u001b[0;34m.\u001b[0m\u001b[0mIndex\u001b[0m\u001b[0;34m)\u001b[0m\u001b[0;34m,\u001b[0m \u001b[0mtotal\u001b[0m\u001b[0;34m=\u001b[0m\u001b[0mlen\u001b[0m\u001b[0;34m(\u001b[0m\u001b[0mdf\u001b[0m\u001b[0;34m)\u001b[0m\u001b[0;34m)\u001b[0m\u001b[0;34m:\u001b[0m\u001b[0;34m\u001b[0m\u001b[0;34m\u001b[0m\u001b[0m\n\u001b[1;32m      3\u001b[0m     \u001b[0mfilepath\u001b[0m \u001b[0;34m=\u001b[0m \u001b[0mos\u001b[0m\u001b[0;34m.\u001b[0m\u001b[0mpath\u001b[0m\u001b[0;34m.\u001b[0m\u001b[0mjoin\u001b[0m\u001b[0;34m(\u001b[0m\u001b[0;34m'/mnt/hdd0/Kaggle/luxai/matches_20211014/matches'\u001b[0m\u001b[0;34m,\u001b[0m \u001b[0;34m'%i.json'\u001b[0m \u001b[0;34m%\u001b[0m \u001b[0mepisode_id\u001b[0m\u001b[0;34m)\u001b[0m\u001b[0;34m\u001b[0m\u001b[0;34m\u001b[0m\u001b[0m\n\u001b[0;32m----> 4\u001b[0;31m     \u001b[0mmatches\u001b[0m\u001b[0;34m.\u001b[0m\u001b[0mappend\u001b[0m\u001b[0;34m(\u001b[0m\u001b[0mload_match\u001b[0m\u001b[0;34m(\u001b[0m\u001b[0mfilepath\u001b[0m\u001b[0;34m,\u001b[0m \u001b[0mplayer\u001b[0m\u001b[0;34m)\u001b[0m\u001b[0;34m)\u001b[0m\u001b[0;34m\u001b[0m\u001b[0;34m\u001b[0m\u001b[0m\n\u001b[0m",
      "\u001b[0;32m/tmp/ipykernel_6258/811522007.py\u001b[0m in \u001b[0;36mload_match\u001b[0;34m(filepath, player)\u001b[0m\n\u001b[1;32m     16\u001b[0m         \u001b[0munit_actions_mask\u001b[0m \u001b[0;34m=\u001b[0m \u001b[0mcreate_actions_mask\u001b[0m\u001b[0;34m(\u001b[0m\u001b[0mactive_units_to_position\u001b[0m\u001b[0;34m,\u001b[0m \u001b[0mobservation\u001b[0m\u001b[0;34m)\u001b[0m\u001b[0;34m\u001b[0m\u001b[0;34m\u001b[0m\u001b[0m\n\u001b[1;32m     17\u001b[0m         \u001b[0mcity_actions_mask\u001b[0m \u001b[0;34m=\u001b[0m \u001b[0mcreate_actions_mask\u001b[0m\u001b[0;34m(\u001b[0m\u001b[0mactive_cities_to_position\u001b[0m\u001b[0;34m,\u001b[0m \u001b[0mobservation\u001b[0m\u001b[0;34m)\u001b[0m\u001b[0;34m\u001b[0m\u001b[0;34m\u001b[0m\u001b[0m\n\u001b[0;32m---> 18\u001b[0;31m         \u001b[0munit_actions\u001b[0m\u001b[0;34m,\u001b[0m \u001b[0mcity_actions\u001b[0m \u001b[0;34m=\u001b[0m \u001b[0mcreate_output_features\u001b[0m\u001b[0;34m(\u001b[0m\u001b[0mactions\u001b[0m\u001b[0;34m,\u001b[0m \u001b[0munits_to_position\u001b[0m\u001b[0;34m,\u001b[0m \u001b[0mobservation\u001b[0m\u001b[0;34m)\u001b[0m\u001b[0;34m\u001b[0m\u001b[0;34m\u001b[0m\u001b[0m\n\u001b[0m\u001b[1;32m     19\u001b[0m         \u001b[0munit_output\u001b[0m\u001b[0;34m.\u001b[0m\u001b[0mappend\u001b[0m\u001b[0;34m(\u001b[0m\u001b[0mnp\u001b[0m\u001b[0;34m.\u001b[0m\u001b[0mconcatenate\u001b[0m\u001b[0;34m(\u001b[0m\u001b[0;34m[\u001b[0m\u001b[0munit_actions\u001b[0m\u001b[0;34m,\u001b[0m \u001b[0munit_actions_mask\u001b[0m\u001b[0;34m]\u001b[0m\u001b[0;34m,\u001b[0m \u001b[0maxis\u001b[0m\u001b[0;34m=\u001b[0m\u001b[0;34m-\u001b[0m\u001b[0;36m1\u001b[0m\u001b[0;34m)\u001b[0m\u001b[0;34m)\u001b[0m\u001b[0;34m\u001b[0m\u001b[0;34m\u001b[0m\u001b[0m\n\u001b[1;32m     20\u001b[0m         \u001b[0mcity_output\u001b[0m\u001b[0;34m.\u001b[0m\u001b[0mappend\u001b[0m\u001b[0;34m(\u001b[0m\u001b[0mnp\u001b[0m\u001b[0;34m.\u001b[0m\u001b[0mconcatenate\u001b[0m\u001b[0;34m(\u001b[0m\u001b[0;34m[\u001b[0m\u001b[0mcity_actions\u001b[0m\u001b[0;34m,\u001b[0m \u001b[0mcity_actions_mask\u001b[0m\u001b[0;34m]\u001b[0m\u001b[0;34m,\u001b[0m \u001b[0maxis\u001b[0m\u001b[0;34m=\u001b[0m\u001b[0;34m-\u001b[0m\u001b[0;36m1\u001b[0m\u001b[0;34m)\u001b[0m\u001b[0;34m)\u001b[0m\u001b[0;34m\u001b[0m\u001b[0;34m\u001b[0m\u001b[0m\n",
      "\u001b[0;32m/mnt/hdd0/MEGA/AI/22 Kaggle/luxai/luxai/output_features.py\u001b[0m in \u001b[0;36mcreate_output_features\u001b[0;34m(actions, units_to_position, observation)\u001b[0m\n\u001b[1;32m     55\u001b[0m             \u001b[0munit_id\u001b[0m\u001b[0;34m,\u001b[0m \u001b[0mdst_id\u001b[0m \u001b[0;34m=\u001b[0m \u001b[0msplits\u001b[0m\u001b[0;34m[\u001b[0m\u001b[0;36m1\u001b[0m\u001b[0;34m]\u001b[0m\u001b[0;34m,\u001b[0m \u001b[0msplits\u001b[0m\u001b[0;34m[\u001b[0m\u001b[0;36m2\u001b[0m\u001b[0;34m]\u001b[0m\u001b[0;34m\u001b[0m\u001b[0;34m\u001b[0m\u001b[0m\n\u001b[1;32m     56\u001b[0m             \u001b[0mx\u001b[0m\u001b[0;34m,\u001b[0m \u001b[0my\u001b[0m \u001b[0;34m=\u001b[0m \u001b[0munits_to_position\u001b[0m\u001b[0;34m[\u001b[0m\u001b[0munit_id\u001b[0m\u001b[0;34m]\u001b[0m\u001b[0;34m\u001b[0m\u001b[0;34m\u001b[0m\u001b[0m\n\u001b[0;32m---> 57\u001b[0;31m             \u001b[0mx_dst\u001b[0m\u001b[0;34m,\u001b[0m \u001b[0my_dst\u001b[0m \u001b[0;34m=\u001b[0m \u001b[0munits_to_position\u001b[0m\u001b[0;34m[\u001b[0m\u001b[0mdst_id\u001b[0m\u001b[0;34m]\u001b[0m\u001b[0;34m\u001b[0m\u001b[0;34m\u001b[0m\u001b[0m\n\u001b[0m\u001b[1;32m     58\u001b[0m             \u001b[0mdirection\u001b[0m \u001b[0;34m=\u001b[0m \u001b[0mget_transfer_direction\u001b[0m\u001b[0;34m(\u001b[0m\u001b[0mx\u001b[0m\u001b[0;34m,\u001b[0m \u001b[0my\u001b[0m\u001b[0;34m,\u001b[0m \u001b[0mx_dst\u001b[0m\u001b[0;34m,\u001b[0m \u001b[0my_dst\u001b[0m\u001b[0;34m)\u001b[0m\u001b[0;34m\u001b[0m\u001b[0;34m\u001b[0m\u001b[0m\n\u001b[1;32m     59\u001b[0m             \u001b[0munit_actions\u001b[0m\u001b[0;34m[\u001b[0m\u001b[0mUNIT_ACTIONS_MAP\u001b[0m\u001b[0;34m[\u001b[0m\u001b[0;34m'%s %s'\u001b[0m \u001b[0;34m%\u001b[0m \u001b[0;34m(\u001b[0m\u001b[0maction_id\u001b[0m\u001b[0;34m,\u001b[0m \u001b[0mdirection\u001b[0m\u001b[0;34m)\u001b[0m\u001b[0;34m]\u001b[0m\u001b[0;34m,\u001b[0m \u001b[0mx\u001b[0m\u001b[0;34m,\u001b[0m \u001b[0my\u001b[0m\u001b[0;34m]\u001b[0m \u001b[0;34m=\u001b[0m \u001b[0;36m1\u001b[0m\u001b[0;34m\u001b[0m\u001b[0;34m\u001b[0m\u001b[0m\n",
      "\u001b[0;31mKeyError\u001b[0m: 'u_15'"
     ]
    }
   ],
   "source": [
    "matches = []\n",
    "for episode_id, player in tqdm(zip(df.EpisodeId, df.Index), total=len(df)):\n",
    "    filepath = os.path.join('/mnt/hdd0/Kaggle/luxai/matches_20211014/matches', '%i.json' % episode_id)\n",
    "    matches.append(load_match(filepath, player))"
   ]
  }
 ],
 "metadata": {
  "hide_input": false,
  "kernelspec": {
   "display_name": "Python (luxai)",
   "language": "python",
   "name": "luxai"
  },
  "language_info": {
   "codemirror_mode": {
    "name": "ipython",
    "version": 3
   },
   "file_extension": ".py",
   "mimetype": "text/x-python",
   "name": "python",
   "nbconvert_exporter": "python",
   "pygments_lexer": "ipython3",
   "version": "3.9.7"
  },
  "toc": {
   "base_numbering": 1,
   "nav_menu": {},
   "number_sections": false,
   "sideBar": true,
   "skip_h1_title": false,
   "title_cell": "Table of Contents",
   "title_sidebar": "Contents",
   "toc_cell": true,
   "toc_position": {},
   "toc_section_display": true,
   "toc_window_display": false
  }
 },
 "nbformat": 4,
 "nbformat_minor": 4
}
