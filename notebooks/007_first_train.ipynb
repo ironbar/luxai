{
 "cells": [
  {
   "cell_type": "markdown",
   "metadata": {
    "toc": true
   },
   "source": [
    "<h1>Table of Contents<span class=\"tocSkip\"></span></h1>\n",
    "<div class=\"toc\"><ul class=\"toc-item\"><li><span><a href=\"#First-train\" data-toc-modified-id=\"First-train-1\">First train</a></span><ul class=\"toc-item\"><li><span><a href=\"#Goal\" data-toc-modified-id=\"Goal-1.1\">Goal</a></span></li><li><span><a href=\"#Imports\" data-toc-modified-id=\"Imports-1.2\">Imports</a></span></li><li><span><a href=\"#Data\" data-toc-modified-id=\"Data-1.3\">Data</a></span><ul class=\"toc-item\"><li><span><a href=\"#Code\" data-toc-modified-id=\"Code-1.3.1\">Code</a></span></li><li><span><a href=\"#Save-to-npz\" data-toc-modified-id=\"Save-to-npz-1.3.2\">Save to npz</a></span></li><li><span><a href=\"#Load-matches-for-training\" data-toc-modified-id=\"Load-matches-for-training-1.3.3\">Load matches for training</a></span></li></ul></li><li><span><a href=\"#Model\" data-toc-modified-id=\"Model-1.4\">Model</a></span></li><li><span><a href=\"#Train\" data-toc-modified-id=\"Train-1.5\">Train</a></span></li><li><span><a href=\"#Play\" data-toc-modified-id=\"Play-1.6\">Play</a></span></li></ul></li></ul></div>"
   ]
  },
  {
   "cell_type": "markdown",
   "metadata": {},
   "source": [
    "# First train"
   ]
  },
  {
   "cell_type": "markdown",
   "metadata": {},
   "source": [
    "## Goal"
   ]
  },
  {
   "cell_type": "markdown",
   "metadata": {},
   "source": [
    "The goal is to do the first training using the whole dataset. Later I will move this to script."
   ]
  },
  {
   "cell_type": "markdown",
   "metadata": {},
   "source": [
    "## Imports"
   ]
  },
  {
   "cell_type": "code",
   "execution_count": 1,
   "metadata": {
    "ExecuteTime": {
     "end_time": "2021-10-20T15:36:27.477449Z",
     "start_time": "2021-10-20T15:36:27.449373Z"
    }
   },
   "outputs": [],
   "source": [
    "# Use this to reload changes in python scripts\n",
    "%load_ext autoreload\n",
    "%autoreload 2"
   ]
  },
  {
   "cell_type": "code",
   "execution_count": 2,
   "metadata": {
    "ExecuteTime": {
     "end_time": "2021-10-20T15:36:27.487882Z",
     "start_time": "2021-10-20T15:36:27.479560Z"
    }
   },
   "outputs": [],
   "source": [
    "import os\n",
    "os.environ['TF_FORCE_GPU_ALLOW_GROWTH'] = 'true'"
   ]
  },
  {
   "cell_type": "code",
   "execution_count": 3,
   "metadata": {
    "ExecuteTime": {
     "end_time": "2021-10-20T15:36:28.916036Z",
     "start_time": "2021-10-20T15:36:27.491372Z"
    }
   },
   "outputs": [
    {
     "name": "stdout",
     "output_type": "stream",
     "text": [
      "Loading environment football failed: No module named 'gfootball'\n"
     ]
    }
   ],
   "source": [
    "import json\n",
    "import matplotlib as mpl\n",
    "import matplotlib.pyplot as plt\n",
    "import numpy as np\n",
    "import tensorflow.keras as keras\n",
    "from kaggle_environments import make\n",
    "import pandas as pd\n",
    "from tqdm.notebook import tqdm\n",
    "\n",
    "from luxai.utils import render_game_in_html, set_random_seed\n",
    "from luxai.cunet import cunet_model, cunet_luxai_model, config\n",
    "from luxai.input_features import make_input, expand_board_size_adding_zeros, crop_board_to_original_size\n",
    "from luxai.output_features import (\n",
    "    create_actions_mask, create_output_features,\n",
    "    UNIT_ACTIONS_MAP, CITY_ACTIONS_MAP)\n",
    "from luxai.actions import (\n",
    "    create_actions_for_cities_from_model_predictions,\n",
    "    create_actions_for_units_from_model_predictions)"
   ]
  },
  {
   "cell_type": "code",
   "execution_count": 4,
   "metadata": {
    "ExecuteTime": {
     "end_time": "2021-10-20T15:36:28.984213Z",
     "start_time": "2021-10-20T15:36:28.917646Z"
    }
   },
   "outputs": [],
   "source": [
    "plt.plot()\n",
    "plt.close('all')\n",
    "plt.rcParams[\"figure.figsize\"] = (30, 5)  \n",
    "mpl.rcParams['lines.linewidth'] = 3\n",
    "mpl.rcParams['font.size'] = 16"
   ]
  },
  {
   "cell_type": "markdown",
   "metadata": {},
   "source": [
    "## Data"
   ]
  },
  {
   "cell_type": "markdown",
   "metadata": {},
   "source": [
    "### Code"
   ]
  },
  {
   "cell_type": "code",
   "execution_count": 5,
   "metadata": {
    "ExecuteTime": {
     "end_time": "2021-10-20T15:36:29.026977Z",
     "start_time": "2021-10-20T15:36:28.986552Z"
    }
   },
   "outputs": [],
   "source": [
    "def load_match_from_json(filepath, player):\n",
    "    with open(filepath, 'r') as f:\n",
    "        match = json.load(f)\n",
    "    \n",
    "    board, features, unit_output, city_output = [], [], [], []\n",
    "    for step in range(len(match) - 1):\n",
    "        observation = match[step][0]['observation']\n",
    "        if player:\n",
    "            observation.update(match[step][player]['observation'])\n",
    "        actions = match[step+1][player]['action'] # notice the step + 150\n",
    "        if actions is None: # this can happen on timeout\n",
    "            continue\n",
    "\n",
    "        ret = make_input(observation)\n",
    "        active_units_to_position, active_cities_to_position, units_to_position = ret[2:]\n",
    "        if active_units_to_position or active_cities_to_position:\n",
    "            board.append(ret[0])\n",
    "            features.append(ret[1])\n",
    "            unit_actions_mask = create_actions_mask(active_units_to_position, observation)\n",
    "            city_actions_mask = create_actions_mask(active_cities_to_position, observation)\n",
    "            unit_actions, city_actions = create_output_features(actions, units_to_position, observation)\n",
    "            unit_output.append(np.concatenate([unit_actions, unit_actions_mask], axis=-1))\n",
    "            city_output.append(np.concatenate([city_actions, city_actions_mask], axis=-1))\n",
    "\n",
    "    board = np.array(board, dtype=np.float32)\n",
    "    features = np.array(features, dtype=np.float32)\n",
    "    unit_output = np.array(unit_output, dtype=np.float32)\n",
    "    city_output = np.array(city_output, dtype=np.float32)\n",
    "    #print('%i/%i' % (len(board), len(match) - 1)) #this shows how many states did not have available actions\n",
    "    return dict(board=board, features=features, unit_output=unit_output, city_output=city_output)\n",
    "\n",
    "\n",
    "def save_match_to_npz(filepath, match):\n",
    "    os.makedirs(os.path.dirname(filepath), exist_ok=True)\n",
    "    np.savez_compressed(filepath, **match)\n",
    "    \n",
    "    \n",
    "def load_match_from_npz(filepath):\n",
    "    return dict(**np.load(filepath))"
   ]
  },
  {
   "cell_type": "code",
   "execution_count": 6,
   "metadata": {
    "ExecuteTime": {
     "end_time": "2021-10-20T15:36:29.051427Z",
     "start_time": "2021-10-20T15:36:29.028215Z"
    }
   },
   "outputs": [],
   "source": [
    "def load_best_n_matches(n_matches):\n",
    "    matches = []\n",
    "    for episode_id, player in tqdm(zip(df.EpisodeId[:n_matches], df.Index[:n_matches]), total=n_matches, desc='Loading matches'):\n",
    "        npz_filepath = os.path.join(matches_cache_npz_dir, '%i_%i.npz' % (episode_id, player))\n",
    "\n",
    "        if os.path.exists(npz_filepath):\n",
    "            match = load_match_from_npz(npz_filepath)\n",
    "        else:\n",
    "            json_filepath = os.path.join(matches_json_dir, '%i.json' % episode_id)\n",
    "            match = load_match_from_json(json_filepath, player)\n",
    "            save_match_to_npz(npz_filepath, match)\n",
    "\n",
    "        matches.append(match)\n",
    "    return matches"
   ]
  },
  {
   "cell_type": "code",
   "execution_count": 7,
   "metadata": {
    "ExecuteTime": {
     "end_time": "2021-10-20T15:36:29.092978Z",
     "start_time": "2021-10-20T15:36:29.052694Z"
    }
   },
   "outputs": [],
   "source": [
    "def combine_data_for_training(matches):\n",
    "    inputs = [\n",
    "        np.concatenate([expand_board_size_adding_zeros(match['board']) for match in matches]),\n",
    "        np.concatenate([match['features'] for match in matches]),\n",
    "    ]\n",
    "    print('Inputs shapes', [x.shape for x in inputs])\n",
    "    outputs = [\n",
    "        np.concatenate([expand_board_size_adding_zeros(match['unit_output']) for match in matches]),\n",
    "        np.concatenate([expand_board_size_adding_zeros(match['city_output']) for match in matches]),\n",
    "    ]\n",
    "    print('Outputs shapes', [x.shape for x in outputs])\n",
    "    return inputs, outputs"
   ]
  },
  {
   "cell_type": "code",
   "execution_count": 8,
   "metadata": {
    "ExecuteTime": {
     "end_time": "2021-10-20T15:36:29.120762Z",
     "start_time": "2021-10-20T15:36:29.094592Z"
    }
   },
   "outputs": [],
   "source": [
    "def load_train_and_test_data(n_matches, test_fraction):\n",
    "    matches = load_best_n_matches(n_matches=n_matches)\n",
    "    \n",
    "    test_matches = [match for idx, match in enumerate(matches) if not idx%test_fraction]\n",
    "    train_matches = [match for idx, match in enumerate(matches) if idx%test_fraction]\n",
    "    \n",
    "    print('Train matches: %i' % len(train_matches))\n",
    "    train_data = combine_data_for_training(train_matches)\n",
    "    print('Test matches: %i' % len(test_matches))\n",
    "    test_data = combine_data_for_training(test_matches)\n",
    "    \n",
    "    return train_data, test_data"
   ]
  },
  {
   "cell_type": "markdown",
   "metadata": {
    "heading_collapsed": true
   },
   "source": [
    "### Save to npz"
   ]
  },
  {
   "cell_type": "code",
   "execution_count": 9,
   "metadata": {
    "ExecuteTime": {
     "end_time": "2021-10-20T15:36:29.141734Z",
     "start_time": "2021-10-20T15:36:29.122719Z"
    },
    "hidden": true
   },
   "outputs": [],
   "source": [
    "matches_json_dir = '/home/gbarbadillo/luxai_ssd/matches_20211014/matches_json'\n",
    "matches_cache_npz_dir = '/home/gbarbadillo/luxai_ssd/matches_20211014/matches_npz'"
   ]
  },
  {
   "cell_type": "code",
   "execution_count": 10,
   "metadata": {
    "ExecuteTime": {
     "end_time": "2021-10-20T15:36:29.202283Z",
     "start_time": "2021-10-20T15:36:29.143627Z"
    },
    "hidden": true
   },
   "outputs": [
    {
     "data": {
      "text/html": [
       "<div>\n",
       "<style scoped>\n",
       "    .dataframe tbody tr th:only-of-type {\n",
       "        vertical-align: middle;\n",
       "    }\n",
       "\n",
       "    .dataframe tbody tr th {\n",
       "        vertical-align: top;\n",
       "    }\n",
       "\n",
       "    .dataframe thead th {\n",
       "        text-align: right;\n",
       "    }\n",
       "</style>\n",
       "<table border=\"1\" class=\"dataframe\">\n",
       "  <thead>\n",
       "    <tr style=\"text-align: right;\">\n",
       "      <th></th>\n",
       "      <th>Id</th>\n",
       "      <th>EpisodeId</th>\n",
       "      <th>Index</th>\n",
       "      <th>Reward</th>\n",
       "      <th>State</th>\n",
       "      <th>SubmissionId</th>\n",
       "      <th>InitialConfidence</th>\n",
       "      <th>InitialScore</th>\n",
       "      <th>UpdatedConfidence</th>\n",
       "      <th>UpdatedScore</th>\n",
       "      <th>FinalScore</th>\n",
       "    </tr>\n",
       "  </thead>\n",
       "  <tbody>\n",
       "    <tr>\n",
       "      <th>0</th>\n",
       "      <td>69945543</td>\n",
       "      <td>27424471</td>\n",
       "      <td>1</td>\n",
       "      <td>90009.0</td>\n",
       "      <td>2</td>\n",
       "      <td>23032370</td>\n",
       "      <td>36.889864</td>\n",
       "      <td>1560.389280</td>\n",
       "      <td>36.522500</td>\n",
       "      <td>1566.517103</td>\n",
       "      <td>1818.288755</td>\n",
       "    </tr>\n",
       "    <tr>\n",
       "      <th>1</th>\n",
       "      <td>69923394</td>\n",
       "      <td>27413397</td>\n",
       "      <td>0</td>\n",
       "      <td>650053.0</td>\n",
       "      <td>2</td>\n",
       "      <td>23032370</td>\n",
       "      <td>38.435234</td>\n",
       "      <td>1536.093066</td>\n",
       "      <td>38.058785</td>\n",
       "      <td>1541.342982</td>\n",
       "      <td>1818.288755</td>\n",
       "    </tr>\n",
       "    <tr>\n",
       "      <th>2</th>\n",
       "      <td>69849883</td>\n",
       "      <td>27376641</td>\n",
       "      <td>1</td>\n",
       "      <td>410038.0</td>\n",
       "      <td>2</td>\n",
       "      <td>23032370</td>\n",
       "      <td>87.761971</td>\n",
       "      <td>1111.109255</td>\n",
       "      <td>83.368953</td>\n",
       "      <td>1142.533822</td>\n",
       "      <td>1818.288755</td>\n",
       "    </tr>\n",
       "    <tr>\n",
       "      <th>3</th>\n",
       "      <td>69847811</td>\n",
       "      <td>27375605</td>\n",
       "      <td>1</td>\n",
       "      <td>150010.0</td>\n",
       "      <td>2</td>\n",
       "      <td>23032370</td>\n",
       "      <td>144.366002</td>\n",
       "      <td>871.859256</td>\n",
       "      <td>135.552630</td>\n",
       "      <td>896.074161</td>\n",
       "      <td>1818.288755</td>\n",
       "    </tr>\n",
       "    <tr>\n",
       "      <th>4</th>\n",
       "      <td>69847037</td>\n",
       "      <td>27375218</td>\n",
       "      <td>1</td>\n",
       "      <td>130011.0</td>\n",
       "      <td>2</td>\n",
       "      <td>23032370</td>\n",
       "      <td>185.000000</td>\n",
       "      <td>702.140727</td>\n",
       "      <td>170.000000</td>\n",
       "      <td>788.476153</td>\n",
       "      <td>1818.288755</td>\n",
       "    </tr>\n",
       "  </tbody>\n",
       "</table>\n",
       "</div>"
      ],
      "text/plain": [
       "         Id  EpisodeId  Index    Reward  State  SubmissionId  \\\n",
       "0  69945543   27424471      1   90009.0      2      23032370   \n",
       "1  69923394   27413397      0  650053.0      2      23032370   \n",
       "2  69849883   27376641      1  410038.0      2      23032370   \n",
       "3  69847811   27375605      1  150010.0      2      23032370   \n",
       "4  69847037   27375218      1  130011.0      2      23032370   \n",
       "\n",
       "   InitialConfidence  InitialScore  UpdatedConfidence  UpdatedScore  \\\n",
       "0          36.889864   1560.389280          36.522500   1566.517103   \n",
       "1          38.435234   1536.093066          38.058785   1541.342982   \n",
       "2          87.761971   1111.109255          83.368953   1142.533822   \n",
       "3         144.366002    871.859256         135.552630    896.074161   \n",
       "4         185.000000    702.140727         170.000000    788.476153   \n",
       "\n",
       "    FinalScore  \n",
       "0  1818.288755  \n",
       "1  1818.288755  \n",
       "2  1818.288755  \n",
       "3  1818.288755  \n",
       "4  1818.288755  "
      ]
     },
     "execution_count": 10,
     "metadata": {},
     "output_type": "execute_result"
    }
   ],
   "source": [
    "df = pd.read_csv('/mnt/hdd0/Kaggle/luxai/agent_selection.csv')\n",
    "df.sort_values('FinalScore', ascending=False, inplace=True)\n",
    "df.reset_index(drop=True, inplace=True)\n",
    "df.head()"
   ]
  },
  {
   "cell_type": "markdown",
   "metadata": {
    "hidden": true
   },
   "source": [
    "Loading data from all the matches from json files will take around an hour, thus we are going to save the features to npz file so we can reduce that time down to 10 minutes.\n",
    "\n",
    "However we could not load all the dataset into memory due to its size. I have computed that if we normalize the board size to 32x32 each match will take 56MB of RAM memory.\n",
    "Thus loading 1000 files will take 56 GB of ram."
   ]
  },
  {
   "cell_type": "code",
   "execution_count": 8,
   "metadata": {
    "ExecuteTime": {
     "end_time": "2021-10-20T08:07:55.888171Z",
     "start_time": "2021-10-20T07:52:18.290035Z"
    },
    "deletable": false,
    "editable": false,
    "hidden": true,
    "run_control": {
     "frozen": true
    }
   },
   "outputs": [
    {
     "data": {
      "application/vnd.jupyter.widget-view+json": {
       "model_id": "129671254b9e4a2f8111fec81469c19e",
       "version_major": 2,
       "version_minor": 0
      },
      "text/plain": [
       "  0%|          | 0/12791 [00:00<?, ?it/s]"
      ]
     },
     "metadata": {},
     "output_type": "display_data"
    }
   ],
   "source": [
    "matches = []\n",
    "for episode_id, player in tqdm(zip(df.EpisodeId.values, df.Index.values), total=len(df)):\n",
    "    npz_filepath = os.path.join(matches_cache_npz_dir, '%i_%i.npz' % (episode_id, player))\n",
    "    if os.path.exists(npz_filepath):\n",
    "        continue\n",
    "    else:\n",
    "        json_filepath = os.path.join(matches_json_dir, '%i.json' % episode_id)\n",
    "        match = load_match_from_json(json_filepath, player)\n",
    "        save_match_to_npz(npz_filepath, match)"
   ]
  },
  {
   "cell_type": "markdown",
   "metadata": {
    "heading_collapsed": true
   },
   "source": [
    "### Load matches for training"
   ]
  },
  {
   "cell_type": "code",
   "execution_count": 11,
   "metadata": {
    "ExecuteTime": {
     "end_time": "2021-10-20T12:08:12.429419Z",
     "start_time": "2021-10-20T12:07:47.715788Z"
    },
    "deletable": false,
    "editable": false,
    "hidden": true,
    "run_control": {
     "frozen": true
    }
   },
   "outputs": [
    {
     "data": {
      "application/vnd.jupyter.widget-view+json": {
       "model_id": "2922a66204824d7ea1d973a29e5dc0e2",
       "version_major": 2,
       "version_minor": 0
      },
      "text/plain": [
       "Loading matches:   0%|          | 0/400 [00:00<?, ?it/s]"
      ]
     },
     "metadata": {},
     "output_type": "display_data"
    },
    {
     "name": "stdout",
     "output_type": "stream",
     "text": [
      "Train matches: 380\n",
      "Inputs shapes [(124808, 32, 32, 24), (124808, 1, 13)]\n",
      "Outputs shapes [(124808, 32, 32, 11), (124808, 32, 32, 4)]\n",
      "Test matches: 20\n",
      "Inputs shapes [(6244, 32, 32, 24), (6244, 1, 13)]\n",
      "Outputs shapes [(6244, 32, 32, 11), (6244, 32, 32, 4)]\n"
     ]
    }
   ],
   "source": [
    "train_data, test_data = load_train_and_test_data(n_matches=400, test_fraction=20)"
   ]
  },
  {
   "cell_type": "markdown",
   "metadata": {
    "heading_collapsed": true
   },
   "source": [
    "## Model"
   ]
  },
  {
   "cell_type": "code",
   "execution_count": 12,
   "metadata": {
    "ExecuteTime": {
     "end_time": "2021-10-20T12:08:13.363637Z",
     "start_time": "2021-10-20T12:08:12.431689Z"
    },
    "deletable": false,
    "editable": false,
    "hidden": true,
    "run_control": {
     "frozen": true
    }
   },
   "outputs": [
    {
     "name": "stderr",
     "output_type": "stream",
     "text": [
      "2021-10-20 14:08:12.571906: I tensorflow/core/platform/cpu_feature_guard.cc:142] This TensorFlow binary is optimized with oneAPI Deep Neural Network Library (oneDNN) to use the following CPU instructions in performance-critical operations:  AVX2 AVX512F FMA\n",
      "To enable them in other operations, rebuild TensorFlow with the appropriate compiler flags.\n",
      "2021-10-20 14:08:13.212813: W tensorflow/core/common_runtime/gpu/gpu_bfc_allocator.cc:39] Overriding allow_growth setting because the TF_FORCE_GPU_ALLOW_GROWTH environment variable is set. Original config value was 0.\n",
      "2021-10-20 14:08:13.212857: I tensorflow/core/common_runtime/gpu/gpu_device.cc:1510] Created device /job:localhost/replica:0/task:0/device:GPU:0 with 22308 MB memory:  -> device: 0, name: GeForce RTX 3090, pci bus id: 0000:17:00.0, compute capability: 8.6\n",
      "2021-10-20 14:08:13.213843: W tensorflow/core/common_runtime/gpu/gpu_bfc_allocator.cc:39] Overriding allow_growth setting because the TF_FORCE_GPU_ALLOW_GROWTH environment variable is set. Original config value was 0.\n",
      "2021-10-20 14:08:13.213862: I tensorflow/core/common_runtime/gpu/gpu_device.cc:1510] Created device /job:localhost/replica:0/task:0/device:GPU:1 with 21931 MB memory:  -> device: 1, name: GeForce RTX 3090, pci bus id: 0000:65:00.0, compute capability: 8.6\n",
      "/home/gbarbadillo/miniconda3/envs/luxai/lib/python3.9/site-packages/keras/optimizer_v2/optimizer_v2.py:355: UserWarning: The `lr` argument is deprecated, use `learning_rate` instead.\n",
      "  warnings.warn(\n"
     ]
    }
   ],
   "source": [
    "# Unet parameters\n",
    "config.INPUT_SHAPE = [32, 32, 24] #[512, 128, 1]\n",
    "config.FILTERS_LAYER_1 = 32 # 16\n",
    "config.N_LAYERS = 3 # 6\n",
    "config.ACT_LAST = 'sigmoid' # sigmoid\n",
    "# Condition parameters\n",
    "config.Z_DIM = 13 # 4\n",
    "config.CONTROL_TYPE = 'dense' # dense\n",
    "config.FILM_TYPE = 'simple' # simple\n",
    "config.N_NEURONS = [16] # [16, 64, 256]\n",
    "config.N_CONDITIONS = config.N_LAYERS # 6 this should be the same as the number of layers\n",
    "# Other\n",
    "config.LR = 1e-3 # 1e-3\n",
    "\n",
    "\n",
    "model = cunet_luxai_model(config)"
   ]
  },
  {
   "cell_type": "markdown",
   "metadata": {
    "heading_collapsed": true
   },
   "source": [
    "## Train"
   ]
  },
  {
   "cell_type": "code",
   "execution_count": 13,
   "metadata": {
    "ExecuteTime": {
     "end_time": "2021-10-20T12:14:18.496950Z",
     "start_time": "2021-10-20T12:08:13.365004Z"
    },
    "deletable": false,
    "editable": false,
    "hidden": true,
    "run_control": {
     "frozen": true
    },
    "scrolled": false
   },
   "outputs": [
    {
     "name": "stderr",
     "output_type": "stream",
     "text": [
      "2021-10-20 14:08:13.386796: W tensorflow/core/framework/cpu_allocator_impl.cc:80] Allocation of 12269125632 exceeds 10% of free system memory.\n",
      "2021-10-20 14:08:20.497328: W tensorflow/core/framework/cpu_allocator_impl.cc:80] Allocation of 5623349248 exceeds 10% of free system memory.\n",
      "2021-10-20 14:08:25.022528: W tensorflow/core/framework/cpu_allocator_impl.cc:80] Allocation of 12269125632 exceeds 10% of free system memory.\n",
      "2021-10-20 14:08:30.018972: W tensorflow/core/framework/cpu_allocator_impl.cc:80] Allocation of 5623349248 exceeds 10% of free system memory.\n",
      "2021-10-20 14:08:33.142412: I tensorflow/compiler/mlir/mlir_graph_optimization_pass.cc:185] None of the MLIR Optimization Passes are enabled (registered 2)\n"
     ]
    },
    {
     "name": "stdout",
     "output_type": "stream",
     "text": [
      "Epoch 1/5\n"
     ]
    },
    {
     "name": "stderr",
     "output_type": "stream",
     "text": [
      "2021-10-20 14:08:35.009905: I tensorflow/stream_executor/cuda/cuda_dnn.cc:369] Loaded cuDNN version 8100\n",
      "2021-10-20 14:08:35.584278: I tensorflow/core/platform/default/subprocess.cc:304] Start cannot spawn child process: No such file or directory\n",
      "2021-10-20 14:08:35.585397: I tensorflow/core/platform/default/subprocess.cc:304] Start cannot spawn child process: No such file or directory\n",
      "2021-10-20 14:08:35.585436: W tensorflow/stream_executor/gpu/asm_compiler.cc:77] Couldn't get ptxas version string: Internal: Couldn't invoke ptxas --version\n",
      "2021-10-20 14:08:35.586572: I tensorflow/core/platform/default/subprocess.cc:304] Start cannot spawn child process: No such file or directory\n",
      "2021-10-20 14:08:35.586666: W tensorflow/stream_executor/gpu/redzone_allocator.cc:314] Internal: Failed to launch ptxas\n",
      "Relying on driver to perform ptx compilation. \n",
      "Modify $PATH to customize ptxas location.\n",
      "This message will be only logged once.\n",
      "2021-10-20 14:08:36.115753: I tensorflow/stream_executor/cuda/cuda_blas.cc:1760] TensorFloat-32 will be used for the matrix multiplication. This will only be logged once.\n"
     ]
    },
    {
     "name": "stdout",
     "output_type": "stream",
     "text": [
      "3901/3901 [==============================] - 73s 18ms/step - loss: 0.1165 - unit_action_loss: 0.0744 - city_action_loss: 0.0421 - unit_action_masked_error: 0.0252 - city_action_masked_error: 0.0127 - val_loss: 0.1826 - val_unit_action_loss: 0.0751 - val_city_action_loss: 0.1075 - val_unit_action_masked_error: 0.0277 - val_city_action_masked_error: 0.0402\n",
      "Epoch 2/5\n",
      "3901/3901 [==============================] - 69s 18ms/step - loss: 0.0952 - unit_action_loss: 0.0593 - city_action_loss: 0.0359 - unit_action_masked_error: 0.0215 - city_action_masked_error: 0.0114 - val_loss: 0.1650 - val_unit_action_loss: 0.0694 - val_city_action_loss: 0.0955 - val_unit_action_masked_error: 0.0257 - val_city_action_masked_error: 0.0363\n",
      "Epoch 3/5\n",
      "3901/3901 [==============================] - 68s 17ms/step - loss: 0.0889 - unit_action_loss: 0.0552 - city_action_loss: 0.0337 - unit_action_masked_error: 0.0202 - city_action_masked_error: 0.0109 - val_loss: 0.1705 - val_unit_action_loss: 0.0663 - val_city_action_loss: 0.1042 - val_unit_action_masked_error: 0.0249 - val_city_action_masked_error: 0.0400\n",
      "Epoch 4/5\n",
      "3901/3901 [==============================] - 68s 18ms/step - loss: 0.0843 - unit_action_loss: 0.0527 - city_action_loss: 0.0316 - unit_action_masked_error: 0.0194 - city_action_masked_error: 0.0103 - val_loss: 0.1671 - val_unit_action_loss: 0.0660 - val_city_action_loss: 0.1012 - val_unit_action_masked_error: 0.0247 - val_city_action_masked_error: 0.0394\n",
      "Epoch 5/5\n",
      "3901/3901 [==============================] - 68s 17ms/step - loss: 0.0814 - unit_action_loss: 0.0510 - city_action_loss: 0.0304 - unit_action_masked_error: 0.0188 - city_action_masked_error: 0.0099 - val_loss: 0.1562 - val_unit_action_loss: 0.0651 - val_city_action_loss: 0.0911 - val_unit_action_masked_error: 0.0243 - val_city_action_masked_error: 0.0363\n"
     ]
    },
    {
     "data": {
      "text/plain": [
       "<keras.callbacks.History at 0x7f45ac1638b0>"
      ]
     },
     "execution_count": 13,
     "metadata": {},
     "output_type": "execute_result"
    }
   ],
   "source": [
    "model.fit(x=train_data[0], y=train_data[1], validation_data=test_data, epochs=5)"
   ]
  },
  {
   "cell_type": "code",
   "execution_count": 20,
   "metadata": {
    "ExecuteTime": {
     "end_time": "2021-10-20T12:04:19.884299Z",
     "start_time": "2021-10-20T10:40:27.399991Z"
    },
    "deletable": false,
    "editable": false,
    "hidden": true,
    "run_control": {
     "frozen": true
    }
   },
   "outputs": [
    {
     "name": "stderr",
     "output_type": "stream",
     "text": [
      "2021-10-20 12:40:27.467665: W tensorflow/core/framework/cpu_allocator_impl.cc:80] Allocation of 12269125632 exceeds 10% of free system memory.\n"
     ]
    },
    {
     "name": "stdout",
     "output_type": "stream",
     "text": [
      "Epoch 1/100\n",
      "3901/3901 [==============================] - 67s 17ms/step - loss: 0.0702 - unit_action_loss: 0.0457 - city_action_loss: 0.0245 - unit_action_masked_error: 0.0169 - city_action_masked_error: 0.0082 - val_loss: 0.1660 - val_unit_action_loss: 0.0662 - val_city_action_loss: 0.0998 - val_unit_action_masked_error: 0.0248 - val_city_action_masked_error: 0.0373\n",
      "Epoch 2/100\n",
      "3901/3901 [==============================] - 67s 17ms/step - loss: 0.0693 - unit_action_loss: 0.0452 - city_action_loss: 0.0241 - unit_action_masked_error: 0.0167 - city_action_masked_error: 0.0081 - val_loss: 0.1636 - val_unit_action_loss: 0.0664 - val_city_action_loss: 0.0972 - val_unit_action_masked_error: 0.0247 - val_city_action_masked_error: 0.0375\n",
      "Epoch 3/100\n",
      "3901/3901 [==============================] - 65s 17ms/step - loss: 0.0684 - unit_action_loss: 0.0448 - city_action_loss: 0.0236 - unit_action_masked_error: 0.0166 - city_action_masked_error: 0.0079 - val_loss: 0.1837 - val_unit_action_loss: 0.0668 - val_city_action_loss: 0.1169 - val_unit_action_masked_error: 0.0250 - val_city_action_masked_error: 0.0443\n",
      "Epoch 4/100\n",
      "3901/3901 [==============================] - 66s 17ms/step - loss: 0.0675 - unit_action_loss: 0.0445 - city_action_loss: 0.0230 - unit_action_masked_error: 0.0164 - city_action_masked_error: 0.0077 - val_loss: 0.1654 - val_unit_action_loss: 0.0665 - val_city_action_loss: 0.0989 - val_unit_action_masked_error: 0.0249 - val_city_action_masked_error: 0.0361\n",
      "Epoch 5/100\n",
      "3901/3901 [==============================] - 66s 17ms/step - loss: 0.0668 - unit_action_loss: 0.0441 - city_action_loss: 0.0227 - unit_action_masked_error: 0.0163 - city_action_masked_error: 0.0076 - val_loss: 0.1677 - val_unit_action_loss: 0.0682 - val_city_action_loss: 0.0995 - val_unit_action_masked_error: 0.0252 - val_city_action_masked_error: 0.0384\n",
      "Epoch 6/100\n",
      "3901/3901 [==============================] - 65s 17ms/step - loss: 0.0660 - unit_action_loss: 0.0439 - city_action_loss: 0.0221 - unit_action_masked_error: 0.0162 - city_action_masked_error: 0.0074 - val_loss: 0.1679 - val_unit_action_loss: 0.0679 - val_city_action_loss: 0.1001 - val_unit_action_masked_error: 0.0249 - val_city_action_masked_error: 0.0375\n",
      "Epoch 7/100\n",
      "3901/3901 [==============================] - 64s 16ms/step - loss: 0.0654 - unit_action_loss: 0.0436 - city_action_loss: 0.0218 - unit_action_masked_error: 0.0161 - city_action_masked_error: 0.0074 - val_loss: 0.1689 - val_unit_action_loss: 0.0659 - val_city_action_loss: 0.1030 - val_unit_action_masked_error: 0.0242 - val_city_action_masked_error: 0.0394\n",
      "Epoch 8/100\n",
      "3901/3901 [==============================] - 64s 16ms/step - loss: 0.0647 - unit_action_loss: 0.0433 - city_action_loss: 0.0214 - unit_action_masked_error: 0.0160 - city_action_masked_error: 0.0072 - val_loss: 0.1678 - val_unit_action_loss: 0.0666 - val_city_action_loss: 0.1012 - val_unit_action_masked_error: 0.0248 - val_city_action_masked_error: 0.0390\n",
      "Epoch 9/100\n",
      "3901/3901 [==============================] - 64s 16ms/step - loss: 0.0639 - unit_action_loss: 0.0430 - city_action_loss: 0.0209 - unit_action_masked_error: 0.0159 - city_action_masked_error: 0.0071 - val_loss: 0.1813 - val_unit_action_loss: 0.0677 - val_city_action_loss: 0.1136 - val_unit_action_masked_error: 0.0249 - val_city_action_masked_error: 0.0412\n",
      "Epoch 10/100\n",
      "3901/3901 [==============================] - 64s 17ms/step - loss: 0.0634 - unit_action_loss: 0.0428 - city_action_loss: 0.0206 - unit_action_masked_error: 0.0158 - city_action_masked_error: 0.0070 - val_loss: 0.1717 - val_unit_action_loss: 0.0668 - val_city_action_loss: 0.1049 - val_unit_action_masked_error: 0.0245 - val_city_action_masked_error: 0.0388\n",
      "Epoch 11/100\n",
      "3901/3901 [==============================] - 64s 16ms/step - loss: 0.0629 - unit_action_loss: 0.0426 - city_action_loss: 0.0203 - unit_action_masked_error: 0.0158 - city_action_masked_error: 0.0069 - val_loss: 0.1924 - val_unit_action_loss: 0.0673 - val_city_action_loss: 0.1251 - val_unit_action_masked_error: 0.0246 - val_city_action_masked_error: 0.0429\n",
      "Epoch 12/100\n",
      "3901/3901 [==============================] - 64s 17ms/step - loss: 0.0623 - unit_action_loss: 0.0425 - city_action_loss: 0.0198 - unit_action_masked_error: 0.0157 - city_action_masked_error: 0.0068 - val_loss: 0.1717 - val_unit_action_loss: 0.0668 - val_city_action_loss: 0.1049 - val_unit_action_masked_error: 0.0248 - val_city_action_masked_error: 0.0373\n",
      "Epoch 13/100\n",
      "3901/3901 [==============================] - 64s 16ms/step - loss: 0.0618 - unit_action_loss: 0.0422 - city_action_loss: 0.0196 - unit_action_masked_error: 0.0156 - city_action_masked_error: 0.0067 - val_loss: 0.1788 - val_unit_action_loss: 0.0664 - val_city_action_loss: 0.1124 - val_unit_action_masked_error: 0.0246 - val_city_action_masked_error: 0.0385\n",
      "Epoch 14/100\n",
      "3901/3901 [==============================] - 64s 16ms/step - loss: 0.0614 - unit_action_loss: 0.0420 - city_action_loss: 0.0193 - unit_action_masked_error: 0.0155 - city_action_masked_error: 0.0066 - val_loss: 0.1822 - val_unit_action_loss: 0.0673 - val_city_action_loss: 0.1149 - val_unit_action_masked_error: 0.0250 - val_city_action_masked_error: 0.0413\n",
      "Epoch 15/100\n",
      "3901/3901 [==============================] - 64s 16ms/step - loss: 0.0611 - unit_action_loss: 0.0420 - city_action_loss: 0.0191 - unit_action_masked_error: 0.0155 - city_action_masked_error: 0.0065 - val_loss: 0.1825 - val_unit_action_loss: 0.0684 - val_city_action_loss: 0.1141 - val_unit_action_masked_error: 0.0251 - val_city_action_masked_error: 0.0410\n",
      "Epoch 16/100\n",
      "3901/3901 [==============================] - 64s 16ms/step - loss: 0.0605 - unit_action_loss: 0.0418 - city_action_loss: 0.0187 - unit_action_masked_error: 0.0154 - city_action_masked_error: 0.0064 - val_loss: 0.1845 - val_unit_action_loss: 0.0686 - val_city_action_loss: 0.1159 - val_unit_action_masked_error: 0.0250 - val_city_action_masked_error: 0.0386\n",
      "Epoch 17/100\n",
      "3901/3901 [==============================] - 64s 17ms/step - loss: 0.0603 - unit_action_loss: 0.0416 - city_action_loss: 0.0187 - unit_action_masked_error: 0.0154 - city_action_masked_error: 0.0064 - val_loss: 0.1942 - val_unit_action_loss: 0.0688 - val_city_action_loss: 0.1254 - val_unit_action_masked_error: 0.0253 - val_city_action_masked_error: 0.0445\n",
      "Epoch 18/100\n",
      "3901/3901 [==============================] - 64s 16ms/step - loss: 0.0598 - unit_action_loss: 0.0415 - city_action_loss: 0.0183 - unit_action_masked_error: 0.0153 - city_action_masked_error: 0.0063 - val_loss: 0.1830 - val_unit_action_loss: 0.0677 - val_city_action_loss: 0.1153 - val_unit_action_masked_error: 0.0247 - val_city_action_masked_error: 0.0413\n",
      "Epoch 19/100\n",
      "3901/3901 [==============================] - 65s 17ms/step - loss: 0.0594 - unit_action_loss: 0.0414 - city_action_loss: 0.0180 - unit_action_masked_error: 0.0152 - city_action_masked_error: 0.0062 - val_loss: 0.1895 - val_unit_action_loss: 0.0684 - val_city_action_loss: 0.1210 - val_unit_action_masked_error: 0.0248 - val_city_action_masked_error: 0.0395\n",
      "Epoch 20/100\n",
      "3901/3901 [==============================] - 64s 16ms/step - loss: 0.0591 - unit_action_loss: 0.0413 - city_action_loss: 0.0178 - unit_action_masked_error: 0.0152 - city_action_masked_error: 0.0061 - val_loss: 0.1922 - val_unit_action_loss: 0.0674 - val_city_action_loss: 0.1248 - val_unit_action_masked_error: 0.0248 - val_city_action_masked_error: 0.0417\n",
      "Epoch 21/100\n",
      "3901/3901 [==============================] - 65s 17ms/step - loss: 0.0587 - unit_action_loss: 0.0412 - city_action_loss: 0.0175 - unit_action_masked_error: 0.0152 - city_action_masked_error: 0.0060 - val_loss: 0.1921 - val_unit_action_loss: 0.0693 - val_city_action_loss: 0.1229 - val_unit_action_masked_error: 0.0256 - val_city_action_masked_error: 0.0410\n",
      "Epoch 22/100\n",
      "3901/3901 [==============================] - 65s 17ms/step - loss: 0.0584 - unit_action_loss: 0.0410 - city_action_loss: 0.0174 - unit_action_masked_error: 0.0151 - city_action_masked_error: 0.0060 - val_loss: 0.2071 - val_unit_action_loss: 0.0695 - val_city_action_loss: 0.1376 - val_unit_action_masked_error: 0.0255 - val_city_action_masked_error: 0.0451\n",
      "Epoch 23/100\n",
      "3901/3901 [==============================] - 64s 16ms/step - loss: 0.0583 - unit_action_loss: 0.0409 - city_action_loss: 0.0173 - unit_action_masked_error: 0.0151 - city_action_masked_error: 0.0059 - val_loss: 0.1959 - val_unit_action_loss: 0.0695 - val_city_action_loss: 0.1264 - val_unit_action_masked_error: 0.0254 - val_city_action_masked_error: 0.0393\n",
      "Epoch 24/100\n",
      "3901/3901 [==============================] - 65s 17ms/step - loss: 0.0577 - unit_action_loss: 0.0408 - city_action_loss: 0.0169 - unit_action_masked_error: 0.0150 - city_action_masked_error: 0.0058 - val_loss: 0.1929 - val_unit_action_loss: 0.0691 - val_city_action_loss: 0.1238 - val_unit_action_masked_error: 0.0251 - val_city_action_masked_error: 0.0409\n",
      "Epoch 25/100\n",
      "3901/3901 [==============================] - 64s 16ms/step - loss: 0.0575 - unit_action_loss: 0.0408 - city_action_loss: 0.0168 - unit_action_masked_error: 0.0151 - city_action_masked_error: 0.0058 - val_loss: 0.1981 - val_unit_action_loss: 0.0692 - val_city_action_loss: 0.1289 - val_unit_action_masked_error: 0.0257 - val_city_action_masked_error: 0.0415\n",
      "Epoch 26/100\n",
      "3901/3901 [==============================] - 64s 16ms/step - loss: 0.0572 - unit_action_loss: 0.0406 - city_action_loss: 0.0166 - unit_action_masked_error: 0.0150 - city_action_masked_error: 0.0057 - val_loss: 0.2069 - val_unit_action_loss: 0.0685 - val_city_action_loss: 0.1384 - val_unit_action_masked_error: 0.0251 - val_city_action_masked_error: 0.0422\n",
      "Epoch 27/100\n",
      "3901/3901 [==============================] - 64s 16ms/step - loss: 0.0569 - unit_action_loss: 0.0406 - city_action_loss: 0.0163 - unit_action_masked_error: 0.0150 - city_action_masked_error: 0.0056 - val_loss: 0.2036 - val_unit_action_loss: 0.0696 - val_city_action_loss: 0.1339 - val_unit_action_masked_error: 0.0254 - val_city_action_masked_error: 0.0437\n",
      "Epoch 28/100\n",
      "3901/3901 [==============================] - 64s 16ms/step - loss: 0.0567 - unit_action_loss: 0.0405 - city_action_loss: 0.0162 - unit_action_masked_error: 0.0149 - city_action_masked_error: 0.0056 - val_loss: 0.2022 - val_unit_action_loss: 0.0684 - val_city_action_loss: 0.1338 - val_unit_action_masked_error: 0.0251 - val_city_action_masked_error: 0.0426\n",
      "Epoch 29/100\n",
      "3901/3901 [==============================] - 64s 16ms/step - loss: 0.0565 - unit_action_loss: 0.0404 - city_action_loss: 0.0161 - unit_action_masked_error: 0.0149 - city_action_masked_error: 0.0056 - val_loss: 0.2064 - val_unit_action_loss: 0.0694 - val_city_action_loss: 0.1370 - val_unit_action_masked_error: 0.0252 - val_city_action_masked_error: 0.0453\n",
      "Epoch 30/100\n",
      "3901/3901 [==============================] - 64s 16ms/step - loss: 0.0562 - unit_action_loss: 0.0403 - city_action_loss: 0.0159 - unit_action_masked_error: 0.0149 - city_action_masked_error: 0.0055 - val_loss: 0.2084 - val_unit_action_loss: 0.0703 - val_city_action_loss: 0.1381 - val_unit_action_masked_error: 0.0257 - val_city_action_masked_error: 0.0438\n",
      "Epoch 31/100\n",
      "3901/3901 [==============================] - 64s 16ms/step - loss: 0.0560 - unit_action_loss: 0.0403 - city_action_loss: 0.0157 - unit_action_masked_error: 0.0148 - city_action_masked_error: 0.0054 - val_loss: 0.2047 - val_unit_action_loss: 0.0692 - val_city_action_loss: 0.1355 - val_unit_action_masked_error: 0.0255 - val_city_action_masked_error: 0.0416\n",
      "Epoch 32/100\n",
      "3901/3901 [==============================] - 65s 17ms/step - loss: 0.0558 - unit_action_loss: 0.0401 - city_action_loss: 0.0157 - unit_action_masked_error: 0.0148 - city_action_masked_error: 0.0054 - val_loss: 0.2050 - val_unit_action_loss: 0.0701 - val_city_action_loss: 0.1349 - val_unit_action_masked_error: 0.0256 - val_city_action_masked_error: 0.0403\n",
      "Epoch 33/100\n",
      "3901/3901 [==============================] - 64s 16ms/step - loss: 0.0556 - unit_action_loss: 0.0401 - city_action_loss: 0.0155 - unit_action_masked_error: 0.0148 - city_action_masked_error: 0.0053 - val_loss: 0.2068 - val_unit_action_loss: 0.0706 - val_city_action_loss: 0.1362 - val_unit_action_masked_error: 0.0259 - val_city_action_masked_error: 0.0418\n",
      "Epoch 34/100\n",
      "3901/3901 [==============================] - 64s 16ms/step - loss: 0.0553 - unit_action_loss: 0.0400 - city_action_loss: 0.0152 - unit_action_masked_error: 0.0148 - city_action_masked_error: 0.0053 - val_loss: 0.2136 - val_unit_action_loss: 0.0701 - val_city_action_loss: 0.1435 - val_unit_action_masked_error: 0.0255 - val_city_action_masked_error: 0.0422\n",
      "Epoch 35/100\n",
      "3901/3901 [==============================] - 64s 16ms/step - loss: 0.0551 - unit_action_loss: 0.0399 - city_action_loss: 0.0152 - unit_action_masked_error: 0.0147 - city_action_masked_error: 0.0052 - val_loss: 0.2325 - val_unit_action_loss: 0.0705 - val_city_action_loss: 0.1619 - val_unit_action_masked_error: 0.0254 - val_city_action_masked_error: 0.0477\n",
      "Epoch 36/100\n",
      "3901/3901 [==============================] - 64s 16ms/step - loss: 0.0550 - unit_action_loss: 0.0399 - city_action_loss: 0.0151 - unit_action_masked_error: 0.0147 - city_action_masked_error: 0.0052 - val_loss: 0.2219 - val_unit_action_loss: 0.0701 - val_city_action_loss: 0.1519 - val_unit_action_masked_error: 0.0254 - val_city_action_masked_error: 0.0427\n",
      "Epoch 37/100\n",
      "3901/3901 [==============================] - 64s 16ms/step - loss: 0.0547 - unit_action_loss: 0.0398 - city_action_loss: 0.0148 - unit_action_masked_error: 0.0147 - city_action_masked_error: 0.0051 - val_loss: 0.2172 - val_unit_action_loss: 0.0684 - val_city_action_loss: 0.1488 - val_unit_action_masked_error: 0.0255 - val_city_action_masked_error: 0.0430\n",
      "Epoch 38/100\n",
      "3901/3901 [==============================] - 64s 17ms/step - loss: 0.0546 - unit_action_loss: 0.0398 - city_action_loss: 0.0148 - unit_action_masked_error: 0.0147 - city_action_masked_error: 0.0051 - val_loss: 0.2831 - val_unit_action_loss: 0.0704 - val_city_action_loss: 0.2127 - val_unit_action_masked_error: 0.0254 - val_city_action_masked_error: 0.0563\n",
      "Epoch 39/100\n",
      "3901/3901 [==============================] - 64s 16ms/step - loss: 0.0544 - unit_action_loss: 0.0398 - city_action_loss: 0.0146 - unit_action_masked_error: 0.0147 - city_action_masked_error: 0.0051 - val_loss: 0.2186 - val_unit_action_loss: 0.0710 - val_city_action_loss: 0.1475 - val_unit_action_masked_error: 0.0257 - val_city_action_masked_error: 0.0433\n",
      "Epoch 40/100\n",
      "3901/3901 [==============================] - 64s 16ms/step - loss: 0.0542 - unit_action_loss: 0.0397 - city_action_loss: 0.0145 - unit_action_masked_error: 0.0147 - city_action_masked_error: 0.0050 - val_loss: 0.2167 - val_unit_action_loss: 0.0688 - val_city_action_loss: 0.1479 - val_unit_action_masked_error: 0.0250 - val_city_action_masked_error: 0.0410\n",
      "Epoch 41/100\n",
      "3901/3901 [==============================] - 64s 17ms/step - loss: 0.0540 - unit_action_loss: 0.0396 - city_action_loss: 0.0144 - unit_action_masked_error: 0.0146 - city_action_masked_error: 0.0050 - val_loss: 0.2285 - val_unit_action_loss: 0.0696 - val_city_action_loss: 0.1589 - val_unit_action_masked_error: 0.0253 - val_city_action_masked_error: 0.0439\n",
      "Epoch 42/100\n",
      "3901/3901 [==============================] - 64s 16ms/step - loss: 0.0538 - unit_action_loss: 0.0396 - city_action_loss: 0.0143 - unit_action_masked_error: 0.0146 - city_action_masked_error: 0.0050 - val_loss: 0.2240 - val_unit_action_loss: 0.0697 - val_city_action_loss: 0.1542 - val_unit_action_masked_error: 0.0256 - val_city_action_masked_error: 0.0447\n",
      "Epoch 43/100\n",
      "3901/3901 [==============================] - 64s 16ms/step - loss: 0.0536 - unit_action_loss: 0.0395 - city_action_loss: 0.0141 - unit_action_masked_error: 0.0146 - city_action_masked_error: 0.0049 - val_loss: 0.2349 - val_unit_action_loss: 0.0701 - val_city_action_loss: 0.1648 - val_unit_action_masked_error: 0.0254 - val_city_action_masked_error: 0.0478\n",
      "Epoch 44/100\n",
      "3901/3901 [==============================] - 64s 17ms/step - loss: 0.0534 - unit_action_loss: 0.0395 - city_action_loss: 0.0139 - unit_action_masked_error: 0.0146 - city_action_masked_error: 0.0049 - val_loss: 0.2199 - val_unit_action_loss: 0.0700 - val_city_action_loss: 0.1499 - val_unit_action_masked_error: 0.0257 - val_city_action_masked_error: 0.0420\n",
      "Epoch 45/100\n"
     ]
    },
    {
     "name": "stdout",
     "output_type": "stream",
     "text": [
      "3901/3901 [==============================] - 64s 16ms/step - loss: 0.0532 - unit_action_loss: 0.0394 - city_action_loss: 0.0138 - unit_action_masked_error: 0.0145 - city_action_masked_error: 0.0048 - val_loss: 0.2277 - val_unit_action_loss: 0.0721 - val_city_action_loss: 0.1556 - val_unit_action_masked_error: 0.0258 - val_city_action_masked_error: 0.0432\n",
      "Epoch 46/100\n",
      "3901/3901 [==============================] - 64s 16ms/step - loss: 0.0531 - unit_action_loss: 0.0394 - city_action_loss: 0.0137 - unit_action_masked_error: 0.0145 - city_action_masked_error: 0.0048 - val_loss: 0.2312 - val_unit_action_loss: 0.0711 - val_city_action_loss: 0.1601 - val_unit_action_masked_error: 0.0260 - val_city_action_masked_error: 0.0451\n",
      "Epoch 47/100\n",
      "3901/3901 [==============================] - 64s 16ms/step - loss: 0.0529 - unit_action_loss: 0.0393 - city_action_loss: 0.0136 - unit_action_masked_error: 0.0145 - city_action_masked_error: 0.0047 - val_loss: 0.2436 - val_unit_action_loss: 0.0718 - val_city_action_loss: 0.1719 - val_unit_action_masked_error: 0.0262 - val_city_action_masked_error: 0.0446\n",
      "Epoch 48/100\n",
      "3901/3901 [==============================] - 64s 16ms/step - loss: 0.0527 - unit_action_loss: 0.0392 - city_action_loss: 0.0134 - unit_action_masked_error: 0.0145 - city_action_masked_error: 0.0047 - val_loss: 0.2341 - val_unit_action_loss: 0.0717 - val_city_action_loss: 0.1624 - val_unit_action_masked_error: 0.0262 - val_city_action_masked_error: 0.0438\n",
      "Epoch 49/100\n",
      "3901/3901 [==============================] - 64s 16ms/step - loss: 0.0525 - unit_action_loss: 0.0392 - city_action_loss: 0.0133 - unit_action_masked_error: 0.0144 - city_action_masked_error: 0.0047 - val_loss: 0.2400 - val_unit_action_loss: 0.0709 - val_city_action_loss: 0.1692 - val_unit_action_masked_error: 0.0259 - val_city_action_masked_error: 0.0430\n",
      "Epoch 50/100\n",
      "3901/3901 [==============================] - 64s 16ms/step - loss: 0.0526 - unit_action_loss: 0.0392 - city_action_loss: 0.0134 - unit_action_masked_error: 0.0144 - city_action_masked_error: 0.0047 - val_loss: 0.2360 - val_unit_action_loss: 0.0707 - val_city_action_loss: 0.1653 - val_unit_action_masked_error: 0.0256 - val_city_action_masked_error: 0.0433\n",
      "Epoch 51/100\n",
      "3901/3901 [==============================] - 64s 17ms/step - loss: 0.0524 - unit_action_loss: 0.0392 - city_action_loss: 0.0133 - unit_action_masked_error: 0.0145 - city_action_masked_error: 0.0046 - val_loss: 0.2408 - val_unit_action_loss: 0.0715 - val_city_action_loss: 0.1693 - val_unit_action_masked_error: 0.0262 - val_city_action_masked_error: 0.0466\n",
      "Epoch 52/100\n",
      "3901/3901 [==============================] - 64s 16ms/step - loss: 0.0523 - unit_action_loss: 0.0391 - city_action_loss: 0.0132 - unit_action_masked_error: 0.0144 - city_action_masked_error: 0.0046 - val_loss: 0.2420 - val_unit_action_loss: 0.0716 - val_city_action_loss: 0.1704 - val_unit_action_masked_error: 0.0260 - val_city_action_masked_error: 0.0433\n",
      "Epoch 53/100\n",
      "3901/3901 [==============================] - 64s 16ms/step - loss: 0.0521 - unit_action_loss: 0.0390 - city_action_loss: 0.0130 - unit_action_masked_error: 0.0144 - city_action_masked_error: 0.0046 - val_loss: 0.2448 - val_unit_action_loss: 0.0712 - val_city_action_loss: 0.1737 - val_unit_action_masked_error: 0.0259 - val_city_action_masked_error: 0.0443\n",
      "Epoch 54/100\n",
      "3901/3901 [==============================] - 64s 16ms/step - loss: 0.0518 - unit_action_loss: 0.0389 - city_action_loss: 0.0128 - unit_action_masked_error: 0.0143 - city_action_masked_error: 0.0045 - val_loss: 0.2523 - val_unit_action_loss: 0.0714 - val_city_action_loss: 0.1809 - val_unit_action_masked_error: 0.0260 - val_city_action_masked_error: 0.0490\n",
      "Epoch 55/100\n",
      "3901/3901 [==============================] - 63s 16ms/step - loss: 0.0519 - unit_action_loss: 0.0389 - city_action_loss: 0.0129 - unit_action_masked_error: 0.0144 - city_action_masked_error: 0.0045 - val_loss: 0.2562 - val_unit_action_loss: 0.0717 - val_city_action_loss: 0.1845 - val_unit_action_masked_error: 0.0258 - val_city_action_masked_error: 0.0448\n",
      "Epoch 56/100\n",
      "3901/3901 [==============================] - 64s 16ms/step - loss: 0.0516 - unit_action_loss: 0.0389 - city_action_loss: 0.0127 - unit_action_masked_error: 0.0144 - city_action_masked_error: 0.0045 - val_loss: 0.2451 - val_unit_action_loss: 0.0710 - val_city_action_loss: 0.1741 - val_unit_action_masked_error: 0.0260 - val_city_action_masked_error: 0.0448\n",
      "Epoch 57/100\n",
      "3901/3901 [==============================] - 64s 16ms/step - loss: 0.0515 - unit_action_loss: 0.0388 - city_action_loss: 0.0127 - unit_action_masked_error: 0.0143 - city_action_masked_error: 0.0044 - val_loss: 0.2522 - val_unit_action_loss: 0.0704 - val_city_action_loss: 0.1818 - val_unit_action_masked_error: 0.0258 - val_city_action_masked_error: 0.0493\n",
      "Epoch 58/100\n",
      "3901/3901 [==============================] - 64s 16ms/step - loss: 0.0515 - unit_action_loss: 0.0389 - city_action_loss: 0.0126 - unit_action_masked_error: 0.0143 - city_action_masked_error: 0.0044 - val_loss: 0.2385 - val_unit_action_loss: 0.0707 - val_city_action_loss: 0.1679 - val_unit_action_masked_error: 0.0256 - val_city_action_masked_error: 0.0436\n",
      "Epoch 59/100\n",
      "3901/3901 [==============================] - 64s 16ms/step - loss: 0.0515 - unit_action_loss: 0.0388 - city_action_loss: 0.0126 - unit_action_masked_error: 0.0143 - city_action_masked_error: 0.0044 - val_loss: 0.2477 - val_unit_action_loss: 0.0701 - val_city_action_loss: 0.1776 - val_unit_action_masked_error: 0.0250 - val_city_action_masked_error: 0.0452\n",
      "Epoch 60/100\n",
      "3901/3901 [==============================] - 64s 17ms/step - loss: 0.0511 - unit_action_loss: 0.0387 - city_action_loss: 0.0124 - unit_action_masked_error: 0.0143 - city_action_masked_error: 0.0044 - val_loss: 0.2540 - val_unit_action_loss: 0.0724 - val_city_action_loss: 0.1816 - val_unit_action_masked_error: 0.0261 - val_city_action_masked_error: 0.0463\n",
      "Epoch 61/100\n",
      "3901/3901 [==============================] - 64s 16ms/step - loss: 0.0511 - unit_action_loss: 0.0387 - city_action_loss: 0.0123 - unit_action_masked_error: 0.0143 - city_action_masked_error: 0.0043 - val_loss: 0.2511 - val_unit_action_loss: 0.0719 - val_city_action_loss: 0.1792 - val_unit_action_masked_error: 0.0262 - val_city_action_masked_error: 0.0449\n",
      "Epoch 62/100\n",
      "3901/3901 [==============================] - 64s 16ms/step - loss: 0.0510 - unit_action_loss: 0.0387 - city_action_loss: 0.0123 - unit_action_masked_error: 0.0143 - city_action_masked_error: 0.0043 - val_loss: 0.2609 - val_unit_action_loss: 0.0731 - val_city_action_loss: 0.1878 - val_unit_action_masked_error: 0.0265 - val_city_action_masked_error: 0.0474\n",
      "Epoch 63/100\n",
      "3901/3901 [==============================] - 64s 16ms/step - loss: 0.0508 - unit_action_loss: 0.0386 - city_action_loss: 0.0122 - unit_action_masked_error: 0.0142 - city_action_masked_error: 0.0043 - val_loss: 0.2597 - val_unit_action_loss: 0.0708 - val_city_action_loss: 0.1889 - val_unit_action_masked_error: 0.0255 - val_city_action_masked_error: 0.0470\n",
      "Epoch 64/100\n",
      "3901/3901 [==============================] - 64s 16ms/step - loss: 0.0507 - unit_action_loss: 0.0386 - city_action_loss: 0.0121 - unit_action_masked_error: 0.0142 - city_action_masked_error: 0.0043 - val_loss: 0.2679 - val_unit_action_loss: 0.0711 - val_city_action_loss: 0.1968 - val_unit_action_masked_error: 0.0255 - val_city_action_masked_error: 0.0462\n",
      "Epoch 65/100\n",
      "3901/3901 [==============================] - 64s 16ms/step - loss: 0.0508 - unit_action_loss: 0.0386 - city_action_loss: 0.0122 - unit_action_masked_error: 0.0142 - city_action_masked_error: 0.0042 - val_loss: 0.2637 - val_unit_action_loss: 0.0717 - val_city_action_loss: 0.1921 - val_unit_action_masked_error: 0.0257 - val_city_action_masked_error: 0.0480\n",
      "Epoch 66/100\n",
      "3901/3901 [==============================] - 64s 17ms/step - loss: 0.0506 - unit_action_loss: 0.0385 - city_action_loss: 0.0121 - unit_action_masked_error: 0.0142 - city_action_masked_error: 0.0042 - val_loss: 0.2594 - val_unit_action_loss: 0.0715 - val_city_action_loss: 0.1879 - val_unit_action_masked_error: 0.0259 - val_city_action_masked_error: 0.0462\n",
      "Epoch 67/100\n",
      "3901/3901 [==============================] - 64s 16ms/step - loss: 0.0504 - unit_action_loss: 0.0385 - city_action_loss: 0.0119 - unit_action_masked_error: 0.0142 - city_action_masked_error: 0.0042 - val_loss: 0.2540 - val_unit_action_loss: 0.0727 - val_city_action_loss: 0.1814 - val_unit_action_masked_error: 0.0263 - val_city_action_masked_error: 0.0457\n",
      "Epoch 68/100\n",
      "3901/3901 [==============================] - 64s 16ms/step - loss: 0.0503 - unit_action_loss: 0.0385 - city_action_loss: 0.0118 - unit_action_masked_error: 0.0142 - city_action_masked_error: 0.0042 - val_loss: 0.2670 - val_unit_action_loss: 0.0711 - val_city_action_loss: 0.1960 - val_unit_action_masked_error: 0.0254 - val_city_action_masked_error: 0.0463\n",
      "Epoch 69/100\n",
      "3901/3901 [==============================] - 64s 16ms/step - loss: 0.0502 - unit_action_loss: 0.0384 - city_action_loss: 0.0118 - unit_action_masked_error: 0.0141 - city_action_masked_error: 0.0042 - val_loss: 0.2536 - val_unit_action_loss: 0.0720 - val_city_action_loss: 0.1816 - val_unit_action_masked_error: 0.0260 - val_city_action_masked_error: 0.0459\n",
      "Epoch 70/100\n",
      "3901/3901 [==============================] - 64s 16ms/step - loss: 0.0501 - unit_action_loss: 0.0384 - city_action_loss: 0.0117 - unit_action_masked_error: 0.0141 - city_action_masked_error: 0.0041 - val_loss: 0.2996 - val_unit_action_loss: 0.0731 - val_city_action_loss: 0.2265 - val_unit_action_masked_error: 0.0261 - val_city_action_masked_error: 0.0498\n",
      "Epoch 71/100\n",
      "3901/3901 [==============================] - 64s 16ms/step - loss: 0.0500 - unit_action_loss: 0.0384 - city_action_loss: 0.0116 - unit_action_masked_error: 0.0141 - city_action_masked_error: 0.0041 - val_loss: 0.2780 - val_unit_action_loss: 0.0721 - val_city_action_loss: 0.2059 - val_unit_action_masked_error: 0.0261 - val_city_action_masked_error: 0.0491\n",
      "Epoch 72/100\n",
      "3901/3901 [==============================] - 64s 16ms/step - loss: 0.0500 - unit_action_loss: 0.0384 - city_action_loss: 0.0116 - unit_action_masked_error: 0.0141 - city_action_masked_error: 0.0041 - val_loss: 0.2717 - val_unit_action_loss: 0.0712 - val_city_action_loss: 0.2005 - val_unit_action_masked_error: 0.0256 - val_city_action_masked_error: 0.0497\n",
      "Epoch 73/100\n",
      "3901/3901 [==============================] - 66s 17ms/step - loss: 0.0498 - unit_action_loss: 0.0383 - city_action_loss: 0.0115 - unit_action_masked_error: 0.0141 - city_action_masked_error: 0.0040 - val_loss: 0.2645 - val_unit_action_loss: 0.0714 - val_city_action_loss: 0.1931 - val_unit_action_masked_error: 0.0253 - val_city_action_masked_error: 0.0474\n",
      "Epoch 74/100\n",
      "3901/3901 [==============================] - 66s 17ms/step - loss: 0.0498 - unit_action_loss: 0.0383 - city_action_loss: 0.0115 - unit_action_masked_error: 0.0141 - city_action_masked_error: 0.0041 - val_loss: 0.2786 - val_unit_action_loss: 0.0729 - val_city_action_loss: 0.2057 - val_unit_action_masked_error: 0.0260 - val_city_action_masked_error: 0.0466\n",
      "Epoch 75/100\n",
      "3901/3901 [==============================] - 67s 17ms/step - loss: 0.0497 - unit_action_loss: 0.0383 - city_action_loss: 0.0114 - unit_action_masked_error: 0.0141 - city_action_masked_error: 0.0040 - val_loss: 0.2707 - val_unit_action_loss: 0.0727 - val_city_action_loss: 0.1980 - val_unit_action_masked_error: 0.0262 - val_city_action_masked_error: 0.0483\n",
      "Epoch 76/100\n",
      "3901/3901 [==============================] - 67s 17ms/step - loss: 0.0497 - unit_action_loss: 0.0383 - city_action_loss: 0.0114 - unit_action_masked_error: 0.0141 - city_action_masked_error: 0.0040 - val_loss: 0.2731 - val_unit_action_loss: 0.0732 - val_city_action_loss: 0.1999 - val_unit_action_masked_error: 0.0260 - val_city_action_masked_error: 0.0486\n",
      "Epoch 77/100\n",
      "3901/3901 [==============================] - 67s 17ms/step - loss: 0.0495 - unit_action_loss: 0.0382 - city_action_loss: 0.0113 - unit_action_masked_error: 0.0141 - city_action_masked_error: 0.0040 - val_loss: 0.2867 - val_unit_action_loss: 0.0727 - val_city_action_loss: 0.2141 - val_unit_action_masked_error: 0.0259 - val_city_action_masked_error: 0.0467\n",
      "Epoch 78/100\n",
      "2728/3901 [===================>..........] - ETA: 19s - loss: 0.0488 - unit_action_loss: 0.0380 - city_action_loss: 0.0108 - unit_action_masked_error: 0.0140 - city_action_masked_error: 0.0038"
     ]
    },
    {
     "ename": "KeyboardInterrupt",
     "evalue": "",
     "output_type": "error",
     "traceback": [
      "\u001b[0;31m---------------------------------------------------------------------------\u001b[0m",
      "\u001b[0;31mKeyboardInterrupt\u001b[0m                         Traceback (most recent call last)",
      "\u001b[0;32m/tmp/ipykernel_76954/1370701273.py\u001b[0m in \u001b[0;36m<module>\u001b[0;34m\u001b[0m\n\u001b[0;32m----> 1\u001b[0;31m \u001b[0mmodel\u001b[0m\u001b[0;34m.\u001b[0m\u001b[0mfit\u001b[0m\u001b[0;34m(\u001b[0m\u001b[0mx\u001b[0m\u001b[0;34m=\u001b[0m\u001b[0mtrain_data\u001b[0m\u001b[0;34m[\u001b[0m\u001b[0;36m0\u001b[0m\u001b[0;34m]\u001b[0m\u001b[0;34m,\u001b[0m \u001b[0my\u001b[0m\u001b[0;34m=\u001b[0m\u001b[0mtrain_data\u001b[0m\u001b[0;34m[\u001b[0m\u001b[0;36m1\u001b[0m\u001b[0;34m]\u001b[0m\u001b[0;34m,\u001b[0m \u001b[0mvalidation_data\u001b[0m\u001b[0;34m=\u001b[0m\u001b[0mtest_data\u001b[0m\u001b[0;34m,\u001b[0m \u001b[0mepochs\u001b[0m\u001b[0;34m=\u001b[0m\u001b[0;36m100\u001b[0m\u001b[0;34m)\u001b[0m\u001b[0;34m\u001b[0m\u001b[0;34m\u001b[0m\u001b[0m\n\u001b[0m",
      "\u001b[0;32m~/miniconda3/envs/luxai/lib/python3.9/site-packages/keras/engine/training.py\u001b[0m in \u001b[0;36mfit\u001b[0;34m(self, x, y, batch_size, epochs, verbose, callbacks, validation_split, validation_data, shuffle, class_weight, sample_weight, initial_epoch, steps_per_epoch, validation_steps, validation_batch_size, validation_freq, max_queue_size, workers, use_multiprocessing)\u001b[0m\n\u001b[1;32m   1182\u001b[0m                 _r=1):\n\u001b[1;32m   1183\u001b[0m               \u001b[0mcallbacks\u001b[0m\u001b[0;34m.\u001b[0m\u001b[0mon_train_batch_begin\u001b[0m\u001b[0;34m(\u001b[0m\u001b[0mstep\u001b[0m\u001b[0;34m)\u001b[0m\u001b[0;34m\u001b[0m\u001b[0;34m\u001b[0m\u001b[0m\n\u001b[0;32m-> 1184\u001b[0;31m               \u001b[0mtmp_logs\u001b[0m \u001b[0;34m=\u001b[0m \u001b[0mself\u001b[0m\u001b[0;34m.\u001b[0m\u001b[0mtrain_function\u001b[0m\u001b[0;34m(\u001b[0m\u001b[0miterator\u001b[0m\u001b[0;34m)\u001b[0m\u001b[0;34m\u001b[0m\u001b[0;34m\u001b[0m\u001b[0m\n\u001b[0m\u001b[1;32m   1185\u001b[0m               \u001b[0;32mif\u001b[0m \u001b[0mdata_handler\u001b[0m\u001b[0;34m.\u001b[0m\u001b[0mshould_sync\u001b[0m\u001b[0;34m:\u001b[0m\u001b[0;34m\u001b[0m\u001b[0;34m\u001b[0m\u001b[0m\n\u001b[1;32m   1186\u001b[0m                 \u001b[0mcontext\u001b[0m\u001b[0;34m.\u001b[0m\u001b[0masync_wait\u001b[0m\u001b[0;34m(\u001b[0m\u001b[0;34m)\u001b[0m\u001b[0;34m\u001b[0m\u001b[0;34m\u001b[0m\u001b[0m\n",
      "\u001b[0;32m~/miniconda3/envs/luxai/lib/python3.9/site-packages/tensorflow/python/eager/def_function.py\u001b[0m in \u001b[0;36m__call__\u001b[0;34m(self, *args, **kwds)\u001b[0m\n\u001b[1;32m    883\u001b[0m \u001b[0;34m\u001b[0m\u001b[0m\n\u001b[1;32m    884\u001b[0m       \u001b[0;32mwith\u001b[0m \u001b[0mOptionalXlaContext\u001b[0m\u001b[0;34m(\u001b[0m\u001b[0mself\u001b[0m\u001b[0;34m.\u001b[0m\u001b[0m_jit_compile\u001b[0m\u001b[0;34m)\u001b[0m\u001b[0;34m:\u001b[0m\u001b[0;34m\u001b[0m\u001b[0;34m\u001b[0m\u001b[0m\n\u001b[0;32m--> 885\u001b[0;31m         \u001b[0mresult\u001b[0m \u001b[0;34m=\u001b[0m \u001b[0mself\u001b[0m\u001b[0;34m.\u001b[0m\u001b[0m_call\u001b[0m\u001b[0;34m(\u001b[0m\u001b[0;34m*\u001b[0m\u001b[0margs\u001b[0m\u001b[0;34m,\u001b[0m \u001b[0;34m**\u001b[0m\u001b[0mkwds\u001b[0m\u001b[0;34m)\u001b[0m\u001b[0;34m\u001b[0m\u001b[0;34m\u001b[0m\u001b[0m\n\u001b[0m\u001b[1;32m    886\u001b[0m \u001b[0;34m\u001b[0m\u001b[0m\n\u001b[1;32m    887\u001b[0m       \u001b[0mnew_tracing_count\u001b[0m \u001b[0;34m=\u001b[0m \u001b[0mself\u001b[0m\u001b[0;34m.\u001b[0m\u001b[0mexperimental_get_tracing_count\u001b[0m\u001b[0;34m(\u001b[0m\u001b[0;34m)\u001b[0m\u001b[0;34m\u001b[0m\u001b[0;34m\u001b[0m\u001b[0m\n",
      "\u001b[0;32m~/miniconda3/envs/luxai/lib/python3.9/site-packages/tensorflow/python/eager/def_function.py\u001b[0m in \u001b[0;36m_call\u001b[0;34m(self, *args, **kwds)\u001b[0m\n\u001b[1;32m    915\u001b[0m       \u001b[0;31m# In this case we have created variables on the first call, so we run the\u001b[0m\u001b[0;34m\u001b[0m\u001b[0;34m\u001b[0m\u001b[0m\n\u001b[1;32m    916\u001b[0m       \u001b[0;31m# defunned version which is guaranteed to never create variables.\u001b[0m\u001b[0;34m\u001b[0m\u001b[0;34m\u001b[0m\u001b[0m\n\u001b[0;32m--> 917\u001b[0;31m       \u001b[0;32mreturn\u001b[0m \u001b[0mself\u001b[0m\u001b[0;34m.\u001b[0m\u001b[0m_stateless_fn\u001b[0m\u001b[0;34m(\u001b[0m\u001b[0;34m*\u001b[0m\u001b[0margs\u001b[0m\u001b[0;34m,\u001b[0m \u001b[0;34m**\u001b[0m\u001b[0mkwds\u001b[0m\u001b[0;34m)\u001b[0m  \u001b[0;31m# pylint: disable=not-callable\u001b[0m\u001b[0;34m\u001b[0m\u001b[0;34m\u001b[0m\u001b[0m\n\u001b[0m\u001b[1;32m    918\u001b[0m     \u001b[0;32melif\u001b[0m \u001b[0mself\u001b[0m\u001b[0;34m.\u001b[0m\u001b[0m_stateful_fn\u001b[0m \u001b[0;32mis\u001b[0m \u001b[0;32mnot\u001b[0m \u001b[0;32mNone\u001b[0m\u001b[0;34m:\u001b[0m\u001b[0;34m\u001b[0m\u001b[0;34m\u001b[0m\u001b[0m\n\u001b[1;32m    919\u001b[0m       \u001b[0;31m# Release the lock early so that multiple threads can perform the call\u001b[0m\u001b[0;34m\u001b[0m\u001b[0;34m\u001b[0m\u001b[0m\n",
      "\u001b[0;32m~/miniconda3/envs/luxai/lib/python3.9/site-packages/tensorflow/python/eager/function.py\u001b[0m in \u001b[0;36m__call__\u001b[0;34m(self, *args, **kwargs)\u001b[0m\n\u001b[1;32m   3037\u001b[0m       (graph_function,\n\u001b[1;32m   3038\u001b[0m        filtered_flat_args) = self._maybe_define_function(args, kwargs)\n\u001b[0;32m-> 3039\u001b[0;31m     return graph_function._call_flat(\n\u001b[0m\u001b[1;32m   3040\u001b[0m         filtered_flat_args, captured_inputs=graph_function.captured_inputs)  # pylint: disable=protected-access\n\u001b[1;32m   3041\u001b[0m \u001b[0;34m\u001b[0m\u001b[0m\n",
      "\u001b[0;32m~/miniconda3/envs/luxai/lib/python3.9/site-packages/tensorflow/python/eager/function.py\u001b[0m in \u001b[0;36m_call_flat\u001b[0;34m(self, args, captured_inputs, cancellation_manager)\u001b[0m\n\u001b[1;32m   1961\u001b[0m         and executing_eagerly):\n\u001b[1;32m   1962\u001b[0m       \u001b[0;31m# No tape is watching; skip to running the function.\u001b[0m\u001b[0;34m\u001b[0m\u001b[0;34m\u001b[0m\u001b[0m\n\u001b[0;32m-> 1963\u001b[0;31m       return self._build_call_outputs(self._inference_function.call(\n\u001b[0m\u001b[1;32m   1964\u001b[0m           ctx, args, cancellation_manager=cancellation_manager))\n\u001b[1;32m   1965\u001b[0m     forward_backward = self._select_forward_and_backward_functions(\n",
      "\u001b[0;32m~/miniconda3/envs/luxai/lib/python3.9/site-packages/tensorflow/python/eager/function.py\u001b[0m in \u001b[0;36mcall\u001b[0;34m(self, ctx, args, cancellation_manager)\u001b[0m\n\u001b[1;32m    589\u001b[0m       \u001b[0;32mwith\u001b[0m \u001b[0m_InterpolateFunctionError\u001b[0m\u001b[0;34m(\u001b[0m\u001b[0mself\u001b[0m\u001b[0;34m)\u001b[0m\u001b[0;34m:\u001b[0m\u001b[0;34m\u001b[0m\u001b[0;34m\u001b[0m\u001b[0m\n\u001b[1;32m    590\u001b[0m         \u001b[0;32mif\u001b[0m \u001b[0mcancellation_manager\u001b[0m \u001b[0;32mis\u001b[0m \u001b[0;32mNone\u001b[0m\u001b[0;34m:\u001b[0m\u001b[0;34m\u001b[0m\u001b[0;34m\u001b[0m\u001b[0m\n\u001b[0;32m--> 591\u001b[0;31m           outputs = execute.execute(\n\u001b[0m\u001b[1;32m    592\u001b[0m               \u001b[0mstr\u001b[0m\u001b[0;34m(\u001b[0m\u001b[0mself\u001b[0m\u001b[0;34m.\u001b[0m\u001b[0msignature\u001b[0m\u001b[0;34m.\u001b[0m\u001b[0mname\u001b[0m\u001b[0;34m)\u001b[0m\u001b[0;34m,\u001b[0m\u001b[0;34m\u001b[0m\u001b[0;34m\u001b[0m\u001b[0m\n\u001b[1;32m    593\u001b[0m               \u001b[0mnum_outputs\u001b[0m\u001b[0;34m=\u001b[0m\u001b[0mself\u001b[0m\u001b[0;34m.\u001b[0m\u001b[0m_num_outputs\u001b[0m\u001b[0;34m,\u001b[0m\u001b[0;34m\u001b[0m\u001b[0;34m\u001b[0m\u001b[0m\n",
      "\u001b[0;32m~/miniconda3/envs/luxai/lib/python3.9/site-packages/tensorflow/python/eager/execute.py\u001b[0m in \u001b[0;36mquick_execute\u001b[0;34m(op_name, num_outputs, inputs, attrs, ctx, name)\u001b[0m\n\u001b[1;32m     57\u001b[0m   \u001b[0;32mtry\u001b[0m\u001b[0;34m:\u001b[0m\u001b[0;34m\u001b[0m\u001b[0;34m\u001b[0m\u001b[0m\n\u001b[1;32m     58\u001b[0m     \u001b[0mctx\u001b[0m\u001b[0;34m.\u001b[0m\u001b[0mensure_initialized\u001b[0m\u001b[0;34m(\u001b[0m\u001b[0;34m)\u001b[0m\u001b[0;34m\u001b[0m\u001b[0;34m\u001b[0m\u001b[0m\n\u001b[0;32m---> 59\u001b[0;31m     tensors = pywrap_tfe.TFE_Py_Execute(ctx._handle, device_name, op_name,\n\u001b[0m\u001b[1;32m     60\u001b[0m                                         inputs, attrs, num_outputs)\n\u001b[1;32m     61\u001b[0m   \u001b[0;32mexcept\u001b[0m \u001b[0mcore\u001b[0m\u001b[0;34m.\u001b[0m\u001b[0m_NotOkStatusException\u001b[0m \u001b[0;32mas\u001b[0m \u001b[0me\u001b[0m\u001b[0;34m:\u001b[0m\u001b[0;34m\u001b[0m\u001b[0;34m\u001b[0m\u001b[0m\n",
      "\u001b[0;31mKeyboardInterrupt\u001b[0m: "
     ]
    }
   ],
   "source": [
    "model.fit(x=train_data[0], y=train_data[1], validation_data=test_data, epochs=100)"
   ]
  },
  {
   "cell_type": "markdown",
   "metadata": {
    "hidden": true
   },
   "source": [
    "Training metrics improve but validation metrics worsen, this is called overfitting. I could add data augmentation."
   ]
  },
  {
   "cell_type": "code",
   "execution_count": 14,
   "metadata": {
    "ExecuteTime": {
     "end_time": "2021-10-20T12:14:18.611294Z",
     "start_time": "2021-10-20T12:14:18.499596Z"
    },
    "deletable": false,
    "editable": false,
    "hidden": true,
    "run_control": {
     "frozen": true
    }
   },
   "outputs": [],
   "source": [
    "model.save('model.h5', include_optimizer=False)"
   ]
  },
  {
   "cell_type": "markdown",
   "metadata": {},
   "source": [
    "## Play"
   ]
  },
  {
   "cell_type": "code",
   "execution_count": 11,
   "metadata": {
    "ExecuteTime": {
     "end_time": "2021-10-20T15:36:29.223423Z",
     "start_time": "2021-10-20T15:36:29.203617Z"
    }
   },
   "outputs": [],
   "source": [
    "os.environ['CUDA_VISIBLE_DEVICES'] = ''"
   ]
  },
  {
   "cell_type": "code",
   "execution_count": 12,
   "metadata": {
    "ExecuteTime": {
     "end_time": "2021-10-20T15:36:29.507494Z",
     "start_time": "2021-10-20T15:36:29.225373Z"
    }
   },
   "outputs": [
    {
     "name": "stderr",
     "output_type": "stream",
     "text": [
      "2021-10-20 17:36:29.314356: E tensorflow/stream_executor/cuda/cuda_driver.cc:271] failed call to cuInit: CUDA_ERROR_NO_DEVICE: no CUDA-capable device is detected\n",
      "2021-10-20 17:36:29.314392: I tensorflow/stream_executor/cuda/cuda_diagnostics.cc:169] retrieving CUDA diagnostic information for host: africanus\n",
      "2021-10-20 17:36:29.314398: I tensorflow/stream_executor/cuda/cuda_diagnostics.cc:176] hostname: africanus\n",
      "2021-10-20 17:36:29.314528: I tensorflow/stream_executor/cuda/cuda_diagnostics.cc:200] libcuda reported version is: 460.91.3\n",
      "2021-10-20 17:36:29.314551: I tensorflow/stream_executor/cuda/cuda_diagnostics.cc:204] kernel reported version is: 460.91.3\n",
      "2021-10-20 17:36:29.314557: I tensorflow/stream_executor/cuda/cuda_diagnostics.cc:310] kernel version seems to match DSO: 460.91.3\n",
      "2021-10-20 17:36:29.314839: I tensorflow/core/platform/cpu_feature_guard.cc:142] This TensorFlow binary is optimized with oneAPI Deep Neural Network Library (oneDNN) to use the following CPU instructions in performance-critical operations:  AVX2 AVX512F FMA\n",
      "To enable them in other operations, rebuild TensorFlow with the appropriate compiler flags.\n"
     ]
    }
   ],
   "source": [
    "model = keras.models.load_model('model.h5', compile=False)"
   ]
  },
  {
   "cell_type": "code",
   "execution_count": 13,
   "metadata": {
    "ExecuteTime": {
     "end_time": "2021-10-20T15:36:29.531407Z",
     "start_time": "2021-10-20T15:36:29.508822Z"
    }
   },
   "outputs": [],
   "source": [
    "def agent_with_model(observation, configuration):\n",
    "    ret = make_input(observation)\n",
    "    board, features = ret[:2]\n",
    "    preds = model.predict([\n",
    "        expand_board_size_adding_zeros(np.expand_dims(board, axis=0)),\n",
    "        np.expand_dims(features, axis=0)])\n",
    "    preds = [crop_board_to_original_size(pred, observation) for pred in preds]\n",
    "    active_units_to_position, active_cities_to_position, units_to_position = ret[2:]\n",
    "    actions = create_actions_for_units_from_model_predictions(\n",
    "        preds[0][0], active_units_to_position, units_to_position)\n",
    "    actions += create_actions_for_cities_from_model_predictions(preds[1][0], active_cities_to_position)\n",
    "    return actions"
   ]
  },
  {
   "cell_type": "code",
   "execution_count": 14,
   "metadata": {
    "ExecuteTime": {
     "end_time": "2021-10-20T15:36:41.261177Z",
     "start_time": "2021-10-20T15:36:29.532668Z"
    }
   },
   "outputs": [
    {
     "name": "stderr",
     "output_type": "stream",
     "text": [
      "2021-10-20 17:36:30.011090: I tensorflow/compiler/mlir/mlir_graph_optimization_pass.cc:185] None of the MLIR Optimization Passes are enabled (registered 2)\n",
      "[1020/173641.034010:ERROR:file_io_posix.cc(152)] open /home/gbarbadillo/.config/Code/exthost Crash Reports/pending/7c3fb021-aea7-4aad-8fd4-1200088bfc4e.lock: File exists (17)\n",
      "[1020/173641.034123:ERROR:file_io_posix.cc(152)] open /home/gbarbadillo/.config/Code/exthost Crash Reports/pending/0adc3a1e-9ae8-429c-95a0-c316bed0b62a.lock: File exists (17)\n"
     ]
    },
    {
     "name": "stdout",
     "output_type": "stream",
     "text": [
      "Opening in existing browser session.\n"
     ]
    }
   ],
   "source": [
    "env = make(\"lux_ai_2021\", debug=True, configuration={'width': 12, 'height': 12, 'seed': 1})\n",
    "set_random_seed(7)\n",
    "game_info = env.run([agent_with_model, '/mnt/hdd0/MEGA/AI/22 Kaggle/luxai/agents/working_title/agent.py'])\n",
    "render_game_in_html(env)"
   ]
  },
  {
   "cell_type": "markdown",
   "metadata": {},
   "source": [
    "It's weird but the agent likes to stay at home, which does not have too much sense. Maybe I have to give bigger weight to 1s than to 0s, cause the dataset is unbalanced. Or to use focal loss.\n",
    "\n",
    "I need a way to debug the agent, but first I need to be able to test that agent works correctly."
   ]
  },
  {
   "cell_type": "code",
   "execution_count": null,
   "metadata": {},
   "outputs": [],
   "source": []
  }
 ],
 "metadata": {
  "hide_input": false,
  "kernelspec": {
   "display_name": "Python (luxai)",
   "language": "python",
   "name": "luxai"
  },
  "language_info": {
   "codemirror_mode": {
    "name": "ipython",
    "version": 3
   },
   "file_extension": ".py",
   "mimetype": "text/x-python",
   "name": "python",
   "nbconvert_exporter": "python",
   "pygments_lexer": "ipython3",
   "version": "3.9.7"
  },
  "toc": {
   "base_numbering": 1,
   "nav_menu": {},
   "number_sections": false,
   "sideBar": true,
   "skip_h1_title": false,
   "title_cell": "Table of Contents",
   "title_sidebar": "Contents",
   "toc_cell": true,
   "toc_position": {},
   "toc_section_display": true,
   "toc_window_display": false
  }
 },
 "nbformat": 4,
 "nbformat_minor": 4
}
