{
 "cells": [
  {
   "cell_type": "markdown",
   "metadata": {},
   "source": [
    "# Jupyter notebook cheatsheet"
   ]
  },
  {
   "cell_type": "code",
   "execution_count": 1,
   "metadata": {},
   "outputs": [],
   "source": [
    "# Use this to reload changes in python scripts\n",
    "%load_ext autoreload\n",
    "%autoreload 2"
   ]
  },
  {
   "cell_type": "markdown",
   "metadata": {},
   "source": [
    "## Some tricks\n",
    "\n",
    "### Jupyter themes\n",
    "\n",
    "    jupyter nbextension enable --py widgetsnbextension\n",
    "    jupyter-nbextension disable nbpresent --py --sys-prefix\n",
    "    jupyter-serverextension disable nbpresent --py --sys-prefix\n",
    "\n",
    "https://github.com/dunovank/jupyter-themes\n",
    "After installing the themes extension we can have a notebook with a theme very similar to Dark+ on VS\n",
    "\n",
    "    jt -t oceans16 -T -N\n",
    "\n",
    "### Jupyter extensions\n",
    "    \n",
    "    conda install -c conda-forge jupyter_contrib_nbextensions\n",
    "    \n",
    "* Freeze\n",
    "* Collapsible headings\n",
    "* Table of contents\n",
    "* Variable inspector\n",
    "* ExecuteTime\n",
    "* Autopep8\n",
    "\n",
    "\n",
    "### How to show an environment as kernel\n",
    "\n",
    "With the desired environment active:\n",
    "\n",
    "    \n",
    "    python -m ipykernel install --user --name myenv --display-name \"Python (myenv)\""
   ]
  },
  {
   "cell_type": "markdown",
   "metadata": {},
   "source": [
    "## Parallelization "
   ]
  },
  {
   "cell_type": "code",
   "execution_count": null,
   "metadata": {},
   "outputs": [],
   "source": [
    "from concurrent.futures import ProcessPoolExecutor\n",
    "\n",
    "pool = ProcessPoolExecutor(max_workers=max_workers)\n",
    "submits = []\n",
    "for i in range(max_nlags):\n",
    "    submits.append(pool.submit(_get_leak, df, cols_groups, i))\n",
    "    \n",
    "def monitor_progress(submits):\n",
    "    progress_bar = tqdm_notebook(total=len(submits))\n",
    "    while 1:\n",
    "        time.sleep(1)\n",
    "        current_progress = np.sum([submit.done() for submit in submits])\n",
    "        if current_progress > progress:\n",
    "            if verbose:\n",
    "                progress_bar.update(current_progress - progress)\n",
    "            progress = current_progress\n",
    "        if progress == len(submits):\n",
    "            break"
   ]
  },
  {
   "cell_type": "markdown",
   "metadata": {},
   "source": [
    "## Ignore warnings"
   ]
  },
  {
   "cell_type": "code",
   "execution_count": null,
   "metadata": {},
   "outputs": [],
   "source": [
    "import warnings\n",
    "warnings.filterwarnings(\"ignore\")"
   ]
  },
  {
   "cell_type": "markdown",
   "metadata": {},
   "source": [
    "## Adjust matplotlib settings"
   ]
  },
  {
   "cell_type": "code",
   "execution_count": null,
   "metadata": {},
   "outputs": [],
   "source": [
    "plt.plot()\n",
    "plt.close('all')\n",
    "plt.rcParams[\"figure.figsize\"] = (20, 5)  \n",
    "mpl.rcParams['lines.linewidth'] = 3\n",
    "mpl.rcParams['font.size'] = 16"
   ]
  },
  {
   "cell_type": "markdown",
   "metadata": {},
   "source": [
    "## Print with markdown format"
   ]
  },
  {
   "cell_type": "code",
   "execution_count": null,
   "metadata": {},
   "outputs": [],
   "source": [
    "from IPython.display import Markdown, display\n",
    "def printmd(string):\n",
    "    display(Markdown(string))"
   ]
  },
  {
   "cell_type": "markdown",
   "metadata": {},
   "source": [
    "## Listen to audio"
   ]
  },
  {
   "cell_type": "code",
   "execution_count": null,
   "metadata": {},
   "outputs": [],
   "source": [
    "import IPython.display as ipd\n",
    "ipd.Audio(audio_path)"
   ]
  }
 ],
 "metadata": {
  "hide_input": false,
  "kernelspec": {
   "display_name": "Python [conda root]",
   "language": "python",
   "name": "conda-root-py"
  },
  "language_info": {
   "codemirror_mode": {
    "name": "ipython",
    "version": 2
   },
   "file_extension": ".py",
   "mimetype": "text/x-python",
   "name": "python",
   "nbconvert_exporter": "python",
   "pygments_lexer": "ipython2",
   "version": "2.7.13"
  },
  "toc": {
   "base_numbering": 1,
   "nav_menu": {},
   "number_sections": false,
   "sideBar": true,
   "skip_h1_title": false,
   "title_cell": "Table of Contents",
   "title_sidebar": "Contents",
   "toc_cell": false,
   "toc_position": {},
   "toc_section_display": true,
   "toc_window_display": false
  }
 },
 "nbformat": 4,
 "nbformat_minor": 2
}
