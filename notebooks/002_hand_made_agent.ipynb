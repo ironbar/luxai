{
 "cells": [
  {
   "cell_type": "markdown",
   "metadata": {
    "toc": true
   },
   "source": [
    "<h1>Table of Contents<span class=\"tocSkip\"></span></h1>\n",
    "<div class=\"toc\"><ul class=\"toc-item\"><li><span><a href=\"#Hand-made-agent\" data-toc-modified-id=\"Hand-made-agent-1\">Hand made agent</a></span><ul class=\"toc-item\"><li><span><a href=\"#Goal\" data-toc-modified-id=\"Goal-1.1\">Goal</a></span></li><li><span><a href=\"#Imports\" data-toc-modified-id=\"Imports-1.2\">Imports</a></span></li><li><span><a href=\"#Simple-agent\" data-toc-modified-id=\"Simple-agent-1.3\">Simple agent</a></span><ul class=\"toc-item\"><li><span><a href=\"#Code\" data-toc-modified-id=\"Code-1.3.1\">Code</a></span></li><li><span><a href=\"#Match-visualization\" data-toc-modified-id=\"Match-visualization-1.3.2\">Match visualization</a></span></li></ul></li><li><span><a href=\"#Research-agent\" data-toc-modified-id=\"Research-agent-1.4\">Research agent</a></span><ul class=\"toc-item\"><li><span><a href=\"#Code\" data-toc-modified-id=\"Code-1.4.1\">Code</a></span></li><li><span><a href=\"#Match-visualization\" data-toc-modified-id=\"Match-visualization-1.4.2\">Match visualization</a></span></li></ul></li><li><span><a href=\"#Build-new-city-tiles\" data-toc-modified-id=\"Build-new-city-tiles-1.5\">Build new city tiles</a></span></li><li><span><a href=\"#Build-new-workers\" data-toc-modified-id=\"Build-new-workers-1.6\">Build new workers</a></span></li><li><span><a href=\"#How-I-would-play-as-a-human?\" data-toc-modified-id=\"How-I-would-play-as-a-human?-1.7\">How I would play as a human?</a></span></li><li><span><a href=\"#Challenges-found-when-creating-an-agent\" data-toc-modified-id=\"Challenges-found-when-creating-an-agent-1.8\">Challenges found when creating an agent</a></span></li><li><span><a href=\"#Summary\" data-toc-modified-id=\"Summary-1.9\">Summary</a></span></li><li><span><a href=\"#TODO\" data-toc-modified-id=\"TODO-1.10\">TODO</a></span></li></ul></li></ul></div>"
   ]
  },
  {
   "cell_type": "markdown",
   "metadata": {},
   "source": [
    "# Hand made agent"
   ]
  },
  {
   "cell_type": "markdown",
   "metadata": {},
   "source": [
    "## Goal"
   ]
  },
  {
   "cell_type": "markdown",
   "metadata": {
    "heading_collapsed": true
   },
   "source": [
    "## Imports"
   ]
  },
  {
   "cell_type": "code",
   "execution_count": 1,
   "metadata": {
    "ExecuteTime": {
     "end_time": "2021-09-01T10:52:49.459199Z",
     "start_time": "2021-09-01T10:52:49.177558Z"
    },
    "hidden": true
   },
   "outputs": [
    {
     "name": "stdout",
     "output_type": "stream",
     "text": [
      "Loading environment football failed: No module named 'gfootball'\n"
     ]
    }
   ],
   "source": [
    "import os\n",
    "import tempfile\n",
    "import matplotlib as mpl\n",
    "import matplotlib.pyplot as plt\n",
    "import numpy as np\n",
    "from kaggle_environments import make\n",
    "from functools import partial\n",
    "\n",
    "from luxai.utils import render_game_in_html"
   ]
  },
  {
   "cell_type": "code",
   "execution_count": 2,
   "metadata": {
    "ExecuteTime": {
     "end_time": "2021-09-01T10:52:49.463733Z",
     "start_time": "2021-09-01T10:52:49.460618Z"
    },
    "hidden": true
   },
   "outputs": [],
   "source": [
    "from kaggle_environments.envs.lux_ai_2021.test_agents.python.lux.game import Game\n",
    "from kaggle_environments.envs.lux_ai_2021.test_agents.python.lux.game_map import Cell, RESOURCE_TYPES\n",
    "from kaggle_environments.envs.lux_ai_2021.test_agents.python.lux.constants import Constants\n",
    "from kaggle_environments.envs.lux_ai_2021.test_agents.python.lux.game_constants import GAME_CONSTANTS\n",
    "from kaggle_environments.envs.lux_ai_2021.test_agents.python.lux import annotate"
   ]
  },
  {
   "cell_type": "code",
   "execution_count": 3,
   "metadata": {
    "ExecuteTime": {
     "end_time": "2021-09-01T10:52:49.528185Z",
     "start_time": "2021-09-01T10:52:49.467532Z"
    },
    "hidden": true
   },
   "outputs": [],
   "source": [
    "plt.plot()\n",
    "plt.close('all')\n",
    "plt.rcParams[\"figure.figsize\"] = (20, 5)  \n",
    "mpl.rcParams['lines.linewidth'] = 3\n",
    "mpl.rcParams['font.size'] = 16"
   ]
  },
  {
   "cell_type": "markdown",
   "metadata": {},
   "source": [
    "## Simple agent"
   ]
  },
  {
   "cell_type": "markdown",
   "metadata": {},
   "source": [
    "I will first refactorize the simple agent to ease up the improvement process."
   ]
  },
  {
   "cell_type": "markdown",
   "metadata": {
    "heading_collapsed": true
   },
   "source": [
    "### Code"
   ]
  },
  {
   "cell_type": "code",
   "execution_count": 4,
   "metadata": {
    "ExecuteTime": {
     "end_time": "2021-09-01T10:52:49.535964Z",
     "start_time": "2021-09-01T10:52:49.530011Z"
    },
    "hidden": true
   },
   "outputs": [],
   "source": [
    "class BaseAgent():\n",
    "    def __init__(self):\n",
    "        self.game_state = None\n",
    "        \n",
    "    def _update_game_state(self, observation):\n",
    "        if observation[\"step\"] == 0:\n",
    "            self.game_state = Game()\n",
    "            self.game_state._initialize(observation[\"updates\"])\n",
    "            self.game_state._update(observation[\"updates\"][2:])\n",
    "            self.game_state.id = observation.player\n",
    "        else:\n",
    "            self.game_state._update(observation[\"updates\"])\n",
    "        \n",
    "    def __call__(self, observation, configuration):\n",
    "        self._update_game_state(observation)\n",
    "        raise NotImplementedError('You have to implement this function')"
   ]
  },
  {
   "cell_type": "code",
   "execution_count": 5,
   "metadata": {
    "ExecuteTime": {
     "end_time": "2021-09-01T10:52:49.555247Z",
     "start_time": "2021-09-01T10:52:49.537647Z"
    },
    "code_folding": [],
    "hidden": true
   },
   "outputs": [],
   "source": [
    "import math\n",
    "\n",
    "class SimpleAgent(BaseAgent):\n",
    "    def __init__(self):\n",
    "        super().__init__()\n",
    "\n",
    "\n",
    "            \n",
    "    def __call__(self, observation, configuration):\n",
    "        self._update_game_state(observation)\n",
    "        \n",
    "        ### AI Code goes down here! ### \n",
    "        player = self.game_state.players[observation.player]\n",
    "        #opponent = game_state.players[(observation.player + 1) % 2]\n",
    "        resource_tiles = get_resource_tiles(self.game_state)\n",
    "        actions = []\n",
    "        # we iterate over all our units and do something with them\n",
    "        for unit in get_available_workers(player):\n",
    "            if unit.get_cargo_space_left() > 0:\n",
    "                actions.append(move_to_closest_resource(unit, player, resource_tiles))\n",
    "            else:\n",
    "                actions.append(move_to_closest_city(unit, player))\n",
    "                \n",
    "        actions = [action for action in actions if action is not None]\n",
    "        return actions\n",
    "    \n",
    "def get_resource_tiles(game_state):\n",
    "    resource_tiles: list[Cell] = []\n",
    "    for y in range(game_state.map.height):\n",
    "        for x in range(game_state.map.width):\n",
    "            cell = game_state.map.get_cell(x, y)\n",
    "            if cell.has_resource():\n",
    "                resource_tiles.append(cell)\n",
    "    return resource_tiles\n",
    "    \n",
    "def get_available_workers(player):\n",
    "    return [unit for unit in player.units if unit.is_worker() and unit.can_act()]\n",
    "    \n",
    "def move_to_closest_resource(unit, player, resource_tiles):\n",
    "    # if the unit is a worker and we have space in cargo, lets find the nearest resource tile and try to mine it\n",
    "    closest_dist = math.inf\n",
    "    closest_resource_tile = None\n",
    "    for resource_tile in resource_tiles:\n",
    "        if resource_tile.resource.type == Constants.RESOURCE_TYPES.COAL and not player.researched_coal(): continue\n",
    "        if resource_tile.resource.type == Constants.RESOURCE_TYPES.URANIUM and not player.researched_uranium(): continue\n",
    "        dist = resource_tile.pos.distance_to(unit.pos)\n",
    "        if dist < closest_dist:\n",
    "            closest_dist = dist\n",
    "            closest_resource_tile = resource_tile\n",
    "    if closest_resource_tile is not None:\n",
    "        return unit.move(unit.pos.direction_to(closest_resource_tile.pos))\n",
    "\n",
    "def move_to_closest_city(unit, player):\n",
    "    if len(player.cities) > 0:\n",
    "        closest_dist = math.inf\n",
    "        closest_city_tile = None\n",
    "        for k, city in player.cities.items():\n",
    "            for city_tile in city.citytiles:\n",
    "                dist = city_tile.pos.distance_to(unit.pos)\n",
    "                if dist < closest_dist:\n",
    "                    closest_dist = dist\n",
    "                    closest_city_tile = city_tile\n",
    "        if closest_city_tile is not None:\n",
    "            move_dir = unit.pos.direction_to(closest_city_tile.pos)\n",
    "            return unit.move(move_dir)"
   ]
  },
  {
   "cell_type": "markdown",
   "metadata": {},
   "source": [
    "### Match visualization"
   ]
  },
  {
   "cell_type": "code",
   "execution_count": 6,
   "metadata": {
    "ExecuteTime": {
     "end_time": "2021-09-01T10:52:51.844008Z",
     "start_time": "2021-09-01T10:52:49.557571Z"
    }
   },
   "outputs": [],
   "source": [
    "env = make(\"lux_ai_2021\", debug=True, configuration={'width': 12, 'height': 12, 'seed': 0, 'episodeSteps': 361})\n",
    "initial_info = env.reset()\n",
    "game_info = env.run(['simple_agent', SimpleAgent()])\n",
    "#render_game_in_html(env)"
   ]
  },
  {
   "cell_type": "code",
   "execution_count": 7,
   "metadata": {
    "ExecuteTime": {
     "end_time": "2021-09-01T10:52:58.227847Z",
     "start_time": "2021-09-01T10:52:57.929856Z"
    }
   },
   "outputs": [
    {
     "name": "stdout",
     "output_type": "stream",
     "text": [
      "Opening in existing browser session.\n"
     ]
    }
   ],
   "source": [
    "render_game_in_html(env)"
   ]
  },
  {
   "cell_type": "markdown",
   "metadata": {
    "heading_collapsed": true
   },
   "source": [
    "## Research agent"
   ]
  },
  {
   "cell_type": "markdown",
   "metadata": {
    "hidden": true
   },
   "source": [
    "Let's start by improving the simple agent to do research whith the available city tiles. I will first refactorize the simple agent to ease up the improvement process."
   ]
  },
  {
   "cell_type": "markdown",
   "metadata": {
    "hidden": true
   },
   "source": [
    "### Code"
   ]
  },
  {
   "cell_type": "markdown",
   "metadata": {
    "hidden": true
   },
   "source": [
    "### Match visualization"
   ]
  },
  {
   "cell_type": "code",
   "execution_count": null,
   "metadata": {
    "hidden": true
   },
   "outputs": [],
   "source": []
  },
  {
   "cell_type": "markdown",
   "metadata": {},
   "source": [
    "## Build new city tiles"
   ]
  },
  {
   "cell_type": "markdown",
   "metadata": {},
   "source": [
    "## Build new workers"
   ]
  },
  {
   "cell_type": "markdown",
   "metadata": {},
   "source": [
    "## How I would play as a human?"
   ]
  },
  {
   "cell_type": "markdown",
   "metadata": {},
   "source": [
    "## Challenges found when creating an agent"
   ]
  },
  {
   "cell_type": "markdown",
   "metadata": {},
   "source": [
    "Let's enumerate the difficulties we have found when trying to create an agent by hand."
   ]
  },
  {
   "cell_type": "markdown",
   "metadata": {},
   "source": [
    "## Summary"
   ]
  },
  {
   "cell_type": "markdown",
   "metadata": {},
   "source": [
    "## TODO"
   ]
  },
  {
   "cell_type": "markdown",
   "metadata": {},
   "source": [
    "- Move code to the library\n",
    "- Add tests \n",
    "- Function that annotates the resources of the map"
   ]
  },
  {
   "cell_type": "code",
   "execution_count": null,
   "metadata": {},
   "outputs": [],
   "source": []
  }
 ],
 "metadata": {
  "hide_input": false,
  "kernelspec": {
   "display_name": "Python (luxai)",
   "language": "python",
   "name": "luxai"
  },
  "language_info": {
   "codemirror_mode": {
    "name": "ipython",
    "version": 3
   },
   "file_extension": ".py",
   "mimetype": "text/x-python",
   "name": "python",
   "nbconvert_exporter": "python",
   "pygments_lexer": "ipython3",
   "version": "3.9.6"
  },
  "toc": {
   "base_numbering": 1,
   "nav_menu": {},
   "number_sections": false,
   "sideBar": true,
   "skip_h1_title": false,
   "title_cell": "Table of Contents",
   "title_sidebar": "Contents",
   "toc_cell": true,
   "toc_position": {},
   "toc_section_display": true,
   "toc_window_display": false
  }
 },
 "nbformat": 4,
 "nbformat_minor": 4
}
