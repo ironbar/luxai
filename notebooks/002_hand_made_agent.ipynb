{
 "cells": [
  {
   "cell_type": "markdown",
   "metadata": {
    "toc": true
   },
   "source": [
    "<h1>Table of Contents<span class=\"tocSkip\"></span></h1>\n",
    "<div class=\"toc\"><ul class=\"toc-item\"><li><span><a href=\"#Hand-made-agent\" data-toc-modified-id=\"Hand-made-agent-1\">Hand made agent</a></span><ul class=\"toc-item\"><li><span><a href=\"#Goal\" data-toc-modified-id=\"Goal-1.1\">Goal</a></span></li><li><span><a href=\"#Imports\" data-toc-modified-id=\"Imports-1.2\">Imports</a></span></li><li><span><a href=\"#Simple-agent\" data-toc-modified-id=\"Simple-agent-1.3\">Simple agent</a></span></li><li><span><a href=\"#Research-agent\" data-toc-modified-id=\"Research-agent-1.4\">Research agent</a></span></li><li><span><a href=\"#Build-new-workers\" data-toc-modified-id=\"Build-new-workers-1.5\">Build new workers</a></span></li><li><span><a href=\"#Build-new-city-tiles\" data-toc-modified-id=\"Build-new-city-tiles-1.6\">Build new city tiles</a></span></li><li><span><a href=\"#How-I-would-play-as-a-human?\" data-toc-modified-id=\"How-I-would-play-as-a-human?-1.7\">How I would play as a human?</a></span></li><li><span><a href=\"#Challenges-found-when-creating-an-agent\" data-toc-modified-id=\"Challenges-found-when-creating-an-agent-1.8\">Challenges found when creating an agent</a></span></li><li><span><a href=\"#Summary\" data-toc-modified-id=\"Summary-1.9\">Summary</a></span></li><li><span><a href=\"#TODO\" data-toc-modified-id=\"TODO-1.10\">TODO</a></span></li></ul></li></ul></div>"
   ]
  },
  {
   "cell_type": "markdown",
   "metadata": {},
   "source": [
    "# Hand made agent"
   ]
  },
  {
   "cell_type": "markdown",
   "metadata": {},
   "source": [
    "## Goal"
   ]
  },
  {
   "cell_type": "markdown",
   "metadata": {},
   "source": [
    "## Imports"
   ]
  },
  {
   "cell_type": "code",
   "execution_count": 1,
   "metadata": {
    "ExecuteTime": {
     "end_time": "2021-09-01T13:31:28.065062Z",
     "start_time": "2021-09-01T13:31:28.038927Z"
    }
   },
   "outputs": [],
   "source": [
    "# Use this to reload changes in python scripts\n",
    "%load_ext autoreload\n",
    "%autoreload 2"
   ]
  },
  {
   "cell_type": "code",
   "execution_count": 2,
   "metadata": {
    "ExecuteTime": {
     "end_time": "2021-09-01T13:31:28.339052Z",
     "start_time": "2021-09-01T13:31:28.067294Z"
    }
   },
   "outputs": [
    {
     "name": "stdout",
     "output_type": "stream",
     "text": [
      "Loading environment football failed: No module named 'gfootball'\n"
     ]
    }
   ],
   "source": [
    "import os\n",
    "import tempfile\n",
    "import matplotlib as mpl\n",
    "import matplotlib.pyplot as plt\n",
    "import numpy as np\n",
    "from kaggle_environments import make\n",
    "from functools import partial\n",
    "\n",
    "from luxai.utils import render_game_in_html\n",
    "from luxai.agents.basic import (\n",
    "    SimpleAgent,\n",
    "    ResearchAgent,\n",
    ")"
   ]
  },
  {
   "cell_type": "code",
   "execution_count": 3,
   "metadata": {
    "ExecuteTime": {
     "end_time": "2021-09-01T13:31:28.354495Z",
     "start_time": "2021-09-01T13:31:28.343260Z"
    }
   },
   "outputs": [],
   "source": [
    "from kaggle_environments.envs.lux_ai_2021.test_agents.python.lux.game import Game\n",
    "from kaggle_environments.envs.lux_ai_2021.test_agents.python.lux.game_map import Cell, RESOURCE_TYPES\n",
    "from kaggle_environments.envs.lux_ai_2021.test_agents.python.lux.constants import Constants\n",
    "from kaggle_environments.envs.lux_ai_2021.test_agents.python.lux.game_constants import GAME_CONSTANTS\n",
    "from kaggle_environments.envs.lux_ai_2021.test_agents.python.lux import annotate"
   ]
  },
  {
   "cell_type": "code",
   "execution_count": 4,
   "metadata": {
    "ExecuteTime": {
     "end_time": "2021-09-01T13:31:28.426730Z",
     "start_time": "2021-09-01T13:31:28.355503Z"
    }
   },
   "outputs": [],
   "source": [
    "plt.plot()\n",
    "plt.close('all')\n",
    "plt.rcParams[\"figure.figsize\"] = (20, 5)  \n",
    "mpl.rcParams['lines.linewidth'] = 3\n",
    "mpl.rcParams['font.size'] = 16"
   ]
  },
  {
   "cell_type": "markdown",
   "metadata": {
    "heading_collapsed": true
   },
   "source": [
    "## Simple agent"
   ]
  },
  {
   "cell_type": "markdown",
   "metadata": {
    "hidden": true
   },
   "source": [
    "I will first refactorize the simple agent to ease up the improvement process.\n",
    "\n",
    "The visualization below shows that it acts exactly as the simple_agent, but the code is much better prepared for expansion."
   ]
  },
  {
   "cell_type": "code",
   "execution_count": 5,
   "metadata": {
    "ExecuteTime": {
     "end_time": "2021-09-01T13:19:06.669398Z",
     "start_time": "2021-09-01T13:19:04.083726Z"
    },
    "deletable": false,
    "editable": false,
    "hidden": true,
    "run_control": {
     "frozen": true
    }
   },
   "outputs": [
    {
     "name": "stdout",
     "output_type": "stream",
     "text": [
      "Opening in existing browser session.\n"
     ]
    }
   ],
   "source": [
    "env = make(\"lux_ai_2021\", debug=True, configuration={'width': 12, 'height': 12, 'seed': 0, 'episodeSteps': 361})\n",
    "initial_info = env.reset()\n",
    "game_info = env.run(['simple_agent', SimpleAgent()])\n",
    "render_game_in_html(env)"
   ]
  },
  {
   "cell_type": "markdown",
   "metadata": {
    "heading_collapsed": true
   },
   "source": [
    "## Research agent"
   ]
  },
  {
   "cell_type": "markdown",
   "metadata": {
    "hidden": true
   },
   "source": [
    "Let's start by improving the simple agent to do research whith the available city tiles. I will first refactorize the simple agent to ease up the improvement process."
   ]
  },
  {
   "cell_type": "code",
   "execution_count": 5,
   "metadata": {
    "ExecuteTime": {
     "end_time": "2021-09-01T13:31:30.835022Z",
     "start_time": "2021-09-01T13:31:28.429611Z"
    },
    "deletable": false,
    "editable": false,
    "hidden": true,
    "run_control": {
     "frozen": true
    }
   },
   "outputs": [
    {
     "name": "stdout",
     "output_type": "stream",
     "text": [
      "Opening in existing browser session.\n"
     ]
    }
   ],
   "source": [
    "env = make(\"lux_ai_2021\", debug=True, configuration={'width': 12, 'height': 12, 'seed': 0, 'episodeSteps': 361})\n",
    "initial_info = env.reset()\n",
    "game_info = env.run(['simple_agent', ResearchAgent()])\n",
    "render_game_in_html(env)"
   ]
  },
  {
   "cell_type": "markdown",
   "metadata": {
    "hidden": true
   },
   "source": [
    "Metrics show that the new agent is researching while the other isn't."
   ]
  },
  {
   "cell_type": "code",
   "execution_count": 6,
   "metadata": {
    "ExecuteTime": {
     "end_time": "2021-09-01T13:34:46.194938Z",
     "start_time": "2021-09-01T13:34:44.086556Z"
    },
    "deletable": false,
    "editable": false,
    "hidden": true,
    "run_control": {
     "frozen": true
    }
   },
   "outputs": [
    {
     "name": "stdout",
     "output_type": "stream",
     "text": [
      "Opening in existing browser session.\n"
     ]
    },
    {
     "name": "stderr",
     "output_type": "stream",
     "text": [
      "[13002:13002:0901/153446.195032:ERROR:broker_posix.cc(43)] Invalid node channel message\n",
      "[13000:13000:0100/000000.376063:ERROR:broker_posix.cc(43)] Invalid node channel message\n"
     ]
    }
   ],
   "source": [
    "env = make(\"lux_ai_2021\", debug=True, configuration={'width': 12, 'height': 12, 'seed': 1, 'episodeSteps': 361})\n",
    "initial_info = env.reset()\n",
    "game_info = env.run(['simple_agent', ResearchAgent()])\n",
    "render_game_in_html(env)"
   ]
  },
  {
   "cell_type": "markdown",
   "metadata": {
    "hidden": true
   },
   "source": [
    "With this seed we can see that the worker dies in the night because it has no fuel, let's create a new agent that is able to generate workers when possible, otherwise researchs."
   ]
  },
  {
   "cell_type": "markdown",
   "metadata": {},
   "source": [
    "## Build new workers"
   ]
  },
  {
   "cell_type": "markdown",
   "metadata": {},
   "source": [
    "If I want to build new workers I have to first check if there are more city tiles than units."
   ]
  },
  {
   "cell_type": "code",
   "execution_count": null,
   "metadata": {},
   "outputs": [],
   "source": [
    "env = make(\"lux_ai_2021\", debug=True, configuration={'width': 12, 'height': 12, 'seed': 0, 'episodeSteps': 361})\n",
    "initial_info = env.reset()\n",
    "game_info = env.run(['simple_agent', ResearchAgent()])\n",
    "render_game_in_html(env)"
   ]
  },
  {
   "cell_type": "markdown",
   "metadata": {},
   "source": [
    "## Build new city tiles"
   ]
  },
  {
   "cell_type": "markdown",
   "metadata": {},
   "source": [
    "## How I would play as a human?"
   ]
  },
  {
   "cell_type": "markdown",
   "metadata": {},
   "source": [
    "## Challenges found when creating an agent"
   ]
  },
  {
   "cell_type": "markdown",
   "metadata": {},
   "source": [
    "Let's enumerate the difficulties we have found when trying to create an agent by hand."
   ]
  },
  {
   "cell_type": "markdown",
   "metadata": {},
   "source": [
    "- Agent dying in the night because it does not have resources to create light (seed 1)"
   ]
  },
  {
   "cell_type": "markdown",
   "metadata": {},
   "source": [
    "## Summary"
   ]
  },
  {
   "cell_type": "markdown",
   "metadata": {},
   "source": [
    "## TODO"
   ]
  },
  {
   "cell_type": "markdown",
   "metadata": {},
   "source": [
    "- Move code to the library\n",
    "- Add tests \n",
    "- Function that annotates the resources of the map"
   ]
  },
  {
   "cell_type": "code",
   "execution_count": null,
   "metadata": {},
   "outputs": [],
   "source": []
  }
 ],
 "metadata": {
  "hide_input": false,
  "kernelspec": {
   "display_name": "Python (luxai)",
   "language": "python",
   "name": "luxai"
  },
  "language_info": {
   "codemirror_mode": {
    "name": "ipython",
    "version": 3
   },
   "file_extension": ".py",
   "mimetype": "text/x-python",
   "name": "python",
   "nbconvert_exporter": "python",
   "pygments_lexer": "ipython3",
   "version": "3.9.6"
  },
  "toc": {
   "base_numbering": 1,
   "nav_menu": {},
   "number_sections": false,
   "sideBar": true,
   "skip_h1_title": false,
   "title_cell": "Table of Contents",
   "title_sidebar": "Contents",
   "toc_cell": true,
   "toc_position": {},
   "toc_section_display": true,
   "toc_window_display": false
  }
 },
 "nbformat": 4,
 "nbformat_minor": 4
}
