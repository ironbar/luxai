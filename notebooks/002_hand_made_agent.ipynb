{
 "cells": [
  {
   "cell_type": "markdown",
   "metadata": {
    "toc": true
   },
   "source": [
    "<h1>Table of Contents<span class=\"tocSkip\"></span></h1>\n",
    "<div class=\"toc\"><ul class=\"toc-item\"><li><span><a href=\"#Hand-made-agent\" data-toc-modified-id=\"Hand-made-agent-1\">Hand made agent</a></span><ul class=\"toc-item\"><li><span><a href=\"#Goal\" data-toc-modified-id=\"Goal-1.1\">Goal</a></span></li><li><span><a href=\"#Imports\" data-toc-modified-id=\"Imports-1.2\">Imports</a></span></li><li><span><a href=\"#Simple-agent\" data-toc-modified-id=\"Simple-agent-1.3\">Simple agent</a></span><ul class=\"toc-item\"><li><span><a href=\"#Code\" data-toc-modified-id=\"Code-1.3.1\">Code</a></span></li><li><span><a href=\"#Match-visualization\" data-toc-modified-id=\"Match-visualization-1.3.2\">Match visualization</a></span></li></ul></li><li><span><a href=\"#Research-agent\" data-toc-modified-id=\"Research-agent-1.4\">Research agent</a></span><ul class=\"toc-item\"><li><span><a href=\"#Code\" data-toc-modified-id=\"Code-1.4.1\">Code</a></span></li><li><span><a href=\"#Match-visualization\" data-toc-modified-id=\"Match-visualization-1.4.2\">Match visualization</a></span></li></ul></li><li><span><a href=\"#Build-new-city-tiles\" data-toc-modified-id=\"Build-new-city-tiles-1.5\">Build new city tiles</a></span></li><li><span><a href=\"#Build-new-workers\" data-toc-modified-id=\"Build-new-workers-1.6\">Build new workers</a></span></li><li><span><a href=\"#How-I-would-play-as-a-human?\" data-toc-modified-id=\"How-I-would-play-as-a-human?-1.7\">How I would play as a human?</a></span></li><li><span><a href=\"#Challenges-found-when-creating-an-agent\" data-toc-modified-id=\"Challenges-found-when-creating-an-agent-1.8\">Challenges found when creating an agent</a></span></li><li><span><a href=\"#Summary\" data-toc-modified-id=\"Summary-1.9\">Summary</a></span></li><li><span><a href=\"#TODO\" data-toc-modified-id=\"TODO-1.10\">TODO</a></span></li></ul></li></ul></div>"
   ]
  },
  {
   "cell_type": "markdown",
   "metadata": {},
   "source": [
    "# Hand made agent"
   ]
  },
  {
   "cell_type": "markdown",
   "metadata": {},
   "source": [
    "## Goal"
   ]
  },
  {
   "cell_type": "markdown",
   "metadata": {},
   "source": [
    "## Imports"
   ]
  },
  {
   "cell_type": "code",
   "execution_count": 1,
   "metadata": {
    "ExecuteTime": {
     "end_time": "2021-09-01T12:54:56.641605Z",
     "start_time": "2021-09-01T12:54:56.627813Z"
    }
   },
   "outputs": [],
   "source": [
    "# Use this to reload changes in python scripts\n",
    "%load_ext autoreload\n",
    "%autoreload 2"
   ]
  },
  {
   "cell_type": "code",
   "execution_count": 2,
   "metadata": {
    "ExecuteTime": {
     "end_time": "2021-09-01T12:54:56.967658Z",
     "start_time": "2021-09-01T12:54:56.643381Z"
    }
   },
   "outputs": [
    {
     "name": "stdout",
     "output_type": "stream",
     "text": [
      "Loading environment football failed: No module named 'gfootball'\n"
     ]
    }
   ],
   "source": [
    "import os\n",
    "import tempfile\n",
    "import matplotlib as mpl\n",
    "import matplotlib.pyplot as plt\n",
    "import numpy as np\n",
    "from kaggle_environments import make\n",
    "from functools import partial\n",
    "\n",
    "from luxai.utils import render_game_in_html\n",
    "from luxai.agents.basic import SimpleAgent"
   ]
  },
  {
   "cell_type": "code",
   "execution_count": 3,
   "metadata": {
    "ExecuteTime": {
     "end_time": "2021-09-01T12:54:56.988898Z",
     "start_time": "2021-09-01T12:54:56.969309Z"
    }
   },
   "outputs": [],
   "source": [
    "from kaggle_environments.envs.lux_ai_2021.test_agents.python.lux.game import Game\n",
    "from kaggle_environments.envs.lux_ai_2021.test_agents.python.lux.game_map import Cell, RESOURCE_TYPES\n",
    "from kaggle_environments.envs.lux_ai_2021.test_agents.python.lux.constants import Constants\n",
    "from kaggle_environments.envs.lux_ai_2021.test_agents.python.lux.game_constants import GAME_CONSTANTS\n",
    "from kaggle_environments.envs.lux_ai_2021.test_agents.python.lux import annotate"
   ]
  },
  {
   "cell_type": "code",
   "execution_count": 4,
   "metadata": {
    "ExecuteTime": {
     "end_time": "2021-09-01T12:54:57.089589Z",
     "start_time": "2021-09-01T12:54:56.991329Z"
    }
   },
   "outputs": [],
   "source": [
    "plt.plot()\n",
    "plt.close('all')\n",
    "plt.rcParams[\"figure.figsize\"] = (20, 5)  \n",
    "mpl.rcParams['lines.linewidth'] = 3\n",
    "mpl.rcParams['font.size'] = 16"
   ]
  },
  {
   "cell_type": "markdown",
   "metadata": {},
   "source": [
    "## Simple agent"
   ]
  },
  {
   "cell_type": "markdown",
   "metadata": {},
   "source": [
    "I will first refactorize the simple agent to ease up the improvement process."
   ]
  },
  {
   "cell_type": "code",
   "execution_count": 5,
   "metadata": {
    "ExecuteTime": {
     "end_time": "2021-09-01T12:54:59.748753Z",
     "start_time": "2021-09-01T12:54:57.094437Z"
    }
   },
   "outputs": [
    {
     "name": "stdout",
     "output_type": "stream",
     "text": [
      "Opening in existing browser session.\n"
     ]
    }
   ],
   "source": [
    "env = make(\"lux_ai_2021\", debug=True, configuration={'width': 12, 'height': 12, 'seed': 0, 'episodeSteps': 361})\n",
    "initial_info = env.reset()\n",
    "game_info = env.run(['simple_agent', SimpleAgent()])\n",
    "render_game_in_html(env)"
   ]
  },
  {
   "cell_type": "markdown",
   "metadata": {
    "heading_collapsed": true
   },
   "source": [
    "## Research agent"
   ]
  },
  {
   "cell_type": "markdown",
   "metadata": {
    "hidden": true
   },
   "source": [
    "Let's start by improving the simple agent to do research whith the available city tiles. I will first refactorize the simple agent to ease up the improvement process."
   ]
  },
  {
   "cell_type": "markdown",
   "metadata": {
    "hidden": true
   },
   "source": [
    "### Code"
   ]
  },
  {
   "cell_type": "markdown",
   "metadata": {
    "hidden": true
   },
   "source": [
    "### Match visualization"
   ]
  },
  {
   "cell_type": "code",
   "execution_count": null,
   "metadata": {
    "hidden": true
   },
   "outputs": [],
   "source": []
  },
  {
   "cell_type": "markdown",
   "metadata": {},
   "source": [
    "## Build new city tiles"
   ]
  },
  {
   "cell_type": "markdown",
   "metadata": {},
   "source": [
    "## Build new workers"
   ]
  },
  {
   "cell_type": "markdown",
   "metadata": {},
   "source": [
    "## How I would play as a human?"
   ]
  },
  {
   "cell_type": "markdown",
   "metadata": {},
   "source": [
    "## Challenges found when creating an agent"
   ]
  },
  {
   "cell_type": "markdown",
   "metadata": {},
   "source": [
    "Let's enumerate the difficulties we have found when trying to create an agent by hand."
   ]
  },
  {
   "cell_type": "markdown",
   "metadata": {},
   "source": [
    "## Summary"
   ]
  },
  {
   "cell_type": "markdown",
   "metadata": {},
   "source": [
    "## TODO"
   ]
  },
  {
   "cell_type": "markdown",
   "metadata": {},
   "source": [
    "- Move code to the library\n",
    "- Add tests \n",
    "- Function that annotates the resources of the map"
   ]
  },
  {
   "cell_type": "code",
   "execution_count": null,
   "metadata": {},
   "outputs": [],
   "source": []
  }
 ],
 "metadata": {
  "hide_input": false,
  "kernelspec": {
   "display_name": "Python (luxai)",
   "language": "python",
   "name": "luxai"
  },
  "language_info": {
   "codemirror_mode": {
    "name": "ipython",
    "version": 3
   },
   "file_extension": ".py",
   "mimetype": "text/x-python",
   "name": "python",
   "nbconvert_exporter": "python",
   "pygments_lexer": "ipython3",
   "version": "3.9.6"
  },
  "toc": {
   "base_numbering": 1,
   "nav_menu": {},
   "number_sections": false,
   "sideBar": true,
   "skip_h1_title": false,
   "title_cell": "Table of Contents",
   "title_sidebar": "Contents",
   "toc_cell": true,
   "toc_position": {},
   "toc_section_display": true,
   "toc_window_display": false
  }
 },
 "nbformat": 4,
 "nbformat_minor": 4
}
