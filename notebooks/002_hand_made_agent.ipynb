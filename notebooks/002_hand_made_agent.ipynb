{
 "cells": [
  {
   "cell_type": "markdown",
   "metadata": {
    "toc": true
   },
   "source": [
    "<h1>Table of Contents<span class=\"tocSkip\"></span></h1>\n",
    "<div class=\"toc\"><ul class=\"toc-item\"><li><span><a href=\"#Hand-made-agent\" data-toc-modified-id=\"Hand-made-agent-1\">Hand made agent</a></span><ul class=\"toc-item\"><li><span><a href=\"#Goal\" data-toc-modified-id=\"Goal-1.1\">Goal</a></span></li><li><span><a href=\"#Imports\" data-toc-modified-id=\"Imports-1.2\">Imports</a></span></li><li><span><a href=\"#Simple-agent\" data-toc-modified-id=\"Simple-agent-1.3\">Simple agent</a></span></li><li><span><a href=\"#Research-agent\" data-toc-modified-id=\"Research-agent-1.4\">Research agent</a></span></li><li><span><a href=\"#Build-new-workers\" data-toc-modified-id=\"Build-new-workers-1.5\">Build new workers</a></span></li><li><span><a href=\"#Build-new-city-tiles\" data-toc-modified-id=\"Build-new-city-tiles-1.6\">Build new city tiles</a></span><ul class=\"toc-item\"><li><span><a href=\"#Deterministic-choice-of-closest-tile\" data-toc-modified-id=\"Deterministic-choice-of-closest-tile-1.6.1\">Deterministic choice of closest tile</a></span></li><li><span><a href=\"#Random-choice-of-closest-tile\" data-toc-modified-id=\"Random-choice-of-closest-tile-1.6.2\">Random choice of closest tile</a></span></li></ul></li><li><span><a href=\"#Avoid-collisions-when-moving\" data-toc-modified-id=\"Avoid-collisions-when-moving-1.7\">Avoid collisions when moving</a></span><ul class=\"toc-item\"><li><span><a href=\"#Study-blocking\" data-toc-modified-id=\"Study-blocking-1.7.1\">Study blocking</a></span></li><li><span><a href=\"#Visualize-solution\" data-toc-modified-id=\"Visualize-solution-1.7.2\">Visualize solution</a></span></li></ul></li><li><span><a href=\"#How-I-would-play-as-a-human?\" data-toc-modified-id=\"How-I-would-play-as-a-human?-1.8\">How I would play as a human?</a></span></li><li><span><a href=\"#Challenges-found-when-creating-an-agent\" data-toc-modified-id=\"Challenges-found-when-creating-an-agent-1.9\">Challenges found when creating an agent</a></span></li><li><span><a href=\"#Learnings\" data-toc-modified-id=\"Learnings-1.10\">Learnings</a></span></li><li><span><a href=\"#Open-Questions\" data-toc-modified-id=\"Open-Questions-1.11\">Open Questions</a></span></li><li><span><a href=\"#Summary\" data-toc-modified-id=\"Summary-1.12\">Summary</a></span></li><li><span><a href=\"#TODO\" data-toc-modified-id=\"TODO-1.13\">TODO</a></span></li></ul></li></ul></div>"
   ]
  },
  {
   "cell_type": "markdown",
   "metadata": {},
   "source": [
    "# Hand made agent"
   ]
  },
  {
   "cell_type": "markdown",
   "metadata": {},
   "source": [
    "## Goal"
   ]
  },
  {
   "cell_type": "markdown",
   "metadata": {},
   "source": [
    "## Imports"
   ]
  },
  {
   "cell_type": "code",
   "execution_count": 1,
   "metadata": {
    "ExecuteTime": {
     "end_time": "2021-09-02T13:53:38.471922Z",
     "start_time": "2021-09-02T13:53:38.447199Z"
    }
   },
   "outputs": [],
   "source": [
    "# Use this to reload changes in python scripts\n",
    "%load_ext autoreload\n",
    "%autoreload 2"
   ]
  },
  {
   "cell_type": "code",
   "execution_count": 2,
   "metadata": {
    "ExecuteTime": {
     "end_time": "2021-09-02T13:53:38.741195Z",
     "start_time": "2021-09-02T13:53:38.473489Z"
    }
   },
   "outputs": [
    {
     "name": "stdout",
     "output_type": "stream",
     "text": [
      "Loading environment football failed: No module named 'gfootball'\n"
     ]
    }
   ],
   "source": [
    "import os\n",
    "import tempfile\n",
    "import matplotlib as mpl\n",
    "import matplotlib.pyplot as plt\n",
    "import numpy as np\n",
    "from kaggle_environments import make\n",
    "from functools import partial\n",
    "\n",
    "from luxai.utils import render_game_in_html\n",
    "from luxai.agents.basic import (\n",
    "    SimpleAgent,\n",
    "    ResearchAgent,\n",
    "    BuildWorkerOrResearchAgent,\n",
    "    NaiveViralAgent,\n",
    "    NaiveRandomViralAgent,\n",
    "    ViralRemoveBlockingAgent,\n",
    ")"
   ]
  },
  {
   "cell_type": "code",
   "execution_count": 3,
   "metadata": {
    "ExecuteTime": {
     "end_time": "2021-09-02T13:53:38.750095Z",
     "start_time": "2021-09-02T13:53:38.742425Z"
    }
   },
   "outputs": [],
   "source": [
    "from kaggle_environments.envs.lux_ai_2021.test_agents.python.lux.game import Game\n",
    "from kaggle_environments.envs.lux_ai_2021.test_agents.python.lux.game_map import Cell, RESOURCE_TYPES\n",
    "from kaggle_environments.envs.lux_ai_2021.test_agents.python.lux.constants import Constants\n",
    "from kaggle_environments.envs.lux_ai_2021.test_agents.python.lux.game_constants import GAME_CONSTANTS\n",
    "from kaggle_environments.envs.lux_ai_2021.test_agents.python.lux import annotate"
   ]
  },
  {
   "cell_type": "code",
   "execution_count": 4,
   "metadata": {
    "ExecuteTime": {
     "end_time": "2021-09-02T13:53:38.823429Z",
     "start_time": "2021-09-02T13:53:38.751592Z"
    }
   },
   "outputs": [],
   "source": [
    "plt.plot()\n",
    "plt.close('all')\n",
    "plt.rcParams[\"figure.figsize\"] = (20, 5)  \n",
    "mpl.rcParams['lines.linewidth'] = 3\n",
    "mpl.rcParams['font.size'] = 16"
   ]
  },
  {
   "cell_type": "markdown",
   "metadata": {
    "heading_collapsed": true
   },
   "source": [
    "## Simple agent"
   ]
  },
  {
   "cell_type": "markdown",
   "metadata": {
    "hidden": true
   },
   "source": [
    "I will first refactorize the simple agent to ease up the improvement process.\n",
    "\n",
    "The visualization below shows that it acts exactly as the simple_agent, but the code is much better prepared for expansion."
   ]
  },
  {
   "cell_type": "code",
   "execution_count": 5,
   "metadata": {
    "ExecuteTime": {
     "end_time": "2021-09-01T13:19:06.669398Z",
     "start_time": "2021-09-01T13:19:04.083726Z"
    },
    "deletable": false,
    "editable": false,
    "hidden": true,
    "run_control": {
     "frozen": true
    }
   },
   "outputs": [
    {
     "name": "stdout",
     "output_type": "stream",
     "text": [
      "Opening in existing browser session.\n"
     ]
    }
   ],
   "source": [
    "env = make(\"lux_ai_2021\", debug=True, configuration={'width': 12, 'height': 12, 'seed': 0, 'episodeSteps': 361})\n",
    "initial_info = env.reset()\n",
    "game_info = env.run(['simple_agent', SimpleAgent()])\n",
    "render_game_in_html(env)"
   ]
  },
  {
   "cell_type": "markdown",
   "metadata": {
    "heading_collapsed": true
   },
   "source": [
    "## Research agent"
   ]
  },
  {
   "cell_type": "markdown",
   "metadata": {
    "hidden": true
   },
   "source": [
    "Let's start by improving the simple agent to do research whith the available city tiles. I will first refactorize the simple agent to ease up the improvement process."
   ]
  },
  {
   "cell_type": "code",
   "execution_count": 5,
   "metadata": {
    "ExecuteTime": {
     "end_time": "2021-09-01T13:31:30.835022Z",
     "start_time": "2021-09-01T13:31:28.429611Z"
    },
    "deletable": false,
    "editable": false,
    "hidden": true,
    "run_control": {
     "frozen": true
    }
   },
   "outputs": [
    {
     "name": "stdout",
     "output_type": "stream",
     "text": [
      "Opening in existing browser session.\n"
     ]
    }
   ],
   "source": [
    "env = make(\"lux_ai_2021\", debug=True, configuration={'width': 12, 'height': 12, 'seed': 0, 'episodeSteps': 361})\n",
    "initial_info = env.reset()\n",
    "game_info = env.run(['simple_agent', ResearchAgent()])\n",
    "render_game_in_html(env)"
   ]
  },
  {
   "cell_type": "markdown",
   "metadata": {
    "hidden": true
   },
   "source": [
    "Metrics show that the new agent is researching while the other isn't."
   ]
  },
  {
   "cell_type": "code",
   "execution_count": 6,
   "metadata": {
    "ExecuteTime": {
     "end_time": "2021-09-01T13:34:46.194938Z",
     "start_time": "2021-09-01T13:34:44.086556Z"
    },
    "deletable": false,
    "editable": false,
    "hidden": true,
    "run_control": {
     "frozen": true
    }
   },
   "outputs": [
    {
     "name": "stdout",
     "output_type": "stream",
     "text": [
      "Opening in existing browser session.\n"
     ]
    },
    {
     "name": "stderr",
     "output_type": "stream",
     "text": [
      "[13002:13002:0901/153446.195032:ERROR:broker_posix.cc(43)] Invalid node channel message\n",
      "[13000:13000:0100/000000.376063:ERROR:broker_posix.cc(43)] Invalid node channel message\n"
     ]
    }
   ],
   "source": [
    "env = make(\"lux_ai_2021\", debug=True, configuration={'width': 12, 'height': 12, 'seed': 1, 'episodeSteps': 361})\n",
    "initial_info = env.reset()\n",
    "game_info = env.run(['simple_agent', ResearchAgent()])\n",
    "render_game_in_html(env)"
   ]
  },
  {
   "cell_type": "markdown",
   "metadata": {
    "hidden": true
   },
   "source": [
    "With this seed we can see that the worker dies in the night because it has no fuel, let's create a new agent that is able to generate workers when possible, otherwise researchs."
   ]
  },
  {
   "cell_type": "markdown",
   "metadata": {
    "heading_collapsed": true
   },
   "source": [
    "## Build new workers"
   ]
  },
  {
   "cell_type": "markdown",
   "metadata": {
    "hidden": true
   },
   "source": [
    "If I want to build new workers I have to first check if there are more city tiles than units."
   ]
  },
  {
   "cell_type": "code",
   "execution_count": 6,
   "metadata": {
    "ExecuteTime": {
     "end_time": "2021-09-01T14:09:22.762705Z",
     "start_time": "2021-09-01T14:09:20.467464Z"
    },
    "deletable": false,
    "editable": false,
    "hidden": true,
    "run_control": {
     "frozen": true
    }
   },
   "outputs": [
    {
     "name": "stdout",
     "output_type": "stream",
     "text": [
      "Opening in existing browser session.\n"
     ]
    }
   ],
   "source": [
    "env = make(\"lux_ai_2021\", debug=True, configuration={'width': 12, 'height': 12, 'seed': 1, 'episodeSteps': 361})\n",
    "initial_info = env.reset()\n",
    "game_info = env.run([BuildWorkerOrResearchAgent(), ResearchAgent()])\n",
    "render_game_in_html(env)"
   ]
  },
  {
   "cell_type": "markdown",
   "metadata": {
    "hidden": true
   },
   "source": [
    "This seed of one allows to see that the first agent is able to regenerate the agent when it dies, and the other agent cannot."
   ]
  },
  {
   "cell_type": "markdown",
   "metadata": {},
   "source": [
    "## Build new city tiles"
   ]
  },
  {
   "cell_type": "markdown",
   "metadata": {},
   "source": [
    "Building new city tiles is more complex. As a first step I'm only going to grow an existing city, not to build a new one.\n",
    "\n",
    "Difficulties that I find:\n",
    "\n",
    "- Where to build a new city tile? I could simply look for empty adjacent locations to the city and choose the one that is more optimal\n",
    "- How to decide when to build a new city tile? I could build a new city tile if I have enough fuel to survive the night after creating the new tile. But a new tile will create a new worker that could bring more resources. I need to find a compromise between carrying resources to the city or growing it.\n",
    "- When going to build a new city tile I have to avoid entering to the city or I will lost the resources"
   ]
  },
  {
   "cell_type": "markdown",
   "metadata": {},
   "source": [
    "Better explained:\n",
    "\n",
    "- When: balance between gathering resources and building\n",
    "- Where: deciding the place for a new location is not trivial. Next to an existing city? The closest empty place to the worker?\n",
    "- Who: Which worker will do the task?\n",
    "- How: How to go to the location of the new city? City tiles should be avoided because resources will be converted to fuel"
   ]
  },
  {
   "cell_type": "markdown",
   "metadata": {},
   "source": [
    "As a first step I'm going to design a viral agent:\n",
    "\n",
    "1. Gather resources until the cargo is full\n",
    "2. Go to the closest empty location and build a city tile\n",
    "\n",
    "I could randomly choose between building a new city tile or carrying resources using a parameter."
   ]
  },
  {
   "cell_type": "markdown",
   "metadata": {
    "heading_collapsed": true
   },
   "source": [
    "### Deterministic choice of closest tile"
   ]
  },
  {
   "cell_type": "code",
   "execution_count": 5,
   "metadata": {
    "ExecuteTime": {
     "end_time": "2021-09-02T12:59:29.086957Z",
     "start_time": "2021-09-02T12:59:27.237470Z"
    },
    "deletable": false,
    "editable": false,
    "hidden": true,
    "run_control": {
     "frozen": true
    }
   },
   "outputs": [
    {
     "name": "stdout",
     "output_type": "stream",
     "text": [
      "Opening in existing browser session.\n"
     ]
    }
   ],
   "source": [
    "env = make(\"lux_ai_2021\", debug=True, \n",
    "           configuration={'width': 12, 'height': 12, 'seed': 1, \n",
    "                          'episodeSteps': 361, 'annotations':True})\n",
    "initial_info = env.reset()\n",
    "game_info = env.run([BuildWorkerOrResearchAgent(), NaiveViralAgent(1)])\n",
    "render_game_in_html(env)"
   ]
  },
  {
   "cell_type": "markdown",
   "metadata": {
    "hidden": true
   },
   "source": [
    "It's funny because although it is able to collect more resources and do more research it loses because of collisions. All the agents want to move to the same location, get blocked and die."
   ]
  },
  {
   "cell_type": "code",
   "execution_count": 6,
   "metadata": {
    "ExecuteTime": {
     "end_time": "2021-09-02T12:59:29.849385Z",
     "start_time": "2021-09-02T12:59:29.089215Z"
    },
    "deletable": false,
    "editable": false,
    "hidden": true,
    "run_control": {
     "frozen": true
    }
   },
   "outputs": [
    {
     "name": "stdout",
     "output_type": "stream",
     "text": [
      "Opening in existing browser session.\n"
     ]
    }
   ],
   "source": [
    "env = make(\"lux_ai_2021\", debug=True, \n",
    "           configuration={'width': 12, 'height': 12, 'seed': 0, \n",
    "                          'episodeSteps': 361, 'annotations':True})\n",
    "initial_info = env.reset()\n",
    "game_info = env.run([BuildWorkerOrResearchAgent(), NaiveViralAgent(1)])\n",
    "render_game_in_html(env)"
   ]
  },
  {
   "cell_type": "markdown",
   "metadata": {
    "hidden": true
   },
   "source": [
    "I need a way to avoid collisions and maybe randomizing the tiles when searching for the closest one could be better."
   ]
  },
  {
   "cell_type": "markdown",
   "metadata": {},
   "source": [
    "### Random choice of closest tile"
   ]
  },
  {
   "cell_type": "code",
   "execution_count": 8,
   "metadata": {
    "ExecuteTime": {
     "end_time": "2021-09-02T12:59:59.730266Z",
     "start_time": "2021-09-02T12:59:57.048023Z"
    },
    "deletable": false,
    "editable": false,
    "run_control": {
     "frozen": true
    }
   },
   "outputs": [
    {
     "name": "stdout",
     "output_type": "stream",
     "text": [
      "Opening in existing browser session.\n"
     ]
    }
   ],
   "source": [
    "env = make(\"lux_ai_2021\", debug=True, \n",
    "           configuration={'width': 12, 'height': 12, 'seed': 1, \n",
    "                          'episodeSteps': 361, 'annotations':True})\n",
    "initial_info = env.reset()\n",
    "game_info = env.run([BuildWorkerOrResearchAgent(), NaiveRandomViralAgent(1)])\n",
    "render_game_in_html(env)"
   ]
  },
  {
   "cell_type": "code",
   "execution_count": 7,
   "metadata": {
    "ExecuteTime": {
     "end_time": "2021-09-02T12:59:30.664286Z",
     "start_time": "2021-09-02T12:59:29.851339Z"
    },
    "deletable": false,
    "editable": false,
    "run_control": {
     "frozen": true
    }
   },
   "outputs": [
    {
     "name": "stdout",
     "output_type": "stream",
     "text": [
      "Opening in existing browser session.\n"
     ]
    }
   ],
   "source": [
    "env = make(\"lux_ai_2021\", debug=True, \n",
    "           configuration={'width': 12, 'height': 12, 'seed': 0, \n",
    "                          'episodeSteps': 361, 'annotations':True})\n",
    "initial_info = env.reset()\n",
    "game_info = env.run([BuildWorkerOrResearchAgent(), NaiveRandomViralAgent(1)])\n",
    "render_game_in_html(env)"
   ]
  },
  {
   "cell_type": "markdown",
   "metadata": {},
   "source": [
    "This agent is much more capable than the deterministic one because it gets blocked less frequently. However, we have to solve the blocking problem."
   ]
  },
  {
   "cell_type": "markdown",
   "metadata": {},
   "source": [
    "## Avoid collisions when moving"
   ]
  },
  {
   "cell_type": "markdown",
   "metadata": {},
   "source": [
    "The previous agent has fail because agents want to move to the same location and they get blocked.\n",
    "\n",
    "One simple way is to remove actions that lead to the same place (although clearly not optimal). Let's start by doing that."
   ]
  },
  {
   "cell_type": "markdown",
   "metadata": {
    "heading_collapsed": true
   },
   "source": [
    "### Study blocking"
   ]
  },
  {
   "cell_type": "code",
   "execution_count": 9,
   "metadata": {
    "ExecuteTime": {
     "end_time": "2021-09-02T13:03:35.908460Z",
     "start_time": "2021-09-02T13:03:34.286789Z"
    },
    "deletable": false,
    "editable": false,
    "hidden": true,
    "run_control": {
     "frozen": true
    }
   },
   "outputs": [
    {
     "name": "stdout",
     "output_type": "stream",
     "text": [
      "Opening in existing browser session.\n"
     ]
    }
   ],
   "source": [
    "env = make(\"lux_ai_2021\", debug=True, \n",
    "           configuration={'width': 12, 'height': 12, 'seed': 1, \n",
    "                          'episodeSteps': 361, 'annotations':True})\n",
    "initial_info = env.reset()\n",
    "game_info = env.run([BuildWorkerOrResearchAgent(), NaiveViralAgent(1)])\n",
    "render_game_in_html(env)"
   ]
  },
  {
   "cell_type": "code",
   "execution_count": 10,
   "metadata": {
    "ExecuteTime": {
     "end_time": "2021-09-02T13:04:08.592462Z",
     "start_time": "2021-09-02T13:04:08.565849Z"
    },
    "deletable": false,
    "editable": false,
    "hidden": true,
    "run_control": {
     "frozen": true
    }
   },
   "outputs": [
    {
     "data": {
      "text/plain": [
       "{'action': ['m u_2 s', 'bcity u_3', 'm u_4 s'],\n",
       " 'reward': 40003,\n",
       " 'info': {},\n",
       " 'observation': {'remainingOverageTime': 60, 'reward': 40003, 'player': 1},\n",
       " 'status': 'ACTIVE'}"
      ]
     },
     "execution_count": 10,
     "metadata": {},
     "output_type": "execute_result"
    }
   ],
   "source": [
    "game_info[55][1]"
   ]
  },
  {
   "cell_type": "markdown",
   "metadata": {
    "hidden": true
   },
   "source": [
    "If we look at the actions we don't have an easy way to find if they are moving to the same location. Thus I believe it is better to save the position of the movement and check that later previosly to generating the actions. Important facts:\n",
    "\n",
    "- There could be multiple units on a city, so those movements should not be considered for this checking\n",
    "- A unit that does not move could also be blocking the path"
   ]
  },
  {
   "cell_type": "markdown",
   "metadata": {},
   "source": [
    "### Visualize solution"
   ]
  },
  {
   "cell_type": "code",
   "execution_count": 5,
   "metadata": {
    "ExecuteTime": {
     "end_time": "2021-09-02T13:53:41.840862Z",
     "start_time": "2021-09-02T13:53:38.825725Z"
    }
   },
   "outputs": [
    {
     "name": "stdout",
     "output_type": "stream",
     "text": [
      "Opening in existing browser session.\n"
     ]
    }
   ],
   "source": [
    "env = make(\"lux_ai_2021\", debug=True, \n",
    "           configuration={'width': 12, 'height': 12, 'seed': 1, \n",
    "                          'episodeSteps': 361, 'annotations':True})\n",
    "initial_info = env.reset()\n",
    "game_info = env.run([BuildWorkerOrResearchAgent(), ViralRemoveBlockingAgent(1)])\n",
    "render_game_in_html(env)"
   ]
  },
  {
   "cell_type": "code",
   "execution_count": 6,
   "metadata": {
    "ExecuteTime": {
     "end_time": "2021-09-02T13:55:42.430385Z",
     "start_time": "2021-09-02T13:55:41.440807Z"
    }
   },
   "outputs": [
    {
     "name": "stdout",
     "output_type": "stream",
     "text": [
      "Opening in existing browser session.\n"
     ]
    }
   ],
   "source": [
    "env = make(\"lux_ai_2021\", debug=True, \n",
    "           configuration={'width': 12, 'height': 12, 'seed': 1, \n",
    "                          'episodeSteps': 361, 'annotations':True})\n",
    "initial_info = env.reset()\n",
    "game_info = env.run([NaiveRandomViralAgent(1), ViralRemoveBlockingAgent(1)])\n",
    "render_game_in_html(env)"
   ]
  },
  {
   "cell_type": "code",
   "execution_count": 7,
   "metadata": {
    "ExecuteTime": {
     "end_time": "2021-09-02T13:56:13.714874Z",
     "start_time": "2021-09-02T13:56:11.544705Z"
    }
   },
   "outputs": [
    {
     "name": "stdout",
     "output_type": "stream",
     "text": [
      "Opening in existing browser session.\n"
     ]
    }
   ],
   "source": [
    "env = make(\"lux_ai_2021\", debug=True, \n",
    "           configuration={'width': 12, 'height': 12, 'seed': 0, \n",
    "                          'episodeSteps': 361, 'annotations':True})\n",
    "initial_info = env.reset()\n",
    "game_info = env.run([NaiveRandomViralAgent(1), ViralRemoveBlockingAgent(1)])\n",
    "render_game_in_html(env)"
   ]
  },
  {
   "cell_type": "markdown",
   "metadata": {},
   "source": [
    "## How I would play as a human?"
   ]
  },
  {
   "cell_type": "markdown",
   "metadata": {
    "heading_collapsed": true
   },
   "source": [
    "## Challenges found when creating an agent"
   ]
  },
  {
   "cell_type": "markdown",
   "metadata": {
    "hidden": true
   },
   "source": [
    "Let's enumerate the difficulties we have found when trying to create an agent by hand."
   ]
  },
  {
   "cell_type": "markdown",
   "metadata": {
    "hidden": true
   },
   "source": [
    "- Agent dying in the night because it does not have resources to create light (seed 1)\n",
    "- How to avoid collisions between units, how to coordinate the different goals of the units\n",
    "- How to move to a new location avoiding obstacles"
   ]
  },
  {
   "cell_type": "markdown",
   "metadata": {},
   "source": [
    "## Learnings"
   ]
  },
  {
   "cell_type": "markdown",
   "metadata": {},
   "source": [
    "- I have realized that building new city tiles is much cheaper than surviving the night (100 resources vs 300 resources). That explains why agents in the forum do \"only\" worry about increasing the worker population and not about preserving houses.\n",
    "- However I believe that maybe once coal or uranium are available it may have sense to preserve cities since using wood for cities is cheaper. Maybe carts could play a role there."
   ]
  },
  {
   "cell_type": "markdown",
   "metadata": {},
   "source": [
    "## Open Questions"
   ]
  },
  {
   "cell_type": "markdown",
   "metadata": {},
   "source": [
    "- To build a new city tile I need 100 resources. If I understand correctly that makes \"cheaper\" to build cities with wood rather than with coal or uranium.\n",
    "- Does moving to center position increases the cooldown of the agent?"
   ]
  },
  {
   "cell_type": "markdown",
   "metadata": {},
   "source": [
    "## Summary"
   ]
  },
  {
   "cell_type": "markdown",
   "metadata": {},
   "source": [
    "## TODO"
   ]
  },
  {
   "cell_type": "markdown",
   "metadata": {},
   "source": [
    "- Move code to the library\n",
    "- Add tests \n",
    "- Function that annotates the resources of the map"
   ]
  },
  {
   "cell_type": "code",
   "execution_count": null,
   "metadata": {},
   "outputs": [],
   "source": []
  }
 ],
 "metadata": {
  "hide_input": false,
  "kernelspec": {
   "display_name": "Python (luxai)",
   "language": "python",
   "name": "luxai"
  },
  "language_info": {
   "codemirror_mode": {
    "name": "ipython",
    "version": 3
   },
   "file_extension": ".py",
   "mimetype": "text/x-python",
   "name": "python",
   "nbconvert_exporter": "python",
   "pygments_lexer": "ipython3",
   "version": "3.9.6"
  },
  "toc": {
   "base_numbering": 1,
   "nav_menu": {},
   "number_sections": false,
   "sideBar": true,
   "skip_h1_title": false,
   "title_cell": "Table of Contents",
   "title_sidebar": "Contents",
   "toc_cell": true,
   "toc_position": {},
   "toc_section_display": true,
   "toc_window_display": false
  }
 },
 "nbformat": 4,
 "nbformat_minor": 4
}
