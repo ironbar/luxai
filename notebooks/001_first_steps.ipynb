{
 "cells": [
  {
   "cell_type": "markdown",
   "metadata": {
    "toc": true
   },
   "source": [
    "<h1>Table of Contents<span class=\"tocSkip\"></span></h1>\n",
    "<div class=\"toc\"><ul class=\"toc-item\"><li><span><a href=\"#First-steps-with-LuxAI\" data-toc-modified-id=\"First-steps-with-LuxAI-1\">First steps with LuxAI</a></span><ul class=\"toc-item\"><li><span><a href=\"#Imports\" data-toc-modified-id=\"Imports-1.1\">Imports</a></span></li><li><span><a href=\"#Simple-game\" data-toc-modified-id=\"Simple-game-1.2\">Simple game</a></span></li><li><span><a href=\"#Smaller-board-game\" data-toc-modified-id=\"Smaller-board-game-1.3\">Smaller board game</a></span></li><li><span><a href=\"#Exploring-game-configuration\" data-toc-modified-id=\"Exploring-game-configuration-1.4\">Exploring game configuration</a></span></li><li><span><a href=\"#Study-game-info\" data-toc-modified-id=\"Study-game-info-1.5\">Study game info</a></span><ul class=\"toc-item\"><li><span><a href=\"#Actions\" data-toc-modified-id=\"Actions-1.5.1\">Actions</a></span></li><li><span><a href=\"#Board-state\" data-toc-modified-id=\"Board-state-1.5.2\">Board state</a></span></li></ul></li><li><span><a href=\"#Parser\" data-toc-modified-id=\"Parser-1.6\">Parser</a></span></li><li><span><a href=\"#Rendering-games\" data-toc-modified-id=\"Rendering-games-1.7\">Rendering games</a></span></li><li><span><a href=\"#Open-questions\" data-toc-modified-id=\"Open-questions-1.8\">Open questions</a></span></li><li><span><a href=\"#Summary\" data-toc-modified-id=\"Summary-1.9\">Summary</a></span></li></ul></li></ul></div>"
   ]
  },
  {
   "cell_type": "markdown",
   "metadata": {},
   "source": [
    "# First steps with LuxAI"
   ]
  },
  {
   "cell_type": "markdown",
   "metadata": {
    "heading_collapsed": true
   },
   "source": [
    "## Imports"
   ]
  },
  {
   "cell_type": "code",
   "execution_count": 1,
   "metadata": {
    "ExecuteTime": {
     "end_time": "2021-08-29T13:13:14.850417Z",
     "start_time": "2021-08-29T13:13:14.626207Z"
    },
    "hidden": true
   },
   "outputs": [
    {
     "name": "stdout",
     "output_type": "stream",
     "text": [
      "Loading environment football failed: No module named 'gfootball'\n"
     ]
    }
   ],
   "source": [
    "from kaggle_environments import make"
   ]
  },
  {
   "cell_type": "markdown",
   "metadata": {
    "heading_collapsed": true
   },
   "source": [
    "## Simple game"
   ]
  },
  {
   "cell_type": "code",
   "execution_count": 2,
   "metadata": {
    "ExecuteTime": {
     "end_time": "2021-08-29T13:13:15.257740Z",
     "start_time": "2021-08-29T13:13:14.852446Z"
    },
    "hidden": true
   },
   "outputs": [],
   "source": [
    "env = make(\"lux_ai_2021\", configuration={\"seed\": 562124210, \"loglevel\": 0}, debug=True)"
   ]
  },
  {
   "cell_type": "code",
   "execution_count": 3,
   "metadata": {
    "ExecuteTime": {
     "end_time": "2021-08-29T13:13:15.276787Z",
     "start_time": "2021-08-29T13:13:15.259859Z"
    },
    "hidden": true
   },
   "outputs": [],
   "source": [
    "initial_info = env.reset()"
   ]
  },
  {
   "cell_type": "code",
   "execution_count": 4,
   "metadata": {
    "ExecuteTime": {
     "end_time": "2021-08-29T13:13:19.263779Z",
     "start_time": "2021-08-29T13:13:15.279415Z"
    },
    "hidden": true
   },
   "outputs": [],
   "source": [
    "game_info = env.run([\"simple_agent\", \"simple_agent\"])"
   ]
  },
  {
   "cell_type": "markdown",
   "metadata": {
    "hidden": true
   },
   "source": [
    "Quite slow to run a very simple game. Let's see if we set debug to False if we can get faster playing."
   ]
  },
  {
   "cell_type": "code",
   "execution_count": 21,
   "metadata": {
    "ExecuteTime": {
     "end_time": "2021-08-29T13:20:33.563350Z",
     "start_time": "2021-08-29T13:20:33.520940Z"
    },
    "hidden": true
   },
   "outputs": [],
   "source": [
    "env = make(\"lux_ai_2021\", configuration={\"seed\": 562124210, \"loglevel\": 0}, debug=False)\n",
    "initial_info = env.reset()"
   ]
  },
  {
   "cell_type": "code",
   "execution_count": 22,
   "metadata": {
    "ExecuteTime": {
     "end_time": "2021-08-29T13:20:42.247523Z",
     "start_time": "2021-08-29T13:20:37.199297Z"
    },
    "hidden": true
   },
   "outputs": [],
   "source": [
    "game_info = env.run([\"simple_agent\", \"simple_agent\"])"
   ]
  },
  {
   "cell_type": "markdown",
   "metadata": {
    "ExecuteTime": {
     "end_time": "2021-08-29T13:20:59.966348Z",
     "start_time": "2021-08-29T13:20:59.960685Z"
    },
    "hidden": true
   },
   "source": [
    "Even slower."
   ]
  },
  {
   "cell_type": "markdown",
   "metadata": {
    "heading_collapsed": true
   },
   "source": [
    "## Smaller board game"
   ]
  },
  {
   "cell_type": "code",
   "execution_count": 20,
   "metadata": {
    "ExecuteTime": {
     "end_time": "2021-08-29T13:19:39.764009Z",
     "start_time": "2021-08-29T13:19:39.535013Z"
    },
    "hidden": true
   },
   "outputs": [
    {
     "data": {
      "text/plain": [
       "[32, 32, 32, 32, 32, 32, 32, 32, 32, 32]"
      ]
     },
     "execution_count": 20,
     "metadata": {},
     "output_type": "execute_result"
    }
   ],
   "source": [
    "env = make(\"lux_ai_2021\")\n",
    "[env.reset()[0]['observation']['width'] for _ in range(10)]"
   ]
  },
  {
   "cell_type": "markdown",
   "metadata": {
    "hidden": true
   },
   "source": [
    "It seems that by default the size is 32."
   ]
  },
  {
   "cell_type": "code",
   "execution_count": 26,
   "metadata": {
    "ExecuteTime": {
     "end_time": "2021-08-29T13:22:19.052496Z",
     "start_time": "2021-08-29T13:22:18.837644Z"
    },
    "hidden": true
   },
   "outputs": [
    {
     "data": {
      "text/plain": [
       "[16, 16, 16, 16, 16, 16, 16, 16, 16, 16]"
      ]
     },
     "execution_count": 26,
     "metadata": {},
     "output_type": "execute_result"
    }
   ],
   "source": [
    "env = make(\"lux_ai_2021\", debug=False, configuration={'width': 16, 'height': 16})\n",
    "[env.reset()[0]['observation']['width'] for _ in range(10)]"
   ]
  },
  {
   "cell_type": "markdown",
   "metadata": {
    "hidden": true
   },
   "source": [
    "We can change that on the configuration when creating the environment. Let's see more parameters that can be found on the configuration."
   ]
  },
  {
   "cell_type": "markdown",
   "metadata": {
    "heading_collapsed": true
   },
   "source": [
    "## Exploring game configuration"
   ]
  },
  {
   "cell_type": "code",
   "execution_count": 43,
   "metadata": {
    "ExecuteTime": {
     "end_time": "2021-08-29T13:50:43.910638Z",
     "start_time": "2021-08-29T13:50:43.883762Z"
    },
    "hidden": true
   },
   "outputs": [
    {
     "data": {
      "text/plain": [
       "{'width': 12,\n",
       " 'height': 12,\n",
       " 'episodeSteps': 361,\n",
       " 'actTimeout': 3,\n",
       " 'runTimeout': 1200,\n",
       " 'mapType': 'random',\n",
       " 'annotations': False,\n",
       " 'loglevel': 0,\n",
       " 'seed': 751269832}"
      ]
     },
     "execution_count": 43,
     "metadata": {},
     "output_type": "execute_result"
    }
   ],
   "source": [
    "env = make(\"lux_ai_2021\", debug=False, configuration={'width': 12, 'height': 12})\n",
    "env.configuration"
   ]
  },
  {
   "cell_type": "code",
   "execution_count": 44,
   "metadata": {
    "ExecuteTime": {
     "end_time": "2021-08-29T13:50:54.389230Z",
     "start_time": "2021-08-29T13:50:54.361903Z"
    },
    "hidden": true
   },
   "outputs": [
    {
     "data": {
      "text/plain": [
       "{'width': 16,\n",
       " 'height': 16,\n",
       " 'episodeSteps': 361,\n",
       " 'actTimeout': 3,\n",
       " 'runTimeout': 1200,\n",
       " 'mapType': 'random',\n",
       " 'annotations': False,\n",
       " 'loglevel': 0,\n",
       " 'seed': 707289808}"
      ]
     },
     "execution_count": 44,
     "metadata": {},
     "output_type": "execute_result"
    }
   ],
   "source": [
    "env = make(\"lux_ai_2021\", debug=False, configuration={'width': 16, 'height': 16})\n",
    "env.configuration"
   ]
  },
  {
   "cell_type": "markdown",
   "metadata": {
    "hidden": true
   },
   "source": [
    "I have visualized that reseting the game does not change the map, we should change the seed to do that."
   ]
  },
  {
   "cell_type": "raw",
   "metadata": {
    "ExecuteTime": {
     "end_time": "2021-08-29T13:55:30.498174Z",
     "start_time": "2021-08-29T13:55:29.330664Z"
    },
    "hidden": true
   },
   "source": [
    "env = make(\"lux_ai_2021\", debug=False, configuration={'width': 12, 'height': 12, 'seed': 0})\n",
    "initial_info = env.reset()\n",
    "game_info = env.run([\"simple_agent\", \"simple_agent\"])\n",
    "\n",
    "len(env.run([\"simple_agent\", \"simple_agent\"]))\n",
    "\n",
    "env.configuration['seed'] = 1\n",
    "len(env.run([\"simple_agent\", \"simple_agent\"]))"
   ]
  },
  {
   "cell_type": "markdown",
   "metadata": {},
   "source": [
    "## Study game info"
   ]
  },
  {
   "cell_type": "markdown",
   "metadata": {},
   "source": [
    "Now let's see which information is provided by the game for playing."
   ]
  },
  {
   "cell_type": "code",
   "execution_count": 57,
   "metadata": {
    "ExecuteTime": {
     "end_time": "2021-08-29T13:58:28.732167Z",
     "start_time": "2021-08-29T13:58:27.251791Z"
    }
   },
   "outputs": [],
   "source": [
    "env = make(\"lux_ai_2021\", debug=False, configuration={'width': 12, 'height': 12})\n",
    "initial_info = env.reset()\n",
    "game_info = env.run([\"simple_agent\", \"simple_agent\"])"
   ]
  },
  {
   "cell_type": "markdown",
   "metadata": {
    "heading_collapsed": true
   },
   "source": [
    "### Actions"
   ]
  },
  {
   "cell_type": "code",
   "execution_count": 60,
   "metadata": {
    "ExecuteTime": {
     "end_time": "2021-08-29T14:01:19.464782Z",
     "start_time": "2021-08-29T14:01:19.457843Z"
    },
    "hidden": true
   },
   "outputs": [
    {
     "data": {
      "text/plain": [
       "{'action': ['m u_2 n'],\n",
       " 'reward': 10001,\n",
       " 'info': {},\n",
       " 'observation': {'remainingOverageTime': 60, 'reward': 10001, 'player': 1},\n",
       " 'status': 'ACTIVE'}"
      ]
     },
     "execution_count": 60,
     "metadata": {},
     "output_type": "execute_result"
    }
   ],
   "source": [
    "game_info[1][1]"
   ]
  },
  {
   "cell_type": "code",
   "execution_count": 65,
   "metadata": {
    "ExecuteTime": {
     "end_time": "2021-08-29T14:05:44.869991Z",
     "start_time": "2021-08-29T14:05:44.861768Z"
    },
    "hidden": true
   },
   "outputs": [
    {
     "data": {
      "text/plain": [
       "[[],\n",
       " ['m u_2 n'],\n",
       " [],\n",
       " ['m u_2 c'],\n",
       " ['m u_2 s'],\n",
       " ['m u_2 n'],\n",
       " [],\n",
       " ['m u_2 c'],\n",
       " ['m u_2 s'],\n",
       " ['m u_2 n'],\n",
       " [],\n",
       " ['m u_2 c'],\n",
       " ['m u_2 s'],\n",
       " ['m u_2 n'],\n",
       " [],\n",
       " ['m u_2 c'],\n",
       " ['m u_2 s'],\n",
       " ['m u_2 n'],\n",
       " [],\n",
       " ['m u_2 c']]"
      ]
     },
     "execution_count": 65,
     "metadata": {},
     "output_type": "execute_result"
    }
   ],
   "source": [
    "[step_info[1]['action'] for step_info in game_info[:20]]"
   ]
  },
  {
   "cell_type": "code",
   "execution_count": 68,
   "metadata": {
    "ExecuteTime": {
     "end_time": "2021-08-29T14:16:22.771878Z",
     "start_time": "2021-08-29T14:16:22.763230Z"
    },
    "hidden": true
   },
   "outputs": [
    {
     "data": {
      "text/plain": [
       "[[],\n",
       " ['m u_1 n'],\n",
       " [],\n",
       " ['m u_1 c'],\n",
       " ['m u_1 s'],\n",
       " ['m u_1 n'],\n",
       " [],\n",
       " ['m u_1 c'],\n",
       " ['m u_1 s'],\n",
       " ['m u_1 n'],\n",
       " [],\n",
       " ['m u_1 c'],\n",
       " ['m u_1 s'],\n",
       " ['m u_1 n'],\n",
       " [],\n",
       " ['m u_1 c'],\n",
       " ['m u_1 s'],\n",
       " ['m u_1 n'],\n",
       " [],\n",
       " ['m u_1 c']]"
      ]
     },
     "execution_count": 68,
     "metadata": {},
     "output_type": "execute_result"
    }
   ],
   "source": [
    "[step_info[0]['action'] for step_info in game_info[:20]]"
   ]
  },
  {
   "cell_type": "markdown",
   "metadata": {
    "hidden": true
   },
   "source": [
    "It seems that it simply gives the order move to the unit u_2 and the direction of the movement. In the forum I can see that multiple actions can be given as a list: `{\"action\": [\"r 21 6\", \"m u_1 w\"]` or `\"action\": [\"r 14 5\", \"bcity u_7\", \"m u_87 w\", \"m u_107 w\", \"m u_109 s\", \"m u_112 w\"]`"
   ]
  },
  {
   "cell_type": "markdown",
   "metadata": {},
   "source": [
    "### Board state"
   ]
  },
  {
   "cell_type": "code",
   "execution_count": 69,
   "metadata": {
    "ExecuteTime": {
     "end_time": "2021-08-29T14:18:21.284585Z",
     "start_time": "2021-08-29T14:18:21.275851Z"
    }
   },
   "outputs": [
    {
     "data": {
      "text/plain": [
       "{'remainingOverageTime': 60,\n",
       " 'step': 1,\n",
       " 'width': 12,\n",
       " 'height': 12,\n",
       " 'reward': 10001,\n",
       " 'globalUnitIDCount': 2,\n",
       " 'globalCityIDCount': 2,\n",
       " 'player': 0,\n",
       " 'updates': ['rp 0 0',\n",
       "  'rp 1 0',\n",
       "  'r wood 0 1 354',\n",
       "  'r wood 0 2 357',\n",
       "  'r wood 0 3 328',\n",
       "  'r wood 0 4 331',\n",
       "  'r wood 0 5 385',\n",
       "  'r uranium 0 9 315',\n",
       "  'r wood 1 2 337',\n",
       "  'r wood 1 3 324',\n",
       "  'r wood 1 4 316',\n",
       "  'r coal 1 10 351',\n",
       "  'r coal 1 11 350',\n",
       "  'r wood 2 1 780',\n",
       "  'r wood 2 2 800',\n",
       "  'r wood 2 3 367',\n",
       "  'r coal 2 11 390',\n",
       "  'r wood 3 1 780',\n",
       "  'r wood 8 1 780',\n",
       "  'r wood 9 1 780',\n",
       "  'r wood 9 2 800',\n",
       "  'r wood 9 3 367',\n",
       "  'r coal 9 11 390',\n",
       "  'r wood 10 2 337',\n",
       "  'r wood 10 3 324',\n",
       "  'r wood 10 4 316',\n",
       "  'r coal 10 10 351',\n",
       "  'r coal 10 11 350',\n",
       "  'r wood 11 1 354',\n",
       "  'r wood 11 2 357',\n",
       "  'r wood 11 3 328',\n",
       "  'r wood 11 4 331',\n",
       "  'r wood 11 5 385',\n",
       "  'r uranium 11 9 315',\n",
       "  'u 0 0 u_1 3 1 1 40 0 0',\n",
       "  'u 0 1 u_2 8 1 1 40 0 0',\n",
       "  'c 0 c_1 0 30',\n",
       "  'c 1 c_2 0 30',\n",
       "  'ct 0 c_1 3 2 0',\n",
       "  'ct 1 c_2 8 2 0',\n",
       "  'ccd 3 2 6',\n",
       "  'ccd 8 2 6',\n",
       "  'D_DONE']}"
      ]
     },
     "execution_count": 69,
     "metadata": {},
     "output_type": "execute_result"
    }
   ],
   "source": [
    "game_info[1][0]['observation']"
   ]
  },
  {
   "cell_type": "code",
   "execution_count": 70,
   "metadata": {
    "ExecuteTime": {
     "end_time": "2021-08-29T14:21:35.931164Z",
     "start_time": "2021-08-29T14:21:35.922522Z"
    }
   },
   "outputs": [
    {
     "data": {
      "text/plain": [
       "{'remainingOverageTime': 60,\n",
       " 'step': 2,\n",
       " 'width': 12,\n",
       " 'height': 12,\n",
       " 'reward': 10001,\n",
       " 'globalUnitIDCount': 2,\n",
       " 'globalCityIDCount': 2,\n",
       " 'player': 0,\n",
       " 'updates': ['rp 0 0',\n",
       "  'rp 1 0',\n",
       "  'r wood 0 1 358',\n",
       "  'r wood 0 2 361',\n",
       "  'r wood 0 3 332',\n",
       "  'r wood 0 4 335',\n",
       "  'r wood 0 5 389',\n",
       "  'r uranium 0 9 315',\n",
       "  'r wood 1 2 341',\n",
       "  'r wood 1 3 328',\n",
       "  'r wood 1 4 320',\n",
       "  'r coal 1 10 351',\n",
       "  'r coal 1 11 350',\n",
       "  'r wood 2 1 760',\n",
       "  'r wood 2 2 800',\n",
       "  'r wood 2 3 371',\n",
       "  'r coal 2 11 390',\n",
       "  'r wood 3 1 760',\n",
       "  'r wood 8 1 760',\n",
       "  'r wood 9 1 760',\n",
       "  'r wood 9 2 800',\n",
       "  'r wood 9 3 371',\n",
       "  'r coal 9 11 390',\n",
       "  'r wood 10 2 341',\n",
       "  'r wood 10 3 328',\n",
       "  'r wood 10 4 320',\n",
       "  'r coal 10 10 351',\n",
       "  'r coal 10 11 350',\n",
       "  'r wood 11 1 358',\n",
       "  'r wood 11 2 361',\n",
       "  'r wood 11 3 332',\n",
       "  'r wood 11 4 335',\n",
       "  'r wood 11 5 389',\n",
       "  'r uranium 11 9 315',\n",
       "  'u 0 0 u_1 3 1 0 80 0 0',\n",
       "  'u 0 1 u_2 8 1 0 80 0 0',\n",
       "  'c 0 c_1 0 30',\n",
       "  'c 1 c_2 0 30',\n",
       "  'ct 0 c_1 3 2 0',\n",
       "  'ct 1 c_2 8 2 0',\n",
       "  'ccd 3 2 6',\n",
       "  'ccd 8 2 6',\n",
       "  'D_DONE']}"
      ]
     },
     "execution_count": 70,
     "metadata": {},
     "output_type": "execute_result"
    }
   ],
   "source": [
    "game_info[2][0]['observation']"
   ]
  },
  {
   "cell_type": "markdown",
   "metadata": {},
   "source": [
    "There seems to be a parser that probably would be useful both for reading board state and for giving actions."
   ]
  },
  {
   "cell_type": "markdown",
   "metadata": {},
   "source": [
    "## Parser"
   ]
  },
  {
   "cell_type": "code",
   "execution_count": null,
   "metadata": {},
   "outputs": [],
   "source": []
  },
  {
   "cell_type": "markdown",
   "metadata": {
    "heading_collapsed": true
   },
   "source": [
    "## Rendering games"
   ]
  },
  {
   "cell_type": "code",
   "execution_count": null,
   "metadata": {
    "ExecuteTime": {
     "end_time": "2021-08-29T13:55:32.760149Z",
     "start_time": "2021-08-29T13:55:32.632213Z"
    },
    "hidden": true
   },
   "outputs": [],
   "source": [
    "env.render(mode=\"ipython\", width=1000, height=800)"
   ]
  },
  {
   "cell_type": "code",
   "execution_count": 32,
   "metadata": {
    "ExecuteTime": {
     "end_time": "2021-08-29T13:33:33.514665Z",
     "start_time": "2021-08-29T13:33:33.508440Z"
    },
    "hidden": true
   },
   "outputs": [
    {
     "data": {
      "text/plain": [
       "True"
      ]
     },
     "execution_count": 32,
     "metadata": {},
     "output_type": "execute_result"
    }
   ],
   "source": [
    "env.done"
   ]
  },
  {
   "cell_type": "code",
   "execution_count": null,
   "metadata": {
    "ExecuteTime": {
     "end_time": "2021-08-29T13:42:34.672202Z",
     "start_time": "2021-08-29T13:42:34.538533Z"
    },
    "hidden": true
   },
   "outputs": [],
   "source": [
    "env.render(mode=\"ipython\", width=1000, height=800)"
   ]
  },
  {
   "cell_type": "markdown",
   "metadata": {
    "hidden": true
   },
   "source": [
    "Playing on smaller boards is faster."
   ]
  },
  {
   "cell_type": "markdown",
   "metadata": {
    "hidden": true
   },
   "source": [
    "Search on hungry_geese how to open a new tab on the browser with that replay. "
   ]
  },
  {
   "cell_type": "code",
   "execution_count": 17,
   "metadata": {
    "ExecuteTime": {
     "end_time": "2021-08-29T09:22:54.648061Z",
     "start_time": "2021-08-29T09:22:54.551141Z"
    },
    "hidden": true
   },
   "outputs": [],
   "source": [
    "with open('replay.html', 'w') as f:\n",
    "    f.write(env.render(mode='html'))"
   ]
  },
  {
   "cell_type": "code",
   "execution_count": null,
   "metadata": {
    "ExecuteTime": {
     "end_time": "2021-08-29T09:19:26.353241Z",
     "start_time": "2021-08-29T09:19:26.262789Z"
    },
    "hidden": true
   },
   "outputs": [],
   "source": [
    "env.render(mode=\"ipython\", width=1000, height=1000)"
   ]
  },
  {
   "cell_type": "code",
   "execution_count": 13,
   "metadata": {
    "ExecuteTime": {
     "end_time": "2021-08-29T09:20:19.301020Z",
     "start_time": "2021-08-29T09:20:19.268069Z"
    },
    "hidden": true
   },
   "outputs": [
    {
     "ename": "NotImplementedError",
     "evalue": "To render the replay, please set the render mode to json or html",
     "output_type": "error",
     "traceback": [
      "\u001b[0;31m---------------------------------------------------------------------------\u001b[0m",
      "\u001b[0;31mNotImplementedError\u001b[0m                       Traceback (most recent call last)",
      "\u001b[0;32m/tmp/ipykernel_30063/3653216573.py\u001b[0m in \u001b[0;36m<module>\u001b[0;34m\u001b[0m\n\u001b[0;32m----> 1\u001b[0;31m \u001b[0menv\u001b[0m\u001b[0;34m.\u001b[0m\u001b[0mrender\u001b[0m\u001b[0;34m(\u001b[0m\u001b[0;34m)\u001b[0m\u001b[0;34m\u001b[0m\u001b[0;34m\u001b[0m\u001b[0m\n\u001b[0m",
      "\u001b[0;32m~/miniconda3/envs/luxai/lib/python3.9/site-packages/kaggle_environments/core.py\u001b[0m in \u001b[0;36mrender\u001b[0;34m(self, **kwargs)\u001b[0m\n\u001b[1;32m    281\u001b[0m         \u001b[0;32mif\u001b[0m \u001b[0mmode\u001b[0m \u001b[0;34m==\u001b[0m \u001b[0;34m\"ansi\"\u001b[0m \u001b[0;32mor\u001b[0m \u001b[0mmode\u001b[0m \u001b[0;34m==\u001b[0m \u001b[0;34m\"human\"\u001b[0m\u001b[0;34m:\u001b[0m\u001b[0;34m\u001b[0m\u001b[0;34m\u001b[0m\u001b[0m\n\u001b[1;32m    282\u001b[0m             \u001b[0margs\u001b[0m \u001b[0;34m=\u001b[0m \u001b[0;34m[\u001b[0m\u001b[0mself\u001b[0m\u001b[0;34m.\u001b[0m\u001b[0mstate\u001b[0m\u001b[0;34m,\u001b[0m \u001b[0mself\u001b[0m\u001b[0;34m]\u001b[0m\u001b[0;34m\u001b[0m\u001b[0;34m\u001b[0m\u001b[0m\n\u001b[0;32m--> 283\u001b[0;31m             \u001b[0mout\u001b[0m \u001b[0;34m=\u001b[0m \u001b[0mself\u001b[0m\u001b[0;34m.\u001b[0m\u001b[0mrenderer\u001b[0m\u001b[0;34m(\u001b[0m\u001b[0;34m*\u001b[0m\u001b[0margs\u001b[0m\u001b[0;34m[\u001b[0m\u001b[0;34m:\u001b[0m\u001b[0mself\u001b[0m\u001b[0;34m.\u001b[0m\u001b[0mrenderer\u001b[0m\u001b[0;34m.\u001b[0m\u001b[0m__code__\u001b[0m\u001b[0;34m.\u001b[0m\u001b[0mco_argcount\u001b[0m\u001b[0;34m]\u001b[0m\u001b[0;34m)\u001b[0m\u001b[0;34m\u001b[0m\u001b[0;34m\u001b[0m\u001b[0m\n\u001b[0m\u001b[1;32m    284\u001b[0m             \u001b[0;32mif\u001b[0m \u001b[0mmode\u001b[0m \u001b[0;34m==\u001b[0m \u001b[0;34m\"ansi\"\u001b[0m\u001b[0;34m:\u001b[0m\u001b[0;34m\u001b[0m\u001b[0;34m\u001b[0m\u001b[0m\n\u001b[1;32m    285\u001b[0m                 \u001b[0;32mreturn\u001b[0m \u001b[0mout\u001b[0m\u001b[0;34m\u001b[0m\u001b[0;34m\u001b[0m\u001b[0m\n",
      "\u001b[0;32m~/miniconda3/envs/luxai/lib/python3.9/site-packages/kaggle_environments/envs/lux_ai_2021/lux_ai_2021.py\u001b[0m in \u001b[0;36mrenderer\u001b[0;34m(state, env)\u001b[0m\n\u001b[1;32m    202\u001b[0m \u001b[0;34m\u001b[0m\u001b[0m\n\u001b[1;32m    203\u001b[0m \u001b[0;32mdef\u001b[0m \u001b[0mrenderer\u001b[0m\u001b[0;34m(\u001b[0m\u001b[0mstate\u001b[0m\u001b[0;34m,\u001b[0m \u001b[0menv\u001b[0m\u001b[0;34m)\u001b[0m\u001b[0;34m:\u001b[0m\u001b[0;34m\u001b[0m\u001b[0;34m\u001b[0m\u001b[0m\n\u001b[0;32m--> 204\u001b[0;31m     \u001b[0;32mraise\u001b[0m \u001b[0mNotImplementedError\u001b[0m\u001b[0;34m(\u001b[0m\u001b[0;34m\"To render the replay, please set the render mode to json or html\"\u001b[0m\u001b[0;34m)\u001b[0m\u001b[0;34m\u001b[0m\u001b[0;34m\u001b[0m\u001b[0m\n\u001b[0m\u001b[1;32m    205\u001b[0m \u001b[0;34m\u001b[0m\u001b[0m\n\u001b[1;32m    206\u001b[0m \u001b[0;34m\u001b[0m\u001b[0m\n",
      "\u001b[0;31mNotImplementedError\u001b[0m: To render the replay, please set the render mode to json or html"
     ]
    }
   ],
   "source": [
    "env.render()"
   ]
  },
  {
   "cell_type": "markdown",
   "metadata": {},
   "source": [
    "## Open questions"
   ]
  },
  {
   "cell_type": "markdown",
   "metadata": {},
   "source": [
    "- What if the two players move to the same cell?\n",
    "- Can I provide a function as input to do faster debugging?\n",
    "- How to measure if an agent is better than the baseline?"
   ]
  },
  {
   "cell_type": "markdown",
   "metadata": {
    "heading_collapsed": true
   },
   "source": [
    "## Summary"
   ]
  },
  {
   "cell_type": "code",
   "execution_count": null,
   "metadata": {
    "hidden": true
   },
   "outputs": [],
   "source": []
  }
 ],
 "metadata": {
  "hide_input": false,
  "kernelspec": {
   "display_name": "Python (luxai)",
   "language": "python",
   "name": "luxai"
  },
  "language_info": {
   "codemirror_mode": {
    "name": "ipython",
    "version": 3
   },
   "file_extension": ".py",
   "mimetype": "text/x-python",
   "name": "python",
   "nbconvert_exporter": "python",
   "pygments_lexer": "ipython3",
   "version": "3.9.6"
  },
  "toc": {
   "base_numbering": 1,
   "nav_menu": {},
   "number_sections": false,
   "sideBar": true,
   "skip_h1_title": false,
   "title_cell": "Table of Contents",
   "title_sidebar": "Contents",
   "toc_cell": true,
   "toc_position": {},
   "toc_section_display": true,
   "toc_window_display": false
  }
 },
 "nbformat": 4,
 "nbformat_minor": 4
}
