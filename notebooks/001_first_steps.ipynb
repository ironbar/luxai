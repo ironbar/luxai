{
 "cells": [
  {
   "cell_type": "markdown",
   "metadata": {
    "toc": true
   },
   "source": [
    "<h1>Table of Contents<span class=\"tocSkip\"></span></h1>\n",
    "<div class=\"toc\"><ul class=\"toc-item\"><li><span><a href=\"#First-steps-with-LuxAI\" data-toc-modified-id=\"First-steps-with-LuxAI-1\">First steps with LuxAI</a></span><ul class=\"toc-item\"><li><span><a href=\"#Imports\" data-toc-modified-id=\"Imports-1.1\">Imports</a></span></li><li><span><a href=\"#Simple-game\" data-toc-modified-id=\"Simple-game-1.2\">Simple game</a></span></li><li><span><a href=\"#Smaller-board-game\" data-toc-modified-id=\"Smaller-board-game-1.3\">Smaller board game</a></span></li><li><span><a href=\"#Exploring-game-configuration\" data-toc-modified-id=\"Exploring-game-configuration-1.4\">Exploring game configuration</a></span></li><li><span><a href=\"#Study-game-info\" data-toc-modified-id=\"Study-game-info-1.5\">Study game info</a></span><ul class=\"toc-item\"><li><span><a href=\"#Actions\" data-toc-modified-id=\"Actions-1.5.1\">Actions</a></span></li><li><span><a href=\"#Board-state\" data-toc-modified-id=\"Board-state-1.5.2\">Board state</a></span></li></ul></li><li><span><a href=\"#Parser\" data-toc-modified-id=\"Parser-1.6\">Parser</a></span></li><li><span><a href=\"#Simple-agent-on-a-function\" data-toc-modified-id=\"Simple-agent-on-a-function-1.7\">Simple agent on a function</a></span></li><li><span><a href=\"#Collision-between-players\" data-toc-modified-id=\"Collision-between-players-1.8\">Collision between players</a></span></li><li><span><a href=\"#Annotations\" data-toc-modified-id=\"Annotations-1.9\">Annotations</a></span></li><li><span><a href=\"#Rendering-games\" data-toc-modified-id=\"Rendering-games-1.10\">Rendering games</a></span><ul class=\"toc-item\"><li><span><a href=\"#Simple-way:-use-ipython-rendering\" data-toc-modified-id=\"Simple-way:-use-ipython-rendering-1.10.1\">Simple way: use ipython rendering</a></span></li><li><span><a href=\"#Better-visualization-when-saving-to-html\" data-toc-modified-id=\"Better-visualization-when-saving-to-html-1.10.2\">Better visualization when saving to html</a></span></li></ul></li><li><span><a href=\"#Open-questions\" data-toc-modified-id=\"Open-questions-1.11\">Open questions</a></span></li><li><span><a href=\"#Summary\" data-toc-modified-id=\"Summary-1.12\">Summary</a></span></li></ul></li></ul></div>"
   ]
  },
  {
   "cell_type": "markdown",
   "metadata": {},
   "source": [
    "# First steps with LuxAI"
   ]
  },
  {
   "cell_type": "markdown",
   "metadata": {
    "heading_collapsed": true
   },
   "source": [
    "## Imports"
   ]
  },
  {
   "cell_type": "code",
   "execution_count": 9,
   "metadata": {
    "ExecuteTime": {
     "end_time": "2021-08-31T05:11:16.357184Z",
     "start_time": "2021-08-31T05:11:16.351545Z"
    },
    "hidden": true
   },
   "outputs": [],
   "source": [
    "import os\n",
    "import tempfile\n",
    "import matplotlib as mpl\n",
    "import matplotlib.pyplot as plt\n",
    "import numpy as np\n",
    "from kaggle_environments import make\n",
    "from functools import partial"
   ]
  },
  {
   "cell_type": "code",
   "execution_count": 2,
   "metadata": {
    "ExecuteTime": {
     "end_time": "2021-08-31T05:01:38.191727Z",
     "start_time": "2021-08-31T05:01:38.184690Z"
    },
    "hidden": true
   },
   "outputs": [],
   "source": [
    "from kaggle_environments.envs.lux_ai_2021.test_agents.python.lux.game import Game\n",
    "from kaggle_environments.envs.lux_ai_2021.test_agents.python.lux.game_map import Cell, RESOURCE_TYPES\n",
    "from kaggle_environments.envs.lux_ai_2021.test_agents.python.lux.constants import Constants\n",
    "from kaggle_environments.envs.lux_ai_2021.test_agents.python.lux.game_constants import GAME_CONSTANTS\n",
    "from kaggle_environments.envs.lux_ai_2021.test_agents.python.lux import annotate"
   ]
  },
  {
   "cell_type": "code",
   "execution_count": 3,
   "metadata": {
    "ExecuteTime": {
     "end_time": "2021-08-31T05:01:38.419915Z",
     "start_time": "2021-08-31T05:01:38.340910Z"
    },
    "hidden": true
   },
   "outputs": [],
   "source": [
    "plt.plot()\n",
    "plt.close('all')\n",
    "plt.rcParams[\"figure.figsize\"] = (20, 5)  \n",
    "mpl.rcParams['lines.linewidth'] = 3\n",
    "mpl.rcParams['font.size'] = 16"
   ]
  },
  {
   "cell_type": "markdown",
   "metadata": {
    "heading_collapsed": true
   },
   "source": [
    "## Simple game"
   ]
  },
  {
   "cell_type": "code",
   "execution_count": 2,
   "metadata": {
    "ExecuteTime": {
     "end_time": "2021-08-29T13:13:15.257740Z",
     "start_time": "2021-08-29T13:13:14.852446Z"
    },
    "hidden": true
   },
   "outputs": [],
   "source": [
    "env = make(\"lux_ai_2021\", configuration={\"seed\": 562124210, \"loglevel\": 0}, debug=True)"
   ]
  },
  {
   "cell_type": "code",
   "execution_count": 3,
   "metadata": {
    "ExecuteTime": {
     "end_time": "2021-08-29T13:13:15.276787Z",
     "start_time": "2021-08-29T13:13:15.259859Z"
    },
    "hidden": true
   },
   "outputs": [],
   "source": [
    "initial_info = env.reset()"
   ]
  },
  {
   "cell_type": "code",
   "execution_count": 4,
   "metadata": {
    "ExecuteTime": {
     "end_time": "2021-08-29T13:13:19.263779Z",
     "start_time": "2021-08-29T13:13:15.279415Z"
    },
    "hidden": true
   },
   "outputs": [],
   "source": [
    "game_info = env.run([\"simple_agent\", \"simple_agent\"])"
   ]
  },
  {
   "cell_type": "markdown",
   "metadata": {
    "hidden": true
   },
   "source": [
    "Quite slow to run a very simple game. Let's see if we set debug to False if we can get faster playing."
   ]
  },
  {
   "cell_type": "code",
   "execution_count": 21,
   "metadata": {
    "ExecuteTime": {
     "end_time": "2021-08-29T13:20:33.563350Z",
     "start_time": "2021-08-29T13:20:33.520940Z"
    },
    "hidden": true
   },
   "outputs": [],
   "source": [
    "env = make(\"lux_ai_2021\", configuration={\"seed\": 562124210, \"loglevel\": 0}, debug=False)\n",
    "initial_info = env.reset()"
   ]
  },
  {
   "cell_type": "code",
   "execution_count": 22,
   "metadata": {
    "ExecuteTime": {
     "end_time": "2021-08-29T13:20:42.247523Z",
     "start_time": "2021-08-29T13:20:37.199297Z"
    },
    "hidden": true
   },
   "outputs": [],
   "source": [
    "game_info = env.run([\"simple_agent\", \"simple_agent\"])"
   ]
  },
  {
   "cell_type": "markdown",
   "metadata": {
    "ExecuteTime": {
     "end_time": "2021-08-29T13:20:59.966348Z",
     "start_time": "2021-08-29T13:20:59.960685Z"
    },
    "hidden": true
   },
   "source": [
    "Even slower."
   ]
  },
  {
   "cell_type": "markdown",
   "metadata": {
    "heading_collapsed": true
   },
   "source": [
    "## Smaller board game"
   ]
  },
  {
   "cell_type": "code",
   "execution_count": 20,
   "metadata": {
    "ExecuteTime": {
     "end_time": "2021-08-29T13:19:39.764009Z",
     "start_time": "2021-08-29T13:19:39.535013Z"
    },
    "hidden": true
   },
   "outputs": [
    {
     "data": {
      "text/plain": [
       "[32, 32, 32, 32, 32, 32, 32, 32, 32, 32]"
      ]
     },
     "execution_count": 20,
     "metadata": {},
     "output_type": "execute_result"
    }
   ],
   "source": [
    "env = make(\"lux_ai_2021\")\n",
    "[env.reset()[0]['observation']['width'] for _ in range(10)]"
   ]
  },
  {
   "cell_type": "markdown",
   "metadata": {
    "hidden": true
   },
   "source": [
    "It seems that by default the size is 32."
   ]
  },
  {
   "cell_type": "code",
   "execution_count": 26,
   "metadata": {
    "ExecuteTime": {
     "end_time": "2021-08-29T13:22:19.052496Z",
     "start_time": "2021-08-29T13:22:18.837644Z"
    },
    "hidden": true
   },
   "outputs": [
    {
     "data": {
      "text/plain": [
       "[16, 16, 16, 16, 16, 16, 16, 16, 16, 16]"
      ]
     },
     "execution_count": 26,
     "metadata": {},
     "output_type": "execute_result"
    }
   ],
   "source": [
    "env = make(\"lux_ai_2021\", debug=False, configuration={'width': 16, 'height': 16})\n",
    "[env.reset()[0]['observation']['width'] for _ in range(10)]"
   ]
  },
  {
   "cell_type": "markdown",
   "metadata": {
    "hidden": true
   },
   "source": [
    "We can change that on the configuration when creating the environment. Let's see more parameters that can be found on the configuration."
   ]
  },
  {
   "cell_type": "markdown",
   "metadata": {
    "heading_collapsed": true
   },
   "source": [
    "## Exploring game configuration"
   ]
  },
  {
   "cell_type": "code",
   "execution_count": 43,
   "metadata": {
    "ExecuteTime": {
     "end_time": "2021-08-29T13:50:43.910638Z",
     "start_time": "2021-08-29T13:50:43.883762Z"
    },
    "hidden": true
   },
   "outputs": [
    {
     "data": {
      "text/plain": [
       "{'width': 12,\n",
       " 'height': 12,\n",
       " 'episodeSteps': 361,\n",
       " 'actTimeout': 3,\n",
       " 'runTimeout': 1200,\n",
       " 'mapType': 'random',\n",
       " 'annotations': False,\n",
       " 'loglevel': 0,\n",
       " 'seed': 751269832}"
      ]
     },
     "execution_count": 43,
     "metadata": {},
     "output_type": "execute_result"
    }
   ],
   "source": [
    "env = make(\"lux_ai_2021\", debug=False, configuration={'width': 12, 'height': 12})\n",
    "env.configuration"
   ]
  },
  {
   "cell_type": "code",
   "execution_count": 44,
   "metadata": {
    "ExecuteTime": {
     "end_time": "2021-08-29T13:50:54.389230Z",
     "start_time": "2021-08-29T13:50:54.361903Z"
    },
    "hidden": true
   },
   "outputs": [
    {
     "data": {
      "text/plain": [
       "{'width': 16,\n",
       " 'height': 16,\n",
       " 'episodeSteps': 361,\n",
       " 'actTimeout': 3,\n",
       " 'runTimeout': 1200,\n",
       " 'mapType': 'random',\n",
       " 'annotations': False,\n",
       " 'loglevel': 0,\n",
       " 'seed': 707289808}"
      ]
     },
     "execution_count": 44,
     "metadata": {},
     "output_type": "execute_result"
    }
   ],
   "source": [
    "env = make(\"lux_ai_2021\", debug=False, configuration={'width': 16, 'height': 16})\n",
    "env.configuration"
   ]
  },
  {
   "cell_type": "markdown",
   "metadata": {
    "hidden": true
   },
   "source": [
    "I have visualized that reseting the game does not change the map, we should change the seed to do that."
   ]
  },
  {
   "cell_type": "raw",
   "metadata": {
    "ExecuteTime": {
     "end_time": "2021-08-29T13:55:30.498174Z",
     "start_time": "2021-08-29T13:55:29.330664Z"
    },
    "hidden": true
   },
   "source": [
    "env = make(\"lux_ai_2021\", debug=False, configuration={'width': 12, 'height': 12, 'seed': 0})\n",
    "initial_info = env.reset()\n",
    "game_info = env.run([\"simple_agent\", \"simple_agent\"])\n",
    "\n",
    "len(env.run([\"simple_agent\", \"simple_agent\"]))\n",
    "\n",
    "env.configuration['seed'] = 1\n",
    "len(env.run([\"simple_agent\", \"simple_agent\"]))"
   ]
  },
  {
   "cell_type": "markdown",
   "metadata": {
    "heading_collapsed": true
   },
   "source": [
    "## Study game info"
   ]
  },
  {
   "cell_type": "markdown",
   "metadata": {
    "hidden": true
   },
   "source": [
    "Now let's see which information is provided by the game for playing."
   ]
  },
  {
   "cell_type": "code",
   "execution_count": 57,
   "metadata": {
    "ExecuteTime": {
     "end_time": "2021-08-29T13:58:28.732167Z",
     "start_time": "2021-08-29T13:58:27.251791Z"
    },
    "hidden": true
   },
   "outputs": [],
   "source": [
    "env = make(\"lux_ai_2021\", debug=False, configuration={'width': 12, 'height': 12})\n",
    "initial_info = env.reset()\n",
    "game_info = env.run([\"simple_agent\", \"simple_agent\"])"
   ]
  },
  {
   "cell_type": "markdown",
   "metadata": {
    "heading_collapsed": true,
    "hidden": true
   },
   "source": [
    "### Actions"
   ]
  },
  {
   "cell_type": "code",
   "execution_count": 60,
   "metadata": {
    "ExecuteTime": {
     "end_time": "2021-08-29T14:01:19.464782Z",
     "start_time": "2021-08-29T14:01:19.457843Z"
    },
    "hidden": true
   },
   "outputs": [
    {
     "data": {
      "text/plain": [
       "{'action': ['m u_2 n'],\n",
       " 'reward': 10001,\n",
       " 'info': {},\n",
       " 'observation': {'remainingOverageTime': 60, 'reward': 10001, 'player': 1},\n",
       " 'status': 'ACTIVE'}"
      ]
     },
     "execution_count": 60,
     "metadata": {},
     "output_type": "execute_result"
    }
   ],
   "source": [
    "game_info[1][1]"
   ]
  },
  {
   "cell_type": "code",
   "execution_count": 65,
   "metadata": {
    "ExecuteTime": {
     "end_time": "2021-08-29T14:05:44.869991Z",
     "start_time": "2021-08-29T14:05:44.861768Z"
    },
    "hidden": true
   },
   "outputs": [
    {
     "data": {
      "text/plain": [
       "[[],\n",
       " ['m u_2 n'],\n",
       " [],\n",
       " ['m u_2 c'],\n",
       " ['m u_2 s'],\n",
       " ['m u_2 n'],\n",
       " [],\n",
       " ['m u_2 c'],\n",
       " ['m u_2 s'],\n",
       " ['m u_2 n'],\n",
       " [],\n",
       " ['m u_2 c'],\n",
       " ['m u_2 s'],\n",
       " ['m u_2 n'],\n",
       " [],\n",
       " ['m u_2 c'],\n",
       " ['m u_2 s'],\n",
       " ['m u_2 n'],\n",
       " [],\n",
       " ['m u_2 c']]"
      ]
     },
     "execution_count": 65,
     "metadata": {},
     "output_type": "execute_result"
    }
   ],
   "source": [
    "[step_info[1]['action'] for step_info in game_info[:20]]"
   ]
  },
  {
   "cell_type": "code",
   "execution_count": 68,
   "metadata": {
    "ExecuteTime": {
     "end_time": "2021-08-29T14:16:22.771878Z",
     "start_time": "2021-08-29T14:16:22.763230Z"
    },
    "hidden": true
   },
   "outputs": [
    {
     "data": {
      "text/plain": [
       "[[],\n",
       " ['m u_1 n'],\n",
       " [],\n",
       " ['m u_1 c'],\n",
       " ['m u_1 s'],\n",
       " ['m u_1 n'],\n",
       " [],\n",
       " ['m u_1 c'],\n",
       " ['m u_1 s'],\n",
       " ['m u_1 n'],\n",
       " [],\n",
       " ['m u_1 c'],\n",
       " ['m u_1 s'],\n",
       " ['m u_1 n'],\n",
       " [],\n",
       " ['m u_1 c'],\n",
       " ['m u_1 s'],\n",
       " ['m u_1 n'],\n",
       " [],\n",
       " ['m u_1 c']]"
      ]
     },
     "execution_count": 68,
     "metadata": {},
     "output_type": "execute_result"
    }
   ],
   "source": [
    "[step_info[0]['action'] for step_info in game_info[:20]]"
   ]
  },
  {
   "cell_type": "markdown",
   "metadata": {
    "hidden": true
   },
   "source": [
    "It seems that it simply gives the order move to the unit u_2 and the direction of the movement. In the forum I can see that multiple actions can be given as a list: `{\"action\": [\"r 21 6\", \"m u_1 w\"]` or `\"action\": [\"r 14 5\", \"bcity u_7\", \"m u_87 w\", \"m u_107 w\", \"m u_109 s\", \"m u_112 w\"]`"
   ]
  },
  {
   "cell_type": "markdown",
   "metadata": {
    "heading_collapsed": true,
    "hidden": true
   },
   "source": [
    "### Board state"
   ]
  },
  {
   "cell_type": "code",
   "execution_count": 69,
   "metadata": {
    "ExecuteTime": {
     "end_time": "2021-08-29T14:18:21.284585Z",
     "start_time": "2021-08-29T14:18:21.275851Z"
    },
    "hidden": true
   },
   "outputs": [
    {
     "data": {
      "text/plain": [
       "{'remainingOverageTime': 60,\n",
       " 'step': 1,\n",
       " 'width': 12,\n",
       " 'height': 12,\n",
       " 'reward': 10001,\n",
       " 'globalUnitIDCount': 2,\n",
       " 'globalCityIDCount': 2,\n",
       " 'player': 0,\n",
       " 'updates': ['rp 0 0',\n",
       "  'rp 1 0',\n",
       "  'r wood 0 1 354',\n",
       "  'r wood 0 2 357',\n",
       "  'r wood 0 3 328',\n",
       "  'r wood 0 4 331',\n",
       "  'r wood 0 5 385',\n",
       "  'r uranium 0 9 315',\n",
       "  'r wood 1 2 337',\n",
       "  'r wood 1 3 324',\n",
       "  'r wood 1 4 316',\n",
       "  'r coal 1 10 351',\n",
       "  'r coal 1 11 350',\n",
       "  'r wood 2 1 780',\n",
       "  'r wood 2 2 800',\n",
       "  'r wood 2 3 367',\n",
       "  'r coal 2 11 390',\n",
       "  'r wood 3 1 780',\n",
       "  'r wood 8 1 780',\n",
       "  'r wood 9 1 780',\n",
       "  'r wood 9 2 800',\n",
       "  'r wood 9 3 367',\n",
       "  'r coal 9 11 390',\n",
       "  'r wood 10 2 337',\n",
       "  'r wood 10 3 324',\n",
       "  'r wood 10 4 316',\n",
       "  'r coal 10 10 351',\n",
       "  'r coal 10 11 350',\n",
       "  'r wood 11 1 354',\n",
       "  'r wood 11 2 357',\n",
       "  'r wood 11 3 328',\n",
       "  'r wood 11 4 331',\n",
       "  'r wood 11 5 385',\n",
       "  'r uranium 11 9 315',\n",
       "  'u 0 0 u_1 3 1 1 40 0 0',\n",
       "  'u 0 1 u_2 8 1 1 40 0 0',\n",
       "  'c 0 c_1 0 30',\n",
       "  'c 1 c_2 0 30',\n",
       "  'ct 0 c_1 3 2 0',\n",
       "  'ct 1 c_2 8 2 0',\n",
       "  'ccd 3 2 6',\n",
       "  'ccd 8 2 6',\n",
       "  'D_DONE']}"
      ]
     },
     "execution_count": 69,
     "metadata": {},
     "output_type": "execute_result"
    }
   ],
   "source": [
    "game_info[1][0]['observation']"
   ]
  },
  {
   "cell_type": "code",
   "execution_count": 70,
   "metadata": {
    "ExecuteTime": {
     "end_time": "2021-08-29T14:21:35.931164Z",
     "start_time": "2021-08-29T14:21:35.922522Z"
    },
    "hidden": true
   },
   "outputs": [
    {
     "data": {
      "text/plain": [
       "{'remainingOverageTime': 60,\n",
       " 'step': 2,\n",
       " 'width': 12,\n",
       " 'height': 12,\n",
       " 'reward': 10001,\n",
       " 'globalUnitIDCount': 2,\n",
       " 'globalCityIDCount': 2,\n",
       " 'player': 0,\n",
       " 'updates': ['rp 0 0',\n",
       "  'rp 1 0',\n",
       "  'r wood 0 1 358',\n",
       "  'r wood 0 2 361',\n",
       "  'r wood 0 3 332',\n",
       "  'r wood 0 4 335',\n",
       "  'r wood 0 5 389',\n",
       "  'r uranium 0 9 315',\n",
       "  'r wood 1 2 341',\n",
       "  'r wood 1 3 328',\n",
       "  'r wood 1 4 320',\n",
       "  'r coal 1 10 351',\n",
       "  'r coal 1 11 350',\n",
       "  'r wood 2 1 760',\n",
       "  'r wood 2 2 800',\n",
       "  'r wood 2 3 371',\n",
       "  'r coal 2 11 390',\n",
       "  'r wood 3 1 760',\n",
       "  'r wood 8 1 760',\n",
       "  'r wood 9 1 760',\n",
       "  'r wood 9 2 800',\n",
       "  'r wood 9 3 371',\n",
       "  'r coal 9 11 390',\n",
       "  'r wood 10 2 341',\n",
       "  'r wood 10 3 328',\n",
       "  'r wood 10 4 320',\n",
       "  'r coal 10 10 351',\n",
       "  'r coal 10 11 350',\n",
       "  'r wood 11 1 358',\n",
       "  'r wood 11 2 361',\n",
       "  'r wood 11 3 332',\n",
       "  'r wood 11 4 335',\n",
       "  'r wood 11 5 389',\n",
       "  'r uranium 11 9 315',\n",
       "  'u 0 0 u_1 3 1 0 80 0 0',\n",
       "  'u 0 1 u_2 8 1 0 80 0 0',\n",
       "  'c 0 c_1 0 30',\n",
       "  'c 1 c_2 0 30',\n",
       "  'ct 0 c_1 3 2 0',\n",
       "  'ct 1 c_2 8 2 0',\n",
       "  'ccd 3 2 6',\n",
       "  'ccd 8 2 6',\n",
       "  'D_DONE']}"
      ]
     },
     "execution_count": 70,
     "metadata": {},
     "output_type": "execute_result"
    }
   ],
   "source": [
    "game_info[2][0]['observation']"
   ]
  },
  {
   "cell_type": "markdown",
   "metadata": {
    "hidden": true
   },
   "source": [
    "There seems to be a parser that probably would be useful both for reading board state and for giving actions."
   ]
  },
  {
   "cell_type": "markdown",
   "metadata": {
    "heading_collapsed": true
   },
   "source": [
    "## Parser"
   ]
  },
  {
   "cell_type": "markdown",
   "metadata": {
    "hidden": true
   },
   "source": [
    "I'm looking at this sample to use the parser: https://github.com/Kaggle/kaggle-environments/blob/master/kaggle_environments/envs/lux_ai_2021/test_agents/python/simple_agent.py"
   ]
  },
  {
   "cell_type": "code",
   "execution_count": 4,
   "metadata": {
    "ExecuteTime": {
     "end_time": "2021-08-30T13:58:09.309957Z",
     "start_time": "2021-08-30T13:58:06.953437Z"
    },
    "hidden": true
   },
   "outputs": [],
   "source": [
    "env = make(\"lux_ai_2021\", debug=False, configuration={'width': 12, 'height': 12, 'seed': 0})\n",
    "initial_info = env.reset()\n",
    "game_info = env.run([\"simple_agent\", \"js_simple_agent\"])"
   ]
  },
  {
   "cell_type": "code",
   "execution_count": 5,
   "metadata": {
    "ExecuteTime": {
     "end_time": "2021-08-30T13:58:09.317832Z",
     "start_time": "2021-08-30T13:58:09.312597Z"
    },
    "hidden": true
   },
   "outputs": [],
   "source": [
    "game_state = Game()\n",
    "game_state._initialize(game_info[0][0]['observation']['updates'])\n",
    "game_state._update(game_info[0][0]['observation']['updates'][2:])"
   ]
  },
  {
   "cell_type": "markdown",
   "metadata": {
    "hidden": true
   },
   "source": [
    "Documentation for this objects can be found here. https://github.com/Lux-AI-Challenge/Lux-Design-2021/tree/master/kits"
   ]
  },
  {
   "cell_type": "markdown",
   "metadata": {
    "hidden": true
   },
   "source": [
    "![](https://raw.githubusercontent.com/Lux-AI-Challenge/Lux-Design-2021/master/assets/game_board.png)"
   ]
  },
  {
   "cell_type": "markdown",
   "metadata": {
    "hidden": true
   },
   "source": [
    "In the representation the square is rotated 45º. X dimension is on WE axis and Y dimension is on NS axis.\n",
    "\n",
    "- Increasing x means moving east\n",
    "- Increasing y means moving south\n",
    "\n",
    "We can represent that in a image with y on heigh and x on width. For python convention y will use the first axis."
   ]
  },
  {
   "cell_type": "code",
   "execution_count": 11,
   "metadata": {
    "ExecuteTime": {
     "end_time": "2021-08-30T14:04:01.777920Z",
     "start_time": "2021-08-30T14:04:01.770890Z"
    },
    "hidden": true
   },
   "outputs": [],
   "source": [
    "resource_matrix = np.zeros((game_state.map_width, game_state.map_height), dtype=int)\n",
    "for x in range(game_state.map_width):\n",
    "    for y in range(game_state.map_height):\n",
    "        cell = game_state.map.get_cell(x, y)\n",
    "        resource_matrix[y, x] = cell.has_resource()"
   ]
  },
  {
   "cell_type": "code",
   "execution_count": 14,
   "metadata": {
    "ExecuteTime": {
     "end_time": "2021-08-30T14:32:09.486539Z",
     "start_time": "2021-08-30T14:32:09.395639Z"
    },
    "hidden": true
   },
   "outputs": [
    {
     "data": {
      "image/png": "[encoded data removed]",
      "text/plain": [
       "<Figure size 1440x360 with 1 Axes>"
      ]
     },
     "metadata": {
      "needs_background": "light"
     },
     "output_type": "display_data"
    }
   ],
   "source": [
    "plt.imshow(resource_matrix, origin='upper');"
   ]
  },
  {
   "cell_type": "markdown",
   "metadata": {
    "hidden": true
   },
   "source": [
    "If we rotate the image 45º we get the same view as below."
   ]
  },
  {
   "cell_type": "code",
   "execution_count": null,
   "metadata": {
    "ExecuteTime": {
     "end_time": "2021-08-30T14:38:59.178436Z",
     "start_time": "2021-08-30T14:38:59.095840Z"
    },
    "hidden": true
   },
   "outputs": [],
   "source": [
    "env.render(mode=\"ipython\", width=600, height=600)"
   ]
  },
  {
   "cell_type": "markdown",
   "metadata": {
    "hidden": true
   },
   "source": [
    "Let's give color to the resource."
   ]
  },
  {
   "cell_type": "code",
   "execution_count": 32,
   "metadata": {
    "ExecuteTime": {
     "end_time": "2021-08-30T14:38:38.738946Z",
     "start_time": "2021-08-30T14:38:38.625377Z"
    },
    "hidden": true
   },
   "outputs": [
    {
     "data": {
      "image/png": "[encoded data removed]",
      "text/plain": [
       "<Figure size 1440x360 with 1 Axes>"
      ]
     },
     "metadata": {
      "needs_background": "light"
     },
     "output_type": "display_data"
    }
   ],
   "source": [
    "resource_to_color = dict(wood=1, coal=2, uranium=3)\n",
    "\n",
    "resource_matrix = np.zeros((game_state.map_width, game_state.map_height), dtype=int)\n",
    "for x in range(game_state.map_width):\n",
    "    for y in range(game_state.map_height):\n",
    "        cell = game_state.map.get_cell(x, y)\n",
    "        if cell.has_resource():\n",
    "            resource_matrix[y, x] = resource_to_color[cell.resource.type]\n",
    "            plt.text(x-0.4, y+0.1, str(cell.resource.amount), fontdict=dict(size=10))\n",
    "plt.imshow(resource_matrix, origin='upper');"
   ]
  },
  {
   "cell_type": "markdown",
   "metadata": {
    "heading_collapsed": true
   },
   "source": [
    "## Simple agent on a function"
   ]
  },
  {
   "cell_type": "markdown",
   "metadata": {
    "hidden": true
   },
   "source": [
    "Let's try to use a function as input to the environment. I will be using the simple agent function"
   ]
  },
  {
   "cell_type": "code",
   "execution_count": 34,
   "metadata": {
    "ExecuteTime": {
     "end_time": "2021-08-30T14:47:05.081819Z",
     "start_time": "2021-08-30T14:47:05.076693Z"
    },
    "hidden": true
   },
   "outputs": [],
   "source": [
    "from kaggle_environments.envs.lux_ai_2021.test_agents.python.simple_agent import agent as simple_agent"
   ]
  },
  {
   "cell_type": "code",
   "execution_count": 35,
   "metadata": {
    "ExecuteTime": {
     "end_time": "2021-08-30T14:47:13.817465Z",
     "start_time": "2021-08-30T14:47:11.940720Z"
    },
    "hidden": true
   },
   "outputs": [],
   "source": [
    "env = make(\"lux_ai_2021\", debug=False, configuration={'width': 12, 'height': 12, 'seed': 0})\n",
    "initial_info = env.reset()\n",
    "game_info = env.run([\"simple_agent\", simple_agent])"
   ]
  },
  {
   "cell_type": "code",
   "execution_count": null,
   "metadata": {
    "ExecuteTime": {
     "end_time": "2021-08-30T14:47:43.247640Z",
     "start_time": "2021-08-30T14:47:43.148191Z"
    },
    "hidden": true
   },
   "outputs": [],
   "source": [
    "env.render(mode=\"ipython\", width=800, height=800)"
   ]
  },
  {
   "cell_type": "markdown",
   "metadata": {
    "hidden": true
   },
   "source": [
    "Nice, so we can start over that agent and see the challenges when creating new agents."
   ]
  },
  {
   "cell_type": "markdown",
   "metadata": {
    "heading_collapsed": true
   },
   "source": [
    "## Collision between players"
   ]
  },
  {
   "cell_type": "markdown",
   "metadata": {
    "hidden": true
   },
   "source": [
    "Let's make an agent that always moves south and another that always move north and see what happens."
   ]
  },
  {
   "cell_type": "code",
   "execution_count": 28,
   "metadata": {
    "ExecuteTime": {
     "end_time": "2021-08-31T04:33:06.931933Z",
     "start_time": "2021-08-31T04:33:06.921219Z"
    },
    "hidden": true
   },
   "outputs": [],
   "source": [
    "class BaseAgent():\n",
    "    def __init__(self):\n",
    "        self.game_state = None\n",
    "        \n",
    "    def _update_game_state(self, observation):\n",
    "        if observation[\"step\"] == 0:\n",
    "            self.game_state = Game()\n",
    "            self.game_state._initialize(observation[\"updates\"])\n",
    "            self.game_state._update(observation[\"updates\"][2:])\n",
    "            self.game_state.id = observation.player\n",
    "        else:\n",
    "            self.game_state._update(observation[\"updates\"])\n",
    "        \n",
    "    def __call__(self, observation, configuration):\n",
    "        self._update_game_state(observation)\n",
    "        raise NotImplementedError('You have to implement this function')"
   ]
  },
  {
   "cell_type": "code",
   "execution_count": 35,
   "metadata": {
    "ExecuteTime": {
     "end_time": "2021-08-31T04:35:26.383259Z",
     "start_time": "2021-08-31T04:35:26.374632Z"
    },
    "hidden": true
   },
   "outputs": [],
   "source": [
    "class MoveAgent(BaseAgent):\n",
    "    def __init__(self, move_dir, move_n_times=np.inf):\n",
    "        super().__init__()\n",
    "        self.move_dir = move_dir\n",
    "        self.move_n_times = move_n_times\n",
    "        self.n_moves = 0\n",
    "        \n",
    "    def __call__(self, observation, configuration):\n",
    "        self._update_game_state(observation)\n",
    "        actions = []\n",
    "        player = self.game_state.players[observation.player]\n",
    "        for unit in player.units:\n",
    "            if unit.is_worker() and unit.can_act() and self.n_moves < self.move_n_times:\n",
    "                actions.append(unit.move(self.move_dir))\n",
    "                self.n_moves += 1\n",
    "        return actions"
   ]
  },
  {
   "cell_type": "code",
   "execution_count": 36,
   "metadata": {
    "ExecuteTime": {
     "end_time": "2021-08-31T04:35:28.538461Z",
     "start_time": "2021-08-31T04:35:27.102888Z"
    },
    "hidden": true
   },
   "outputs": [],
   "source": [
    "env = make(\"lux_ai_2021\", debug=False, configuration={'width': 12, 'height': 12, 'seed': 0})\n",
    "initial_info = env.reset()\n",
    "game_info = env.run([MoveAgent('e'), MoveAgent('w')])"
   ]
  },
  {
   "cell_type": "markdown",
   "metadata": {
    "hidden": true
   },
   "source": [
    "In this case they simply cross. The board is symmetric and they swap positions. Let's see what happens if one moves and the other stays the same."
   ]
  },
  {
   "cell_type": "code",
   "execution_count": 38,
   "metadata": {
    "ExecuteTime": {
     "end_time": "2021-08-31T04:35:47.994794Z",
     "start_time": "2021-08-31T04:35:46.605969Z"
    },
    "hidden": true
   },
   "outputs": [],
   "source": [
    "initial_info = env.reset()\n",
    "game_info = env.run([MoveAgent('e'), MoveAgent('w', 1)])"
   ]
  },
  {
   "cell_type": "markdown",
   "metadata": {
    "hidden": true
   },
   "source": [
    "In this case the agent cannot move to that position, there is a collision."
   ]
  },
  {
   "cell_type": "code",
   "execution_count": null,
   "metadata": {
    "ExecuteTime": {
     "end_time": "2021-08-31T04:35:48.187258Z",
     "start_time": "2021-08-31T04:35:47.997747Z"
    },
    "hidden": true
   },
   "outputs": [],
   "source": [
    "env.render(mode=\"ipython\", width=800, height=800)"
   ]
  },
  {
   "cell_type": "markdown",
   "metadata": {
    "heading_collapsed": true
   },
   "source": [
    "## Annotations"
   ]
  },
  {
   "cell_type": "markdown",
   "metadata": {
    "hidden": true
   },
   "source": [
    "Let's make some anotations just for fun."
   ]
  },
  {
   "cell_type": "code",
   "execution_count": 73,
   "metadata": {
    "ExecuteTime": {
     "end_time": "2021-08-31T04:51:17.832289Z",
     "start_time": "2021-08-31T04:51:17.829140Z"
    },
    "hidden": true
   },
   "outputs": [],
   "source": [
    "def annotation_agent(observation, configuration):\n",
    "    actions = []\n",
    "    actions.append(annotate.x(observation.step, 0))\n",
    "    actions.append(annotate.circle(observation.step+1, observation.step))\n",
    "    return actions"
   ]
  },
  {
   "cell_type": "markdown",
   "metadata": {
    "ExecuteTime": {
     "end_time": "2021-08-31T04:52:15.878999Z",
     "start_time": "2021-08-31T04:52:15.872990Z"
    },
    "hidden": true
   },
   "source": [
    "I had to add a new parameter to configuration to enable annotations."
   ]
  },
  {
   "cell_type": "code",
   "execution_count": 77,
   "metadata": {
    "ExecuteTime": {
     "end_time": "2021-08-31T04:52:23.626274Z",
     "start_time": "2021-08-31T04:52:23.046335Z"
    },
    "hidden": true
   },
   "outputs": [],
   "source": [
    "env = make(\"lux_ai_2021\", debug=False, configuration={'width': 12, 'height': 12, 'seed': 0, 'annotations': True})\n",
    "initial_info = env.reset()\n",
    "game_info = env.run([MoveAgent('e'), annotation_agent])"
   ]
  },
  {
   "cell_type": "markdown",
   "metadata": {
    "ExecuteTime": {
     "end_time": "2021-08-31T04:52:48.709042Z",
     "start_time": "2021-08-31T04:52:48.703156Z"
    },
    "hidden": true
   },
   "source": [
    "This kind of visualizations could be useful to debug the agent."
   ]
  },
  {
   "cell_type": "code",
   "execution_count": null,
   "metadata": {
    "ExecuteTime": {
     "end_time": "2021-08-31T04:52:23.872822Z",
     "start_time": "2021-08-31T04:52:23.782241Z"
    },
    "hidden": true
   },
   "outputs": [],
   "source": [
    "env.render(mode=\"ipython\", width=800, height=800)"
   ]
  },
  {
   "cell_type": "markdown",
   "metadata": {
    "heading_collapsed": true
   },
   "source": [
    "## Rendering games"
   ]
  },
  {
   "cell_type": "markdown",
   "metadata": {
    "heading_collapsed": true,
    "hidden": true
   },
   "source": [
    "### Simple way: use ipython rendering"
   ]
  },
  {
   "cell_type": "code",
   "execution_count": 4,
   "metadata": {
    "ExecuteTime": {
     "end_time": "2021-08-31T05:01:45.998353Z",
     "start_time": "2021-08-31T05:01:43.496205Z"
    },
    "hidden": true
   },
   "outputs": [],
   "source": [
    "env = make(\"lux_ai_2021\", debug=False, configuration={'width': 12, 'height': 12, 'seed': 0})\n",
    "initial_info = env.reset()\n",
    "game_info = env.run([\"simple_agent\", \"js_simple_agent\"])"
   ]
  },
  {
   "cell_type": "code",
   "execution_count": null,
   "metadata": {
    "ExecuteTime": {
     "end_time": "2021-08-31T05:01:49.458439Z",
     "start_time": "2021-08-31T05:01:49.338427Z"
    },
    "hidden": true
   },
   "outputs": [],
   "source": [
    "env.render(mode=\"ipython\", width=1000, height=800)"
   ]
  },
  {
   "cell_type": "markdown",
   "metadata": {
    "heading_collapsed": true,
    "hidden": true
   },
   "source": [
    "### Better visualization when saving to html"
   ]
  },
  {
   "cell_type": "markdown",
   "metadata": {
    "hidden": true
   },
   "source": [
    "This visualization is better because it is full tab."
   ]
  },
  {
   "cell_type": "code",
   "execution_count": 18,
   "metadata": {
    "ExecuteTime": {
     "end_time": "2021-08-31T05:13:40.465094Z",
     "start_time": "2021-08-31T05:13:40.457984Z"
    },
    "hidden": true
   },
   "outputs": [],
   "source": [
    "def render_game_in_html(env, filepath=None):\n",
    "    if filepath is None:\n",
    "        filepath = tempfile.NamedTemporaryFile(delete=False, suffix='.html').name\n",
    "    with open(filepath, 'w') as f:\n",
    "        f.write(env.render(mode='html'))\n",
    "    os.system('google-chrome \"%s\"' % os.path.realpath(filepath))"
   ]
  },
  {
   "cell_type": "code",
   "execution_count": 19,
   "metadata": {
    "ExecuteTime": {
     "end_time": "2021-08-31T05:13:41.912116Z",
     "start_time": "2021-08-31T05:13:41.603012Z"
    },
    "hidden": true
   },
   "outputs": [
    {
     "name": "stdout",
     "output_type": "stream",
     "text": [
      "Opening in existing browser session.\n"
     ]
    }
   ],
   "source": [
    "render_game_in_html(env)"
   ]
  },
  {
   "cell_type": "markdown",
   "metadata": {},
   "source": [
    "## Open questions"
   ]
  },
  {
   "cell_type": "markdown",
   "metadata": {},
   "source": [
    "- How to measure if an agent is better than the baseline?"
   ]
  },
  {
   "cell_type": "markdown",
   "metadata": {
    "heading_collapsed": true
   },
   "source": [
    "## Summary"
   ]
  },
  {
   "cell_type": "code",
   "execution_count": null,
   "metadata": {
    "hidden": true
   },
   "outputs": [],
   "source": []
  }
 ],
 "metadata": {
  "hide_input": false,
  "kernelspec": {
   "display_name": "Python (luxai)",
   "language": "python",
   "name": "luxai"
  },
  "language_info": {
   "codemirror_mode": {
    "name": "ipython",
    "version": 3
   },
   "file_extension": ".py",
   "mimetype": "text/x-python",
   "name": "python",
   "nbconvert_exporter": "python",
   "pygments_lexer": "ipython3",
   "version": "3.9.6"
  },
  "toc": {
   "base_numbering": 1,
   "nav_menu": {},
   "number_sections": false,
   "sideBar": true,
   "skip_h1_title": false,
   "title_cell": "Table of Contents",
   "title_sidebar": "Contents",
   "toc_cell": true,
   "toc_position": {},
   "toc_section_display": true,
   "toc_window_display": false
  }
 },
 "nbformat": 4,
 "nbformat_minor": 4
}
